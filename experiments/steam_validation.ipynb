{
 "cells": [
  {
   "cell_type": "markdown",
   "id": "caeee759",
   "metadata": {},
   "source": [
    "> Testing of binary sentiment classification on a IMDb movie review dataset."
   ]
  },
  {
   "cell_type": "markdown",
   "id": "bd318293",
   "metadata": {},
   "source": [
    "---"
   ]
  },
  {
   "cell_type": "markdown",
   "id": "93fb8d86",
   "metadata": {},
   "source": [
    "# Setup"
   ]
  },
  {
   "cell_type": "markdown",
   "id": "55c4193f",
   "metadata": {},
   "source": [
    "##### Set Root Dir as CWD"
   ]
  },
  {
   "cell_type": "code",
   "execution_count": 1,
   "id": "7d88d86d",
   "metadata": {},
   "outputs": [
    {
     "name": "stdout",
     "output_type": "stream",
     "text": [
      "D:\\Documents\\A_DIGIPEN\\PersonalSVN\\Fall22SVN\\CS374\\Project\\cs374-project\n"
     ]
    }
   ],
   "source": [
    "import os\n",
    "\n",
    "# Navigate to project root (if not already there)\n",
    "if os.path.split(os.getcwd())[1] != \"cs374-project\":\n",
    "    %cd ../"
   ]
  },
  {
   "cell_type": "markdown",
   "id": "ebf5af2e",
   "metadata": {},
   "source": [
    "##### Imports"
   ]
  },
  {
   "cell_type": "code",
   "execution_count": 2,
   "id": "f8dbe9fb",
   "metadata": {},
   "outputs": [],
   "source": [
    "import numpy as np\n",
    "import pandas as pd\n",
    "\n",
    "import spacy\n",
    "\n",
    "import tensorflow as tf\n",
    "from tensorflow import keras\n",
    "from tensorflow.keras import layers\n",
    "\n",
    "import matplotlib.pyplot as plt\n",
    "import seaborn as sns\n",
    "sns.set_theme()\n",
    "\n",
    "# Local\n",
    "from src.preprocesser import ReviewPreprocessor\n",
    "from src.model import ReviewClassifier"
   ]
  },
  {
   "cell_type": "code",
   "execution_count": 3,
   "id": "aac42dea",
   "metadata": {},
   "outputs": [],
   "source": [
    "from sklearn.model_selection import train_test_split"
   ]
  },
  {
   "cell_type": "markdown",
   "id": "3ef923cc",
   "metadata": {},
   "source": [
    "# Load"
   ]
  },
  {
   "cell_type": "code",
   "execution_count": 4,
   "id": "71b0f0cf",
   "metadata": {},
   "outputs": [],
   "source": [
    "path = \"data/steam/\""
   ]
  },
  {
   "cell_type": "code",
   "execution_count": 5,
   "id": "73c9a325",
   "metadata": {},
   "outputs": [
    {
     "name": "stdout",
     "output_type": "stream",
     "text": [
      "CPU times: total: 13 s\n",
      "Wall time: 13.2 s\n"
     ]
    }
   ],
   "source": [
    "%%time\n",
    "# Load dev set (10% of total data) as train\n",
    "val = pd.read_csv(path + \"dataset.csv\")"
   ]
  },
  {
   "cell_type": "code",
   "execution_count": 8,
   "id": "3c622b1f",
   "metadata": {},
   "outputs": [],
   "source": [
    "# Get less samples\n",
    "val, _ = train_test_split(val, train_size=50_000, stratify=val[\"review_score\"])"
   ]
  },
  {
   "cell_type": "code",
   "execution_count": 18,
   "id": "b8ccc29f",
   "metadata": {},
   "outputs": [],
   "source": [
    "# Ensure all strings\n",
    "val[\"review_text\"] = val.review_text.astype(str)"
   ]
  },
  {
   "cell_type": "markdown",
   "id": "05965e48",
   "metadata": {},
   "source": [
    "##### Save Target"
   ]
  },
  {
   "cell_type": "code",
   "execution_count": 19,
   "id": "9d6ae318",
   "metadata": {},
   "outputs": [
    {
     "data": {
      "text/plain": [
       "34659       True\n",
       "5253414     True\n",
       "4072570     True\n",
       "6206239    False\n",
       "3053446     True\n",
       "           ...  \n",
       "432606     False\n",
       "5974508     True\n",
       "5319591     True\n",
       "4172651     True\n",
       "441042      True\n",
       "Name: review_score, Length: 50000, dtype: bool"
      ]
     },
     "execution_count": 19,
     "metadata": {},
     "output_type": "execute_result"
    }
   ],
   "source": [
    "# Save sentiment as boolean\n",
    "y_val = val[\"review_score\"] == 1\n",
    "y_val"
   ]
  },
  {
   "cell_type": "markdown",
   "id": "d4fd8d22",
   "metadata": {},
   "source": [
    "# Preprocess"
   ]
  },
  {
   "cell_type": "code",
   "execution_count": 11,
   "id": "c5230aed",
   "metadata": {
    "scrolled": true
   },
   "outputs": [],
   "source": [
    "batch_size = 4000\n",
    "n_processes = 4\n",
    "\n",
    "maxlen = 200         # Number of words per review to consider\n",
    "vocab_size = 20_000  # Size of vocabulary\n",
    "\n",
    "prep_path = f\"experiments/preprocessors/final.pickle\""
   ]
  },
  {
   "cell_type": "markdown",
   "id": "a7579d78",
   "metadata": {},
   "source": [
    "##### Load from raw data"
   ]
  },
  {
   "cell_type": "code",
   "execution_count": 20,
   "id": "792e976d",
   "metadata": {},
   "outputs": [
    {
     "name": "stdout",
     "output_type": "stream",
     "text": [
      "CPU times: total: 32 s\n",
      "Wall time: 1min 16s\n"
     ]
    }
   ],
   "source": [
    "%%time\n",
    "# Configure preprocessor based on comparison\n",
    "prep = ReviewPreprocessor.load_from_pickle(prep_path)\n",
    "\n",
    "# Preprocess text\n",
    "X_val_norm = prep.normalize(val[\"review_text\"], batch_size, n_processes)\n",
    "\n",
    "# Convert to tensor of padded sequences\n",
    "X_val = prep.to_tensor(X_val_norm)"
   ]
  },
  {
   "cell_type": "markdown",
   "id": "8f0385e8",
   "metadata": {},
   "source": [
    "##### View Before and After Preprocessing"
   ]
  },
  {
   "cell_type": "code",
   "execution_count": 22,
   "id": "d3c8d426",
   "metadata": {},
   "outputs": [
    {
     "name": "stdout",
     "output_type": "stream",
     "text": [
      "Super Mustache was a very dissapointinging game. I expected some supa kool kawaii mustache pazazz and i get dis ♥♥♥♥♥♥ puzzle platformer. U think i play dis, i would rather play super mario bros for the xbox. This game should not be called 'Super Mustache' it should be called 'Stupid Pooper Head'\n",
      "\n",
      " - - - - \n",
      "\n",
      "['ORG', 'ORG', 'was', 'a', 'very', 'dissapointinging', 'game', '.', 'i', 'expected', 'some', 'supa', 'kool', 'kawaii', 'mustache', 'pazazz', 'and', 'i', 'get', 'dis', 'PERSON', 'PERSON', 'PERSON', 'PERSON', 'PERSON', 'PERSON', 'puzzle', 'platformer', '.', 'u', 'think', 'i', 'play', 'ORG', ',', 'i', 'would', 'rather', 'play', 'super', 'mario', 'bros', 'for', 'the', 'xbox', '.', 'this', 'game', 'should', 'not', 'be', 'called', \"'\", 'ORG', 'ORG', 'ORG', 'it', 'should', 'be', 'called', \"'\", 'WORK_OF_ART', 'WORK_OF_ART', 'WORK_OF_ART', 'WORK_OF_ART'] 65\n",
      "\n",
      " - - - - \n",
      "\n",
      "tf.Tensor(\n",
      "[   18    18     8     6    49   778     1     5   684    84 13374 11574\n",
      "     3     5    62 13812    16    16    16    16    16    16  9447     1\n",
      "  1572   190     5   940    18     4     5    67   667   940   237 19152\n",
      "  9579    13     2     1    26   778   241    31    44   254     9    18\n",
      "    18    18    10   241    44   254     9   217   217   217   217     0\n",
      "     0     0     0     0     0     0     0     0     0     0     0     0\n",
      "     0     0     0     0     0     0     0     0     0     0     0     0\n",
      "     0     0     0     0     0     0     0     0     0     0     0     0\n",
      "     0     0     0     0     0     0     0     0     0     0     0     0\n",
      "     0     0     0     0     0     0     0     0     0     0     0     0\n",
      "     0     0     0     0     0     0     0     0     0     0     0     0\n",
      "     0     0     0     0     0     0     0     0     0     0     0     0\n",
      "     0     0     0     0     0     0     0     0     0     0     0     0\n",
      "     0     0     0     0     0     0     0     0     0     0     0     0\n",
      "     0     0     0     0     0     0     0     0     0     0     0     0\n",
      "     0     0     0     0     0     0     0     0     0     0     0     0\n",
      "     0     0     0     0     0     0     0     0], shape=(200,), dtype=int32)\n"
     ]
    }
   ],
   "source": [
    "print_idx = 8\n",
    "print(val[\"review_text\"].iloc[print_idx])\n",
    "print(\"\\n - - - - \\n\")\n",
    "print(X_val_norm[print_idx], len(X_val_norm[print_idx]))\n",
    "print(\"\\n - - - - \\n\")\n",
    "print(X_val[print_idx])"
   ]
  },
  {
   "cell_type": "markdown",
   "id": "f9839669",
   "metadata": {},
   "source": [
    "# Model"
   ]
  },
  {
   "cell_type": "markdown",
   "id": "e25eea7b",
   "metadata": {},
   "source": [
    "##### Load Model"
   ]
  },
  {
   "cell_type": "code",
   "execution_count": 23,
   "id": "01d66238",
   "metadata": {},
   "outputs": [
    {
     "data": {
      "text/plain": [
       "<tensorflow.python.training.tracking.util.CheckpointLoadStatus at 0x1210a8a0af0>"
      ]
     },
     "execution_count": 23,
     "metadata": {},
     "output_type": "execute_result"
    }
   ],
   "source": [
    "# From saved model (doesn't work with attn scores)\n",
    "#model = keras.models.load_model(\"experiments/models/final_model\")\n",
    "\n",
    "# From checkpoint\n",
    "embed_dim = 32  # Attention output size\n",
    "num_heads = 2   # Number of attention heads\n",
    "ff_dims = [32]  # Hidden layer sizes in feed forward network inside transformer\n",
    "reg = 1.0e-2    # L2 Reg based on comparison\n",
    "dropout = 0.3   # Dropout based on comparison\n",
    "cp_path = \"experiments/model_checkpoints/\"\n",
    "model = ReviewClassifier(maxlen, vocab_size, embed_dim, num_heads, ff_dims, reg, dropout)\n",
    "model.load_weights(cp_path + f\"final.ckpt\")"
   ]
  },
  {
   "cell_type": "code",
   "execution_count": 24,
   "id": "26dd94ca",
   "metadata": {},
   "outputs": [
    {
     "name": "stdout",
     "output_type": "stream",
     "text": [
      "1/1 [==============================] - 2s 2s/step\n"
     ]
    },
    {
     "data": {
      "text/plain": [
       "array([[1.62519476e-09, 8.26779001e-09, 2.97904535e-05, 2.62024850e-02,\n",
       "        9.73767757e-01],\n",
       "       [3.06210406e-02, 2.26869993e-02, 4.92186993e-02, 2.00744271e-01,\n",
       "        6.96729004e-01],\n",
       "       [4.02504287e-04, 2.86975963e-04, 3.40298889e-03, 7.60246366e-02,\n",
       "        9.19882894e-01],\n",
       "       [6.01692080e-01, 1.00546844e-01, 2.93102078e-02, 4.60425690e-02,\n",
       "        2.22408205e-01],\n",
       "       [1.60670432e-04, 3.02710861e-04, 8.13897699e-03, 1.56797945e-01,\n",
       "        8.34599674e-01]], dtype=float32)"
      ]
     },
     "execution_count": 24,
     "metadata": {},
     "output_type": "execute_result"
    }
   ],
   "source": [
    "model.predict(X_val[:5])"
   ]
  },
  {
   "cell_type": "markdown",
   "id": "5f5c4080",
   "metadata": {},
   "source": [
    "# Evaluate"
   ]
  },
  {
   "cell_type": "code",
   "execution_count": 25,
   "id": "4aab1fad",
   "metadata": {},
   "outputs": [
    {
     "name": "stdout",
     "output_type": "stream",
     "text": [
      "1563/1563 [==============================] - 2s 1ms/step\n"
     ]
    }
   ],
   "source": [
    "# Get probabilities per class\n",
    "y_pred = model.predict(X_val)"
   ]
  },
  {
   "cell_type": "code",
   "execution_count": 26,
   "id": "a540289f",
   "metadata": {},
   "outputs": [
    {
     "data": {
      "text/plain": [
       "<tf.Tensor: shape=(50000,), dtype=float64, numpy=\n",
       "array([3.97370058, 3.51026599, 3.9146613 , ..., 3.95277902, 2.8843216 ,\n",
       "       3.78094561])>"
      ]
     },
     "execution_count": 26,
     "metadata": {},
     "output_type": "execute_result"
    }
   ],
   "source": [
    "# Calculate continuous star rating based on probabilities\n",
    "star_reg = tf.reduce_sum(y_pred * np.array([0, 1, 2, 3, 4]), axis=1)\n",
    "star_reg"
   ]
  },
  {
   "cell_type": "code",
   "execution_count": 27,
   "id": "10bac6eb",
   "metadata": {},
   "outputs": [],
   "source": [
    "# Determine if sentiment is negative or postiive\n",
    "y_pred_binary = star_reg >= 2"
   ]
  },
  {
   "cell_type": "code",
   "execution_count": 28,
   "id": "6526ece6",
   "metadata": {},
   "outputs": [
    {
     "name": "stdout",
     "output_type": "stream",
     "text": [
      "binary accuracy: 0.81906\n",
      "(compare to ~0.5)\n"
     ]
    }
   ],
   "source": [
    "print(\"binary accuracy: \" + str((y_pred_binary == y_val).numpy().sum() / len(y_val)))\n",
    "print(\"(compare to ~0.5)\")"
   ]
  },
  {
   "cell_type": "markdown",
   "id": "f9dd5601",
   "metadata": {},
   "source": [
    "##### Visualize Attention"
   ]
  },
  {
   "cell_type": "code",
   "execution_count": 22,
   "id": "79f640f9",
   "metadata": {
    "scrolled": true
   },
   "outputs": [
    {
     "data": {
      "text/plain": [
       "<tf.Tensor: shape=(100, 200), dtype=float32, numpy=\n",
       "array([[3.5445732e-03, 1.2494006e-02, 1.9155605e-02, ..., 7.6461699e-09,\n",
       "        2.1221755e-10, 4.8084628e-02],\n",
       "       [6.4915861e-03, 1.4879075e-01, 2.1933308e-01, ..., 0.0000000e+00,\n",
       "        0.0000000e+00, 0.0000000e+00],\n",
       "       [1.5523669e-03, 1.7574768e-01, 6.2144117e-04, ..., 2.4621802e-10,\n",
       "        2.4426347e-08, 2.8748524e-08],\n",
       "       ...,\n",
       "       [2.1435758e-01, 8.9798840e-03, 5.2412588e-08, ..., 0.0000000e+00,\n",
       "        0.0000000e+00, 0.0000000e+00],\n",
       "       [2.0146836e-04, 6.1077247e-03, 8.8913605e-02, ..., 2.8045032e-11,\n",
       "        4.1055009e-03, 3.1361555e-08],\n",
       "       [2.3471093e-05, 1.7754437e-01, 1.2505965e-01, ..., 2.6696836e-05,\n",
       "        4.2042211e-03, 3.6824733e-06]], dtype=float32)>"
      ]
     },
     "execution_count": 22,
     "metadata": {},
     "output_type": "execute_result"
    }
   ],
   "source": [
    "# Get attention scores\n",
    "_, attns = model(X_val[:100], return_att=True)\n",
    "\n",
    "# Get attention for each sample\n",
    "attns = tf.reduce_mean(attns, axis=2)[:, 0, :]\n",
    "attns"
   ]
  },
  {
   "cell_type": "code",
   "execution_count": 23,
   "id": "b2c9f538",
   "metadata": {},
   "outputs": [
    {
     "data": {
      "text/plain": [
       "<tf.Tensor: shape=(34,), dtype=float32, numpy=\n",
       "array([3.5445732e-03, 1.2494006e-02, 1.9155605e-02, 1.0774131e-01,\n",
       "       1.8801376e-01, 7.6504983e-03, 1.0714605e-01, 4.0157047e-06,\n",
       "       1.4494486e-03, 1.4054523e-04, 2.0329878e-07, 4.3246388e-02,\n",
       "       6.2153226e-04, 3.8715727e-03, 4.4076633e-06, 3.7952331e-03,\n",
       "       7.6869931e-03, 1.7510286e-02, 6.7335197e-05, 1.5638797e-02,\n",
       "       1.1256127e-06, 2.6232949e-03, 2.2619017e-03, 3.5805228e-05,\n",
       "       1.0287581e-05, 3.5656402e-07, 9.8734386e-03, 2.9696450e-03,\n",
       "       1.0313178e-02, 7.9576488e-08, 1.0125336e-06, 1.6604311e-08,\n",
       "       2.2623732e-09, 9.3440833e-10], dtype=float32)>"
      ]
     },
     "execution_count": 23,
     "metadata": {},
     "output_type": "execute_result"
    }
   ],
   "source": [
    "attns[0][:34]"
   ]
  },
  {
   "cell_type": "code",
   "execution_count": 25,
   "id": "153958bb",
   "metadata": {
    "scrolled": false
   },
   "outputs": [
    {
     "name": "stdout",
     "output_type": "stream",
     "text": [
      "<Original Text>\n",
      "Encouraged by the positive comments about this film on here I was looking forward to watching this film. Bad mistake. I've seen 950+ films and this is truly one of the worst of them - it's awful in almost every way: editing, pacing, storyline, 'acting,' soundtrack (the film's only song - a lame country tune - is played no less than four times). The film looks cheap and nasty and is boring in the extreme. Rarely have I been so happy to see the end credits of a film. <br /><br />The only thing that prevents me giving this a 1-score is Harvey Keitel - while this is far from his best performance he at least seems to be making a bit of an effort. One for Keitel obsessives only.\n",
      "\n",
      "<Preprocessed>\n",
      "['encouraged', 'by', 'the', 'positive', 'comments', 'about', 'this', 'film', 'on', 'here', 'i', 'was', 'looking', 'forward', 'to', 'watching', 'this', 'film', 'bad', 'mistake', 'i', \"'\", 've', 'seen', '95', 'e1', 'films', 'and', 'this', 'is', 'truly', 'cardinal', 'of', 'the', 'worst', 'of', 'them', 'it', \"'\", 's', 'awful', 'in', 'almost', 'every', 'way', 'editing', 'pacing', \"'\", 'acting', \"'\", 'soundtrack', 'the', 'film', \"'\", 's', 'only', 'song', 'a', 'lame', 'country', 'tune', 'is', 'played', 'no', 'cardinal', 'cardinal', 'cardinal', 'times', 'the', 'film', 'looks', 'cheap', 'and', 'nasty', 'and', 'is', 'boring', 'in', 'the', 'extreme', 'rarely', 'have', 'i', 'been', 'so', 'happy', 'to', 'see', 'the', 'end', 'credits', 'of', 'a', 'film', 'br', 'br', 'the', 'only', 'thing', 'that', 'prevents', 'me', 'giving', 'this', 'a', '1', 'e0', 'score', 'is', 'person', 'person', 'while', 'this', 'is', 'far', 'from', 'his', 'best', 'performance', 'he', 'at', 'least', 'seems', 'to', 'be', 'making', 'a', 'bit', 'of', 'an', 'effort', 'cardinal', 'for', 'org', 'only']\n"
     ]
    },
    {
     "data": {
      "image/png": "[encoded data removed]",
      "text/plain": [
       "<Figure size 300x2700 with 1 Axes>"
      ]
     },
     "metadata": {},
     "output_type": "display_data"
    }
   ],
   "source": [
    "sample_idx = 8\n",
    "\n",
    "# Get word sequences without oov words\n",
    "in_seq = X_val_norm[sample_idx][:maxlen]\n",
    "in_seq = [tok for tok in prep.tokenizer.sequences_to_texts(prep.tokenizer.texts_to_sequences(in_seq)) if tok]\n",
    "seq_len = len(in_seq)\n",
    "\n",
    "# Get attention values\n",
    "attn_vals = attns[sample_idx][:seq_len].numpy()\n",
    "\n",
    "print(\"<Original Text>\")\n",
    "print(val[\"review\"].iloc[sample_idx])\n",
    "\n",
    "print(\"\\n<Preprocessed>\")\n",
    "print(in_seq)\n",
    "\n",
    "plt.figure(figsize=(3, 0.2 * seq_len), dpi=100)\n",
    "sns.barplot(y=in_seq, x=attn_vals, ci=None, color=\"#EC7063\")\n",
    "\n",
    "plt.title(\"Mean Attention Score by Word\")\n",
    "\n",
    "#plt.gca().set_yticklabels(in_seq)\n",
    "\n",
    "plt.show()"
   ]
  },
  {
   "cell_type": "code",
   "execution_count": null,
   "id": "3058cca7",
   "metadata": {},
   "outputs": [],
   "source": []
  }
 ],
 "metadata": {
  "kernelspec": {
   "display_name": "Python [conda env:tf-gpu]",
   "language": "python",
   "name": "conda-env-tf-gpu-py"
  },
  "language_info": {
   "codemirror_mode": {
    "name": "ipython",
    "version": 3
   },
   "file_extension": ".py",
   "mimetype": "text/x-python",
   "name": "python",
   "nbconvert_exporter": "python",
   "pygments_lexer": "ipython3",
   "version": "3.10.4"
  }
 },
 "nbformat": 4,
 "nbformat_minor": 5
}

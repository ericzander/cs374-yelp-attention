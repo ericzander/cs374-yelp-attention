{
 "cells": [
  {
   "cell_type": "markdown",
   "id": "bd318293",
   "metadata": {},
   "source": [
    "---"
   ]
  },
  {
   "cell_type": "markdown",
   "id": "93fb8d86",
   "metadata": {},
   "source": [
    "# Setup"
   ]
  },
  {
   "cell_type": "markdown",
   "id": "55c4193f",
   "metadata": {},
   "source": [
    "##### Set Root Dir as CWD"
   ]
  },
  {
   "cell_type": "code",
   "execution_count": 1,
   "id": "7d88d86d",
   "metadata": {},
   "outputs": [
    {
     "name": "stdout",
     "output_type": "stream",
     "text": [
      "D:\\Documents\\A_DIGIPEN\\PersonalSVN\\Fall22SVN\\CS374\\Project\\cs374-project\n"
     ]
    }
   ],
   "source": [
    "import os\n",
    "\n",
    "# Navigate to project root (if not already there)\n",
    "if os.path.split(os.getcwd())[1] != \"cs374-project\":\n",
    "    %cd ../"
   ]
  },
  {
   "cell_type": "markdown",
   "id": "ebf5af2e",
   "metadata": {},
   "source": [
    "##### Imports"
   ]
  },
  {
   "cell_type": "code",
   "execution_count": 2,
   "id": "f8dbe9fb",
   "metadata": {},
   "outputs": [],
   "source": [
    "import pickle\n",
    "\n",
    "import numpy as np\n",
    "import pandas as pd\n",
    "\n",
    "import spacy\n",
    "\n",
    "from sklearn.model_selection import train_test_split\n",
    "\n",
    "import tensorflow as tf\n",
    "from tensorflow import keras\n",
    "from tensorflow.keras import layers\n",
    "\n",
    "import matplotlib.pyplot as plt\n",
    "import seaborn as sns\n",
    "sns.set_theme()\n",
    "\n",
    "# Local\n",
    "from src.preprocesser import ReviewPreprocessor\n",
    "from src.model import ReviewClassifier"
   ]
  },
  {
   "cell_type": "markdown",
   "id": "3ef923cc",
   "metadata": {},
   "source": [
    "# Load"
   ]
  },
  {
   "cell_type": "code",
   "execution_count": 3,
   "id": "71b0f0cf",
   "metadata": {},
   "outputs": [],
   "source": [
    "path = \"data/yelp/reviews/\""
   ]
  },
  {
   "cell_type": "code",
   "execution_count": 4,
   "id": "73c9a325",
   "metadata": {},
   "outputs": [
    {
     "name": "stdout",
     "output_type": "stream",
     "text": [
      "CPU times: total: 27.8 s\n",
      "Wall time: 27.9 s\n"
     ]
    }
   ],
   "source": [
    "%%time\n",
    "# Load dev set (10% of total data) as train\n",
    "all_data = pd.read_pickle(path + \"train.xz\")"
   ]
  },
  {
   "cell_type": "code",
   "execution_count": 5,
   "id": "52e0d9d5",
   "metadata": {},
   "outputs": [],
   "source": [
    "train, _ = train_test_split(all_data, train_size=300_000, stratify=all_data[\"stars\"])\n",
    "train, test = train_test_split(train, test_size=50_000, stratify=train[\"stars\"])"
   ]
  },
  {
   "cell_type": "code",
   "execution_count": 6,
   "id": "b8ccc29f",
   "metadata": {},
   "outputs": [
    {
     "data": {
      "text/html": [
       "<div>\n",
       "<style scoped>\n",
       "    .dataframe tbody tr th:only-of-type {\n",
       "        vertical-align: middle;\n",
       "    }\n",
       "\n",
       "    .dataframe tbody tr th {\n",
       "        vertical-align: top;\n",
       "    }\n",
       "\n",
       "    .dataframe thead th {\n",
       "        text-align: right;\n",
       "    }\n",
       "</style>\n",
       "<table border=\"1\" class=\"dataframe\">\n",
       "  <thead>\n",
       "    <tr style=\"text-align: right;\">\n",
       "      <th></th>\n",
       "      <th>text</th>\n",
       "      <th>stars</th>\n",
       "    </tr>\n",
       "  </thead>\n",
       "  <tbody>\n",
       "    <tr>\n",
       "      <th>6047922</th>\n",
       "      <td>Ahh... Big Daddy's. 24/7. Usually quite an int...</td>\n",
       "      <td>4</td>\n",
       "    </tr>\n",
       "    <tr>\n",
       "      <th>6615092</th>\n",
       "      <td>I've been to this bar a few times, Kirsten is ...</td>\n",
       "      <td>5</td>\n",
       "    </tr>\n",
       "    <tr>\n",
       "      <th>703572</th>\n",
       "      <td>First time trying sushi. It was delicious. I h...</td>\n",
       "      <td>5</td>\n",
       "    </tr>\n",
       "    <tr>\n",
       "      <th>1627557</th>\n",
       "      <td>I don't find this pet store to be more particu...</td>\n",
       "      <td>3</td>\n",
       "    </tr>\n",
       "    <tr>\n",
       "      <th>5707458</th>\n",
       "      <td>Great sandwiches... and the price is right.......</td>\n",
       "      <td>4</td>\n",
       "    </tr>\n",
       "    <tr>\n",
       "      <th>...</th>\n",
       "      <td>...</td>\n",
       "      <td>...</td>\n",
       "    </tr>\n",
       "    <tr>\n",
       "      <th>15445</th>\n",
       "      <td>The service was great. We went about 2pm, wasn...</td>\n",
       "      <td>5</td>\n",
       "    </tr>\n",
       "    <tr>\n",
       "      <th>6428025</th>\n",
       "      <td>2-10-12,haven't been to Joe's in a long time, ...</td>\n",
       "      <td>1</td>\n",
       "    </tr>\n",
       "    <tr>\n",
       "      <th>1187667</th>\n",
       "      <td>Soooo good! I always get the veggie burger on ...</td>\n",
       "      <td>5</td>\n",
       "    </tr>\n",
       "    <tr>\n",
       "      <th>5630846</th>\n",
       "      <td>If you get there 30 min before the movie start...</td>\n",
       "      <td>5</td>\n",
       "    </tr>\n",
       "    <tr>\n",
       "      <th>760155</th>\n",
       "      <td>We stopped for a quick lunch and had delicious...</td>\n",
       "      <td>4</td>\n",
       "    </tr>\n",
       "  </tbody>\n",
       "</table>\n",
       "<p>250000 rows × 2 columns</p>\n",
       "</div>"
      ],
      "text/plain": [
       "                                                      text  stars\n",
       "6047922  Ahh... Big Daddy's. 24/7. Usually quite an int...      4\n",
       "6615092  I've been to this bar a few times, Kirsten is ...      5\n",
       "703572   First time trying sushi. It was delicious. I h...      5\n",
       "1627557  I don't find this pet store to be more particu...      3\n",
       "5707458  Great sandwiches... and the price is right.......      4\n",
       "...                                                    ...    ...\n",
       "15445    The service was great. We went about 2pm, wasn...      5\n",
       "6428025  2-10-12,haven't been to Joe's in a long time, ...      1\n",
       "1187667  Soooo good! I always get the veggie burger on ...      5\n",
       "5630846  If you get there 30 min before the movie start...      5\n",
       "760155   We stopped for a quick lunch and had delicious...      4\n",
       "\n",
       "[250000 rows x 2 columns]"
      ]
     },
     "execution_count": 6,
     "metadata": {},
     "output_type": "execute_result"
    }
   ],
   "source": [
    "train"
   ]
  },
  {
   "cell_type": "code",
   "execution_count": 7,
   "id": "77bd96e5",
   "metadata": {},
   "outputs": [
    {
     "data": {
      "text/html": [
       "<div>\n",
       "<style scoped>\n",
       "    .dataframe tbody tr th:only-of-type {\n",
       "        vertical-align: middle;\n",
       "    }\n",
       "\n",
       "    .dataframe tbody tr th {\n",
       "        vertical-align: top;\n",
       "    }\n",
       "\n",
       "    .dataframe thead th {\n",
       "        text-align: right;\n",
       "    }\n",
       "</style>\n",
       "<table border=\"1\" class=\"dataframe\">\n",
       "  <thead>\n",
       "    <tr style=\"text-align: right;\">\n",
       "      <th></th>\n",
       "      <th>text</th>\n",
       "      <th>stars</th>\n",
       "    </tr>\n",
       "  </thead>\n",
       "  <tbody>\n",
       "    <tr>\n",
       "      <th>69636</th>\n",
       "      <td>Its peaceful.  Basically endless fields with t...</td>\n",
       "      <td>5</td>\n",
       "    </tr>\n",
       "    <tr>\n",
       "      <th>3690438</th>\n",
       "      <td>I was really suprised by how much i LOVED this...</td>\n",
       "      <td>5</td>\n",
       "    </tr>\n",
       "    <tr>\n",
       "      <th>6128050</th>\n",
       "      <td>I had to write this review because I crack up ...</td>\n",
       "      <td>4</td>\n",
       "    </tr>\n",
       "    <tr>\n",
       "      <th>4331260</th>\n",
       "      <td>Sat Sri Akal Yelpers!\\n\\nThis is my favorite i...</td>\n",
       "      <td>5</td>\n",
       "    </tr>\n",
       "    <tr>\n",
       "      <th>2856496</th>\n",
       "      <td>Wow. 99 Ranch in Tucson! I am so happy.\\n\\nThe...</td>\n",
       "      <td>5</td>\n",
       "    </tr>\n",
       "    <tr>\n",
       "      <th>...</th>\n",
       "      <td>...</td>\n",
       "      <td>...</td>\n",
       "    </tr>\n",
       "    <tr>\n",
       "      <th>2662662</th>\n",
       "      <td>Charged $20 for a shot of middle of the road b...</td>\n",
       "      <td>2</td>\n",
       "    </tr>\n",
       "    <tr>\n",
       "      <th>5163488</th>\n",
       "      <td>The Cajun Jambalaya Pasta was amazing! I highl...</td>\n",
       "      <td>5</td>\n",
       "    </tr>\n",
       "    <tr>\n",
       "      <th>5146467</th>\n",
       "      <td>Atmosphere isn't too bad, but there's no reaso...</td>\n",
       "      <td>2</td>\n",
       "    </tr>\n",
       "    <tr>\n",
       "      <th>1255940</th>\n",
       "      <td>I ordered a burger from Uber EATS. Best burger...</td>\n",
       "      <td>5</td>\n",
       "    </tr>\n",
       "    <tr>\n",
       "      <th>955605</th>\n",
       "      <td>What else can you ask for? They greet you when...</td>\n",
       "      <td>5</td>\n",
       "    </tr>\n",
       "  </tbody>\n",
       "</table>\n",
       "<p>50000 rows × 2 columns</p>\n",
       "</div>"
      ],
      "text/plain": [
       "                                                      text  stars\n",
       "69636    Its peaceful.  Basically endless fields with t...      5\n",
       "3690438  I was really suprised by how much i LOVED this...      5\n",
       "6128050  I had to write this review because I crack up ...      4\n",
       "4331260  Sat Sri Akal Yelpers!\\n\\nThis is my favorite i...      5\n",
       "2856496  Wow. 99 Ranch in Tucson! I am so happy.\\n\\nThe...      5\n",
       "...                                                    ...    ...\n",
       "2662662  Charged $20 for a shot of middle of the road b...      2\n",
       "5163488  The Cajun Jambalaya Pasta was amazing! I highl...      5\n",
       "5146467  Atmosphere isn't too bad, but there's no reaso...      2\n",
       "1255940  I ordered a burger from Uber EATS. Best burger...      5\n",
       "955605   What else can you ask for? They greet you when...      5\n",
       "\n",
       "[50000 rows x 2 columns]"
      ]
     },
     "execution_count": 7,
     "metadata": {},
     "output_type": "execute_result"
    }
   ],
   "source": [
    "test"
   ]
  },
  {
   "cell_type": "markdown",
   "id": "05965e48",
   "metadata": {},
   "source": [
    "##### Save Target"
   ]
  },
  {
   "cell_type": "code",
   "execution_count": 8,
   "id": "9d6ae318",
   "metadata": {},
   "outputs": [],
   "source": [
    "# Save reviews stars from 0-4\n",
    "y_train = tf.convert_to_tensor(train[\"stars\"].values - 1)\n",
    "y_test = tf.convert_to_tensor(test[\"stars\"].values - 1)"
   ]
  },
  {
   "cell_type": "markdown",
   "id": "d4fd8d22",
   "metadata": {},
   "source": [
    "# Define Preprocess"
   ]
  },
  {
   "cell_type": "code",
   "execution_count": 9,
   "id": "c5230aed",
   "metadata": {
    "scrolled": true
   },
   "outputs": [],
   "source": [
    "batch_size = 4000\n",
    "n_processes = 4\n",
    "\n",
    "vocab_size = 20_000  # Size of vocabulary\n",
    "maxlen = 200         # Number of words per review to consider"
   ]
  },
  {
   "cell_type": "code",
   "execution_count": 10,
   "id": "7cc3f2d2",
   "metadata": {},
   "outputs": [],
   "source": [
    "def preprocess(train, test, batch_size, n_processes, vocab_size, max_seq_length, \n",
    "               remove_stop=True, remove_punc=False, pad_punc=True, \n",
    "               lemmatize=True, alpha_only=False, split_digits=True, ner=True):\n",
    "    \"\"\"Preprocesses based on settings\"\"\"\n",
    "    # Create preprocessor\n",
    "    prep = ReviewPreprocessor(vocab_size, maxlen, \n",
    "                              remove_stop, remove_punc, pad_punc, \n",
    "                              lemmatize, alpha_only, split_digits, ner)\n",
    "    \n",
    "    X_train = prep.fit_transform(train[\"text\"], batch_size, n_processes)\n",
    "    X_test = prep.transform(test[\"text\"], batch_size, n_processes)\n",
    "    \n",
    "    return X_train, X_test"
   ]
  },
  {
   "cell_type": "markdown",
   "id": "f9839669",
   "metadata": {},
   "source": [
    "# Define Model"
   ]
  },
  {
   "cell_type": "code",
   "execution_count": 11,
   "id": "01d66238",
   "metadata": {},
   "outputs": [],
   "source": [
    "# Hyperparameters\n",
    "embed_dim = 32  # Attention output size\n",
    "num_heads = 2   # Number of attention heads\n",
    "ff_dims = [32]  # Hidden layer sizes in feed forward network inside transformer\n",
    "reg = 1.0e-2\n",
    "dropout = 0.5"
   ]
  },
  {
   "cell_type": "code",
   "execution_count": 12,
   "id": "19c77c19",
   "metadata": {},
   "outputs": [],
   "source": [
    "def create_model(maxlen, vocab_size, embed_dim, num_heads, ff_dims, reg, dropout):\n",
    "    model = ReviewClassifier(maxlen, vocab_size, embed_dim, num_heads, ff_dims, reg, dropout)\n",
    "    \n",
    "    model.compile(optimizer=keras.optimizers.Adam(1e-3), \n",
    "                  loss=\"sparse_categorical_crossentropy\", metrics=[\"accuracy\"])\n",
    "    \n",
    "    return model"
   ]
  },
  {
   "cell_type": "markdown",
   "id": "242c375a",
   "metadata": {},
   "source": [
    "# Define Configurations"
   ]
  },
  {
   "cell_type": "code",
   "execution_count": 188,
   "id": "49fa637a",
   "metadata": {},
   "outputs": [],
   "source": [
    "tr, fa = True, False\n",
    "\n",
    "configs = {\n",
    "    # type           sw  rp  pp  le  ao  sd  ne\n",
    "    # ------------------------------------------\n",
    "    \"base\":         (tr, fa, tr, tr, fa, tr, tr),\n",
    "    \"no_ner\":       (tr, fa, tr, tr, fa, tr, fa),\n",
    "    \"no_digit\":     (tr, fa, tr, tr, fa, fa, tr),\n",
    "    \"no_lemma\":     (tr, fa, tr, fa, fa, tr, tr),\n",
    "    \"no_punc\":      (tr, tr, tr, tr, fa, tr, tr),\n",
    "    \"alpha_only\":   (tr, fa, tr, tr, tr, tr, tr),\n",
    "    \"with_stop\":    (fa, fa, tr, tr, fa, tr, tr),\n",
    "    \"stop_no_ner\":  (fa, fa, tr, tr, fa, tr, fa),\n",
    "    \"stop_no_lem\":  (fa, fa, tr, fa, fa, tr, tr),\n",
    "    \"min_prep\":     (fa, fa, tr, fa, fa, tr, fa),\n",
    "}"
   ]
  },
  {
   "cell_type": "markdown",
   "id": "5513f0e0",
   "metadata": {},
   "source": [
    "# Run Experiment"
   ]
  },
  {
   "cell_type": "markdown",
   "id": "29d12cad",
   "metadata": {},
   "source": [
    "> Tests and saves results for each preprocessing configuration."
   ]
  },
  {
   "cell_type": "code",
   "execution_count": 14,
   "id": "90449c28",
   "metadata": {
    "scrolled": true
   },
   "outputs": [
    {
     "name": "stdout",
     "output_type": "stream",
     "text": [
      "Epoch 1/5\n",
      "7813/7813 [==============================] - 36s 4ms/step - loss: 0.9542 - accuracy: 0.6274 - val_loss: 0.7971 - val_accuracy: 0.6743\n",
      "Epoch 2/5\n",
      "7813/7813 [==============================] - 35s 4ms/step - loss: 0.8433 - accuracy: 0.6556 - val_loss: 0.7958 - val_accuracy: 0.6740\n",
      "Epoch 3/5\n",
      "7813/7813 [==============================] - 34s 4ms/step - loss: 0.8212 - accuracy: 0.6640 - val_loss: 0.8270 - val_accuracy: 0.6539\n",
      "Epoch 4/5\n",
      "7813/7813 [==============================] - 34s 4ms/step - loss: 0.8045 - accuracy: 0.6697 - val_loss: 0.8186 - val_accuracy: 0.6518\n",
      "Epoch 5/5\n",
      "7813/7813 [==============================] - 33s 4ms/step - loss: 0.7918 - accuracy: 0.6741 - val_loss: 0.8496 - val_accuracy: 0.6479\n",
      "Epoch 1/5\n",
      "7813/7813 [==============================] - 36s 4ms/step - loss: 0.9506 - accuracy: 0.6280 - val_loss: 0.7915 - val_accuracy: 0.6748\n",
      "Epoch 2/5\n",
      "7813/7813 [==============================] - 34s 4ms/step - loss: 0.8376 - accuracy: 0.6595 - val_loss: 0.7805 - val_accuracy: 0.6764\n",
      "Epoch 3/5\n",
      "7813/7813 [==============================] - 34s 4ms/step - loss: 0.8112 - accuracy: 0.6676 - val_loss: 0.7939 - val_accuracy: 0.6759\n",
      "Epoch 4/5\n",
      "7813/7813 [==============================] - 34s 4ms/step - loss: 0.7965 - accuracy: 0.6710 - val_loss: 0.8068 - val_accuracy: 0.6658\n",
      "Epoch 5/5\n",
      "7813/7813 [==============================] - 34s 4ms/step - loss: 0.7832 - accuracy: 0.6773 - val_loss: 0.8247 - val_accuracy: 0.6560\n",
      "Epoch 1/5\n",
      "7813/7813 [==============================] - 38s 5ms/step - loss: 0.9588 - accuracy: 0.6264 - val_loss: 0.8059 - val_accuracy: 0.6671\n",
      "Epoch 2/5\n",
      "7813/7813 [==============================] - 39s 5ms/step - loss: 0.8477 - accuracy: 0.6556 - val_loss: 0.7981 - val_accuracy: 0.6653\n",
      "Epoch 3/5\n",
      "7813/7813 [==============================] - 37s 5ms/step - loss: 0.8236 - accuracy: 0.6638 - val_loss: 0.8423 - val_accuracy: 0.6549\n",
      "Epoch 4/5\n",
      "7813/7813 [==============================] - 35s 4ms/step - loss: 0.8085 - accuracy: 0.6689 - val_loss: 0.8286 - val_accuracy: 0.6520\n",
      "Epoch 5/5\n",
      "7813/7813 [==============================] - 35s 4ms/step - loss: 0.7963 - accuracy: 0.6728 - val_loss: 0.8249 - val_accuracy: 0.6589\n",
      "Epoch 1/5\n",
      "7813/7813 [==============================] - 35s 4ms/step - loss: 0.9336 - accuracy: 0.6325 - val_loss: 0.7829 - val_accuracy: 0.6770\n",
      "Epoch 2/5\n",
      "7813/7813 [==============================] - 34s 4ms/step - loss: 0.8287 - accuracy: 0.6630 - val_loss: 0.8046 - val_accuracy: 0.6616\n",
      "Epoch 3/5\n",
      "7813/7813 [==============================] - 34s 4ms/step - loss: 0.8030 - accuracy: 0.6712 - val_loss: 0.8064 - val_accuracy: 0.6568\n",
      "Epoch 4/5\n",
      "7813/7813 [==============================] - 34s 4ms/step - loss: 0.7863 - accuracy: 0.6766 - val_loss: 0.8402 - val_accuracy: 0.6572\n",
      "Epoch 5/5\n",
      "7813/7813 [==============================] - 34s 4ms/step - loss: 0.7745 - accuracy: 0.6810 - val_loss: 0.8402 - val_accuracy: 0.6572\n",
      "Epoch 1/5\n",
      "7813/7813 [==============================] - 35s 4ms/step - loss: 0.9684 - accuracy: 0.6183 - val_loss: 0.8363 - val_accuracy: 0.6456\n",
      "Epoch 2/5\n",
      "7813/7813 [==============================] - 34s 4ms/step - loss: 0.8561 - accuracy: 0.6516 - val_loss: 0.8166 - val_accuracy: 0.6642\n",
      "Epoch 3/5\n",
      "7813/7813 [==============================] - 34s 4ms/step - loss: 0.8309 - accuracy: 0.6604 - val_loss: 0.8122 - val_accuracy: 0.6633\n",
      "Epoch 4/5\n",
      "7813/7813 [==============================] - 34s 4ms/step - loss: 0.8149 - accuracy: 0.6658 - val_loss: 0.8397 - val_accuracy: 0.6415\n",
      "Epoch 5/5\n",
      "7813/7813 [==============================] - 34s 4ms/step - loss: 0.8030 - accuracy: 0.6705 - val_loss: 0.8333 - val_accuracy: 0.6614\n",
      "Epoch 1/5\n",
      "7813/7813 [==============================] - 36s 5ms/step - loss: 0.9591 - accuracy: 0.6278 - val_loss: 0.8063 - val_accuracy: 0.6690\n",
      "Epoch 2/5\n",
      "7813/7813 [==============================] - 35s 5ms/step - loss: 0.8495 - accuracy: 0.6563 - val_loss: 0.8247 - val_accuracy: 0.6602\n",
      "Epoch 3/5\n",
      "7813/7813 [==============================] - 36s 5ms/step - loss: 0.8252 - accuracy: 0.6646 - val_loss: 0.8348 - val_accuracy: 0.6576\n",
      "Epoch 4/5\n",
      "7813/7813 [==============================] - 35s 4ms/step - loss: 0.8100 - accuracy: 0.6695 - val_loss: 0.8201 - val_accuracy: 0.6642\n",
      "Epoch 5/5\n",
      "7813/7813 [==============================] - 36s 5ms/step - loss: 0.7974 - accuracy: 0.6737 - val_loss: 0.8528 - val_accuracy: 0.6541\n",
      "Epoch 1/5\n",
      "7813/7813 [==============================] - 35s 4ms/step - loss: 0.9470 - accuracy: 0.6289 - val_loss: 0.7797 - val_accuracy: 0.6763\n",
      "Epoch 2/5\n",
      "7813/7813 [==============================] - 34s 4ms/step - loss: 0.8375 - accuracy: 0.6598 - val_loss: 0.7767 - val_accuracy: 0.6777\n",
      "Epoch 3/5\n",
      "7813/7813 [==============================] - 34s 4ms/step - loss: 0.8144 - accuracy: 0.6669 - val_loss: 0.8149 - val_accuracy: 0.6645\n",
      "Epoch 4/5\n",
      "7813/7813 [==============================] - 35s 4ms/step - loss: 0.8007 - accuracy: 0.6740 - val_loss: 0.7928 - val_accuracy: 0.6754\n",
      "Epoch 5/5\n",
      "7813/7813 [==============================] - 34s 4ms/step - loss: 0.7877 - accuracy: 0.6794 - val_loss: 0.8159 - val_accuracy: 0.6682\n"
     ]
    },
    {
     "name": "stderr",
     "output_type": "stream",
     "text": [
      "WARNING:absl:Found untraced functions such as query_layer_call_fn, query_layer_call_and_return_conditional_losses, key_layer_call_fn, key_layer_call_and_return_conditional_losses, value_layer_call_fn while saving (showing 5 of 12). These functions will not be directly callable after loading.\n"
     ]
    },
    {
     "name": "stdout",
     "output_type": "stream",
     "text": [
      "INFO:tensorflow:Assets written to: ram://c68cea66-dced-42cd-b3b9-568a0dbc7e5c/assets\n"
     ]
    },
    {
     "name": "stderr",
     "output_type": "stream",
     "text": [
      "INFO:tensorflow:Assets written to: ram://c68cea66-dced-42cd-b3b9-568a0dbc7e5c/assets\n",
      "WARNING:absl:Found untraced functions such as query_layer_call_fn, query_layer_call_and_return_conditional_losses, key_layer_call_fn, key_layer_call_and_return_conditional_losses, value_layer_call_fn while saving (showing 5 of 12). These functions will not be directly callable after loading.\n"
     ]
    },
    {
     "name": "stdout",
     "output_type": "stream",
     "text": [
      "INFO:tensorflow:Assets written to: ram://2310e74f-6e2f-4e8a-ae4a-8dc447551bb3/assets\n"
     ]
    },
    {
     "name": "stderr",
     "output_type": "stream",
     "text": [
      "INFO:tensorflow:Assets written to: ram://2310e74f-6e2f-4e8a-ae4a-8dc447551bb3/assets\n",
      "WARNING:absl:Found untraced functions such as query_layer_call_fn, query_layer_call_and_return_conditional_losses, key_layer_call_fn, key_layer_call_and_return_conditional_losses, value_layer_call_fn while saving (showing 5 of 12). These functions will not be directly callable after loading.\n"
     ]
    },
    {
     "name": "stdout",
     "output_type": "stream",
     "text": [
      "INFO:tensorflow:Assets written to: ram://12025422-c53f-497f-b90d-1e896b4fb248/assets\n"
     ]
    },
    {
     "name": "stderr",
     "output_type": "stream",
     "text": [
      "INFO:tensorflow:Assets written to: ram://12025422-c53f-497f-b90d-1e896b4fb248/assets\n",
      "WARNING:absl:Found untraced functions such as query_layer_call_fn, query_layer_call_and_return_conditional_losses, key_layer_call_fn, key_layer_call_and_return_conditional_losses, value_layer_call_fn while saving (showing 5 of 12). These functions will not be directly callable after loading.\n"
     ]
    },
    {
     "name": "stdout",
     "output_type": "stream",
     "text": [
      "INFO:tensorflow:Assets written to: ram://9287fffa-f39c-4e2a-b1b5-a4f4bd564987/assets\n"
     ]
    },
    {
     "name": "stderr",
     "output_type": "stream",
     "text": [
      "INFO:tensorflow:Assets written to: ram://9287fffa-f39c-4e2a-b1b5-a4f4bd564987/assets\n",
      "WARNING:absl:Found untraced functions such as query_layer_call_fn, query_layer_call_and_return_conditional_losses, key_layer_call_fn, key_layer_call_and_return_conditional_losses, value_layer_call_fn while saving (showing 5 of 12). These functions will not be directly callable after loading.\n"
     ]
    },
    {
     "name": "stdout",
     "output_type": "stream",
     "text": [
      "INFO:tensorflow:Assets written to: ram://5552e0d1-e742-4703-a871-442299eb94f1/assets\n"
     ]
    },
    {
     "name": "stderr",
     "output_type": "stream",
     "text": [
      "INFO:tensorflow:Assets written to: ram://5552e0d1-e742-4703-a871-442299eb94f1/assets\n",
      "WARNING:absl:Found untraced functions such as query_layer_call_fn, query_layer_call_and_return_conditional_losses, key_layer_call_fn, key_layer_call_and_return_conditional_losses, value_layer_call_fn while saving (showing 5 of 12). These functions will not be directly callable after loading.\n"
     ]
    },
    {
     "name": "stdout",
     "output_type": "stream",
     "text": [
      "INFO:tensorflow:Assets written to: ram://aa9f85d5-d1aa-4752-b27c-4be2de0e2c30/assets\n"
     ]
    },
    {
     "name": "stderr",
     "output_type": "stream",
     "text": [
      "INFO:tensorflow:Assets written to: ram://aa9f85d5-d1aa-4752-b27c-4be2de0e2c30/assets\n",
      "WARNING:absl:Found untraced functions such as query_layer_call_fn, query_layer_call_and_return_conditional_losses, key_layer_call_fn, key_layer_call_and_return_conditional_losses, value_layer_call_fn while saving (showing 5 of 12). These functions will not be directly callable after loading.\n"
     ]
    },
    {
     "name": "stdout",
     "output_type": "stream",
     "text": [
      "INFO:tensorflow:Assets written to: ram://1f0db4a4-0c9f-4ac9-aab0-42556fa7d8fe/assets\n"
     ]
    },
    {
     "name": "stderr",
     "output_type": "stream",
     "text": [
      "INFO:tensorflow:Assets written to: ram://1f0db4a4-0c9f-4ac9-aab0-42556fa7d8fe/assets\n"
     ]
    },
    {
     "name": "stdout",
     "output_type": "stream",
     "text": [
      "CPU times: total: 52min 43s\n",
      "Wall time: 1h 19min 25s\n"
     ]
    }
   ],
   "source": [
    "%%time\n",
    "epochs = 5\n",
    "\n",
    "results = dict()\n",
    "for config, params in configs.items():\n",
    "    print(config)\n",
    "    X_train, X_test = preprocess(train, test, batch_size, n_processes, vocab_size, maxlen, *params)\n",
    "    model = create_model(maxlen, vocab_size, embed_dim, num_heads, ff_dims, reg, dropout)\n",
    "    \n",
    "    results[config] = model.fit(X_train, y_train, batch_size=32, epochs=epochs,\n",
    "                                validation_data=(X_test, y_test), verbose=1)\n",
    "    \n",
    "# Save results\n",
    "final_res = {cfg: hist.history for cfg, hist in results.items()}\n",
    "with open('experiments/results/prep_results.pickle', 'wb') as handle:\n",
    "    pickle.dump(final_res, handle)"
   ]
  },
  {
   "cell_type": "code",
   "execution_count": 203,
   "id": "0ffc1ea2",
   "metadata": {},
   "outputs": [],
   "source": [
    "# Save results\n",
    "final_res = {cfg: hist.history for cfg, hist in results.items()}\n",
    "with open('experiments/results/prep_results.pickle', 'wb') as handle:\n",
    "    pickle.dump(final_res, handle)"
   ]
  },
  {
   "cell_type": "markdown",
   "id": "31aeeb11",
   "metadata": {},
   "source": [
    "# Viz"
   ]
  },
  {
   "cell_type": "code",
   "execution_count": 192,
   "id": "5979e806",
   "metadata": {},
   "outputs": [],
   "source": [
    "val_losses = {cfg: hist.history[\"val_loss\"] for cfg, hist in results.items()}\n",
    "val_accs = {cfg: hist.history[\"val_accuracy\"] for cfg, hist in results.items()}"
   ]
  },
  {
   "cell_type": "markdown",
   "id": "10ad8899",
   "metadata": {},
   "source": [
    "##### Stats"
   ]
  },
  {
   "cell_type": "code",
   "execution_count": 193,
   "id": "5af3c671",
   "metadata": {},
   "outputs": [
    {
     "data": {
      "text/html": [
       "<div>\n",
       "<style scoped>\n",
       "    .dataframe tbody tr th:only-of-type {\n",
       "        vertical-align: middle;\n",
       "    }\n",
       "\n",
       "    .dataframe tbody tr th {\n",
       "        vertical-align: top;\n",
       "    }\n",
       "\n",
       "    .dataframe thead th {\n",
       "        text-align: right;\n",
       "    }\n",
       "</style>\n",
       "<table border=\"1\" class=\"dataframe\">\n",
       "  <thead>\n",
       "    <tr style=\"text-align: right;\">\n",
       "      <th></th>\n",
       "      <th>config</th>\n",
       "      <th>min_loss</th>\n",
       "      <th>max_acc</th>\n",
       "    </tr>\n",
       "  </thead>\n",
       "  <tbody>\n",
       "    <tr>\n",
       "      <th>0</th>\n",
       "      <td>base</td>\n",
       "      <td>0.795783</td>\n",
       "      <td>0.67426</td>\n",
       "    </tr>\n",
       "    <tr>\n",
       "      <th>1</th>\n",
       "      <td>no_ner</td>\n",
       "      <td>0.780513</td>\n",
       "      <td>0.67642</td>\n",
       "    </tr>\n",
       "    <tr>\n",
       "      <th>2</th>\n",
       "      <td>no_digit</td>\n",
       "      <td>0.798099</td>\n",
       "      <td>0.66708</td>\n",
       "    </tr>\n",
       "    <tr>\n",
       "      <th>3</th>\n",
       "      <td>no_lemma</td>\n",
       "      <td>0.782943</td>\n",
       "      <td>0.67700</td>\n",
       "    </tr>\n",
       "    <tr>\n",
       "      <th>4</th>\n",
       "      <td>no_punc</td>\n",
       "      <td>0.812246</td>\n",
       "      <td>0.66424</td>\n",
       "    </tr>\n",
       "    <tr>\n",
       "      <th>5</th>\n",
       "      <td>alpha_only</td>\n",
       "      <td>0.806292</td>\n",
       "      <td>0.66902</td>\n",
       "    </tr>\n",
       "    <tr>\n",
       "      <th>6</th>\n",
       "      <td>with_stop</td>\n",
       "      <td>0.776732</td>\n",
       "      <td>0.67772</td>\n",
       "    </tr>\n",
       "    <tr>\n",
       "      <th>7</th>\n",
       "      <td>stop_no_ner</td>\n",
       "      <td>0.792534</td>\n",
       "      <td>0.67378</td>\n",
       "    </tr>\n",
       "    <tr>\n",
       "      <th>8</th>\n",
       "      <td>stop_no_lem</td>\n",
       "      <td>0.773775</td>\n",
       "      <td>0.68458</td>\n",
       "    </tr>\n",
       "    <tr>\n",
       "      <th>9</th>\n",
       "      <td>min_prep</td>\n",
       "      <td>0.780139</td>\n",
       "      <td>0.67652</td>\n",
       "    </tr>\n",
       "  </tbody>\n",
       "</table>\n",
       "</div>"
      ],
      "text/plain": [
       "        config  min_loss  max_acc\n",
       "0         base  0.795783  0.67426\n",
       "1       no_ner  0.780513  0.67642\n",
       "2     no_digit  0.798099  0.66708\n",
       "3     no_lemma  0.782943  0.67700\n",
       "4      no_punc  0.812246  0.66424\n",
       "5   alpha_only  0.806292  0.66902\n",
       "6    with_stop  0.776732  0.67772\n",
       "7  stop_no_ner  0.792534  0.67378\n",
       "8  stop_no_lem  0.773775  0.68458\n",
       "9     min_prep  0.780139  0.67652"
      ]
     },
     "execution_count": 193,
     "metadata": {},
     "output_type": "execute_result"
    }
   ],
   "source": [
    "losses = pd.DataFrame(val_losses).min()\n",
    "accs = pd.DataFrame(val_accs).max()\n",
    "\n",
    "df = pd.DataFrame(losses).reset_index()\n",
    "df.columns = [\"config\", \"min_loss\"]\n",
    "df[\"max_acc\"] = accs.values\n",
    "df"
   ]
  },
  {
   "cell_type": "code",
   "execution_count": 194,
   "id": "ea46017b",
   "metadata": {},
   "outputs": [
    {
     "data": {
      "image/png": "[encoded data removed]",
      "text/plain": [
       "<Figure size 350x800 with 2 Axes>"
      ]
     },
     "metadata": {},
     "output_type": "display_data"
    }
   ],
   "source": [
    "fig, axes = plt.subplots(2, 1, sharex=False, figsize=(3.5, 8), dpi=100)\n",
    "\n",
    "sns.barplot(\n",
    "    data=df,\n",
    "    x=\"min_loss\",\n",
    "    y=\"config\",\n",
    "    ax=axes[0],\n",
    "    color=\"#CA6F1E\"\n",
    ")\n",
    "axes[0].set_title(\"Min. Validation Loss\")\n",
    "axes[0].set_xlim(0.7)\n",
    "axes[0].set_xlabel(\"Loss\")\n",
    "axes[0].set_ylabel(\"\")\n",
    "\n",
    "sns.barplot(\n",
    "    data=df,\n",
    "    x=\"max_acc\",\n",
    "    y=\"config\",\n",
    "    ax=axes[1],\n",
    "    color=\"#EB984E\",\n",
    ")\n",
    "axes[1].set_title(\"Max. Validation Accuracy\")\n",
    "axes[1].set_xlim(0.64, 0.7)\n",
    "axes[1].set_xlabel(\"Accuracy\")\n",
    "axes[1].set_ylabel(\"\")\n",
    "\n",
    "plt.subplots_adjust(hspace=0.37)\n",
    "\n",
    "plt.show()"
   ]
  }
 ],
 "metadata": {
  "kernelspec": {
   "display_name": "Python [conda env:tf-gpu]",
   "language": "python",
   "name": "conda-env-tf-gpu-py"
  },
  "language_info": {
   "codemirror_mode": {
    "name": "ipython",
    "version": 3
   },
   "file_extension": ".py",
   "mimetype": "text/x-python",
   "name": "python",
   "nbconvert_exporter": "python",
   "pygments_lexer": "ipython3",
   "version": "3.10.4"
  }
 },
 "nbformat": 4,
 "nbformat_minor": 5
}

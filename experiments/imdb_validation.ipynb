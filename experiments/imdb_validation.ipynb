{
 "cells": [
  {
   "cell_type": "markdown",
   "id": "b3144885",
   "metadata": {},
   "source": [
    "> Testing of binary sentiment classification on a IMDb movie review dataset."
   ]
  },
  {
   "cell_type": "markdown",
   "id": "bd318293",
   "metadata": {},
   "source": [
    "---"
   ]
  },
  {
   "cell_type": "markdown",
   "id": "93fb8d86",
   "metadata": {},
   "source": [
    "# Setup"
   ]
  },
  {
   "cell_type": "markdown",
   "id": "55c4193f",
   "metadata": {},
   "source": [
    "##### Set Root Dir as CWD"
   ]
  },
  {
   "cell_type": "code",
   "execution_count": 1,
   "id": "7d88d86d",
   "metadata": {},
   "outputs": [
    {
     "name": "stdout",
     "output_type": "stream",
     "text": [
      "D:\\Documents\\A_DIGIPEN\\PersonalSVN\\Fall22SVN\\CS374\\Project\\cs374-project\n"
     ]
    }
   ],
   "source": [
    "import os\n",
    "\n",
    "# Navigate to project root (if not already there)\n",
    "if os.path.split(os.getcwd())[1] != \"cs374-project\":\n",
    "    %cd ../"
   ]
  },
  {
   "cell_type": "markdown",
   "id": "ebf5af2e",
   "metadata": {},
   "source": [
    "##### Imports"
   ]
  },
  {
   "cell_type": "code",
   "execution_count": 2,
   "id": "f8dbe9fb",
   "metadata": {},
   "outputs": [],
   "source": [
    "import numpy as np\n",
    "import pandas as pd\n",
    "\n",
    "import spacy\n",
    "\n",
    "import tensorflow as tf\n",
    "from tensorflow import keras\n",
    "from tensorflow.keras import layers\n",
    "\n",
    "import matplotlib.pyplot as plt\n",
    "import seaborn as sns\n",
    "sns.set_theme()\n",
    "\n",
    "# Local\n",
    "from src.preprocesser import ReviewPreprocessor\n",
    "from src.model import ReviewClassifier"
   ]
  },
  {
   "cell_type": "markdown",
   "id": "3ef923cc",
   "metadata": {},
   "source": [
    "# Load"
   ]
  },
  {
   "cell_type": "code",
   "execution_count": 3,
   "id": "71b0f0cf",
   "metadata": {},
   "outputs": [],
   "source": [
    "path = \"data/imdb/\""
   ]
  },
  {
   "cell_type": "code",
   "execution_count": 4,
   "id": "73c9a325",
   "metadata": {},
   "outputs": [
    {
     "name": "stdout",
     "output_type": "stream",
     "text": [
      "CPU times: total: 281 ms\n",
      "Wall time: 360 ms\n"
     ]
    }
   ],
   "source": [
    "%%time\n",
    "# Load dev set (10% of total data) as train\n",
    "val = pd.read_csv(path + \"IMDB Dataset.csv\")"
   ]
  },
  {
   "cell_type": "code",
   "execution_count": 29,
   "id": "fdb89f33",
   "metadata": {},
   "outputs": [],
   "source": [
    "# Remove html tags\n",
    "val[\"review\"] = val[\"review\"].str.replace(r\"<.*?>\", \"\", regex=True)"
   ]
  },
  {
   "cell_type": "code",
   "execution_count": 30,
   "id": "b8ccc29f",
   "metadata": {},
   "outputs": [
    {
     "data": {
      "text/html": [
       "<div>\n",
       "<style scoped>\n",
       "    .dataframe tbody tr th:only-of-type {\n",
       "        vertical-align: middle;\n",
       "    }\n",
       "\n",
       "    .dataframe tbody tr th {\n",
       "        vertical-align: top;\n",
       "    }\n",
       "\n",
       "    .dataframe thead th {\n",
       "        text-align: right;\n",
       "    }\n",
       "</style>\n",
       "<table border=\"1\" class=\"dataframe\">\n",
       "  <thead>\n",
       "    <tr style=\"text-align: right;\">\n",
       "      <th></th>\n",
       "      <th>review</th>\n",
       "      <th>sentiment</th>\n",
       "    </tr>\n",
       "  </thead>\n",
       "  <tbody>\n",
       "    <tr>\n",
       "      <th>0</th>\n",
       "      <td>One of the other reviewers has mentioned that ...</td>\n",
       "      <td>positive</td>\n",
       "    </tr>\n",
       "    <tr>\n",
       "      <th>1</th>\n",
       "      <td>A wonderful little production. The filming tec...</td>\n",
       "      <td>positive</td>\n",
       "    </tr>\n",
       "    <tr>\n",
       "      <th>2</th>\n",
       "      <td>I thought this was a wonderful way to spend ti...</td>\n",
       "      <td>positive</td>\n",
       "    </tr>\n",
       "    <tr>\n",
       "      <th>3</th>\n",
       "      <td>Basically there's a family where a little boy ...</td>\n",
       "      <td>negative</td>\n",
       "    </tr>\n",
       "    <tr>\n",
       "      <th>4</th>\n",
       "      <td>Petter Mattei's \"Love in the Time of Money\" is...</td>\n",
       "      <td>positive</td>\n",
       "    </tr>\n",
       "    <tr>\n",
       "      <th>...</th>\n",
       "      <td>...</td>\n",
       "      <td>...</td>\n",
       "    </tr>\n",
       "    <tr>\n",
       "      <th>49995</th>\n",
       "      <td>I thought this movie did a down right good job...</td>\n",
       "      <td>positive</td>\n",
       "    </tr>\n",
       "    <tr>\n",
       "      <th>49996</th>\n",
       "      <td>Bad plot, bad dialogue, bad acting, idiotic di...</td>\n",
       "      <td>negative</td>\n",
       "    </tr>\n",
       "    <tr>\n",
       "      <th>49997</th>\n",
       "      <td>I am a Catholic taught in parochial elementary...</td>\n",
       "      <td>negative</td>\n",
       "    </tr>\n",
       "    <tr>\n",
       "      <th>49998</th>\n",
       "      <td>I'm going to have to disagree with the previou...</td>\n",
       "      <td>negative</td>\n",
       "    </tr>\n",
       "    <tr>\n",
       "      <th>49999</th>\n",
       "      <td>No one expects the Star Trek movies to be high...</td>\n",
       "      <td>negative</td>\n",
       "    </tr>\n",
       "  </tbody>\n",
       "</table>\n",
       "<p>50000 rows × 2 columns</p>\n",
       "</div>"
      ],
      "text/plain": [
       "                                                  review sentiment\n",
       "0      One of the other reviewers has mentioned that ...  positive\n",
       "1      A wonderful little production. The filming tec...  positive\n",
       "2      I thought this was a wonderful way to spend ti...  positive\n",
       "3      Basically there's a family where a little boy ...  negative\n",
       "4      Petter Mattei's \"Love in the Time of Money\" is...  positive\n",
       "...                                                  ...       ...\n",
       "49995  I thought this movie did a down right good job...  positive\n",
       "49996  Bad plot, bad dialogue, bad acting, idiotic di...  negative\n",
       "49997  I am a Catholic taught in parochial elementary...  negative\n",
       "49998  I'm going to have to disagree with the previou...  negative\n",
       "49999  No one expects the Star Trek movies to be high...  negative\n",
       "\n",
       "[50000 rows x 2 columns]"
      ]
     },
     "execution_count": 30,
     "metadata": {},
     "output_type": "execute_result"
    }
   ],
   "source": [
    "val"
   ]
  },
  {
   "cell_type": "markdown",
   "id": "05965e48",
   "metadata": {},
   "source": [
    "##### Save Target"
   ]
  },
  {
   "cell_type": "code",
   "execution_count": 31,
   "id": "9d6ae318",
   "metadata": {},
   "outputs": [
    {
     "data": {
      "text/plain": [
       "0         True\n",
       "1         True\n",
       "2         True\n",
       "3        False\n",
       "4         True\n",
       "         ...  \n",
       "49995     True\n",
       "49996    False\n",
       "49997    False\n",
       "49998    False\n",
       "49999    False\n",
       "Name: sentiment, Length: 50000, dtype: bool"
      ]
     },
     "execution_count": 31,
     "metadata": {},
     "output_type": "execute_result"
    }
   ],
   "source": [
    "# Save sentiment as boolean\n",
    "y_val = val[\"sentiment\"] == \"positive\"\n",
    "y_val"
   ]
  },
  {
   "cell_type": "markdown",
   "id": "d4fd8d22",
   "metadata": {},
   "source": [
    "# Preprocess"
   ]
  },
  {
   "cell_type": "code",
   "execution_count": 32,
   "id": "c5230aed",
   "metadata": {
    "scrolled": true
   },
   "outputs": [],
   "source": [
    "batch_size = 4000\n",
    "n_processes = 4\n",
    "\n",
    "maxlen = 200         # Number of words per review to consider\n",
    "vocab_size = 20_000  # Size of vocabulary\n",
    "\n",
    "prep_path = f\"experiments/preprocessors/final.pickle\""
   ]
  },
  {
   "cell_type": "markdown",
   "id": "a7579d78",
   "metadata": {},
   "source": [
    "##### Load from raw data"
   ]
  },
  {
   "cell_type": "code",
   "execution_count": 33,
   "id": "792e976d",
   "metadata": {},
   "outputs": [
    {
     "name": "stdout",
     "output_type": "stream",
     "text": [
      "CPU times: total: 1min 12s\n",
      "Wall time: 4min 10s\n"
     ]
    }
   ],
   "source": [
    "%%time\n",
    "# Configure preprocessor based on comparison\n",
    "prep = ReviewPreprocessor.load_from_pickle(prep_path)\n",
    "\n",
    "# Preprocess text\n",
    "X_val_norm = prep.normalize(val[\"review\"], batch_size, n_processes)\n",
    "\n",
    "# Convert to tensor of padded sequences\n",
    "X_val = prep.to_tensor(X_val_norm)"
   ]
  },
  {
   "cell_type": "markdown",
   "id": "8f0385e8",
   "metadata": {},
   "source": [
    "##### View Before and After Preprocessing"
   ]
  },
  {
   "cell_type": "code",
   "execution_count": 34,
   "id": "d3c8d426",
   "metadata": {},
   "outputs": [
    {
     "name": "stdout",
     "output_type": "stream",
     "text": [
      "Encouraged by the positive comments about this film on here I was looking forward to watching this film. Bad mistake. I've seen 950+ films and this is truly one of the worst of them - it's awful in almost every way: editing, pacing, storyline, 'acting,' soundtrack (the film's only song - a lame country tune - is played no less than four times). The film looks cheap and nasty and is boring in the extreme. Rarely have I been so happy to see the end credits of a film. The only thing that prevents me giving this a 1-score is Harvey Keitel - while this is far from his best performance he at least seems to be making a bit of an effort. One for Keitel obsessives only.\n",
      "\n",
      " - - - - \n",
      "\n",
      "['encouraged', 'by', 'the', 'positive', 'comments', 'about', 'this', 'film', 'on', 'here', 'i', 'was', 'looking', 'forward', 'to', 'watching', 'this', 'film', '.', 'bad', 'mistake', '.', 'i', \"'\", 've', 'seen', '95', 'e1', '+', 'films', 'and', 'this', 'is', 'truly', 'CARDINAL', 'of', 'the', 'worst', 'of', 'them', '-', 'it', \"'\", 's', 'awful', 'in', 'almost', 'every', 'way', ':', 'editing', ',', 'pacing', ',', 'storyline', ',', \"'\", 'acting', ',', \"'\", 'soundtrack', '(', 'the', 'film', \"'\", 's', 'only', 'song', '-', 'a', 'lame', 'country', 'tune', '-', 'is', 'played', 'no', 'CARDINAL', 'CARDINAL', 'CARDINAL', 'times', ')', '.', 'the', 'film', 'looks', 'cheap', 'and', 'nasty', 'and', 'is', 'boring', 'in', 'the', 'extreme', '.', 'rarely', 'have', 'i', 'been', 'so', 'happy', 'to', 'see', 'the', 'end', 'credits', 'of', 'a', 'film', '.', 'the', 'only', 'thing', 'that', 'prevents', 'me', 'giving', 'this', 'a', '1', 'e0', '-', 'score', 'is', 'PERSON', 'PERSON', '-', 'while', 'this', 'is', 'far', 'from', 'his', 'best', 'performance', 'he', 'at', 'least', 'seems', 'to', 'be', 'making', 'a', 'bit', 'of', 'an', 'effort', '.', 'CARDINAL', 'for', 'ORG', 'obsessives', 'only', '.'] 155\n",
      "\n",
      " - - - - \n",
      "\n",
      "tf.Tensor(\n",
      "[ 4720    91     2  1131  2549    90    26  4333    29    58     5     8\n",
      "   234   700     7  1216    26  4333     1   216  1151     1     5     9\n",
      "    86   617  1728   284   867  7487     3    26    14   708    43    11\n",
      "     2   526    11    87    36    10     9    34   902    15   468   209\n",
      "   155   105 13631     4 10833     4     4     9  4356     4     9 11622\n",
      "    54     2  4333     9    34    96  3538    36     6  4042  1290  4631\n",
      "    36    14  2029    80    43    43    43   189    51     1     2  4333\n",
      "   595   627     3  1765     3    14  2392    15     2  4024     1  2027\n",
      "    33     5    81    37   239     7   182     2   454  9100    11     6\n",
      "  4333     1     2    96   255    22 11812    50   729    26     6   248\n",
      "    20    36  3054    14    16    16    36   166    26    14   387    63\n",
      "   193    97  3828    76    40   549   541     7    44   495     6   215\n",
      "    11    72  1810     1    43    13    18    96     1     0     0     0\n",
      "     0     0     0     0     0     0     0     0     0     0     0     0\n",
      "     0     0     0     0     0     0     0     0     0     0     0     0\n",
      "     0     0     0     0     0     0     0     0     0     0     0     0\n",
      "     0     0     0     0     0     0     0     0], shape=(200,), dtype=int32)\n"
     ]
    }
   ],
   "source": [
    "print_idx = 8\n",
    "print(val[\"review\"].iloc[print_idx])\n",
    "print(\"\\n - - - - \\n\")\n",
    "print(X_val_norm[print_idx], len(X_val_norm[print_idx]))\n",
    "print(\"\\n - - - - \\n\")\n",
    "print(X_val[print_idx])"
   ]
  },
  {
   "cell_type": "markdown",
   "id": "f9839669",
   "metadata": {},
   "source": [
    "# Model"
   ]
  },
  {
   "cell_type": "markdown",
   "id": "e25eea7b",
   "metadata": {},
   "source": [
    "##### Load Model"
   ]
  },
  {
   "cell_type": "code",
   "execution_count": 35,
   "id": "01d66238",
   "metadata": {},
   "outputs": [
    {
     "data": {
      "text/plain": [
       "<tensorflow.python.training.tracking.util.CheckpointLoadStatus at 0x155f8ab2ec0>"
      ]
     },
     "execution_count": 35,
     "metadata": {},
     "output_type": "execute_result"
    }
   ],
   "source": [
    "# From saved model (doesn't work with attn scores)\n",
    "#model = keras.models.load_model(\"experiments/models/final_model\")\n",
    "\n",
    "# From checkpoint\n",
    "embed_dim = 32  # Attention output size\n",
    "num_heads = 2   # Number of attention heads\n",
    "ff_dims = [32]  # Hidden layer sizes in feed forward network inside transformer\n",
    "reg = 1.0e-2    # L2 Reg based on comparison\n",
    "dropout = 0.3   # Dropout based on comparison\n",
    "cp_path = \"experiments/model_checkpoints/\"\n",
    "model = ReviewClassifier(maxlen, vocab_size, embed_dim, num_heads, ff_dims, reg, dropout)\n",
    "model.load_weights(cp_path + f\"final.ckpt\")"
   ]
  },
  {
   "cell_type": "code",
   "execution_count": 36,
   "id": "26dd94ca",
   "metadata": {},
   "outputs": [
    {
     "name": "stdout",
     "output_type": "stream",
     "text": [
      "1/1 [==============================] - 0s 248ms/step\n"
     ]
    },
    {
     "data": {
      "text/plain": [
       "array([[3.3634059e-02, 1.6372284e-02, 2.8583718e-02, 1.4193356e-01,\n",
       "        7.7947640e-01],\n",
       "       [4.1847605e-07, 3.0608060e-06, 1.5645857e-03, 1.4461283e-01,\n",
       "        8.5381913e-01],\n",
       "       [7.9776754e-04, 1.7223358e-03, 2.5808359e-02, 2.4764423e-01,\n",
       "        7.2402734e-01],\n",
       "       [6.7655426e-01, 2.5150737e-01, 6.3111648e-02, 7.0397453e-03,\n",
       "        1.7869679e-03],\n",
       "       [2.1432120e-02, 1.7029442e-02, 4.3839652e-02, 1.9746016e-01,\n",
       "        7.2023863e-01]], dtype=float32)"
      ]
     },
     "execution_count": 36,
     "metadata": {},
     "output_type": "execute_result"
    }
   ],
   "source": [
    "model.predict(X_val[:5])"
   ]
  },
  {
   "cell_type": "markdown",
   "id": "5f5c4080",
   "metadata": {},
   "source": [
    "# Evaluate"
   ]
  },
  {
   "cell_type": "code",
   "execution_count": 37,
   "id": "4aab1fad",
   "metadata": {},
   "outputs": [
    {
     "name": "stdout",
     "output_type": "stream",
     "text": [
      "1563/1563 [==============================] - 2s 1ms/step\n"
     ]
    }
   ],
   "source": [
    "# Get probabilities per class\n",
    "y_pred = model.predict(X_val)"
   ]
  },
  {
   "cell_type": "code",
   "execution_count": 38,
   "id": "a540289f",
   "metadata": {},
   "outputs": [
    {
     "data": {
      "text/plain": [
       "<tf.Tensor: shape=(50000,), dtype=float64, numpy=\n",
       "array([3.61757274, 3.85226468, 3.69235783, ..., 1.41662982, 2.20706032,\n",
       "       0.39307531])>"
      ]
     },
     "execution_count": 38,
     "metadata": {},
     "output_type": "execute_result"
    }
   ],
   "source": [
    "# Calculate continuous star rating based on probabilities\n",
    "star_reg = tf.reduce_sum(y_pred * np.array([0, 1, 2, 3, 4]), axis=1)\n",
    "star_reg"
   ]
  },
  {
   "cell_type": "code",
   "execution_count": 39,
   "id": "10bac6eb",
   "metadata": {},
   "outputs": [],
   "source": [
    "# Determine if sentiment is negative or postiive\n",
    "y_pred_binary = star_reg >= 2"
   ]
  },
  {
   "cell_type": "code",
   "execution_count": 40,
   "id": "6526ece6",
   "metadata": {},
   "outputs": [
    {
     "name": "stdout",
     "output_type": "stream",
     "text": [
      "binary accuracy: 0.7922\n",
      "(compare to ~0.5)\n"
     ]
    }
   ],
   "source": [
    "print(\"binary accuracy: \" + str((y_pred_binary == y_val).numpy().sum() / len(y_val)))\n",
    "print(\"(compare to ~0.5)\")"
   ]
  },
  {
   "cell_type": "markdown",
   "id": "f9dd5601",
   "metadata": {},
   "source": [
    "##### Visualize Attention"
   ]
  },
  {
   "cell_type": "code",
   "execution_count": 22,
   "id": "79f640f9",
   "metadata": {
    "scrolled": true
   },
   "outputs": [
    {
     "data": {
      "text/plain": [
       "<tf.Tensor: shape=(100, 200), dtype=float32, numpy=\n",
       "array([[3.5445732e-03, 1.2494006e-02, 1.9155605e-02, ..., 7.6461699e-09,\n",
       "        2.1221755e-10, 4.8084628e-02],\n",
       "       [6.4915861e-03, 1.4879075e-01, 2.1933308e-01, ..., 0.0000000e+00,\n",
       "        0.0000000e+00, 0.0000000e+00],\n",
       "       [1.5523669e-03, 1.7574768e-01, 6.2144117e-04, ..., 2.4621802e-10,\n",
       "        2.4426347e-08, 2.8748524e-08],\n",
       "       ...,\n",
       "       [2.1435758e-01, 8.9798840e-03, 5.2412588e-08, ..., 0.0000000e+00,\n",
       "        0.0000000e+00, 0.0000000e+00],\n",
       "       [2.0146836e-04, 6.1077247e-03, 8.8913605e-02, ..., 2.8045032e-11,\n",
       "        4.1055009e-03, 3.1361555e-08],\n",
       "       [2.3471093e-05, 1.7754437e-01, 1.2505965e-01, ..., 2.6696836e-05,\n",
       "        4.2042211e-03, 3.6824733e-06]], dtype=float32)>"
      ]
     },
     "execution_count": 22,
     "metadata": {},
     "output_type": "execute_result"
    }
   ],
   "source": [
    "# Get attention scores\n",
    "_, attns = model(X_val[:100], return_att=True)\n",
    "\n",
    "# Get attention for each sample\n",
    "attns = tf.reduce_mean(attns, axis=2)[:, 0, :]\n",
    "attns"
   ]
  },
  {
   "cell_type": "code",
   "execution_count": 23,
   "id": "b2c9f538",
   "metadata": {},
   "outputs": [
    {
     "data": {
      "text/plain": [
       "<tf.Tensor: shape=(34,), dtype=float32, numpy=\n",
       "array([3.5445732e-03, 1.2494006e-02, 1.9155605e-02, 1.0774131e-01,\n",
       "       1.8801376e-01, 7.6504983e-03, 1.0714605e-01, 4.0157047e-06,\n",
       "       1.4494486e-03, 1.4054523e-04, 2.0329878e-07, 4.3246388e-02,\n",
       "       6.2153226e-04, 3.8715727e-03, 4.4076633e-06, 3.7952331e-03,\n",
       "       7.6869931e-03, 1.7510286e-02, 6.7335197e-05, 1.5638797e-02,\n",
       "       1.1256127e-06, 2.6232949e-03, 2.2619017e-03, 3.5805228e-05,\n",
       "       1.0287581e-05, 3.5656402e-07, 9.8734386e-03, 2.9696450e-03,\n",
       "       1.0313178e-02, 7.9576488e-08, 1.0125336e-06, 1.6604311e-08,\n",
       "       2.2623732e-09, 9.3440833e-10], dtype=float32)>"
      ]
     },
     "execution_count": 23,
     "metadata": {},
     "output_type": "execute_result"
    }
   ],
   "source": [
    "attns[0][:34]"
   ]
  },
  {
   "cell_type": "code",
   "execution_count": 49,
   "id": "153958bb",
   "metadata": {
    "scrolled": false
   },
   "outputs": [
    {
     "name": "stdout",
     "output_type": "stream",
     "text": [
      "<Original Text>\n",
      "An awful film! It must have been up against some real stinkers to be nominated for the Golden Globe. They've taken the story of the first famous female Renaissance painter and mangled it beyond recognition. My complaint is not that they've taken liberties with the facts; if the story were good, that would perfectly fine. But it's simply bizarre -- by all accounts the true story of this artist would have made for a far better film, so why did they come up with this dishwater-dull script? I suppose there weren't enough naked people in the factual version. It's hurriedly capped off in the end with a summary of the artist's life -- we could have saved ourselves a couple of hours if they'd favored the rest of the film with same brevity.\n",
      "\n",
      "<Preprocessed>\n",
      "['an', 'awful', 'film', 'it', 'must', 'have', 'been', 'up', 'against', 'some', 'real', 'to', 'be', 'for', 'fac', 'fac', 'fac', 'they', \"'\", 've', 'taken', 'the', 'story', 'of', 'the', 'ordinal', 'famous', 'female', 'org', 'painter', 'and', 'mangled', 'it', 'beyond', 'recognition', 'my', 'complaint', 'is', 'not', 'that', 'they', \"'\", 've', 'taken', 'liberties', 'with', 'the', 'facts', 'if', 'the', 'story', 'were', 'good', 'that', 'would', 'perfectly', 'fine', 'but', 'it', \"'\", 's', 'simply', 'bizarre', 'by', 'all', 'accounts', 'the', 'true', 'story', 'of', 'this', 'artist', 'would', 'have', 'made', 'for', 'a', 'far', 'better', 'film', 'so', 'why', 'did', 'they', 'come', 'up', 'with', 'this', 'dishwater', 'dull', 'script', 'i', 'suppose', 'there', 'weren', \"'\", 't', 'enough', 'naked', 'people', 'in', 'the', 'factual', 'version', 'it', \"'\", 's', 'hurriedly', 'capped', 'off', 'in', 'the', 'end', 'with', 'a', 'summary', 'of', 'the', 'artist', \"'\", 's', 'life', 'we', 'could', 'have', 'saved', 'ourselves', 'time', 'time', 'time', 'time', 'if', 'they', \"'\", 'd', 'favored', 'the', 'rest', 'of', 'the', 'film', 'with', 'same']\n"
     ]
    },
    {
     "data": {
      "image/png": "[encoded data removed]",
      "text/plain": [
       "<Figure size 300x2860 with 1 Axes>"
      ]
     },
     "metadata": {},
     "output_type": "display_data"
    }
   ],
   "source": [
    "sample_idx = 19\n",
    "\n",
    "# Get word sequences without oov words\n",
    "in_seq = X_val_norm[sample_idx][:maxlen]\n",
    "in_seq = [tok for tok in prep.tokenizer.sequences_to_texts(prep.tokenizer.texts_to_sequences(in_seq)) if tok]\n",
    "seq_len = len(in_seq)\n",
    "\n",
    "# Get attention values\n",
    "attn_vals = attns[sample_idx][:seq_len].numpy()\n",
    "\n",
    "print(\"<Original Text>\")\n",
    "print(val[\"review\"].iloc[sample_idx])\n",
    "\n",
    "print(\"\\n<Preprocessed>\")\n",
    "print(in_seq)\n",
    "\n",
    "plt.figure(figsize=(3, 0.2 * seq_len), dpi=100)\n",
    "sns.barplot(y=in_seq, x=attn_vals, ci=None, color=\"#EC7063\")\n",
    "\n",
    "plt.title(\"Mean Attention Score by Word\")\n",
    "\n",
    "#plt.gca().set_yticklabels(in_seq)\n",
    "\n",
    "plt.show()"
   ]
  },
  {
   "cell_type": "code",
   "execution_count": null,
   "id": "fc5d1cac",
   "metadata": {},
   "outputs": [],
   "source": []
  }
 ],
 "metadata": {
  "kernelspec": {
   "display_name": "Python [conda env:tf-gpu]",
   "language": "python",
   "name": "conda-env-tf-gpu-py"
  },
  "language_info": {
   "codemirror_mode": {
    "name": "ipython",
    "version": 3
   },
   "file_extension": ".py",
   "mimetype": "text/x-python",
   "name": "python",
   "nbconvert_exporter": "python",
   "pygments_lexer": "ipython3",
   "version": "3.10.4"
  }
 },
 "nbformat": 4,
 "nbformat_minor": 5
}

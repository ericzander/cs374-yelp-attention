{
 "cells": [
  {
   "cell_type": "markdown",
   "id": "bd318293",
   "metadata": {},
   "source": [
    "---"
   ]
  },
  {
   "cell_type": "markdown",
   "id": "93fb8d86",
   "metadata": {},
   "source": [
    "# Setup"
   ]
  },
  {
   "cell_type": "markdown",
   "id": "55c4193f",
   "metadata": {},
   "source": [
    "##### Set Root Dir as CWD"
   ]
  },
  {
   "cell_type": "code",
   "execution_count": 1,
   "id": "7d88d86d",
   "metadata": {},
   "outputs": [
    {
     "name": "stdout",
     "output_type": "stream",
     "text": [
      "D:\\Documents\\A_DIGIPEN\\PersonalSVN\\Fall22SVN\\CS374\\Project\\cs374-project\n"
     ]
    }
   ],
   "source": [
    "import os\n",
    "\n",
    "# Navigate to project root (if not already there)\n",
    "if os.path.split(os.getcwd())[1] != \"cs374-project\":\n",
    "    %cd ../"
   ]
  },
  {
   "cell_type": "markdown",
   "id": "ebf5af2e",
   "metadata": {},
   "source": [
    "##### Imports"
   ]
  },
  {
   "cell_type": "code",
   "execution_count": 56,
   "id": "f8dbe9fb",
   "metadata": {},
   "outputs": [],
   "source": [
    "import pickle\n",
    "\n",
    "import numpy as np\n",
    "import pandas as pd\n",
    "\n",
    "import spacy\n",
    "\n",
    "import tensorflow as tf\n",
    "from tensorflow import keras\n",
    "from tensorflow.keras import layers\n",
    "\n",
    "import matplotlib.pyplot as plt\n",
    "import seaborn as sns\n",
    "sns.set_theme()\n",
    "\n",
    "# Local\n",
    "from src.preprocesser import ReviewPreprocessor\n",
    "from src.model import ReviewClassifier"
   ]
  },
  {
   "cell_type": "markdown",
   "id": "3ef923cc",
   "metadata": {},
   "source": [
    "# Load"
   ]
  },
  {
   "cell_type": "code",
   "execution_count": 3,
   "id": "71b0f0cf",
   "metadata": {},
   "outputs": [],
   "source": [
    "path = \"data/yelp/reviews/\""
   ]
  },
  {
   "cell_type": "code",
   "execution_count": 4,
   "id": "73c9a325",
   "metadata": {},
   "outputs": [
    {
     "name": "stdout",
     "output_type": "stream",
     "text": [
      "CPU times: total: 28.8 s\n",
      "Wall time: 29.1 s\n"
     ]
    }
   ],
   "source": [
    "%%time\n",
    "# Load dev set (10% of total data) as train\n",
    "train = pd.read_pickle(path + \"train.xz\")"
   ]
  },
  {
   "cell_type": "code",
   "execution_count": 5,
   "id": "821b8fb6",
   "metadata": {},
   "outputs": [
    {
     "name": "stdout",
     "output_type": "stream",
     "text": [
      "CPU times: total: 3.58 s\n",
      "Wall time: 3.58 s\n"
     ]
    }
   ],
   "source": [
    "%%time\n",
    "# Load test set (10% of total data) as test\n",
    "test = pd.read_pickle(path + \"test.xz\")"
   ]
  },
  {
   "cell_type": "code",
   "execution_count": 6,
   "id": "b8ccc29f",
   "metadata": {},
   "outputs": [
    {
     "data": {
      "text/html": [
       "<div>\n",
       "<style scoped>\n",
       "    .dataframe tbody tr th:only-of-type {\n",
       "        vertical-align: middle;\n",
       "    }\n",
       "\n",
       "    .dataframe tbody tr th {\n",
       "        vertical-align: top;\n",
       "    }\n",
       "\n",
       "    .dataframe thead th {\n",
       "        text-align: right;\n",
       "    }\n",
       "</style>\n",
       "<table border=\"1\" class=\"dataframe\">\n",
       "  <thead>\n",
       "    <tr style=\"text-align: right;\">\n",
       "      <th></th>\n",
       "      <th>text</th>\n",
       "      <th>stars</th>\n",
       "    </tr>\n",
       "  </thead>\n",
       "  <tbody>\n",
       "    <tr>\n",
       "      <th>2903612</th>\n",
       "      <td>I like Wedding Belles for an odd reason. I set...</td>\n",
       "      <td>5</td>\n",
       "    </tr>\n",
       "    <tr>\n",
       "      <th>5050964</th>\n",
       "      <td>We had a great stay here. I felt like we got a...</td>\n",
       "      <td>5</td>\n",
       "    </tr>\n",
       "    <tr>\n",
       "      <th>1226557</th>\n",
       "      <td>A unique place for sure, not your standard bre...</td>\n",
       "      <td>3</td>\n",
       "    </tr>\n",
       "    <tr>\n",
       "      <th>776083</th>\n",
       "      <td>This will be a short review on service and gri...</td>\n",
       "      <td>4</td>\n",
       "    </tr>\n",
       "    <tr>\n",
       "      <th>227582</th>\n",
       "      <td>Great barbershop. Super friendly staff. They a...</td>\n",
       "      <td>5</td>\n",
       "    </tr>\n",
       "    <tr>\n",
       "      <th>...</th>\n",
       "      <td>...</td>\n",
       "      <td>...</td>\n",
       "    </tr>\n",
       "    <tr>\n",
       "      <th>3578067</th>\n",
       "      <td>I've not personally had the bad experiences th...</td>\n",
       "      <td>4</td>\n",
       "    </tr>\n",
       "    <tr>\n",
       "      <th>424533</th>\n",
       "      <td>Dive bar.\\nNew ownership has improved the menu...</td>\n",
       "      <td>3</td>\n",
       "    </tr>\n",
       "    <tr>\n",
       "      <th>28275</th>\n",
       "      <td>This place is so addicting, good vegan options...</td>\n",
       "      <td>5</td>\n",
       "    </tr>\n",
       "    <tr>\n",
       "      <th>2949771</th>\n",
       "      <td>What is not to love about Wingfield Park, down...</td>\n",
       "      <td>5</td>\n",
       "    </tr>\n",
       "    <tr>\n",
       "      <th>4098612</th>\n",
       "      <td>I'm NOT OK! I just paid $60 w/tip for a less t...</td>\n",
       "      <td>2</td>\n",
       "    </tr>\n",
       "  </tbody>\n",
       "</table>\n",
       "<p>5592224 rows × 2 columns</p>\n",
       "</div>"
      ],
      "text/plain": [
       "                                                      text  stars\n",
       "2903612  I like Wedding Belles for an odd reason. I set...      5\n",
       "5050964  We had a great stay here. I felt like we got a...      5\n",
       "1226557  A unique place for sure, not your standard bre...      3\n",
       "776083   This will be a short review on service and gri...      4\n",
       "227582   Great barbershop. Super friendly staff. They a...      5\n",
       "...                                                    ...    ...\n",
       "3578067  I've not personally had the bad experiences th...      4\n",
       "424533   Dive bar.\\nNew ownership has improved the menu...      3\n",
       "28275    This place is so addicting, good vegan options...      5\n",
       "2949771  What is not to love about Wingfield Park, down...      5\n",
       "4098612  I'm NOT OK! I just paid $60 w/tip for a less t...      2\n",
       "\n",
       "[5592224 rows x 2 columns]"
      ]
     },
     "execution_count": 6,
     "metadata": {},
     "output_type": "execute_result"
    }
   ],
   "source": [
    "train"
   ]
  },
  {
   "cell_type": "markdown",
   "id": "05965e48",
   "metadata": {},
   "source": [
    "##### Save Target"
   ]
  },
  {
   "cell_type": "code",
   "execution_count": 7,
   "id": "9d6ae318",
   "metadata": {},
   "outputs": [],
   "source": [
    "# Save reviews stars from 0-4\n",
    "y_train = tf.convert_to_tensor(train[\"stars\"].values - 1)\n",
    "y_test = tf.convert_to_tensor(test[\"stars\"].values - 1)"
   ]
  },
  {
   "cell_type": "markdown",
   "id": "d4fd8d22",
   "metadata": {},
   "source": [
    "# Preprocess"
   ]
  },
  {
   "cell_type": "code",
   "execution_count": 10,
   "id": "c5230aed",
   "metadata": {
    "scrolled": true
   },
   "outputs": [],
   "source": [
    "batch_size = 4000\n",
    "n_processes = 4\n",
    "\n",
    "maxlen = 200         # Number of words per review to consider\n",
    "vocab_size = 20_000  # Size of vocabulary\n",
    "\n",
    "prep_path = f\"experiments/preprocessors/final.pickle\""
   ]
  },
  {
   "cell_type": "markdown",
   "id": "a7579d78",
   "metadata": {},
   "source": [
    "##### Load from raw data"
   ]
  },
  {
   "cell_type": "markdown",
   "id": "a5543a7d",
   "metadata": {},
   "source": [
    "> Preprocess from scratch. Takes a long time!"
   ]
  },
  {
   "cell_type": "code",
   "execution_count": 12,
   "id": "792e976d",
   "metadata": {},
   "outputs": [
    {
     "name": "stdout",
     "output_type": "stream",
     "text": [
      "CPU times: total: 1h 23min 24s\n",
      "Wall time: 3h 10min 1s\n"
     ]
    }
   ],
   "source": [
    "%%time\n",
    "# Configure preprocessor based on comparison\n",
    "prep = ReviewPreprocessor(vocab_size, maxlen, remove_stop=False, remove_punc=False, lemmatize=False)\n",
    "\n",
    "# Preprocess text\n",
    "X_train_norm = prep.normalize(train[\"text\"], batch_size, n_processes)\n",
    "X_test_norm = prep.normalize(test[\"text\"], batch_size, n_processes)\n",
    "\n",
    "# Fit tokenizer\n",
    "prep.fit_tokenizer(X_train_norm)\n",
    "\n",
    "# Convert to tensor of padded sequences\n",
    "X_train = prep.to_tensor(X_train_norm)\n",
    "X_test = prep.to_tensor(X_test_norm)"
   ]
  },
  {
   "cell_type": "code",
   "execution_count": 13,
   "id": "6e9d924b",
   "metadata": {},
   "outputs": [
    {
     "name": "stdout",
     "output_type": "stream",
     "text": [
      "CPU times: total: 49min 21s\n",
      "Wall time: 51min 20s\n"
     ]
    }
   ],
   "source": [
    "%%time\n",
    "# Save results\n",
    "pd.Series(X_train_norm).to_pickle(path + \"train_prep.xz\")\n",
    "pd.Series(X_test_norm).to_pickle(path + \"test_prep.xz\")\n",
    "prep.save_as_pickle(prep_path)"
   ]
  },
  {
   "cell_type": "markdown",
   "id": "95336c9d",
   "metadata": {},
   "source": [
    "##### Load already preprocessed data"
   ]
  },
  {
   "cell_type": "markdown",
   "id": "a68d2e2b",
   "metadata": {},
   "source": [
    "> Load already preprocessed data. Takes a bit."
   ]
  },
  {
   "cell_type": "code",
   "execution_count": 11,
   "id": "0ac2d207",
   "metadata": {},
   "outputs": [
    {
     "name": "stdout",
     "output_type": "stream",
     "text": [
      "CPU times: total: 9min 22s\n",
      "Wall time: 11min 48s\n"
     ]
    }
   ],
   "source": [
    "%%time\n",
    "# Load preprocessed\n",
    "X_train_norm = pd.read_pickle(path + \"train_prep.xz\")\n",
    "X_test_norm = pd.read_pickle(path + \"test_prep.xz\")\n",
    "\n",
    "# Load preprocessor\n",
    "prep = ReviewPreprocessor.load_from_pickle(prep_path)\n",
    "\n",
    "# Convert to tensor of padded sequences\n",
    "X_train = prep.to_tensor(X_train_norm)\n",
    "X_test = prep.to_tensor(X_test_norm)"
   ]
  },
  {
   "cell_type": "markdown",
   "id": "30c330b0",
   "metadata": {},
   "source": [
    "---"
   ]
  },
  {
   "cell_type": "markdown",
   "id": "8f0385e8",
   "metadata": {},
   "source": [
    "##### View Before and After Preprocessing"
   ]
  },
  {
   "cell_type": "code",
   "execution_count": 12,
   "id": "d3c8d426",
   "metadata": {},
   "outputs": [
    {
     "name": "stdout",
     "output_type": "stream",
     "text": [
      "Ordered through grub hub, food came half an hour past the maximum delivery window. A simple breakfast order took 90 minutes to get to me, and the potatoes were half raw. Delivery timing may not have been the restaurant's fault, but the undercooked food was.\n",
      "\n",
      "Delivery fee is actually $3.99, NOT $0 as posted on yelp\n",
      "\n",
      " - - - - \n",
      "\n",
      "['ordered', 'through', 'grub', 'hub', ',', 'food', 'came', 'TIME', 'TIME', 'TIME', 'past', 'the', 'maximum', 'delivery', 'window', '.', 'a', 'simple', 'breakfast', 'order', 'took', '90', 'e0', 'TIME', 'to', 'get', 'to', 'me', ',', 'and', 'the', 'potatoes', 'were', 'CARDINAL', 'raw', '.', 'delivery', 'timing', 'may', 'not', 'have', 'been', 'the', 'restaurant', \"'\", 's', 'fault', ',', 'but', 'the', 'undercooked', 'food', 'was', '.', 'delivery', 'fee', 'is', 'actually', '$', '3', 'e0', '.', '99', 'e0', ',', 'not', '$', '0', 'e0', 'as', 'posted', 'on', 'yelp'] 73\n",
      "\n",
      " - - - - \n",
      "\n",
      "tf.Tensor(\n",
      "[ 104  290 3711 5009    4   38  115   23   23   23  783    2 7513  593\n",
      "  900    1    6  690  274  110  181 1636   20   23    7   62    7   50\n",
      "    4    3    2  631   35   43 1250    1  593 3380  466   31   33   81\n",
      "    2  117    9   34 1454    4   28    2 2268   38    8    1  593 1282\n",
      "   14  331  125  178   20    1 1257   20    4   31  125 1744   20   47\n",
      " 1929   29 1031    0    0    0    0    0    0    0    0    0    0    0\n",
      "    0    0    0    0    0    0    0    0    0    0    0    0    0    0\n",
      "    0    0    0    0    0    0    0    0    0    0    0    0    0    0\n",
      "    0    0    0    0    0    0    0    0    0    0    0    0    0    0\n",
      "    0    0    0    0    0    0    0    0    0    0    0    0    0    0\n",
      "    0    0    0    0    0    0    0    0    0    0    0    0    0    0\n",
      "    0    0    0    0    0    0    0    0    0    0    0    0    0    0\n",
      "    0    0    0    0    0    0    0    0    0    0    0    0    0    0\n",
      "    0    0    0    0    0    0    0    0    0    0    0    0    0    0\n",
      "    0    0    0    0], shape=(200,), dtype=int32)\n"
     ]
    }
   ],
   "source": [
    "print_idx = 8\n",
    "print(test[\"text\"].iloc[print_idx])\n",
    "print(\"\\n - - - - \\n\")\n",
    "print(X_test_norm[print_idx], len(X_test_norm[print_idx]))\n",
    "print(\"\\n - - - - \\n\")\n",
    "print(X_test[print_idx])"
   ]
  },
  {
   "cell_type": "markdown",
   "id": "f9839669",
   "metadata": {},
   "source": [
    "# Model"
   ]
  },
  {
   "cell_type": "markdown",
   "id": "2de79d55",
   "metadata": {},
   "source": [
    "* Reference https://keras.io/examples/nlp/text_classification_with_transformer/"
   ]
  },
  {
   "cell_type": "markdown",
   "id": "e25eea7b",
   "metadata": {},
   "source": [
    "##### Create Model"
   ]
  },
  {
   "cell_type": "code",
   "execution_count": 13,
   "id": "01d66238",
   "metadata": {},
   "outputs": [],
   "source": [
    "# Hyperparameters\n",
    "embed_dim = 32  # Attention output size\n",
    "num_heads = 2   # Number of attention heads\n",
    "ff_dims = [32]  # Hidden layer sizes in feed forward network inside transformer\n",
    "reg = 1.0e-2    # L2 Reg based on comparison\n",
    "dropout = 0.3   # Dropout based on comparison\n",
    "\n",
    "# Model\n",
    "model = ReviewClassifier(maxlen, vocab_size, embed_dim, num_heads, ff_dims, reg, dropout)"
   ]
  },
  {
   "cell_type": "code",
   "execution_count": 14,
   "id": "26dd94ca",
   "metadata": {},
   "outputs": [
    {
     "name": "stdout",
     "output_type": "stream",
     "text": [
      "1/1 [==============================] - 2s 2s/step\n"
     ]
    },
    {
     "data": {
      "text/plain": [
       "array([[0.15694028, 0.19558105, 0.1585571 , 0.24361321, 0.24530843],\n",
       "       [0.1702983 , 0.21328758, 0.07838115, 0.31940526, 0.21862768],\n",
       "       [0.14197375, 0.205456  , 0.03435435, 0.40518376, 0.21303208],\n",
       "       [0.15400489, 0.18007413, 0.12180891, 0.27932695, 0.26478514],\n",
       "       [0.14453752, 0.20823543, 0.03128969, 0.40455407, 0.21138325]],\n",
       "      dtype=float32)"
      ]
     },
     "execution_count": 14,
     "metadata": {},
     "output_type": "execute_result"
    }
   ],
   "source": [
    "model.predict(X_train[:5])"
   ]
  },
  {
   "cell_type": "markdown",
   "id": "5513f0e0",
   "metadata": {},
   "source": [
    "##### Compile and Run"
   ]
  },
  {
   "cell_type": "code",
   "execution_count": 15,
   "id": "395ff48e",
   "metadata": {},
   "outputs": [],
   "source": [
    "learning_rate = 1e-3\n",
    "\n",
    "model.compile(optimizer=keras.optimizers.Adam(learning_rate), \n",
    "              loss=\"sparse_categorical_crossentropy\", metrics=[\"accuracy\"])\n",
    "\n",
    "model.build(X_train.shape)"
   ]
  },
  {
   "cell_type": "code",
   "execution_count": 16,
   "id": "39281a41",
   "metadata": {},
   "outputs": [
    {
     "name": "stdout",
     "output_type": "stream",
     "text": [
      "Model: \"review_classifier\"\n",
      "_________________________________________________________________\n",
      " Layer (type)                Output Shape              Param #   \n",
      "=================================================================\n",
      " t_emb (Embedding)           multiple                  640000    \n",
      "                                                                 \n",
      " p_emb (Embedding)           multiple                  6400      \n",
      "                                                                 \n",
      " attention (MultiHeadAttenti  multiple                 8416      \n",
      " on)                                                             \n",
      "                                                                 \n",
      " sequential (Sequential)     (None, 200, 32)           1056      \n",
      "                                                                 \n",
      " layer_normalization (LayerN  multiple                 64        \n",
      " ormalization)                                                   \n",
      "                                                                 \n",
      " layer_normalization_1 (Laye  multiple                 64        \n",
      " rNormalization)                                                 \n",
      "                                                                 \n",
      " dropout (Dropout)           multiple                  0         \n",
      "                                                                 \n",
      " dropout_1 (Dropout)         multiple                  0         \n",
      "                                                                 \n",
      " global_average_pooling1d (G  multiple                 0         \n",
      " lobalAveragePooling1D)                                          \n",
      "                                                                 \n",
      " dropout_2 (Dropout)         multiple                  0         \n",
      "                                                                 \n",
      " dense_1 (Dense)             multiple                  660       \n",
      "                                                                 \n",
      " dropout_3 (Dropout)         multiple                  0         \n",
      "                                                                 \n",
      " dense_2 (Dense)             multiple                  105       \n",
      "                                                                 \n",
      "=================================================================\n",
      "Total params: 656,765\n",
      "Trainable params: 656,765\n",
      "Non-trainable params: 0\n",
      "_________________________________________________________________\n"
     ]
    }
   ],
   "source": [
    "model.summary()"
   ]
  },
  {
   "cell_type": "code",
   "execution_count": 17,
   "id": "b0246e1a",
   "metadata": {
    "scrolled": true
   },
   "outputs": [
    {
     "name": "stdout",
     "output_type": "stream",
     "text": [
      "Epoch 1/10\n",
      "174746/174757 [============================>.] - ETA: 0s - loss: 0.7670 - accuracy: 0.6843\n",
      "Epoch 1: val_loss improved from inf to 0.72302, saving model to experiments/model_checkpoints\\final.ckpt\n"
     ]
    },
    {
     "name": "stderr",
     "output_type": "stream",
     "text": [
      "WARNING:absl:Found untraced functions such as query_layer_call_fn, query_layer_call_and_return_conditional_losses, key_layer_call_fn, key_layer_call_and_return_conditional_losses, value_layer_call_fn while saving (showing 5 of 12). These functions will not be directly callable after loading.\n"
     ]
    },
    {
     "name": "stdout",
     "output_type": "stream",
     "text": [
      "INFO:tensorflow:Assets written to: experiments/model_checkpoints\\final.ckpt\\assets\n"
     ]
    },
    {
     "name": "stderr",
     "output_type": "stream",
     "text": [
      "INFO:tensorflow:Assets written to: experiments/model_checkpoints\\final.ckpt\\assets\n"
     ]
    },
    {
     "name": "stdout",
     "output_type": "stream",
     "text": [
      "174757/174757 [==============================] - 641s 4ms/step - loss: 0.7670 - accuracy: 0.6843 - val_loss: 0.7230 - val_accuracy: 0.6957\n",
      "Epoch 2/10\n",
      "174743/174757 [============================>.] - ETA: 0s - loss: 0.7379 - accuracy: 0.6952\n",
      "Epoch 2: val_loss improved from 0.72302 to 0.71096, saving model to experiments/model_checkpoints\\final.ckpt\n"
     ]
    },
    {
     "name": "stderr",
     "output_type": "stream",
     "text": [
      "WARNING:absl:Found untraced functions such as query_layer_call_fn, query_layer_call_and_return_conditional_losses, key_layer_call_fn, key_layer_call_and_return_conditional_losses, value_layer_call_fn while saving (showing 5 of 12). These functions will not be directly callable after loading.\n"
     ]
    },
    {
     "name": "stdout",
     "output_type": "stream",
     "text": [
      "INFO:tensorflow:Assets written to: experiments/model_checkpoints\\final.ckpt\\assets\n"
     ]
    },
    {
     "name": "stderr",
     "output_type": "stream",
     "text": [
      "INFO:tensorflow:Assets written to: experiments/model_checkpoints\\final.ckpt\\assets\n"
     ]
    },
    {
     "name": "stdout",
     "output_type": "stream",
     "text": [
      "174757/174757 [==============================] - 650s 4ms/step - loss: 0.7379 - accuracy: 0.6952 - val_loss: 0.7110 - val_accuracy: 0.7032\n",
      "Epoch 3/10\n",
      "174746/174757 [============================>.] - ETA: 0s - loss: 0.7291 - accuracy: 0.6990\n",
      "Epoch 3: val_loss improved from 0.71096 to 0.70973, saving model to experiments/model_checkpoints\\final.ckpt\n"
     ]
    },
    {
     "name": "stderr",
     "output_type": "stream",
     "text": [
      "WARNING:absl:Found untraced functions such as query_layer_call_fn, query_layer_call_and_return_conditional_losses, key_layer_call_fn, key_layer_call_and_return_conditional_losses, value_layer_call_fn while saving (showing 5 of 12). These functions will not be directly callable after loading.\n"
     ]
    },
    {
     "name": "stdout",
     "output_type": "stream",
     "text": [
      "INFO:tensorflow:Assets written to: experiments/model_checkpoints\\final.ckpt\\assets\n"
     ]
    },
    {
     "name": "stderr",
     "output_type": "stream",
     "text": [
      "INFO:tensorflow:Assets written to: experiments/model_checkpoints\\final.ckpt\\assets\n"
     ]
    },
    {
     "name": "stdout",
     "output_type": "stream",
     "text": [
      "174757/174757 [==============================] - 647s 4ms/step - loss: 0.7291 - accuracy: 0.6990 - val_loss: 0.7097 - val_accuracy: 0.7006\n",
      "Epoch 4/10\n",
      "174748/174757 [============================>.] - ETA: 0s - loss: 0.7238 - accuracy: 0.7013\n",
      "Epoch 4: val_loss did not improve from 0.70973\n",
      "174757/174757 [==============================] - 656s 4ms/step - loss: 0.7238 - accuracy: 0.7013 - val_loss: 0.7125 - val_accuracy: 0.7020\n",
      "Epoch 5/10\n",
      "174749/174757 [============================>.] - ETA: 0s - loss: 0.7201 - accuracy: 0.7028\n",
      "Epoch 5: val_loss improved from 0.70973 to 0.70266, saving model to experiments/model_checkpoints\\final.ckpt\n"
     ]
    },
    {
     "name": "stderr",
     "output_type": "stream",
     "text": [
      "WARNING:absl:Found untraced functions such as query_layer_call_fn, query_layer_call_and_return_conditional_losses, key_layer_call_fn, key_layer_call_and_return_conditional_losses, value_layer_call_fn while saving (showing 5 of 12). These functions will not be directly callable after loading.\n"
     ]
    },
    {
     "name": "stdout",
     "output_type": "stream",
     "text": [
      "INFO:tensorflow:Assets written to: experiments/model_checkpoints\\final.ckpt\\assets\n"
     ]
    },
    {
     "name": "stderr",
     "output_type": "stream",
     "text": [
      "INFO:tensorflow:Assets written to: experiments/model_checkpoints\\final.ckpt\\assets\n"
     ]
    },
    {
     "name": "stdout",
     "output_type": "stream",
     "text": [
      "174757/174757 [==============================] - 659s 4ms/step - loss: 0.7201 - accuracy: 0.7028 - val_loss: 0.7027 - val_accuracy: 0.7057\n",
      "Epoch 6/10\n",
      "174747/174757 [============================>.] - ETA: 0s - loss: 0.7175 - accuracy: 0.7038\n",
      "Epoch 6: val_loss did not improve from 0.70266\n",
      "174757/174757 [==============================] - 659s 4ms/step - loss: 0.7175 - accuracy: 0.7038 - val_loss: 0.7156 - val_accuracy: 0.6964\n",
      "Epoch 7/10\n",
      "174750/174757 [============================>.] - ETA: 0s - loss: 0.7159 - accuracy: 0.7047\n",
      "Epoch 7: val_loss improved from 0.70266 to 0.70145, saving model to experiments/model_checkpoints\\final.ckpt\n"
     ]
    },
    {
     "name": "stderr",
     "output_type": "stream",
     "text": [
      "WARNING:absl:Found untraced functions such as query_layer_call_fn, query_layer_call_and_return_conditional_losses, key_layer_call_fn, key_layer_call_and_return_conditional_losses, value_layer_call_fn while saving (showing 5 of 12). These functions will not be directly callable after loading.\n"
     ]
    },
    {
     "name": "stdout",
     "output_type": "stream",
     "text": [
      "INFO:tensorflow:Assets written to: experiments/model_checkpoints\\final.ckpt\\assets\n"
     ]
    },
    {
     "name": "stderr",
     "output_type": "stream",
     "text": [
      "INFO:tensorflow:Assets written to: experiments/model_checkpoints\\final.ckpt\\assets\n"
     ]
    },
    {
     "name": "stdout",
     "output_type": "stream",
     "text": [
      "174757/174757 [==============================] - 666s 4ms/step - loss: 0.7159 - accuracy: 0.7047 - val_loss: 0.7015 - val_accuracy: 0.7029\n",
      "Epoch 8/10\n",
      "174744/174757 [============================>.] - ETA: 0s - loss: 0.7148 - accuracy: 0.7050\n",
      "Epoch 8: val_loss did not improve from 0.70145\n",
      "174757/174757 [==============================] - 665s 4ms/step - loss: 0.7148 - accuracy: 0.7050 - val_loss: 0.7052 - val_accuracy: 0.7047\n",
      "Epoch 9/10\n",
      "174746/174757 [============================>.] - ETA: 0s - loss: 0.7141 - accuracy: 0.7054\n",
      "Epoch 9: val_loss did not improve from 0.70145\n",
      "174757/174757 [==============================] - 666s 4ms/step - loss: 0.7141 - accuracy: 0.7054 - val_loss: 0.7026 - val_accuracy: 0.7049\n",
      "Epoch 10/10\n",
      "174751/174757 [============================>.] - ETA: 0s - loss: 0.7136 - accuracy: 0.7054\n",
      "Epoch 10: val_loss did not improve from 0.70145\n",
      "174757/174757 [==============================] - 644s 4ms/step - loss: 0.7136 - accuracy: 0.7054 - val_loss: 0.7052 - val_accuracy: 0.7067\n",
      "CPU times: total: 2h 23min 41s\n",
      "Wall time: 1h 49min 13s\n"
     ]
    }
   ],
   "source": [
    "%%time\n",
    "# Train model\n",
    "epochs = 10\n",
    "cp_path = \"experiments/model_checkpoints/\"\n",
    "\n",
    "# Early stopping \n",
    "early_stopping = tf.keras.callbacks.EarlyStopping(monitor=\"val_loss\", patience=3)\n",
    "\n",
    "# Create a callback that saves the model's weights\n",
    "checkpoint_dir = os.path.dirname(cp_path)\n",
    "create_checkpoint = tf.keras.callbacks.ModelCheckpoint(\n",
    "    filepath=cp_path + f\"final.ckpt\", monitor=\"val_loss\", verbose=1, save_best_only=True)\n",
    "\n",
    "history = model.fit(\n",
    "    X_train, y_train, batch_size=32, epochs=epochs, validation_data=(X_test, y_test),\n",
    "    callbacks=[early_stopping, create_checkpoint], verbose=1,\n",
    ")"
   ]
  },
  {
   "cell_type": "code",
   "execution_count": 58,
   "id": "3a97d3fe",
   "metadata": {},
   "outputs": [],
   "source": [
    "# Save history\n",
    "with open('experiments/results/final_modelling_history.pickle', 'wb') as handle:\n",
    "    pickle.dump(history.history, handle)"
   ]
  },
  {
   "cell_type": "code",
   "execution_count": 54,
   "id": "834455e6",
   "metadata": {},
   "outputs": [
    {
     "name": "stderr",
     "output_type": "stream",
     "text": [
      "WARNING:absl:Found untraced functions such as query_layer_call_fn, query_layer_call_and_return_conditional_losses, key_layer_call_fn, key_layer_call_and_return_conditional_losses, value_layer_call_fn while saving (showing 5 of 12). These functions will not be directly callable after loading.\n"
     ]
    },
    {
     "name": "stdout",
     "output_type": "stream",
     "text": [
      "INFO:tensorflow:Assets written to: experiments/models/final_model\\assets\n"
     ]
    },
    {
     "name": "stderr",
     "output_type": "stream",
     "text": [
      "INFO:tensorflow:Assets written to: experiments/models/final_model\\assets\n"
     ]
    }
   ],
   "source": [
    "# Save model\n",
    "model.save(\"experiments/models/final_model\")"
   ]
  },
  {
   "cell_type": "markdown",
   "id": "ce16b3cb",
   "metadata": {},
   "source": [
    "# Evaluate"
   ]
  },
  {
   "cell_type": "code",
   "execution_count": 59,
   "id": "1c8fcd3e",
   "metadata": {},
   "outputs": [],
   "source": [
    "# Load history\n",
    "with open('experiments/results/final_modelling_history.pickle', 'rb') as handle:\n",
    "    test = pickle.load(handle)"
   ]
  },
  {
   "cell_type": "code",
   "execution_count": 52,
   "id": "fa80980d",
   "metadata": {},
   "outputs": [
    {
     "data": {
      "image/png": "[encoded data removed]",
      "text/plain": [
       "<Figure size 400x850 with 2 Axes>"
      ]
     },
     "metadata": {},
     "output_type": "display_data"
    }
   ],
   "source": [
    "hist = history.history\n",
    "loss, val_loss = hist[\"loss\"], hist[\"val_loss\"]\n",
    "acc, val_acc = hist[\"accuracy\"], hist[\"val_accuracy\"]\n",
    "\n",
    "fig, axes = plt.subplots(2, 1, figsize=(4, 8.5), dpi=100)\n",
    "\n",
    "axes[0].plot(loss, label=\"Train Loss\")\n",
    "axes[0].plot(val_loss, label=\"Validation Loss\")\n",
    "axes[0].axhline(min(val_loss), linestyle=\":\", label=\"Min. Validation Loss\", color=\"grey\")\n",
    "axes[0].set_xlabel(\"Epoch\")\n",
    "axes[0].set_ylabel(\"Loss\")\n",
    "axes[0].set_title(\"Final Modelling Loss\")\n",
    "axes[0].legend()\n",
    "\n",
    "axes[1].plot(acc, label=\"Train Accuracy\")\n",
    "axes[1].plot(val_acc, label=\"Validation Accuracy\")\n",
    "axes[1].axhline(max(val_acc), linestyle=\":\", label=\"Max. Validation Accuracy\", color=\"grey\")\n",
    "axes[1].set_xlabel(\"Epoch\")\n",
    "axes[1].set_ylabel(\"Accuracy\")\n",
    "axes[1].set_title(\"Final Modelling Accuracy\")\n",
    "axes[1].legend()\n",
    "\n",
    "plt.subplots_adjust(hspace=0.35)\n",
    "\n",
    "plt.show()"
   ]
  },
  {
   "cell_type": "markdown",
   "id": "f989e506",
   "metadata": {},
   "source": [
    "##### Evaluate"
   ]
  },
  {
   "cell_type": "code",
   "execution_count": 61,
   "id": "4aab1fad",
   "metadata": {},
   "outputs": [
    {
     "name": "stdout",
     "output_type": "stream",
     "text": [
      "21845/21845 [==============================] - 200s 9ms/step\n"
     ]
    }
   ],
   "source": [
    "# Get probabilities per class\n",
    "y_pred = model.predict(X_test)"
   ]
  },
  {
   "cell_type": "code",
   "execution_count": 62,
   "id": "5f8ece44",
   "metadata": {},
   "outputs": [],
   "source": [
    "# Get star predictions and negative/positive predictions\n",
    "y_pred_multi = tf.argmax(y_pred, axis=1)"
   ]
  },
  {
   "cell_type": "code",
   "execution_count": 53,
   "id": "a540289f",
   "metadata": {},
   "outputs": [
    {
     "data": {
      "text/plain": [
       "<tf.Tensor: shape=(699028,), dtype=float64, numpy=\n",
       "array([3.91745288, 3.82218743, 0.09109641, ..., 3.96920484, 3.10105394,\n",
       "       3.89718001])>"
      ]
     },
     "execution_count": 53,
     "metadata": {},
     "output_type": "execute_result"
    }
   ],
   "source": [
    "# Calculate continuous star rating based on probabilities\n",
    "star_reg = tf.reduce_sum(y_pred * np.array([0, 1, 2, 3, 4]), axis=1)\n",
    "star_reg"
   ]
  },
  {
   "cell_type": "code",
   "execution_count": 54,
   "id": "10bac6eb",
   "metadata": {},
   "outputs": [],
   "source": [
    "# Determine if sentiment is negative or postiive\n",
    "y_pred_binary = star_reg > 2"
   ]
  },
  {
   "cell_type": "code",
   "execution_count": 55,
   "id": "458f93b5",
   "metadata": {},
   "outputs": [
    {
     "name": "stdout",
     "output_type": "stream",
     "text": [
      "multi-class accuracy: 0.6949950502698032\n",
      "(compare to ~0.2)\n"
     ]
    }
   ],
   "source": [
    "print(\"multi-class accuracy: \" + str((y_pred_multi == y_test).numpy().sum() / len(y_test)))\n",
    "print(\"(compare to ~0.2)\")"
   ]
  },
  {
   "cell_type": "code",
   "execution_count": 56,
   "id": "6526ece6",
   "metadata": {},
   "outputs": [
    {
     "name": "stdout",
     "output_type": "stream",
     "text": [
      "binary accuracy: 0.9059236539881093\n",
      "(compare to ~0.5)\n"
     ]
    }
   ],
   "source": [
    "print(\"binary accuracy: \" + str((y_pred_binary == (y_test >= 3)).numpy().sum() / len(y_test)))\n",
    "print(\"(compare to ~0.5)\")"
   ]
  },
  {
   "cell_type": "code",
   "execution_count": 57,
   "id": "701bc09d",
   "metadata": {},
   "outputs": [
    {
     "name": "stdout",
     "output_type": "stream",
     "text": [
      "Average of 0.3809 stars off\n"
     ]
    }
   ],
   "source": [
    "avg_err = tf.reduce_sum(tf.math.abs(y_test - y_pred_multi)) / len(y_test)\n",
    "avg_err = avg_err.numpy()\n",
    "print(f\"Average of {avg_err:.4f} stars off\")"
   ]
  },
  {
   "cell_type": "markdown",
   "id": "f9dd5601",
   "metadata": {},
   "source": [
    "##### Visualize Attention"
   ]
  },
  {
   "cell_type": "code",
   "execution_count": 58,
   "id": "79f640f9",
   "metadata": {
    "scrolled": true
   },
   "outputs": [
    {
     "data": {
      "text/plain": [
       "<tf.Tensor: shape=(100, 200), dtype=float32, numpy=\n",
       "array([[0.04983199, 0.        , 0.03516538, ..., 0.        , 0.        ,\n",
       "        0.        ],\n",
       "       [0.00950472, 0.20049529, 0.005     , ..., 0.        , 0.        ,\n",
       "        0.        ],\n",
       "       [0.07      , 0.27999842, 0.        , ..., 0.        , 0.        ,\n",
       "        0.        ],\n",
       "       ...,\n",
       "       [0.025     , 0.08984116, 0.        , ..., 0.        , 0.        ,\n",
       "        0.        ],\n",
       "       [0.005     , 0.03      , 0.07      , ..., 0.        , 0.        ,\n",
       "        0.        ],\n",
       "       [0.135     , 0.17285107, 0.        , ..., 0.        , 0.        ,\n",
       "        0.        ]], dtype=float32)>"
      ]
     },
     "execution_count": 58,
     "metadata": {},
     "output_type": "execute_result"
    }
   ],
   "source": [
    "# Get attention scores\n",
    "_, attns = model(X_test[:100], return_att=True)\n",
    "\n",
    "# Get attention for each sample\n",
    "attns = tf.reduce_mean(attns, axis=2)[:, 0, :]\n",
    "attns"
   ]
  },
  {
   "cell_type": "code",
   "execution_count": 59,
   "id": "b2c9f538",
   "metadata": {},
   "outputs": [
    {
     "data": {
      "text/plain": [
       "<tf.Tensor: shape=(34,), dtype=float32, numpy=\n",
       "array([4.98319902e-02, 0.00000000e+00, 3.51653807e-02, 5.75425662e-02,\n",
       "       1.99999996e-02, 1.98365208e-02, 3.50033864e-02, 0.00000000e+00,\n",
       "       1.99999996e-02, 0.00000000e+00, 0.00000000e+00, 9.99999978e-03,\n",
       "       0.00000000e+00, 0.00000000e+00, 4.99999989e-03, 0.00000000e+00,\n",
       "       0.00000000e+00, 6.46237913e-06, 0.00000000e+00, 9.99999978e-03,\n",
       "       6.28405600e-04, 0.00000000e+00, 3.43715958e-02, 0.00000000e+00,\n",
       "       3.89999241e-01, 0.00000000e+00, 2.74574328e-02, 0.00000000e+00,\n",
       "       9.99999978e-03, 0.00000000e+00, 0.00000000e+00, 0.00000000e+00,\n",
       "       1.00017525e-02, 1.50034457e-01], dtype=float32)>"
      ]
     },
     "execution_count": 59,
     "metadata": {},
     "output_type": "execute_result"
    }
   ],
   "source": [
    "attns[0][:34]"
   ]
  },
  {
   "cell_type": "code",
   "execution_count": 66,
   "id": "153958bb",
   "metadata": {
    "scrolled": false
   },
   "outputs": [
    {
     "name": "stdout",
     "output_type": "stream",
     "text": [
      "<Original Text>\n",
      "This place is NOT closed.  We went there on 18 August 2017.  Great, great corned beef and pastrami sandwich, the Bains special.  Also wonderful Italian sub and tuna sandwich.  Our picky son, who eats nothing, actually ate a third of his sister's sandwich.  One of the best lunches we've had in a long time.  Really nice staff and not a bad price.\n",
      "\n",
      "<Preprocessed>\n",
      "['place', 'close', 'go', '18', 'e0', 'date', '20', 'e2', 'great', 'great', 'corned', 'beef', 'pastrami', 'sandwich', 'norp', 'special', 'wonderful', 'norp', 'sub', 'tuna', 'sandwich', 'picky', 'son', 'eat', 'actually', 'eat', 'ordinal', 'sister', \"'\", 's', 'sandwich', 'cardinal', 'good', 'lunch', \"'\", 've', 'long', 'time', 'nice', 'staff', 'bad', 'price']\n"
     ]
    },
    {
     "data": {
      "image/png": "[encoded data removed]",
      "text/plain": [
       "<Figure size 600x840 with 1 Axes>"
      ]
     },
     "metadata": {},
     "output_type": "display_data"
    }
   ],
   "source": [
    "sample_idx = 6\n",
    "\n",
    "# Get word sequences without oov words\n",
    "in_seq = X_test_norm[sample_idx]\n",
    "in_seq = [tok for tok in prep.tokenizer.sequences_to_texts(prep.tokenizer.texts_to_sequences(in_seq)) if tok]\n",
    "seq_len = len(in_seq)\n",
    "\n",
    "# Get attention values\n",
    "attn_vals = attns[sample_idx][:seq_len].numpy()\n",
    "\n",
    "print(\"<Original Text>\")\n",
    "print(test[\"text\"].iloc[sample_idx])\n",
    "\n",
    "print(\"\\n<Preprocessed>\")\n",
    "print(in_seq)\n",
    "\n",
    "plt.figure(figsize=(6, 0.2 * seq_len), dpi=100)\n",
    "sns.barplot(y=in_seq, x=attn_vals, ci=None, color=\"orange\")\n",
    "\n",
    "plt.show()"
   ]
  }
 ],
 "metadata": {
  "kernelspec": {
   "display_name": "Python [conda env:tf-gpu]",
   "language": "python",
   "name": "conda-env-tf-gpu-py"
  },
  "language_info": {
   "codemirror_mode": {
    "name": "ipython",
    "version": 3
   },
   "file_extension": ".py",
   "mimetype": "text/x-python",
   "name": "python",
   "nbconvert_exporter": "python",
   "pygments_lexer": "ipython3",
   "version": "3.10.4"
  }
 },
 "nbformat": 4,
 "nbformat_minor": 5
}

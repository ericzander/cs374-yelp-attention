{
 "cells": [
  {
   "cell_type": "markdown",
   "id": "bd318293",
   "metadata": {},
   "source": [
    "---"
   ]
  },
  {
   "cell_type": "markdown",
   "id": "93fb8d86",
   "metadata": {},
   "source": [
    "# Setup"
   ]
  },
  {
   "cell_type": "markdown",
   "id": "55c4193f",
   "metadata": {},
   "source": [
    "##### Set Root Dir as CWD"
   ]
  },
  {
   "cell_type": "code",
   "execution_count": 6,
   "id": "7d88d86d",
   "metadata": {},
   "outputs": [],
   "source": [
    "import os\n",
    "\n",
    "# Navigate to project root (if not already there)\n",
    "if os.path.split(os.getcwd())[1] != \"cs374-project\":\n",
    "    %cd ../"
   ]
  },
  {
   "cell_type": "markdown",
   "id": "ebf5af2e",
   "metadata": {},
   "source": [
    "##### Imports"
   ]
  },
  {
   "cell_type": "code",
   "execution_count": 7,
   "id": "f8dbe9fb",
   "metadata": {},
   "outputs": [],
   "source": [
    "import pickle\n",
    "\n",
    "import numpy as np\n",
    "import pandas as pd\n",
    "\n",
    "import spacy\n",
    "\n",
    "from sklearn.model_selection import train_test_split\n",
    "\n",
    "import tensorflow as tf\n",
    "from tensorflow import keras\n",
    "from tensorflow.keras import layers\n",
    "\n",
    "import matplotlib.pyplot as plt\n",
    "import seaborn as sns\n",
    "sns.set_theme()\n",
    "\n",
    "# Local\n",
    "from src.preprocesser import ReviewPreprocessor\n",
    "from src.model import ReviewClassifier"
   ]
  },
  {
   "cell_type": "markdown",
   "id": "3ef923cc",
   "metadata": {},
   "source": [
    "# Load"
   ]
  },
  {
   "cell_type": "code",
   "execution_count": 8,
   "id": "71b0f0cf",
   "metadata": {},
   "outputs": [],
   "source": [
    "path = \"data/yelp/reviews/\""
   ]
  },
  {
   "cell_type": "code",
   "execution_count": 9,
   "id": "73c9a325",
   "metadata": {},
   "outputs": [
    {
     "name": "stdout",
     "output_type": "stream",
     "text": [
      "CPU times: total: 29.3 s\n",
      "Wall time: 29.5 s\n"
     ]
    }
   ],
   "source": [
    "%%time\n",
    "# Load dev set (10% of total data) as train\n",
    "all_data = pd.read_pickle(path + \"train.xz\")"
   ]
  },
  {
   "cell_type": "code",
   "execution_count": 10,
   "id": "52e0d9d5",
   "metadata": {},
   "outputs": [],
   "source": [
    "train, _ = train_test_split(all_data, train_size=300_000, stratify=all_data[\"stars\"])\n",
    "train, test = train_test_split(train, test_size=50_000, stratify=train[\"stars\"])"
   ]
  },
  {
   "cell_type": "code",
   "execution_count": 11,
   "id": "b8ccc29f",
   "metadata": {},
   "outputs": [
    {
     "data": {
      "text/html": [
       "<div>\n",
       "<style scoped>\n",
       "    .dataframe tbody tr th:only-of-type {\n",
       "        vertical-align: middle;\n",
       "    }\n",
       "\n",
       "    .dataframe tbody tr th {\n",
       "        vertical-align: top;\n",
       "    }\n",
       "\n",
       "    .dataframe thead th {\n",
       "        text-align: right;\n",
       "    }\n",
       "</style>\n",
       "<table border=\"1\" class=\"dataframe\">\n",
       "  <thead>\n",
       "    <tr style=\"text-align: right;\">\n",
       "      <th></th>\n",
       "      <th>text</th>\n",
       "      <th>stars</th>\n",
       "    </tr>\n",
       "  </thead>\n",
       "  <tbody>\n",
       "    <tr>\n",
       "      <th>6370909</th>\n",
       "      <td>Seriously the best burger I have had in years!...</td>\n",
       "      <td>5</td>\n",
       "    </tr>\n",
       "    <tr>\n",
       "      <th>937738</th>\n",
       "      <td>Kevin and his wife did a great job for my mom ...</td>\n",
       "      <td>5</td>\n",
       "    </tr>\n",
       "    <tr>\n",
       "      <th>278441</th>\n",
       "      <td>There is something truly heartbreaking and sub...</td>\n",
       "      <td>4</td>\n",
       "    </tr>\n",
       "    <tr>\n",
       "      <th>187118</th>\n",
       "      <td>Slid into Slate last evening after work for a ...</td>\n",
       "      <td>3</td>\n",
       "    </tr>\n",
       "    <tr>\n",
       "      <th>3510999</th>\n",
       "      <td>This is not like Stockton Market or Hopewell B...</td>\n",
       "      <td>5</td>\n",
       "    </tr>\n",
       "    <tr>\n",
       "      <th>...</th>\n",
       "      <td>...</td>\n",
       "      <td>...</td>\n",
       "    </tr>\n",
       "    <tr>\n",
       "      <th>1468833</th>\n",
       "      <td>We enjoyed excellent food and service at Comma...</td>\n",
       "      <td>5</td>\n",
       "    </tr>\n",
       "    <tr>\n",
       "      <th>373882</th>\n",
       "      <td>We have used this place only since being in Tu...</td>\n",
       "      <td>5</td>\n",
       "    </tr>\n",
       "    <tr>\n",
       "      <th>2657507</th>\n",
       "      <td>beware, not honest. horrible experience. almos...</td>\n",
       "      <td>1</td>\n",
       "    </tr>\n",
       "    <tr>\n",
       "      <th>353577</th>\n",
       "      <td>The experience was great. Everyone was very fr...</td>\n",
       "      <td>5</td>\n",
       "    </tr>\n",
       "    <tr>\n",
       "      <th>603543</th>\n",
       "      <td>Very good food. Great service. Best guacamole ...</td>\n",
       "      <td>5</td>\n",
       "    </tr>\n",
       "  </tbody>\n",
       "</table>\n",
       "<p>250000 rows × 2 columns</p>\n",
       "</div>"
      ],
      "text/plain": [
       "                                                      text  stars\n",
       "6370909  Seriously the best burger I have had in years!...      5\n",
       "937738   Kevin and his wife did a great job for my mom ...      5\n",
       "278441   There is something truly heartbreaking and sub...      4\n",
       "187118   Slid into Slate last evening after work for a ...      3\n",
       "3510999  This is not like Stockton Market or Hopewell B...      5\n",
       "...                                                    ...    ...\n",
       "1468833  We enjoyed excellent food and service at Comma...      5\n",
       "373882   We have used this place only since being in Tu...      5\n",
       "2657507  beware, not honest. horrible experience. almos...      1\n",
       "353577   The experience was great. Everyone was very fr...      5\n",
       "603543   Very good food. Great service. Best guacamole ...      5\n",
       "\n",
       "[250000 rows x 2 columns]"
      ]
     },
     "execution_count": 11,
     "metadata": {},
     "output_type": "execute_result"
    }
   ],
   "source": [
    "train"
   ]
  },
  {
   "cell_type": "code",
   "execution_count": 12,
   "id": "77bd96e5",
   "metadata": {},
   "outputs": [
    {
     "data": {
      "text/html": [
       "<div>\n",
       "<style scoped>\n",
       "    .dataframe tbody tr th:only-of-type {\n",
       "        vertical-align: middle;\n",
       "    }\n",
       "\n",
       "    .dataframe tbody tr th {\n",
       "        vertical-align: top;\n",
       "    }\n",
       "\n",
       "    .dataframe thead th {\n",
       "        text-align: right;\n",
       "    }\n",
       "</style>\n",
       "<table border=\"1\" class=\"dataframe\">\n",
       "  <thead>\n",
       "    <tr style=\"text-align: right;\">\n",
       "      <th></th>\n",
       "      <th>text</th>\n",
       "      <th>stars</th>\n",
       "    </tr>\n",
       "  </thead>\n",
       "  <tbody>\n",
       "    <tr>\n",
       "      <th>48956</th>\n",
       "      <td>I got the fried chicken that was on the menu i...</td>\n",
       "      <td>3</td>\n",
       "    </tr>\n",
       "    <tr>\n",
       "      <th>3861034</th>\n",
       "      <td>I was trying not to do this, but my throbbing ...</td>\n",
       "      <td>2</td>\n",
       "    </tr>\n",
       "    <tr>\n",
       "      <th>2427095</th>\n",
       "      <td>We originally visited Cristino's searching for...</td>\n",
       "      <td>5</td>\n",
       "    </tr>\n",
       "    <tr>\n",
       "      <th>1748274</th>\n",
       "      <td>The pizza was frozen kind. Place was empty 4-5...</td>\n",
       "      <td>2</td>\n",
       "    </tr>\n",
       "    <tr>\n",
       "      <th>2056256</th>\n",
       "      <td>Super cute place. I walked in and the woman ma...</td>\n",
       "      <td>4</td>\n",
       "    </tr>\n",
       "    <tr>\n",
       "      <th>...</th>\n",
       "      <td>...</td>\n",
       "      <td>...</td>\n",
       "    </tr>\n",
       "    <tr>\n",
       "      <th>1619305</th>\n",
       "      <td>Eh...typical marina fair. Serves the purpose i...</td>\n",
       "      <td>3</td>\n",
       "    </tr>\n",
       "    <tr>\n",
       "      <th>470123</th>\n",
       "      <td>Go somewhere else if you like Mexican food. Ch...</td>\n",
       "      <td>2</td>\n",
       "    </tr>\n",
       "    <tr>\n",
       "      <th>5571044</th>\n",
       "      <td>5/5 hands down. This restaurant was my favorit...</td>\n",
       "      <td>5</td>\n",
       "    </tr>\n",
       "    <tr>\n",
       "      <th>3959816</th>\n",
       "      <td>Looks can be deceiving with this place.  It's ...</td>\n",
       "      <td>5</td>\n",
       "    </tr>\n",
       "    <tr>\n",
       "      <th>1379991</th>\n",
       "      <td>I really liked the concept of Grain and Berry ...</td>\n",
       "      <td>4</td>\n",
       "    </tr>\n",
       "  </tbody>\n",
       "</table>\n",
       "<p>50000 rows × 2 columns</p>\n",
       "</div>"
      ],
      "text/plain": [
       "                                                      text  stars\n",
       "48956    I got the fried chicken that was on the menu i...      3\n",
       "3861034  I was trying not to do this, but my throbbing ...      2\n",
       "2427095  We originally visited Cristino's searching for...      5\n",
       "1748274  The pizza was frozen kind. Place was empty 4-5...      2\n",
       "2056256  Super cute place. I walked in and the woman ma...      4\n",
       "...                                                    ...    ...\n",
       "1619305  Eh...typical marina fair. Serves the purpose i...      3\n",
       "470123   Go somewhere else if you like Mexican food. Ch...      2\n",
       "5571044  5/5 hands down. This restaurant was my favorit...      5\n",
       "3959816  Looks can be deceiving with this place.  It's ...      5\n",
       "1379991  I really liked the concept of Grain and Berry ...      4\n",
       "\n",
       "[50000 rows x 2 columns]"
      ]
     },
     "execution_count": 12,
     "metadata": {},
     "output_type": "execute_result"
    }
   ],
   "source": [
    "test"
   ]
  },
  {
   "cell_type": "markdown",
   "id": "05965e48",
   "metadata": {},
   "source": [
    "##### Save Target"
   ]
  },
  {
   "cell_type": "code",
   "execution_count": 13,
   "id": "9d6ae318",
   "metadata": {},
   "outputs": [],
   "source": [
    "# Save reviews stars from 0-4\n",
    "y_train = tf.convert_to_tensor(train[\"stars\"].values - 1)\n",
    "y_test = tf.convert_to_tensor(test[\"stars\"].values - 1)"
   ]
  },
  {
   "cell_type": "markdown",
   "id": "d4fd8d22",
   "metadata": {},
   "source": [
    "# Preprocess"
   ]
  },
  {
   "cell_type": "code",
   "execution_count": 14,
   "id": "c5230aed",
   "metadata": {
    "scrolled": true
   },
   "outputs": [],
   "source": [
    "batch_size = 4000\n",
    "n_processes = 4\n",
    "\n",
    "vocab_size = 20_000  # Size of vocabulary\n",
    "maxlen = 200         # Number of words per review to consider"
   ]
  },
  {
   "cell_type": "code",
   "execution_count": 15,
   "id": "7cc3f2d2",
   "metadata": {},
   "outputs": [],
   "source": [
    "# Configure preprocessor based on prev experiment\n",
    "prep = ReviewPreprocessor(vocab_size, maxlen, remove_stop=False, remove_punc=False, lemmatize=False)\n",
    "\n",
    "X_train = prep.fit_transform(train[\"text\"], batch_size, n_processes)\n",
    "X_test = prep.transform(test[\"text\"], batch_size, n_processes)"
   ]
  },
  {
   "cell_type": "markdown",
   "id": "f9839669",
   "metadata": {},
   "source": [
    "# Define Model"
   ]
  },
  {
   "cell_type": "code",
   "execution_count": 16,
   "id": "01d66238",
   "metadata": {},
   "outputs": [],
   "source": [
    "# Hyperparameters\n",
    "embed_dim = 32  # Attention output size\n",
    "num_heads = 2   # Number of attention heads\n",
    "ff_dims = [32]  # Hidden layer sizes in feed forward network inside transformer"
   ]
  },
  {
   "cell_type": "code",
   "execution_count": 17,
   "id": "19c77c19",
   "metadata": {},
   "outputs": [],
   "source": [
    "def create_model(maxlen, vocab_size, embed_dim, num_heads, ff_dims, reg, dropout):\n",
    "    model = ReviewClassifier(maxlen, vocab_size, embed_dim, num_heads, ff_dims, reg, dropout)\n",
    "    \n",
    "    model.compile(optimizer=keras.optimizers.Adam(1e-3), \n",
    "                  loss=\"sparse_categorical_crossentropy\", metrics=[\"accuracy\"])\n",
    "    \n",
    "    return model"
   ]
  },
  {
   "cell_type": "markdown",
   "id": "242c375a",
   "metadata": {},
   "source": [
    "# Define Configurations"
   ]
  },
  {
   "cell_type": "code",
   "execution_count": 18,
   "id": "49fa637a",
   "metadata": {},
   "outputs": [],
   "source": [
    "configs = { \n",
    "    #        reg  drop\n",
    "    \"none\": (0.0, 0.0),\n",
    "    \"low\":  (1.0e-3, 0.1),\n",
    "    \"med\":  (1.0e-2, 0.25),\n",
    "    \"high\": (5.0e-2, 0.5),\n",
    "}"
   ]
  },
  {
   "cell_type": "markdown",
   "id": "5513f0e0",
   "metadata": {},
   "source": [
    "# Run Experiment"
   ]
  },
  {
   "cell_type": "markdown",
   "id": "29d12cad",
   "metadata": {},
   "source": [
    "> Tests and saves results for each preprocessing configuration."
   ]
  },
  {
   "cell_type": "code",
   "execution_count": 19,
   "id": "90449c28",
   "metadata": {
    "scrolled": true
   },
   "outputs": [
    {
     "name": "stdout",
     "output_type": "stream",
     "text": [
      "Epoch 1/10\n",
      "7813/7813 [==============================] - 41s 5ms/step - loss: 0.7849 - accuracy: 0.6726 - val_loss: 0.7468 - val_accuracy: 0.6862\n",
      "Epoch 2/10\n",
      "7813/7813 [==============================] - 43s 6ms/step - loss: 0.7143 - accuracy: 0.6995 - val_loss: 0.7422 - val_accuracy: 0.6910\n",
      "Epoch 3/10\n",
      "7813/7813 [==============================] - 36s 5ms/step - loss: 0.6869 - accuracy: 0.7115 - val_loss: 0.7505 - val_accuracy: 0.6876\n",
      "Epoch 4/10\n",
      "7813/7813 [==============================] - 37s 5ms/step - loss: 0.6649 - accuracy: 0.7207 - val_loss: 0.7729 - val_accuracy: 0.6830\n",
      "Epoch 5/10\n",
      "7813/7813 [==============================] - 36s 5ms/step - loss: 0.6450 - accuracy: 0.7282 - val_loss: 0.7930 - val_accuracy: 0.6821\n",
      "Epoch 6/10\n",
      "7813/7813 [==============================] - 36s 5ms/step - loss: 0.6249 - accuracy: 0.7374 - val_loss: 0.8108 - val_accuracy: 0.6805\n",
      "Epoch 7/10\n",
      "7813/7813 [==============================] - 35s 5ms/step - loss: 0.6037 - accuracy: 0.7461 - val_loss: 0.8166 - val_accuracy: 0.6778\n",
      "Epoch 8/10\n",
      "7813/7813 [==============================] - 34s 4ms/step - loss: 0.5849 - accuracy: 0.7545 - val_loss: 0.8891 - val_accuracy: 0.6754\n",
      "Epoch 9/10\n",
      "7813/7813 [==============================] - 130s 17ms/step - loss: 0.5679 - accuracy: 0.7614 - val_loss: 0.9171 - val_accuracy: 0.6708\n",
      "Epoch 10/10\n",
      "7813/7813 [==============================] - 122s 16ms/step - loss: 0.5526 - accuracy: 0.7675 - val_loss: 0.9357 - val_accuracy: 0.6643\n",
      "Epoch 1/10\n",
      "7813/7813 [==============================] - 39s 5ms/step - loss: 0.8239 - accuracy: 0.6644 - val_loss: 0.7591 - val_accuracy: 0.6835\n",
      "Epoch 2/10\n",
      "7813/7813 [==============================] - 41s 5ms/step - loss: 0.7408 - accuracy: 0.6909 - val_loss: 0.7521 - val_accuracy: 0.6850\n",
      "Epoch 3/10\n",
      "7813/7813 [==============================] - 46s 6ms/step - loss: 0.7108 - accuracy: 0.7030 - val_loss: 0.7594 - val_accuracy: 0.6845\n",
      "Epoch 4/10\n",
      "7813/7813 [==============================] - 41s 5ms/step - loss: 0.6888 - accuracy: 0.7122 - val_loss: 0.7723 - val_accuracy: 0.6849\n",
      "Epoch 5/10\n",
      "7813/7813 [==============================] - 41s 5ms/step - loss: 0.6709 - accuracy: 0.7201 - val_loss: 0.7785 - val_accuracy: 0.6833\n",
      "Epoch 6/10\n",
      "7813/7813 [==============================] - 40s 5ms/step - loss: 0.6563 - accuracy: 0.7259 - val_loss: 0.7929 - val_accuracy: 0.6763\n",
      "Epoch 7/10\n",
      "7813/7813 [==============================] - 41s 5ms/step - loss: 0.6444 - accuracy: 0.7312 - val_loss: 0.8099 - val_accuracy: 0.6796\n",
      "Epoch 8/10\n",
      "7813/7813 [==============================] - 41s 5ms/step - loss: 0.6333 - accuracy: 0.7362 - val_loss: 0.8363 - val_accuracy: 0.6780\n",
      "Epoch 9/10\n",
      "7813/7813 [==============================] - 40s 5ms/step - loss: 0.6228 - accuracy: 0.7409 - val_loss: 0.8535 - val_accuracy: 0.6771\n",
      "Epoch 10/10\n",
      "7813/7813 [==============================] - 40s 5ms/step - loss: 0.6119 - accuracy: 0.7458 - val_loss: 0.8736 - val_accuracy: 0.6726\n",
      "Epoch 1/10\n",
      "7813/7813 [==============================] - 40s 5ms/step - loss: 0.8647 - accuracy: 0.6577 - val_loss: 0.7704 - val_accuracy: 0.6755\n",
      "Epoch 2/10\n",
      "7813/7813 [==============================] - 40s 5ms/step - loss: 0.7676 - accuracy: 0.6839 - val_loss: 0.7624 - val_accuracy: 0.6863\n",
      "Epoch 3/10\n",
      "7813/7813 [==============================] - 41s 5ms/step - loss: 0.7430 - accuracy: 0.6924 - val_loss: 0.7713 - val_accuracy: 0.6811\n",
      "Epoch 4/10\n",
      "7813/7813 [==============================] - 41s 5ms/step - loss: 0.7261 - accuracy: 0.6989 - val_loss: 0.7826 - val_accuracy: 0.6840\n",
      "Epoch 5/10\n",
      "7813/7813 [==============================] - 37s 5ms/step - loss: 0.7123 - accuracy: 0.7041 - val_loss: 0.7953 - val_accuracy: 0.6759\n",
      "Epoch 6/10\n",
      "7813/7813 [==============================] - 37s 5ms/step - loss: 0.7024 - accuracy: 0.7083 - val_loss: 0.8057 - val_accuracy: 0.6747\n",
      "Epoch 7/10\n",
      "7813/7813 [==============================] - 37s 5ms/step - loss: 0.6914 - accuracy: 0.7127 - val_loss: 0.8360 - val_accuracy: 0.6754\n",
      "Epoch 8/10\n",
      "7813/7813 [==============================] - 37s 5ms/step - loss: 0.6830 - accuracy: 0.7164 - val_loss: 0.8312 - val_accuracy: 0.6698\n",
      "Epoch 9/10\n",
      "7813/7813 [==============================] - 37s 5ms/step - loss: 0.6755 - accuracy: 0.7183 - val_loss: 0.8346 - val_accuracy: 0.6753\n",
      "Epoch 10/10\n",
      "7813/7813 [==============================] - 37s 5ms/step - loss: 0.6666 - accuracy: 0.7232 - val_loss: 0.8586 - val_accuracy: 0.6714\n",
      "Epoch 1/10\n",
      "7813/7813 [==============================] - 38s 5ms/step - loss: 0.9861 - accuracy: 0.6240 - val_loss: 0.7818 - val_accuracy: 0.6808\n",
      "Epoch 2/10\n",
      "7813/7813 [==============================] - 41s 5ms/step - loss: 0.8479 - accuracy: 0.6542 - val_loss: 0.7974 - val_accuracy: 0.6743\n",
      "Epoch 3/10\n",
      "7813/7813 [==============================] - 41s 5ms/step - loss: 0.8241 - accuracy: 0.6616 - val_loss: 0.7935 - val_accuracy: 0.6819\n",
      "Epoch 4/10\n",
      "7813/7813 [==============================] - 41s 5ms/step - loss: 0.8075 - accuracy: 0.6673 - val_loss: 0.8089 - val_accuracy: 0.6760\n",
      "Epoch 5/10\n",
      "7813/7813 [==============================] - 40s 5ms/step - loss: 0.7957 - accuracy: 0.6707 - val_loss: 0.8117 - val_accuracy: 0.6765\n",
      "Epoch 6/10\n",
      "7813/7813 [==============================] - 40s 5ms/step - loss: 0.7882 - accuracy: 0.6734 - val_loss: 0.8251 - val_accuracy: 0.6733\n",
      "Epoch 7/10\n",
      "7813/7813 [==============================] - 40s 5ms/step - loss: 0.7794 - accuracy: 0.6750 - val_loss: 0.8487 - val_accuracy: 0.6697\n",
      "Epoch 8/10\n",
      "7813/7813 [==============================] - 40s 5ms/step - loss: 0.7732 - accuracy: 0.6782 - val_loss: 0.8612 - val_accuracy: 0.6664\n",
      "Epoch 9/10\n",
      "7813/7813 [==============================] - 40s 5ms/step - loss: 0.7662 - accuracy: 0.6804 - val_loss: 0.8566 - val_accuracy: 0.6676\n",
      "Epoch 10/10\n",
      "7813/7813 [==============================] - 40s 5ms/step - loss: 0.7585 - accuracy: 0.6835 - val_loss: 0.8660 - val_accuracy: 0.6546\n",
      "CPU times: total: 41min 5s\n",
      "Wall time: 29min 12s\n"
     ]
    }
   ],
   "source": [
    "%%time\n",
    "epochs = 10\n",
    "\n",
    "results = dict()\n",
    "for config, params in configs.items():\n",
    "    model = create_model(maxlen, vocab_size, embed_dim, num_heads, ff_dims, *params)\n",
    "    \n",
    "    results[config] = model.fit(X_train, y_train, batch_size=32, epochs=epochs,\n",
    "                                validation_data=(X_test, y_test), verbose=1)\n",
    "    \n",
    "# Save results\n",
    "final_results = {cfg: hist.history for cfg, hist in results.items()}\n",
    "with open('experiments/results/reg_results.pickle', 'wb') as handle:\n",
    "    pickle.dump(final_results, handle)"
   ]
  },
  {
   "cell_type": "markdown",
   "id": "31aeeb11",
   "metadata": {},
   "source": [
    "# Viz"
   ]
  },
  {
   "cell_type": "markdown",
   "id": "cecb455d",
   "metadata": {},
   "source": [
    "##### Load?"
   ]
  },
  {
   "cell_type": "code",
   "execution_count": 22,
   "id": "39023eaf",
   "metadata": {},
   "outputs": [],
   "source": [
    "with open('experiments/results/reg_results.pickle', 'rb') as handle:\n",
    "    final_results = pickle.load(handle)"
   ]
  },
  {
   "cell_type": "code",
   "execution_count": 21,
   "id": "ba014d87",
   "metadata": {},
   "outputs": [
    {
     "data": {
      "text/plain": [
       "{'none': {'loss': [0.7849076390266418,\n",
       "   0.7143415808677673,\n",
       "   0.6869447231292725,\n",
       "   0.664873480796814,\n",
       "   0.6450085639953613,\n",
       "   0.6248646974563599,\n",
       "   0.6036820411682129,\n",
       "   0.584899365901947,\n",
       "   0.5679438710212708,\n",
       "   0.5526421666145325],\n",
       "  'accuracy': [0.6725999712944031,\n",
       "   0.6995480060577393,\n",
       "   0.7114959955215454,\n",
       "   0.720687985420227,\n",
       "   0.7282199859619141,\n",
       "   0.7374200224876404,\n",
       "   0.7460960149765015,\n",
       "   0.7544680237770081,\n",
       "   0.7614079713821411,\n",
       "   0.7675120234489441],\n",
       "  'val_loss': [0.7468277215957642,\n",
       "   0.7422087788581848,\n",
       "   0.7505292892456055,\n",
       "   0.7729118466377258,\n",
       "   0.7930077314376831,\n",
       "   0.8107874989509583,\n",
       "   0.8166272640228271,\n",
       "   0.8890842199325562,\n",
       "   0.9171468019485474,\n",
       "   0.9357467293739319],\n",
       "  'val_accuracy': [0.6861600279808044,\n",
       "   0.6910399794578552,\n",
       "   0.6876000165939331,\n",
       "   0.6830400228500366,\n",
       "   0.6820600032806396,\n",
       "   0.6804800033569336,\n",
       "   0.6777999997138977,\n",
       "   0.6753600239753723,\n",
       "   0.6708400249481201,\n",
       "   0.6642799973487854]},\n",
       " 'low': {'loss': [0.823872983455658,\n",
       "   0.7407574653625488,\n",
       "   0.7107869982719421,\n",
       "   0.6888163089752197,\n",
       "   0.6708694100379944,\n",
       "   0.6563499569892883,\n",
       "   0.6444165706634521,\n",
       "   0.6333202123641968,\n",
       "   0.6227658987045288,\n",
       "   0.6118500232696533],\n",
       "  'accuracy': [0.6644480228424072,\n",
       "   0.690887987613678,\n",
       "   0.7029839754104614,\n",
       "   0.7121679782867432,\n",
       "   0.7200760245323181,\n",
       "   0.7259359955787659,\n",
       "   0.7311840057373047,\n",
       "   0.736240029335022,\n",
       "   0.7408679723739624,\n",
       "   0.7457519769668579],\n",
       "  'val_loss': [0.7590932250022888,\n",
       "   0.7521209120750427,\n",
       "   0.7593539953231812,\n",
       "   0.7723040580749512,\n",
       "   0.7785061597824097,\n",
       "   0.7929219007492065,\n",
       "   0.8099114298820496,\n",
       "   0.836309552192688,\n",
       "   0.8534626364707947,\n",
       "   0.8735634088516235],\n",
       "  'val_accuracy': [0.6834800243377686,\n",
       "   0.6850000023841858,\n",
       "   0.6844800114631653,\n",
       "   0.6849200129508972,\n",
       "   0.6832600235939026,\n",
       "   0.6763200163841248,\n",
       "   0.6796000003814697,\n",
       "   0.6779599785804749,\n",
       "   0.6771399974822998,\n",
       "   0.6725800037384033]},\n",
       " 'med': {'loss': [0.8647342324256897,\n",
       "   0.7675631046295166,\n",
       "   0.7429708242416382,\n",
       "   0.7261027693748474,\n",
       "   0.7122515439987183,\n",
       "   0.7023845911026001,\n",
       "   0.6913787126541138,\n",
       "   0.6830456852912903,\n",
       "   0.6755076050758362,\n",
       "   0.6666354537010193],\n",
       "  'accuracy': [0.6576560139656067,\n",
       "   0.6839039921760559,\n",
       "   0.6924480199813843,\n",
       "   0.6988679766654968,\n",
       "   0.7040759921073914,\n",
       "   0.7082599997520447,\n",
       "   0.7127079963684082,\n",
       "   0.7164400219917297,\n",
       "   0.7183480262756348,\n",
       "   0.7231919765472412],\n",
       "  'val_loss': [0.7703507542610168,\n",
       "   0.76237952709198,\n",
       "   0.7713202238082886,\n",
       "   0.7825796008110046,\n",
       "   0.7953245043754578,\n",
       "   0.805660605430603,\n",
       "   0.836029052734375,\n",
       "   0.8312003016471863,\n",
       "   0.8345674872398376,\n",
       "   0.8586006760597229],\n",
       "  'val_accuracy': [0.6754800081253052,\n",
       "   0.6862599849700928,\n",
       "   0.6810799837112427,\n",
       "   0.6840199828147888,\n",
       "   0.6758800148963928,\n",
       "   0.6746600270271301,\n",
       "   0.6754199862480164,\n",
       "   0.6697999835014343,\n",
       "   0.6752600073814392,\n",
       "   0.6713799834251404]},\n",
       " 'high': {'loss': [0.9860712885856628,\n",
       "   0.8479181528091431,\n",
       "   0.8241460919380188,\n",
       "   0.8075295686721802,\n",
       "   0.7957257032394409,\n",
       "   0.7881680727005005,\n",
       "   0.779424250125885,\n",
       "   0.7731665372848511,\n",
       "   0.7662181258201599,\n",
       "   0.7585199475288391],\n",
       "  'accuracy': [0.6240159869194031,\n",
       "   0.6542119979858398,\n",
       "   0.6616160273551941,\n",
       "   0.6672639846801758,\n",
       "   0.6707199811935425,\n",
       "   0.6733999848365784,\n",
       "   0.6750159859657288,\n",
       "   0.6782479882240295,\n",
       "   0.680351972579956,\n",
       "   0.6834759712219238],\n",
       "  'val_loss': [0.7817699313163757,\n",
       "   0.7973648309707642,\n",
       "   0.7934758067131042,\n",
       "   0.8088822364807129,\n",
       "   0.8117058873176575,\n",
       "   0.8251277208328247,\n",
       "   0.8487129807472229,\n",
       "   0.8612037301063538,\n",
       "   0.8566220998764038,\n",
       "   0.8660213947296143],\n",
       "  'val_accuracy': [0.6808000206947327,\n",
       "   0.674340009689331,\n",
       "   0.6818600296974182,\n",
       "   0.6759799718856812,\n",
       "   0.6764600276947021,\n",
       "   0.6732800006866455,\n",
       "   0.6696799993515015,\n",
       "   0.6663600206375122,\n",
       "   0.6675999760627747,\n",
       "   0.6546000242233276]}}"
      ]
     },
     "execution_count": 21,
     "metadata": {},
     "output_type": "execute_result"
    }
   ],
   "source": [
    "final_results"
   ]
  },
  {
   "cell_type": "markdown",
   "id": "157170d0",
   "metadata": {},
   "source": [
    "##### Viz"
   ]
  },
  {
   "cell_type": "code",
   "execution_count": 26,
   "id": "146c84d0",
   "metadata": {},
   "outputs": [
    {
     "data": {
      "image/png": "[encoded data removed]",
      "text/plain": [
       "<Figure size 400x900 with 2 Axes>"
      ]
     },
     "metadata": {},
     "output_type": "display_data"
    }
   ],
   "source": [
    "fig, axes = plt.subplots(2, 1, dpi=100, figsize=(4, 9))\n",
    "\n",
    "\n",
    "\n",
    "for cfg, hist in final_results.items():\n",
    "    axes[0].plot(hist[\"val_loss\"], label=cfg)\n",
    "    \n",
    "axes[0].set_title(\"Regularization Loss Comparison\")\n",
    "axes[0].set_xlabel(\"Epoch\")\n",
    "axes[0].set_ylabel(\"Loss\")\n",
    "axes[0].legend()\n",
    "\n",
    "for cfg, hist in final_results.items():\n",
    "    axes[1].plot(hist[\"val_accuracy\"], label=cfg)\n",
    "    \n",
    "axes[1].set_title(\"Regularization Accuracy Comparison\")\n",
    "axes[1].set_xlabel(\"Epoch\")\n",
    "axes[1].set_ylabel(\"Accuracy\")\n",
    "axes[1].legend()\n",
    "\n",
    "plt.subplots_adjust(hspace=0.3)\n",
    "\n",
    "plt.show()"
   ]
  }
 ],
 "metadata": {
  "kernelspec": {
   "display_name": "Python [conda env:tf-gpu]",
   "language": "python",
   "name": "conda-env-tf-gpu-py"
  },
  "language_info": {
   "codemirror_mode": {
    "name": "ipython",
    "version": 3
   },
   "file_extension": ".py",
   "mimetype": "text/x-python",
   "name": "python",
   "nbconvert_exporter": "python",
   "pygments_lexer": "ipython3",
   "version": "3.10.4"
  }
 },
 "nbformat": 4,
 "nbformat_minor": 5
}

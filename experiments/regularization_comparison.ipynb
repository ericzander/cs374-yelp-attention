{
 "cells": [
  {
   "cell_type": "markdown",
   "id": "bd318293",
   "metadata": {},
   "source": [
    "---"
   ]
  },
  {
   "cell_type": "markdown",
   "id": "93fb8d86",
   "metadata": {},
   "source": [
    "# Setup"
   ]
  },
  {
   "cell_type": "markdown",
   "id": "55c4193f",
   "metadata": {},
   "source": [
    "##### Set Root Dir as CWD"
   ]
  },
  {
   "cell_type": "code",
   "execution_count": 6,
   "id": "7d88d86d",
   "metadata": {},
   "outputs": [],
   "source": [
    "import os\n",
    "\n",
    "# Navigate to project root (if not already there)\n",
    "if os.path.split(os.getcwd())[1] != \"cs374-project\":\n",
    "    %cd ../"
   ]
  },
  {
   "cell_type": "markdown",
   "id": "ebf5af2e",
   "metadata": {},
   "source": [
    "##### Imports"
   ]
  },
  {
   "cell_type": "code",
   "execution_count": 7,
   "id": "f8dbe9fb",
   "metadata": {},
   "outputs": [],
   "source": [
    "import pickle\n",
    "\n",
    "import numpy as np\n",
    "import pandas as pd\n",
    "\n",
    "import spacy\n",
    "\n",
    "from sklearn.model_selection import train_test_split\n",
    "\n",
    "import tensorflow as tf\n",
    "from tensorflow import keras\n",
    "from tensorflow.keras import layers\n",
    "\n",
    "import matplotlib.pyplot as plt\n",
    "import seaborn as sns\n",
    "sns.set_theme()\n",
    "\n",
    "# Local\n",
    "from src.preprocesser import ReviewPreprocessor\n",
    "from src.model import ReviewClassifier"
   ]
  },
  {
   "cell_type": "markdown",
   "id": "3ef923cc",
   "metadata": {},
   "source": [
    "# Load"
   ]
  },
  {
   "cell_type": "code",
   "execution_count": 8,
   "id": "71b0f0cf",
   "metadata": {},
   "outputs": [],
   "source": [
    "path = \"data/yelp/reviews/\""
   ]
  },
  {
   "cell_type": "code",
   "execution_count": 9,
   "id": "73c9a325",
   "metadata": {},
   "outputs": [
    {
     "name": "stdout",
     "output_type": "stream",
     "text": [
      "CPU times: total: 29.3 s\n",
      "Wall time: 29.5 s\n"
     ]
    }
   ],
   "source": [
    "%%time\n",
    "# Load dev set (10% of total data) as train\n",
    "all_data = pd.read_pickle(path + \"train.xz\")"
   ]
  },
  {
   "cell_type": "code",
   "execution_count": 10,
   "id": "52e0d9d5",
   "metadata": {},
   "outputs": [],
   "source": [
    "train, _ = train_test_split(all_data, train_size=300_000, stratify=all_data[\"stars\"])\n",
    "train, test = train_test_split(train, test_size=50_000, stratify=train[\"stars\"])"
   ]
  },
  {
   "cell_type": "code",
   "execution_count": 11,
   "id": "b8ccc29f",
   "metadata": {},
   "outputs": [
    {
     "data": {
      "text/html": [
       "<div>\n",
       "<style scoped>\n",
       "    .dataframe tbody tr th:only-of-type {\n",
       "        vertical-align: middle;\n",
       "    }\n",
       "\n",
       "    .dataframe tbody tr th {\n",
       "        vertical-align: top;\n",
       "    }\n",
       "\n",
       "    .dataframe thead th {\n",
       "        text-align: right;\n",
       "    }\n",
       "</style>\n",
       "<table border=\"1\" class=\"dataframe\">\n",
       "  <thead>\n",
       "    <tr style=\"text-align: right;\">\n",
       "      <th></th>\n",
       "      <th>text</th>\n",
       "      <th>stars</th>\n",
       "    </tr>\n",
       "  </thead>\n",
       "  <tbody>\n",
       "    <tr>\n",
       "      <th>6370909</th>\n",
       "      <td>Seriously the best burger I have had in years!...</td>\n",
       "      <td>5</td>\n",
       "    </tr>\n",
       "    <tr>\n",
       "      <th>937738</th>\n",
       "      <td>Kevin and his wife did a great job for my mom ...</td>\n",
       "      <td>5</td>\n",
       "    </tr>\n",
       "    <tr>\n",
       "      <th>278441</th>\n",
       "      <td>There is something truly heartbreaking and sub...</td>\n",
       "      <td>4</td>\n",
       "    </tr>\n",
       "    <tr>\n",
       "      <th>187118</th>\n",
       "      <td>Slid into Slate last evening after work for a ...</td>\n",
       "      <td>3</td>\n",
       "    </tr>\n",
       "    <tr>\n",
       "      <th>3510999</th>\n",
       "      <td>This is not like Stockton Market or Hopewell B...</td>\n",
       "      <td>5</td>\n",
       "    </tr>\n",
       "    <tr>\n",
       "      <th>...</th>\n",
       "      <td>...</td>\n",
       "      <td>...</td>\n",
       "    </tr>\n",
       "    <tr>\n",
       "      <th>1468833</th>\n",
       "      <td>We enjoyed excellent food and service at Comma...</td>\n",
       "      <td>5</td>\n",
       "    </tr>\n",
       "    <tr>\n",
       "      <th>373882</th>\n",
       "      <td>We have used this place only since being in Tu...</td>\n",
       "      <td>5</td>\n",
       "    </tr>\n",
       "    <tr>\n",
       "      <th>2657507</th>\n",
       "      <td>beware, not honest. horrible experience. almos...</td>\n",
       "      <td>1</td>\n",
       "    </tr>\n",
       "    <tr>\n",
       "      <th>353577</th>\n",
       "      <td>The experience was great. Everyone was very fr...</td>\n",
       "      <td>5</td>\n",
       "    </tr>\n",
       "    <tr>\n",
       "      <th>603543</th>\n",
       "      <td>Very good food. Great service. Best guacamole ...</td>\n",
       "      <td>5</td>\n",
       "    </tr>\n",
       "  </tbody>\n",
       "</table>\n",
       "<p>250000 rows × 2 columns</p>\n",
       "</div>"
      ],
      "text/plain": [
       "                                                      text  stars\n",
       "6370909  Seriously the best burger I have had in years!...      5\n",
       "937738   Kevin and his wife did a great job for my mom ...      5\n",
       "278441   There is something truly heartbreaking and sub...      4\n",
       "187118   Slid into Slate last evening after work for a ...      3\n",
       "3510999  This is not like Stockton Market or Hopewell B...      5\n",
       "...                                                    ...    ...\n",
       "1468833  We enjoyed excellent food and service at Comma...      5\n",
       "373882   We have used this place only since being in Tu...      5\n",
       "2657507  beware, not honest. horrible experience. almos...      1\n",
       "353577   The experience was great. Everyone was very fr...      5\n",
       "603543   Very good food. Great service. Best guacamole ...      5\n",
       "\n",
       "[250000 rows x 2 columns]"
      ]
     },
     "execution_count": 11,
     "metadata": {},
     "output_type": "execute_result"
    }
   ],
   "source": [
    "train"
   ]
  },
  {
   "cell_type": "code",
   "execution_count": 12,
   "id": "77bd96e5",
   "metadata": {},
   "outputs": [
    {
     "data": {
      "text/html": [
       "<div>\n",
       "<style scoped>\n",
       "    .dataframe tbody tr th:only-of-type {\n",
       "        vertical-align: middle;\n",
       "    }\n",
       "\n",
       "    .dataframe tbody tr th {\n",
       "        vertical-align: top;\n",
       "    }\n",
       "\n",
       "    .dataframe thead th {\n",
       "        text-align: right;\n",
       "    }\n",
       "</style>\n",
       "<table border=\"1\" class=\"dataframe\">\n",
       "  <thead>\n",
       "    <tr style=\"text-align: right;\">\n",
       "      <th></th>\n",
       "      <th>text</th>\n",
       "      <th>stars</th>\n",
       "    </tr>\n",
       "  </thead>\n",
       "  <tbody>\n",
       "    <tr>\n",
       "      <th>48956</th>\n",
       "      <td>I got the fried chicken that was on the menu i...</td>\n",
       "      <td>3</td>\n",
       "    </tr>\n",
       "    <tr>\n",
       "      <th>3861034</th>\n",
       "      <td>I was trying not to do this, but my throbbing ...</td>\n",
       "      <td>2</td>\n",
       "    </tr>\n",
       "    <tr>\n",
       "      <th>2427095</th>\n",
       "      <td>We originally visited Cristino's searching for...</td>\n",
       "      <td>5</td>\n",
       "    </tr>\n",
       "    <tr>\n",
       "      <th>1748274</th>\n",
       "      <td>The pizza was frozen kind. Place was empty 4-5...</td>\n",
       "      <td>2</td>\n",
       "    </tr>\n",
       "    <tr>\n",
       "      <th>2056256</th>\n",
       "      <td>Super cute place. I walked in and the woman ma...</td>\n",
       "      <td>4</td>\n",
       "    </tr>\n",
       "    <tr>\n",
       "      <th>...</th>\n",
       "      <td>...</td>\n",
       "      <td>...</td>\n",
       "    </tr>\n",
       "    <tr>\n",
       "      <th>1619305</th>\n",
       "      <td>Eh...typical marina fair. Serves the purpose i...</td>\n",
       "      <td>3</td>\n",
       "    </tr>\n",
       "    <tr>\n",
       "      <th>470123</th>\n",
       "      <td>Go somewhere else if you like Mexican food. Ch...</td>\n",
       "      <td>2</td>\n",
       "    </tr>\n",
       "    <tr>\n",
       "      <th>5571044</th>\n",
       "      <td>5/5 hands down. This restaurant was my favorit...</td>\n",
       "      <td>5</td>\n",
       "    </tr>\n",
       "    <tr>\n",
       "      <th>3959816</th>\n",
       "      <td>Looks can be deceiving with this place.  It's ...</td>\n",
       "      <td>5</td>\n",
       "    </tr>\n",
       "    <tr>\n",
       "      <th>1379991</th>\n",
       "      <td>I really liked the concept of Grain and Berry ...</td>\n",
       "      <td>4</td>\n",
       "    </tr>\n",
       "  </tbody>\n",
       "</table>\n",
       "<p>50000 rows × 2 columns</p>\n",
       "</div>"
      ],
      "text/plain": [
       "                                                      text  stars\n",
       "48956    I got the fried chicken that was on the menu i...      3\n",
       "3861034  I was trying not to do this, but my throbbing ...      2\n",
       "2427095  We originally visited Cristino's searching for...      5\n",
       "1748274  The pizza was frozen kind. Place was empty 4-5...      2\n",
       "2056256  Super cute place. I walked in and the woman ma...      4\n",
       "...                                                    ...    ...\n",
       "1619305  Eh...typical marina fair. Serves the purpose i...      3\n",
       "470123   Go somewhere else if you like Mexican food. Ch...      2\n",
       "5571044  5/5 hands down. This restaurant was my favorit...      5\n",
       "3959816  Looks can be deceiving with this place.  It's ...      5\n",
       "1379991  I really liked the concept of Grain and Berry ...      4\n",
       "\n",
       "[50000 rows x 2 columns]"
      ]
     },
     "execution_count": 12,
     "metadata": {},
     "output_type": "execute_result"
    }
   ],
   "source": [
    "test"
   ]
  },
  {
   "cell_type": "markdown",
   "id": "05965e48",
   "metadata": {},
   "source": [
    "##### Save Target"
   ]
  },
  {
   "cell_type": "code",
   "execution_count": 13,
   "id": "9d6ae318",
   "metadata": {},
   "outputs": [],
   "source": [
    "# Save reviews stars from 0-4\n",
    "y_train = tf.convert_to_tensor(train[\"stars\"].values - 1)\n",
    "y_test = tf.convert_to_tensor(test[\"stars\"].values - 1)"
   ]
  },
  {
   "cell_type": "markdown",
   "id": "d4fd8d22",
   "metadata": {},
   "source": [
    "# Preprocess"
   ]
  },
  {
   "cell_type": "code",
   "execution_count": 14,
   "id": "c5230aed",
   "metadata": {
    "scrolled": true
   },
   "outputs": [],
   "source": [
    "batch_size = 4000\n",
    "n_processes = 4\n",
    "\n",
    "vocab_size = 20_000  # Size of vocabulary\n",
    "maxlen = 200         # Number of words per review to consider"
   ]
  },
  {
   "cell_type": "code",
   "execution_count": 15,
   "id": "7cc3f2d2",
   "metadata": {},
   "outputs": [],
   "source": [
    "# Configure preprocessor based on prev experiment\n",
    "prep = ReviewPreprocessor(vocab_size, maxlen, remove_stop=False, remove_punc=False, lemmatize=False)\n",
    "\n",
    "X_train = prep.fit_transform(train[\"text\"], batch_size, n_processes)\n",
    "X_test = prep.transform(test[\"text\"], batch_size, n_processes)"
   ]
  },
  {
   "cell_type": "markdown",
   "id": "f9839669",
   "metadata": {},
   "source": [
    "# Define Model"
   ]
  },
  {
   "cell_type": "code",
   "execution_count": 16,
   "id": "01d66238",
   "metadata": {},
   "outputs": [],
   "source": [
    "# Hyperparameters\n",
    "embed_dim = 32  # Attention output size\n",
    "num_heads = 2   # Number of attention heads\n",
    "ff_dims = [32]  # Hidden layer sizes in feed forward network inside transformer"
   ]
  },
  {
   "cell_type": "code",
   "execution_count": 17,
   "id": "19c77c19",
   "metadata": {},
   "outputs": [],
   "source": [
    "def create_model(maxlen, vocab_size, embed_dim, num_heads, ff_dims, reg, dropout):\n",
    "    model = ReviewClassifier(maxlen, vocab_size, embed_dim, num_heads, ff_dims, reg, dropout)\n",
    "    \n",
    "    model.compile(optimizer=keras.optimizers.Adam(1e-3), \n",
    "                  loss=\"sparse_categorical_crossentropy\", metrics=[\"accuracy\"])\n",
    "    \n",
    "    return model"
   ]
  },
  {
   "cell_type": "markdown",
   "id": "242c375a",
   "metadata": {},
   "source": [
    "# Define Configurations"
   ]
  },
  {
   "cell_type": "code",
   "execution_count": 18,
   "id": "49fa637a",
   "metadata": {},
   "outputs": [],
   "source": [
    "configs = { \n",
    "    #        reg  drop\n",
    "    \"none\": (0.0, 0.0),\n",
    "    \"low\":  (1.0e-3, 0.1),\n",
    "    \"med\":  (1.0e-2, 0.25),\n",
    "    \"high\": (5.0e-2, 0.5),\n",
    "}"
   ]
  },
  {
   "cell_type": "markdown",
   "id": "5513f0e0",
   "metadata": {},
   "source": [
    "# Run Experiment"
   ]
  },
  {
   "cell_type": "markdown",
   "id": "29d12cad",
   "metadata": {},
   "source": [
    "> Tests and saves results for each preprocessing configuration."
   ]
  },
  {
   "cell_type": "code",
   "execution_count": null,
   "id": "90449c28",
   "metadata": {
    "scrolled": true
   },
   "outputs": [
    {
     "name": "stdout",
     "output_type": "stream",
     "text": [
      "Epoch 1/10\n",
      "7813/7813 [==============================] - 41s 5ms/step - loss: 0.7849 - accuracy: 0.6726 - val_loss: 0.7468 - val_accuracy: 0.6862\n",
      "Epoch 2/10\n",
      "7813/7813 [==============================] - 43s 6ms/step - loss: 0.7143 - accuracy: 0.6995 - val_loss: 0.7422 - val_accuracy: 0.6910\n",
      "Epoch 3/10\n",
      "7813/7813 [==============================] - 36s 5ms/step - loss: 0.6869 - accuracy: 0.7115 - val_loss: 0.7505 - val_accuracy: 0.6876\n",
      "Epoch 4/10\n",
      "7813/7813 [==============================] - 37s 5ms/step - loss: 0.6649 - accuracy: 0.7207 - val_loss: 0.7729 - val_accuracy: 0.6830\n",
      "Epoch 5/10\n",
      "7813/7813 [==============================] - 36s 5ms/step - loss: 0.6450 - accuracy: 0.7282 - val_loss: 0.7930 - val_accuracy: 0.6821\n",
      "Epoch 6/10\n",
      "7813/7813 [==============================] - 36s 5ms/step - loss: 0.6249 - accuracy: 0.7374 - val_loss: 0.8108 - val_accuracy: 0.6805\n",
      "Epoch 7/10\n",
      "7813/7813 [==============================] - 35s 5ms/step - loss: 0.6037 - accuracy: 0.7461 - val_loss: 0.8166 - val_accuracy: 0.6778\n",
      "Epoch 8/10\n",
      "7813/7813 [==============================] - 34s 4ms/step - loss: 0.5849 - accuracy: 0.7545 - val_loss: 0.8891 - val_accuracy: 0.6754\n",
      "Epoch 9/10\n",
      "7813/7813 [==============================] - 130s 17ms/step - loss: 0.5679 - accuracy: 0.7614 - val_loss: 0.9171 - val_accuracy: 0.6708\n",
      "Epoch 10/10\n",
      "7813/7813 [==============================] - 122s 16ms/step - loss: 0.5526 - accuracy: 0.7675 - val_loss: 0.9357 - val_accuracy: 0.6643\n",
      "Epoch 1/10\n",
      "7813/7813 [==============================] - 39s 5ms/step - loss: 0.8239 - accuracy: 0.6644 - val_loss: 0.7591 - val_accuracy: 0.6835\n",
      "Epoch 2/10\n",
      "7813/7813 [==============================] - 41s 5ms/step - loss: 0.7408 - accuracy: 0.6909 - val_loss: 0.7521 - val_accuracy: 0.6850\n",
      "Epoch 3/10\n",
      "7813/7813 [==============================] - 46s 6ms/step - loss: 0.7108 - accuracy: 0.7030 - val_loss: 0.7594 - val_accuracy: 0.6845\n",
      "Epoch 4/10\n",
      "7813/7813 [==============================] - 41s 5ms/step - loss: 0.6888 - accuracy: 0.7122 - val_loss: 0.7723 - val_accuracy: 0.6849\n",
      "Epoch 5/10\n",
      "7813/7813 [==============================] - 41s 5ms/step - loss: 0.6709 - accuracy: 0.7201 - val_loss: 0.7785 - val_accuracy: 0.6833\n",
      "Epoch 6/10\n",
      "7813/7813 [==============================] - 40s 5ms/step - loss: 0.6563 - accuracy: 0.7259 - val_loss: 0.7929 - val_accuracy: 0.6763\n",
      "Epoch 7/10\n",
      "7813/7813 [==============================] - 41s 5ms/step - loss: 0.6444 - accuracy: 0.7312 - val_loss: 0.8099 - val_accuracy: 0.6796\n",
      "Epoch 8/10\n",
      "7813/7813 [==============================] - 41s 5ms/step - loss: 0.6333 - accuracy: 0.7362 - val_loss: 0.8363 - val_accuracy: 0.6780\n",
      "Epoch 9/10\n",
      "7813/7813 [==============================] - 40s 5ms/step - loss: 0.6228 - accuracy: 0.7409 - val_loss: 0.8535 - val_accuracy: 0.6771\n",
      "Epoch 10/10\n",
      "7813/7813 [==============================] - 40s 5ms/step - loss: 0.6119 - accuracy: 0.7458 - val_loss: 0.8736 - val_accuracy: 0.6726\n",
      "Epoch 1/10\n",
      "7813/7813 [==============================] - 40s 5ms/step - loss: 0.8647 - accuracy: 0.6577 - val_loss: 0.7704 - val_accuracy: 0.6755\n",
      "Epoch 2/10\n",
      "7813/7813 [==============================] - 40s 5ms/step - loss: 0.7676 - accuracy: 0.6839 - val_loss: 0.7624 - val_accuracy: 0.6863\n",
      "Epoch 3/10\n",
      "7813/7813 [==============================] - 41s 5ms/step - loss: 0.7430 - accuracy: 0.6924 - val_loss: 0.7713 - val_accuracy: 0.6811\n",
      "Epoch 4/10\n",
      "7813/7813 [==============================] - 41s 5ms/step - loss: 0.7261 - accuracy: 0.6989 - val_loss: 0.7826 - val_accuracy: 0.6840\n",
      "Epoch 5/10\n",
      "7813/7813 [==============================] - 37s 5ms/step - loss: 0.7123 - accuracy: 0.7041 - val_loss: 0.7953 - val_accuracy: 0.6759\n",
      "Epoch 6/10\n",
      "7813/7813 [==============================] - 37s 5ms/step - loss: 0.7024 - accuracy: 0.7083 - val_loss: 0.8057 - val_accuracy: 0.6747\n",
      "Epoch 7/10\n",
      "7813/7813 [==============================] - 37s 5ms/step - loss: 0.6914 - accuracy: 0.7127 - val_loss: 0.8360 - val_accuracy: 0.6754\n",
      "Epoch 8/10\n",
      "7813/7813 [==============================] - 37s 5ms/step - loss: 0.6830 - accuracy: 0.7164 - val_loss: 0.8312 - val_accuracy: 0.6698\n",
      "Epoch 9/10\n",
      "7813/7813 [==============================] - 37s 5ms/step - loss: 0.6755 - accuracy: 0.7183 - val_loss: 0.8346 - val_accuracy: 0.6753\n",
      "Epoch 10/10\n",
      "7813/7813 [==============================] - 37s 5ms/step - loss: 0.6666 - accuracy: 0.7232 - val_loss: 0.8586 - val_accuracy: 0.6714\n",
      "Epoch 1/10\n",
      "7813/7813 [==============================] - 38s 5ms/step - loss: 0.9861 - accuracy: 0.6240 - val_loss: 0.7818 - val_accuracy: 0.6808\n",
      "Epoch 2/10\n",
      "7813/7813 [==============================] - 41s 5ms/step - loss: 0.8479 - accuracy: 0.6542 - val_loss: 0.7974 - val_accuracy: 0.6743\n",
      "Epoch 3/10\n",
      "7813/7813 [==============================] - 41s 5ms/step - loss: 0.8241 - accuracy: 0.6616 - val_loss: 0.7935 - val_accuracy: 0.6819\n",
      "Epoch 4/10\n",
      "7813/7813 [==============================] - 41s 5ms/step - loss: 0.8075 - accuracy: 0.6673 - val_loss: 0.8089 - val_accuracy: 0.6760\n",
      "Epoch 5/10\n",
      "7813/7813 [==============================] - 40s 5ms/step - loss: 0.7957 - accuracy: 0.6707 - val_loss: 0.8117 - val_accuracy: 0.6765\n",
      "Epoch 6/10\n",
      "7813/7813 [==============================] - 40s 5ms/step - loss: 0.7882 - accuracy: 0.6734 - val_loss: 0.8251 - val_accuracy: 0.6733\n",
      "Epoch 7/10\n",
      "7813/7813 [==============================] - 40s 5ms/step - loss: 0.7794 - accuracy: 0.6750 - val_loss: 0.8487 - val_accuracy: 0.6697\n",
      "Epoch 8/10\n",
      "7813/7813 [==============================] - 40s 5ms/step - loss: 0.7732 - accuracy: 0.6782 - val_loss: 0.8612 - val_accuracy: 0.6664\n",
      "Epoch 9/10\n",
      "7813/7813 [==============================] - 40s 5ms/step - loss: 0.7662 - accuracy: 0.6804 - val_loss: 0.8566 - val_accuracy: 0.6676\n",
      "Epoch 10/10\n",
      "4546/7813 [================>.............] - ETA: 15s - loss: 0.7526 - accuracy: 0.6855"
     ]
    }
   ],
   "source": [
    "%%time\n",
    "epochs = 10\n",
    "\n",
    "results = dict()\n",
    "for config, params in configs.items():\n",
    "    model = create_model(maxlen, vocab_size, embed_dim, num_heads, ff_dims, *params)\n",
    "    \n",
    "    results[config] = model.fit(X_train, y_train, batch_size=32, epochs=epochs,\n",
    "                                validation_data=(X_test, y_test), verbose=1)\n",
    "    \n",
    "# Save results\n",
    "final_results = {cfg: hist.history for cfg, hist in results.items()}\n",
    "with open('experiments/results/reg_results.pickle', 'wb') as handle:\n",
    "    pickle.dump(final_results, handle)"
   ]
  },
  {
   "cell_type": "markdown",
   "id": "31aeeb11",
   "metadata": {},
   "source": [
    "# Viz"
   ]
  },
  {
   "cell_type": "markdown",
   "id": "224e71c4",
   "metadata": {},
   "source": [
    "##### Load?"
   ]
  },
  {
   "cell_type": "code",
   "execution_count": null,
   "id": "47752b6a",
   "metadata": {},
   "outputs": [],
   "source": [
    "with open('experiments/results/reg_results.pickle', 'rb') as handle:\n",
    "    final_results = pickle.load(handle)"
   ]
  },
  {
   "cell_type": "code",
   "execution_count": 18,
   "id": "ba014d87",
   "metadata": {},
   "outputs": [
    {
     "data": {
      "text/plain": [
       "{'none': {'loss': [0.7928962111473083,\n",
       "   0.7175706624984741,\n",
       "   0.6899109482765198,\n",
       "   0.6674190163612366,\n",
       "   0.6479158401489258,\n",
       "   0.6270806193351746,\n",
       "   0.6082817316055298,\n",
       "   0.5891371369361877,\n",
       "   0.5723675489425659,\n",
       "   0.5559813976287842],\n",
       "  'accuracy': [0.6689199805259705,\n",
       "   0.6984480023384094,\n",
       "   0.7101200222969055,\n",
       "   0.7198399901390076,\n",
       "   0.7273480296134949,\n",
       "   0.7378039956092834,\n",
       "   0.746288001537323,\n",
       "   0.7551760077476501,\n",
       "   0.761788010597229,\n",
       "   0.7702760100364685],\n",
       "  'val_loss': [0.7527366280555725,\n",
       "   0.744102954864502,\n",
       "   0.7472820281982422,\n",
       "   0.7679600715637207,\n",
       "   0.771781861782074,\n",
       "   0.7953081130981445,\n",
       "   0.819179356098175,\n",
       "   0.8667758107185364,\n",
       "   0.894984245300293,\n",
       "   0.9345840811729431],\n",
       "  'val_accuracy': [0.6867799758911133,\n",
       "   0.6906800270080566,\n",
       "   0.690060019493103,\n",
       "   0.6847800016403198,\n",
       "   0.6809999942779541,\n",
       "   0.6789199709892273,\n",
       "   0.6755599975585938,\n",
       "   0.6745200157165527,\n",
       "   0.6714199781417847,\n",
       "   0.6631199717521667]},\n",
       " 'low': {'loss': [0.8291431665420532,\n",
       "   0.7423821687698364,\n",
       "   0.7120963335037231,\n",
       "   0.6899240016937256,\n",
       "   0.672799825668335,\n",
       "   0.6581451892852783,\n",
       "   0.6461610794067383,\n",
       "   0.6360465884208679,\n",
       "   0.6271149516105652,\n",
       "   0.6154322624206543],\n",
       "  'accuracy': [0.6624959707260132,\n",
       "   0.690447986125946,\n",
       "   0.7029799818992615,\n",
       "   0.7118800282478333,\n",
       "   0.7191720008850098,\n",
       "   0.7254440188407898,\n",
       "   0.7310240268707275,\n",
       "   0.7344239950180054,\n",
       "   0.7383440136909485,\n",
       "   0.7433680295944214],\n",
       "  'val_loss': [0.7544125914573669,\n",
       "   0.7558699250221252,\n",
       "   0.7593538165092468,\n",
       "   0.7581207156181335,\n",
       "   0.7805427312850952,\n",
       "   0.8006280660629272,\n",
       "   0.8264226317405701,\n",
       "   0.8195478320121765,\n",
       "   0.8406345248222351,\n",
       "   0.8431749939918518],\n",
       "  'val_accuracy': [0.6869000196456909,\n",
       "   0.6852999925613403,\n",
       "   0.6909599900245667,\n",
       "   0.6873400211334229,\n",
       "   0.6818400025367737,\n",
       "   0.6807799935340881,\n",
       "   0.6798800230026245,\n",
       "   0.677839994430542,\n",
       "   0.6720799803733826,\n",
       "   0.6760600209236145]},\n",
       " 'med': {'loss': [0.862523078918457,\n",
       "   0.7683510780334473,\n",
       "   0.7448252439498901,\n",
       "   0.7281602621078491,\n",
       "   0.7148570418357849,\n",
       "   0.7042616009712219,\n",
       "   0.6961450576782227,\n",
       "   0.6887868046760559,\n",
       "   0.6814344525337219,\n",
       "   0.674017608165741],\n",
       "  'accuracy': [0.6585680246353149,\n",
       "   0.6841679811477661,\n",
       "   0.6923239827156067,\n",
       "   0.6981920003890991,\n",
       "   0.7034639716148376,\n",
       "   0.708079993724823,\n",
       "   0.7109360098838806,\n",
       "   0.7132120132446289,\n",
       "   0.7170119881629944,\n",
       "   0.719648003578186],\n",
       "  'val_loss': [0.7746360898017883,\n",
       "   0.7631340026855469,\n",
       "   0.7673611640930176,\n",
       "   0.8050787448883057,\n",
       "   0.7986259460449219,\n",
       "   0.8086878061294556,\n",
       "   0.8029310703277588,\n",
       "   0.8322002291679382,\n",
       "   0.8582072854042053,\n",
       "   0.8678450584411621],\n",
       "  'val_accuracy': [0.6810399889945984,\n",
       "   0.6855000257492065,\n",
       "   0.684660017490387,\n",
       "   0.6703000068664551,\n",
       "   0.6740999817848206,\n",
       "   0.6808800101280212,\n",
       "   0.6785399913787842,\n",
       "   0.6718599796295166,\n",
       "   0.66839998960495,\n",
       "   0.6718599796295166]},\n",
       " 'high': {'loss': [0.9733617901802063,\n",
       "   0.8348365426063538,\n",
       "   0.8085368871688843,\n",
       "   0.7927176356315613,\n",
       "   0.7806599736213684,\n",
       "   0.7716798782348633,\n",
       "   0.7638638019561768,\n",
       "   0.7556998133659363,\n",
       "   0.7511100769042969,\n",
       "   0.7440196871757507],\n",
       "  'accuracy': [0.6306359767913818,\n",
       "   0.660368025302887,\n",
       "   0.6685879826545715,\n",
       "   0.6737120151519775,\n",
       "   0.6784080266952515,\n",
       "   0.6819440126419067,\n",
       "   0.6838080286979675,\n",
       "   0.6868559718132019,\n",
       "   0.6886559724807739,\n",
       "   0.6911399960517883],\n",
       "  'val_loss': [0.7846184968948364,\n",
       "   0.7934648394584656,\n",
       "   0.7984039187431335,\n",
       "   0.8403162360191345,\n",
       "   0.8267515897750854,\n",
       "   0.8639752864837646,\n",
       "   0.8366133570671082,\n",
       "   0.8543624877929688,\n",
       "   0.8857134580612183,\n",
       "   0.8606997132301331],\n",
       "  'val_accuracy': [0.6764000058174133,\n",
       "   0.6659200191497803,\n",
       "   0.6658200025558472,\n",
       "   0.6501799821853638,\n",
       "   0.6634399890899658,\n",
       "   0.6539999842643738,\n",
       "   0.6512200236320496,\n",
       "   0.6292399764060974,\n",
       "   0.6434199810028076,\n",
       "   0.6617199778556824]}}"
      ]
     },
     "execution_count": 18,
     "metadata": {},
     "output_type": "execute_result"
    }
   ],
   "source": [
    "final_results"
   ]
  },
  {
   "cell_type": "markdown",
   "id": "962534eb",
   "metadata": {},
   "source": [
    "##### Viz"
   ]
  },
  {
   "cell_type": "code",
   "execution_count": 34,
   "id": "146c84d0",
   "metadata": {},
   "outputs": [
    {
     "data": {
      "image/png": "[encoded data removed]",
      "text/plain": [
       "<Figure size 400x900 with 2 Axes>"
      ]
     },
     "metadata": {},
     "output_type": "display_data"
    }
   ],
   "source": [
    "fig, axes = plt.subplots(2, 1, dpi=100, figsize=(4, 9))\n",
    "\n",
    "\n",
    "\n",
    "for cfg, hist in final_results.items():\n",
    "    axes[0].plot(hist[\"val_loss\"], label=cfg)\n",
    "    \n",
    "axes[0].set_title(\"Regularization Loss Comparison\")\n",
    "axes[0].set_xlabel(\"Epoch\")\n",
    "axes[0].set_ylabel(\"Loss\")\n",
    "axes[0].legend()\n",
    "\n",
    "for cfg, hist in final_results.items():\n",
    "    axes[1].plot(hist[\"val_acc\"], label=cfg)\n",
    "    \n",
    "axes[1].set_title(\"Regularization Accuracy Comparison\")\n",
    "axes[1].set_xlabel(\"Epoch\")\n",
    "axes[1].set_ylabel(\"Loss Difference\")\n",
    "axes[1].legend()\n",
    "\n",
    "plt.subplots_adjust(hspace=0.3)\n",
    "\n",
    "plt.show()"
   ]
  }
 ],
 "metadata": {
  "kernelspec": {
   "display_name": "Python [conda env:tf-gpu]",
   "language": "python",
   "name": "conda-env-tf-gpu-py"
  },
  "language_info": {
   "codemirror_mode": {
    "name": "ipython",
    "version": 3
   },
   "file_extension": ".py",
   "mimetype": "text/x-python",
   "name": "python",
   "nbconvert_exporter": "python",
   "pygments_lexer": "ipython3",
   "version": "3.10.4"
  }
 },
 "nbformat": 4,
 "nbformat_minor": 5
}

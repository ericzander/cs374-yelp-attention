{
 "cells": [
  {
   "cell_type": "markdown",
   "id": "bd318293",
   "metadata": {},
   "source": [
    "---"
   ]
  },
  {
   "cell_type": "markdown",
   "id": "93fb8d86",
   "metadata": {},
   "source": [
    "# Setup"
   ]
  },
  {
   "cell_type": "markdown",
   "id": "55c4193f",
   "metadata": {},
   "source": [
    "##### Set Root Dir as CWD"
   ]
  },
  {
   "cell_type": "code",
   "execution_count": 1,
   "id": "7d88d86d",
   "metadata": {},
   "outputs": [
    {
     "name": "stdout",
     "output_type": "stream",
     "text": [
      "D:\\Documents\\A_DIGIPEN\\PersonalSVN\\Fall22SVN\\CS374\\Project\\cs374-project\n"
     ]
    }
   ],
   "source": [
    "import os\n",
    "\n",
    "# Navigate to project root (if not already there)\n",
    "if os.path.split(os.getcwd())[1] != \"cs374-project\":\n",
    "    %cd ../"
   ]
  },
  {
   "cell_type": "markdown",
   "id": "ebf5af2e",
   "metadata": {},
   "source": [
    "##### Imports"
   ]
  },
  {
   "cell_type": "code",
   "execution_count": 2,
   "id": "f8dbe9fb",
   "metadata": {},
   "outputs": [],
   "source": [
    "import numpy as np\n",
    "import pandas as pd\n",
    "\n",
    "import spacy\n",
    "\n",
    "import tensorflow as tf\n",
    "from tensorflow import keras\n",
    "from tensorflow.keras import layers\n",
    "\n",
    "import matplotlib.pyplot as plt\n",
    "import seaborn as sns\n",
    "sns.set_theme()\n",
    "\n",
    "# Local\n",
    "from src.preprocesser import ReviewPreprocessor\n",
    "from src.model import ReviewClassifier"
   ]
  },
  {
   "cell_type": "markdown",
   "id": "3ef923cc",
   "metadata": {},
   "source": [
    "# Load"
   ]
  },
  {
   "cell_type": "code",
   "execution_count": 3,
   "id": "71b0f0cf",
   "metadata": {},
   "outputs": [],
   "source": [
    "path = \"data/yelp/reviews/\""
   ]
  },
  {
   "cell_type": "code",
   "execution_count": 4,
   "id": "73c9a325",
   "metadata": {},
   "outputs": [
    {
     "name": "stdout",
     "output_type": "stream",
     "text": [
      "CPU times: total: 4.73 s\n",
      "Wall time: 4.78 s\n"
     ]
    }
   ],
   "source": [
    "%%time\n",
    "# Load dev set (10% of total data) as train\n",
    "val = pd.read_pickle(path + \"val.xz\")"
   ]
  },
  {
   "cell_type": "code",
   "execution_count": 5,
   "id": "b8ccc29f",
   "metadata": {},
   "outputs": [
    {
     "data": {
      "text/html": [
       "<div>\n",
       "<style scoped>\n",
       "    .dataframe tbody tr th:only-of-type {\n",
       "        vertical-align: middle;\n",
       "    }\n",
       "\n",
       "    .dataframe tbody tr th {\n",
       "        vertical-align: top;\n",
       "    }\n",
       "\n",
       "    .dataframe thead th {\n",
       "        text-align: right;\n",
       "    }\n",
       "</style>\n",
       "<table border=\"1\" class=\"dataframe\">\n",
       "  <thead>\n",
       "    <tr style=\"text-align: right;\">\n",
       "      <th></th>\n",
       "      <th>text</th>\n",
       "      <th>stars</th>\n",
       "    </tr>\n",
       "  </thead>\n",
       "  <tbody>\n",
       "    <tr>\n",
       "      <th>6211529</th>\n",
       "      <td>They are really professional and always sugges...</td>\n",
       "      <td>5</td>\n",
       "    </tr>\n",
       "    <tr>\n",
       "      <th>2795691</th>\n",
       "      <td>This is my new favourite sushi restaurant in E...</td>\n",
       "      <td>4</td>\n",
       "    </tr>\n",
       "    <tr>\n",
       "      <th>4040968</th>\n",
       "      <td>Fantastic visit here. Hapoy to find it on my a...</td>\n",
       "      <td>5</td>\n",
       "    </tr>\n",
       "    <tr>\n",
       "      <th>870450</th>\n",
       "      <td>I have eaten here on a few occasions. There is...</td>\n",
       "      <td>3</td>\n",
       "    </tr>\n",
       "    <tr>\n",
       "      <th>5479481</th>\n",
       "      <td>This place is a disgrace. Their customer servi...</td>\n",
       "      <td>1</td>\n",
       "    </tr>\n",
       "    <tr>\n",
       "      <th>...</th>\n",
       "      <td>...</td>\n",
       "      <td>...</td>\n",
       "    </tr>\n",
       "    <tr>\n",
       "      <th>5103142</th>\n",
       "      <td>I was born and raised in Chicago on thin crust...</td>\n",
       "      <td>5</td>\n",
       "    </tr>\n",
       "    <tr>\n",
       "      <th>423717</th>\n",
       "      <td>I love Mee Lu. I will be going back for waxing...</td>\n",
       "      <td>4</td>\n",
       "    </tr>\n",
       "    <tr>\n",
       "      <th>4806837</th>\n",
       "      <td>Fun English restaurant/bar in the heart of Phi...</td>\n",
       "      <td>3</td>\n",
       "    </tr>\n",
       "    <tr>\n",
       "      <th>6131355</th>\n",
       "      <td>So my wife and I ordered from crave tonight......</td>\n",
       "      <td>3</td>\n",
       "    </tr>\n",
       "    <tr>\n",
       "      <th>1137483</th>\n",
       "      <td>First time in New Orleans, and we heard wonder...</td>\n",
       "      <td>2</td>\n",
       "    </tr>\n",
       "  </tbody>\n",
       "</table>\n",
       "<p>699028 rows × 2 columns</p>\n",
       "</div>"
      ],
      "text/plain": [
       "                                                      text  stars\n",
       "6211529  They are really professional and always sugges...      5\n",
       "2795691  This is my new favourite sushi restaurant in E...      4\n",
       "4040968  Fantastic visit here. Hapoy to find it on my a...      5\n",
       "870450   I have eaten here on a few occasions. There is...      3\n",
       "5479481  This place is a disgrace. Their customer servi...      1\n",
       "...                                                    ...    ...\n",
       "5103142  I was born and raised in Chicago on thin crust...      5\n",
       "423717   I love Mee Lu. I will be going back for waxing...      4\n",
       "4806837  Fun English restaurant/bar in the heart of Phi...      3\n",
       "6131355  So my wife and I ordered from crave tonight......      3\n",
       "1137483  First time in New Orleans, and we heard wonder...      2\n",
       "\n",
       "[699028 rows x 2 columns]"
      ]
     },
     "execution_count": 5,
     "metadata": {},
     "output_type": "execute_result"
    }
   ],
   "source": [
    "val"
   ]
  },
  {
   "cell_type": "markdown",
   "id": "05965e48",
   "metadata": {},
   "source": [
    "##### Save Target"
   ]
  },
  {
   "cell_type": "code",
   "execution_count": 7,
   "id": "9d6ae318",
   "metadata": {},
   "outputs": [],
   "source": [
    "# Save reviews stars from 0-4\n",
    "y_val = tf.convert_to_tensor(val[\"stars\"].values - 1)"
   ]
  },
  {
   "cell_type": "markdown",
   "id": "d4fd8d22",
   "metadata": {},
   "source": [
    "# Preprocess"
   ]
  },
  {
   "cell_type": "code",
   "execution_count": 9,
   "id": "c5230aed",
   "metadata": {
    "scrolled": true
   },
   "outputs": [],
   "source": [
    "batch_size = 4000\n",
    "n_processes = 4\n",
    "\n",
    "maxlen = 200         # Number of words per review to consider\n",
    "vocab_size = 20_000  # Size of vocabulary\n",
    "\n",
    "prep_path = f\"experiments/preprocessors/final.pickle\""
   ]
  },
  {
   "cell_type": "markdown",
   "id": "a7579d78",
   "metadata": {},
   "source": [
    "##### Load from raw data"
   ]
  },
  {
   "cell_type": "code",
   "execution_count": 12,
   "id": "792e976d",
   "metadata": {},
   "outputs": [
    {
     "name": "stdout",
     "output_type": "stream",
     "text": [
      "CPU times: total: 1h 23min 24s\n",
      "Wall time: 3h 10min 1s\n"
     ]
    }
   ],
   "source": [
    "%%time\n",
    "# Configure preprocessor based on comparison\n",
    "prep = ReviewPreprocessor.load_from_pickle(prep_path)\n",
    "\n",
    "# Preprocess text\n",
    "X_val_norm = prep.normalize(val[\"text\"], batch_size, n_processes)\n",
    "\n",
    "# Convert to tensor of padded sequences\n",
    "X_val = prep.to_tensor(X_val_norm)"
   ]
  },
  {
   "cell_type": "markdown",
   "id": "8f0385e8",
   "metadata": {},
   "source": [
    "##### View Before and After Preprocessing"
   ]
  },
  {
   "cell_type": "code",
   "execution_count": 12,
   "id": "d3c8d426",
   "metadata": {},
   "outputs": [
    {
     "name": "stdout",
     "output_type": "stream",
     "text": [
      "Ordered through grub hub, food came half an hour past the maximum delivery window. A simple breakfast order took 90 minutes to get to me, and the potatoes were half raw. Delivery timing may not have been the restaurant's fault, but the undercooked food was.\n",
      "\n",
      "Delivery fee is actually $3.99, NOT $0 as posted on yelp\n",
      "\n",
      " - - - - \n",
      "\n",
      "['ordered', 'through', 'grub', 'hub', ',', 'food', 'came', 'TIME', 'TIME', 'TIME', 'past', 'the', 'maximum', 'delivery', 'window', '.', 'a', 'simple', 'breakfast', 'order', 'took', '90', 'e0', 'TIME', 'to', 'get', 'to', 'me', ',', 'and', 'the', 'potatoes', 'were', 'CARDINAL', 'raw', '.', 'delivery', 'timing', 'may', 'not', 'have', 'been', 'the', 'restaurant', \"'\", 's', 'fault', ',', 'but', 'the', 'undercooked', 'food', 'was', '.', 'delivery', 'fee', 'is', 'actually', '$', '3', 'e0', '.', '99', 'e0', ',', 'not', '$', '0', 'e0', 'as', 'posted', 'on', 'yelp'] 73\n",
      "\n",
      " - - - - \n",
      "\n",
      "tf.Tensor(\n",
      "[ 104  290 3711 5009    4   38  115   23   23   23  783    2 7513  593\n",
      "  900    1    6  690  274  110  181 1636   20   23    7   62    7   50\n",
      "    4    3    2  631   35   43 1250    1  593 3380  466   31   33   81\n",
      "    2  117    9   34 1454    4   28    2 2268   38    8    1  593 1282\n",
      "   14  331  125  178   20    1 1257   20    4   31  125 1744   20   47\n",
      " 1929   29 1031    0    0    0    0    0    0    0    0    0    0    0\n",
      "    0    0    0    0    0    0    0    0    0    0    0    0    0    0\n",
      "    0    0    0    0    0    0    0    0    0    0    0    0    0    0\n",
      "    0    0    0    0    0    0    0    0    0    0    0    0    0    0\n",
      "    0    0    0    0    0    0    0    0    0    0    0    0    0    0\n",
      "    0    0    0    0    0    0    0    0    0    0    0    0    0    0\n",
      "    0    0    0    0    0    0    0    0    0    0    0    0    0    0\n",
      "    0    0    0    0    0    0    0    0    0    0    0    0    0    0\n",
      "    0    0    0    0    0    0    0    0    0    0    0    0    0    0\n",
      "    0    0    0    0], shape=(200,), dtype=int32)\n"
     ]
    }
   ],
   "source": [
    "print_idx = 8\n",
    "print(val[\"text\"].iloc[print_idx])\n",
    "print(\"\\n - - - - \\n\")\n",
    "print(X_val_norm[print_idx], len(X_val_norm[print_idx]))\n",
    "print(\"\\n - - - - \\n\")\n",
    "print(X_val[print_idx])"
   ]
  },
  {
   "cell_type": "markdown",
   "id": "f9839669",
   "metadata": {},
   "source": [
    "# Model"
   ]
  },
  {
   "cell_type": "markdown",
   "id": "2de79d55",
   "metadata": {},
   "source": [
    "* Reference https://keras.io/examples/nlp/text_classification_with_transformer/"
   ]
  },
  {
   "cell_type": "markdown",
   "id": "e25eea7b",
   "metadata": {},
   "source": [
    "##### Load Model"
   ]
  },
  {
   "cell_type": "code",
   "execution_count": 10,
   "id": "01d66238",
   "metadata": {},
   "outputs": [],
   "source": [
    "# Model\n",
    "model = keras.models.load_model(\"experiments/models/final_model\")"
   ]
  },
  {
   "cell_type": "code",
   "execution_count": 14,
   "id": "26dd94ca",
   "metadata": {},
   "outputs": [
    {
     "name": "stdout",
     "output_type": "stream",
     "text": [
      "1/1 [==============================] - 2s 2s/step\n"
     ]
    },
    {
     "data": {
      "text/plain": [
       "array([[0.15694028, 0.19558105, 0.1585571 , 0.24361321, 0.24530843],\n",
       "       [0.1702983 , 0.21328758, 0.07838115, 0.31940526, 0.21862768],\n",
       "       [0.14197375, 0.205456  , 0.03435435, 0.40518376, 0.21303208],\n",
       "       [0.15400489, 0.18007413, 0.12180891, 0.27932695, 0.26478514],\n",
       "       [0.14453752, 0.20823543, 0.03128969, 0.40455407, 0.21138325]],\n",
       "      dtype=float32)"
      ]
     },
     "execution_count": 14,
     "metadata": {},
     "output_type": "execute_result"
    }
   ],
   "source": [
    "model.predict(X_train[:5])"
   ]
  },
  {
   "cell_type": "code",
   "execution_count": 16,
   "id": "39281a41",
   "metadata": {},
   "outputs": [
    {
     "name": "stdout",
     "output_type": "stream",
     "text": [
      "Model: \"review_classifier\"\n",
      "_________________________________________________________________\n",
      " Layer (type)                Output Shape              Param #   \n",
      "=================================================================\n",
      " t_emb (Embedding)           multiple                  640000    \n",
      "                                                                 \n",
      " p_emb (Embedding)           multiple                  6400      \n",
      "                                                                 \n",
      " attention (MultiHeadAttenti  multiple                 8416      \n",
      " on)                                                             \n",
      "                                                                 \n",
      " sequential (Sequential)     (None, 200, 32)           1056      \n",
      "                                                                 \n",
      " layer_normalization (LayerN  multiple                 64        \n",
      " ormalization)                                                   \n",
      "                                                                 \n",
      " layer_normalization_1 (Laye  multiple                 64        \n",
      " rNormalization)                                                 \n",
      "                                                                 \n",
      " dropout (Dropout)           multiple                  0         \n",
      "                                                                 \n",
      " dropout_1 (Dropout)         multiple                  0         \n",
      "                                                                 \n",
      " global_average_pooling1d (G  multiple                 0         \n",
      " lobalAveragePooling1D)                                          \n",
      "                                                                 \n",
      " dropout_2 (Dropout)         multiple                  0         \n",
      "                                                                 \n",
      " dense_1 (Dense)             multiple                  660       \n",
      "                                                                 \n",
      " dropout_3 (Dropout)         multiple                  0         \n",
      "                                                                 \n",
      " dense_2 (Dense)             multiple                  105       \n",
      "                                                                 \n",
      "=================================================================\n",
      "Total params: 656,765\n",
      "Trainable params: 656,765\n",
      "Non-trainable params: 0\n",
      "_________________________________________________________________\n"
     ]
    }
   ],
   "source": [
    "model.summary()"
   ]
  },
  {
   "cell_type": "markdown",
   "id": "5f5c4080",
   "metadata": {},
   "source": [
    "# Evaluate"
   ]
  },
  {
   "cell_type": "code",
   "execution_count": 51,
   "id": "4aab1fad",
   "metadata": {},
   "outputs": [
    {
     "name": "stdout",
     "output_type": "stream",
     "text": [
      "21845/21845 [==============================] - 36s 2ms/step\n"
     ]
    }
   ],
   "source": [
    "# Get probabilities per class\n",
    "y_pred = model.predict(X_val)"
   ]
  },
  {
   "cell_type": "code",
   "execution_count": 52,
   "id": "5f8ece44",
   "metadata": {},
   "outputs": [],
   "source": [
    "# Get star predictions and negative/positive predictions\n",
    "y_pred_multi = tf.argmax(y_pred, axis=1)"
   ]
  },
  {
   "cell_type": "code",
   "execution_count": 53,
   "id": "a540289f",
   "metadata": {},
   "outputs": [
    {
     "data": {
      "text/plain": [
       "<tf.Tensor: shape=(699028,), dtype=float64, numpy=\n",
       "array([3.91745288, 3.82218743, 0.09109641, ..., 3.96920484, 3.10105394,\n",
       "       3.89718001])>"
      ]
     },
     "execution_count": 53,
     "metadata": {},
     "output_type": "execute_result"
    }
   ],
   "source": [
    "# Calculate continuous star rating based on probabilities\n",
    "star_reg = tf.reduce_sum(y_pred * np.array([0, 1, 2, 3, 4]), axis=1)\n",
    "star_reg"
   ]
  },
  {
   "cell_type": "code",
   "execution_count": 54,
   "id": "10bac6eb",
   "metadata": {},
   "outputs": [],
   "source": [
    "# Determine if sentiment is negative or postiive\n",
    "y_pred_binary = star_reg > 2"
   ]
  },
  {
   "cell_type": "code",
   "execution_count": 55,
   "id": "458f93b5",
   "metadata": {},
   "outputs": [
    {
     "name": "stdout",
     "output_type": "stream",
     "text": [
      "multi-class accuracy: 0.6949950502698032\n",
      "(compare to ~0.2)\n"
     ]
    }
   ],
   "source": [
    "print(\"multi-class accuracy: \" + str((y_pred_multi == y_test).numpy().sum() / len(y_test)))\n",
    "print(\"(compare to ~0.2)\")"
   ]
  },
  {
   "cell_type": "code",
   "execution_count": 56,
   "id": "6526ece6",
   "metadata": {},
   "outputs": [
    {
     "name": "stdout",
     "output_type": "stream",
     "text": [
      "binary accuracy: 0.9059236539881093\n",
      "(compare to ~0.5)\n"
     ]
    }
   ],
   "source": [
    "print(\"binary accuracy: \" + str((y_pred_binary == (y_test >= 3)).numpy().sum() / len(y_test)))\n",
    "print(\"(compare to ~0.5)\")"
   ]
  },
  {
   "cell_type": "code",
   "execution_count": 57,
   "id": "701bc09d",
   "metadata": {},
   "outputs": [
    {
     "name": "stdout",
     "output_type": "stream",
     "text": [
      "Average of 0.3809 stars off\n"
     ]
    }
   ],
   "source": [
    "avg_err = tf.reduce_sum(tf.math.abs(y_test - y_pred_multi)) / len(y_test)\n",
    "avg_err = avg_err.numpy()\n",
    "print(f\"Mean Absolute Error: Average of {avg_err:.4f} stars off\")"
   ]
  },
  {
   "cell_type": "markdown",
   "id": "f9dd5601",
   "metadata": {},
   "source": [
    "##### Visualize Attention"
   ]
  },
  {
   "cell_type": "code",
   "execution_count": 58,
   "id": "79f640f9",
   "metadata": {
    "scrolled": true
   },
   "outputs": [
    {
     "data": {
      "text/plain": [
       "<tf.Tensor: shape=(100, 200), dtype=float32, numpy=\n",
       "array([[0.04983199, 0.        , 0.03516538, ..., 0.        , 0.        ,\n",
       "        0.        ],\n",
       "       [0.00950472, 0.20049529, 0.005     , ..., 0.        , 0.        ,\n",
       "        0.        ],\n",
       "       [0.07      , 0.27999842, 0.        , ..., 0.        , 0.        ,\n",
       "        0.        ],\n",
       "       ...,\n",
       "       [0.025     , 0.08984116, 0.        , ..., 0.        , 0.        ,\n",
       "        0.        ],\n",
       "       [0.005     , 0.03      , 0.07      , ..., 0.        , 0.        ,\n",
       "        0.        ],\n",
       "       [0.135     , 0.17285107, 0.        , ..., 0.        , 0.        ,\n",
       "        0.        ]], dtype=float32)>"
      ]
     },
     "execution_count": 58,
     "metadata": {},
     "output_type": "execute_result"
    }
   ],
   "source": [
    "# Get attention scores\n",
    "_, attns = model(X_test[:100], return_att=True)\n",
    "\n",
    "# Get attention for each sample\n",
    "attns = tf.reduce_mean(attns, axis=2)[:, 0, :]\n",
    "attns"
   ]
  },
  {
   "cell_type": "code",
   "execution_count": 59,
   "id": "b2c9f538",
   "metadata": {},
   "outputs": [
    {
     "data": {
      "text/plain": [
       "<tf.Tensor: shape=(34,), dtype=float32, numpy=\n",
       "array([4.98319902e-02, 0.00000000e+00, 3.51653807e-02, 5.75425662e-02,\n",
       "       1.99999996e-02, 1.98365208e-02, 3.50033864e-02, 0.00000000e+00,\n",
       "       1.99999996e-02, 0.00000000e+00, 0.00000000e+00, 9.99999978e-03,\n",
       "       0.00000000e+00, 0.00000000e+00, 4.99999989e-03, 0.00000000e+00,\n",
       "       0.00000000e+00, 6.46237913e-06, 0.00000000e+00, 9.99999978e-03,\n",
       "       6.28405600e-04, 0.00000000e+00, 3.43715958e-02, 0.00000000e+00,\n",
       "       3.89999241e-01, 0.00000000e+00, 2.74574328e-02, 0.00000000e+00,\n",
       "       9.99999978e-03, 0.00000000e+00, 0.00000000e+00, 0.00000000e+00,\n",
       "       1.00017525e-02, 1.50034457e-01], dtype=float32)>"
      ]
     },
     "execution_count": 59,
     "metadata": {},
     "output_type": "execute_result"
    }
   ],
   "source": [
    "attns[0][:34]"
   ]
  },
  {
   "cell_type": "code",
   "execution_count": 66,
   "id": "153958bb",
   "metadata": {
    "scrolled": false
   },
   "outputs": [
    {
     "name": "stdout",
     "output_type": "stream",
     "text": [
      "<Original Text>\n",
      "This place is NOT closed.  We went there on 18 August 2017.  Great, great corned beef and pastrami sandwich, the Bains special.  Also wonderful Italian sub and tuna sandwich.  Our picky son, who eats nothing, actually ate a third of his sister's sandwich.  One of the best lunches we've had in a long time.  Really nice staff and not a bad price.\n",
      "\n",
      "<Preprocessed>\n",
      "['place', 'close', 'go', '18', 'e0', 'date', '20', 'e2', 'great', 'great', 'corned', 'beef', 'pastrami', 'sandwich', 'norp', 'special', 'wonderful', 'norp', 'sub', 'tuna', 'sandwich', 'picky', 'son', 'eat', 'actually', 'eat', 'ordinal', 'sister', \"'\", 's', 'sandwich', 'cardinal', 'good', 'lunch', \"'\", 've', 'long', 'time', 'nice', 'staff', 'bad', 'price']\n"
     ]
    },
    {
     "data": {
      "image/png": "[encoded data removed]",
      "text/plain": [
       "<Figure size 600x840 with 1 Axes>"
      ]
     },
     "metadata": {},
     "output_type": "display_data"
    }
   ],
   "source": [
    "sample_idx = 6\n",
    "\n",
    "# Get word sequences without oov words\n",
    "in_seq = X_test_norm[sample_idx]\n",
    "in_seq = [tok for tok in prep.tokenizer.sequences_to_texts(prep.tokenizer.texts_to_sequences(in_seq)) if tok]\n",
    "seq_len = len(in_seq)\n",
    "\n",
    "# Get attention values\n",
    "attn_vals = attns[sample_idx][:seq_len].numpy()\n",
    "\n",
    "print(\"<Original Text>\")\n",
    "print(test[\"text\"].iloc[sample_idx])\n",
    "\n",
    "print(\"\\n<Preprocessed>\")\n",
    "print(in_seq)\n",
    "\n",
    "plt.figure(figsize=(6, 0.2 * seq_len), dpi=100)\n",
    "sns.barplot(y=in_seq, x=attn_vals, ci=None, color=\"orange\")\n",
    "\n",
    "plt.show()"
   ]
  }
 ],
 "metadata": {
  "kernelspec": {
   "display_name": "Python [conda env:tf-gpu]",
   "language": "python",
   "name": "conda-env-tf-gpu-py"
  },
  "language_info": {
   "codemirror_mode": {
    "name": "ipython",
    "version": 3
   },
   "file_extension": ".py",
   "mimetype": "text/x-python",
   "name": "python",
   "nbconvert_exporter": "python",
   "pygments_lexer": "ipython3",
   "version": "3.10.4"
  }
 },
 "nbformat": 4,
 "nbformat_minor": 5
}

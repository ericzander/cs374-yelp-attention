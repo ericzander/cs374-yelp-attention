{
 "cells": [
  {
   "cell_type": "markdown",
   "id": "bd318293",
   "metadata": {},
   "source": [
    "---"
   ]
  },
  {
   "cell_type": "markdown",
   "id": "93fb8d86",
   "metadata": {},
   "source": [
    "# Setup"
   ]
  },
  {
   "cell_type": "markdown",
   "id": "55c4193f",
   "metadata": {},
   "source": [
    "##### Set Root Dir as CWD"
   ]
  },
  {
   "cell_type": "code",
   "execution_count": 1,
   "id": "7d88d86d",
   "metadata": {},
   "outputs": [
    {
     "name": "stdout",
     "output_type": "stream",
     "text": [
      "D:\\Documents\\A_DIGIPEN\\PersonalSVN\\Fall22SVN\\CS374\\Project\\cs374-project\n"
     ]
    }
   ],
   "source": [
    "import os\n",
    "\n",
    "# Navigate to project root (if not already there)\n",
    "if os.path.split(os.getcwd())[1] != \"cs374-project\":\n",
    "    %cd ../"
   ]
  },
  {
   "cell_type": "markdown",
   "id": "ebf5af2e",
   "metadata": {},
   "source": [
    "##### Imports"
   ]
  },
  {
   "cell_type": "code",
   "execution_count": 2,
   "id": "f8dbe9fb",
   "metadata": {},
   "outputs": [],
   "source": [
    "import numpy as np\n",
    "import pandas as pd\n",
    "\n",
    "import spacy\n",
    "\n",
    "import tensorflow as tf\n",
    "from tensorflow import keras\n",
    "from tensorflow.keras import layers\n",
    "\n",
    "import matplotlib.pyplot as plt\n",
    "import seaborn as sns\n",
    "sns.set_theme()\n",
    "\n",
    "# Local\n",
    "from src.preprocesser import ReviewPreprocessor\n",
    "from src.model import ReviewClassifier"
   ]
  },
  {
   "cell_type": "markdown",
   "id": "3ef923cc",
   "metadata": {},
   "source": [
    "# Load"
   ]
  },
  {
   "cell_type": "code",
   "execution_count": 3,
   "id": "71b0f0cf",
   "metadata": {},
   "outputs": [],
   "source": [
    "path = \"data/yelp/reviews/\""
   ]
  },
  {
   "cell_type": "code",
   "execution_count": 4,
   "id": "73c9a325",
   "metadata": {},
   "outputs": [
    {
     "name": "stdout",
     "output_type": "stream",
     "text": [
      "CPU times: total: 3.94 s\n",
      "Wall time: 3.94 s\n"
     ]
    }
   ],
   "source": [
    "%%time\n",
    "# Load dev set (10% of total data) as train\n",
    "val = pd.read_pickle(path + \"val.xz\")"
   ]
  },
  {
   "cell_type": "code",
   "execution_count": 5,
   "id": "b8ccc29f",
   "metadata": {},
   "outputs": [
    {
     "data": {
      "text/html": [
       "<div>\n",
       "<style scoped>\n",
       "    .dataframe tbody tr th:only-of-type {\n",
       "        vertical-align: middle;\n",
       "    }\n",
       "\n",
       "    .dataframe tbody tr th {\n",
       "        vertical-align: top;\n",
       "    }\n",
       "\n",
       "    .dataframe thead th {\n",
       "        text-align: right;\n",
       "    }\n",
       "</style>\n",
       "<table border=\"1\" class=\"dataframe\">\n",
       "  <thead>\n",
       "    <tr style=\"text-align: right;\">\n",
       "      <th></th>\n",
       "      <th>text</th>\n",
       "      <th>stars</th>\n",
       "    </tr>\n",
       "  </thead>\n",
       "  <tbody>\n",
       "    <tr>\n",
       "      <th>6211529</th>\n",
       "      <td>They are really professional and always sugges...</td>\n",
       "      <td>5</td>\n",
       "    </tr>\n",
       "    <tr>\n",
       "      <th>2795691</th>\n",
       "      <td>This is my new favourite sushi restaurant in E...</td>\n",
       "      <td>4</td>\n",
       "    </tr>\n",
       "    <tr>\n",
       "      <th>4040968</th>\n",
       "      <td>Fantastic visit here. Hapoy to find it on my a...</td>\n",
       "      <td>5</td>\n",
       "    </tr>\n",
       "    <tr>\n",
       "      <th>870450</th>\n",
       "      <td>I have eaten here on a few occasions. There is...</td>\n",
       "      <td>3</td>\n",
       "    </tr>\n",
       "    <tr>\n",
       "      <th>5479481</th>\n",
       "      <td>This place is a disgrace. Their customer servi...</td>\n",
       "      <td>1</td>\n",
       "    </tr>\n",
       "    <tr>\n",
       "      <th>...</th>\n",
       "      <td>...</td>\n",
       "      <td>...</td>\n",
       "    </tr>\n",
       "    <tr>\n",
       "      <th>5103142</th>\n",
       "      <td>I was born and raised in Chicago on thin crust...</td>\n",
       "      <td>5</td>\n",
       "    </tr>\n",
       "    <tr>\n",
       "      <th>423717</th>\n",
       "      <td>I love Mee Lu. I will be going back for waxing...</td>\n",
       "      <td>4</td>\n",
       "    </tr>\n",
       "    <tr>\n",
       "      <th>4806837</th>\n",
       "      <td>Fun English restaurant/bar in the heart of Phi...</td>\n",
       "      <td>3</td>\n",
       "    </tr>\n",
       "    <tr>\n",
       "      <th>6131355</th>\n",
       "      <td>So my wife and I ordered from crave tonight......</td>\n",
       "      <td>3</td>\n",
       "    </tr>\n",
       "    <tr>\n",
       "      <th>1137483</th>\n",
       "      <td>First time in New Orleans, and we heard wonder...</td>\n",
       "      <td>2</td>\n",
       "    </tr>\n",
       "  </tbody>\n",
       "</table>\n",
       "<p>699028 rows × 2 columns</p>\n",
       "</div>"
      ],
      "text/plain": [
       "                                                      text  stars\n",
       "6211529  They are really professional and always sugges...      5\n",
       "2795691  This is my new favourite sushi restaurant in E...      4\n",
       "4040968  Fantastic visit here. Hapoy to find it on my a...      5\n",
       "870450   I have eaten here on a few occasions. There is...      3\n",
       "5479481  This place is a disgrace. Their customer servi...      1\n",
       "...                                                    ...    ...\n",
       "5103142  I was born and raised in Chicago on thin crust...      5\n",
       "423717   I love Mee Lu. I will be going back for waxing...      4\n",
       "4806837  Fun English restaurant/bar in the heart of Phi...      3\n",
       "6131355  So my wife and I ordered from crave tonight......      3\n",
       "1137483  First time in New Orleans, and we heard wonder...      2\n",
       "\n",
       "[699028 rows x 2 columns]"
      ]
     },
     "execution_count": 5,
     "metadata": {},
     "output_type": "execute_result"
    }
   ],
   "source": [
    "val"
   ]
  },
  {
   "cell_type": "markdown",
   "id": "05965e48",
   "metadata": {},
   "source": [
    "##### Save Target"
   ]
  },
  {
   "cell_type": "code",
   "execution_count": 6,
   "id": "9d6ae318",
   "metadata": {},
   "outputs": [],
   "source": [
    "# Save reviews stars from 0-4\n",
    "y_val = tf.convert_to_tensor(val[\"stars\"].values - 1)"
   ]
  },
  {
   "cell_type": "markdown",
   "id": "d4fd8d22",
   "metadata": {},
   "source": [
    "# Preprocess"
   ]
  },
  {
   "cell_type": "code",
   "execution_count": 7,
   "id": "c5230aed",
   "metadata": {
    "scrolled": true
   },
   "outputs": [],
   "source": [
    "batch_size = 4000\n",
    "n_processes = 4\n",
    "\n",
    "maxlen = 200         # Number of words per review to consider\n",
    "vocab_size = 20_000  # Size of vocabulary\n",
    "\n",
    "prep_path = f\"experiments/preprocessors/final.pickle\""
   ]
  },
  {
   "cell_type": "markdown",
   "id": "a7579d78",
   "metadata": {},
   "source": [
    "##### Load from raw data"
   ]
  },
  {
   "cell_type": "code",
   "execution_count": 8,
   "id": "792e976d",
   "metadata": {},
   "outputs": [
    {
     "name": "stdout",
     "output_type": "stream",
     "text": [
      "CPU times: total: 8min 25s\n",
      "Wall time: 20min 50s\n"
     ]
    }
   ],
   "source": [
    "%%time\n",
    "# Configure preprocessor based on comparison\n",
    "prep = ReviewPreprocessor.load_from_pickle(prep_path)\n",
    "\n",
    "# Preprocess text\n",
    "X_val_norm = prep.normalize(val[\"text\"], batch_size, n_processes)\n",
    "\n",
    "# Convert to tensor of padded sequences\n",
    "X_val = prep.to_tensor(X_val_norm)"
   ]
  },
  {
   "cell_type": "markdown",
   "id": "8f0385e8",
   "metadata": {},
   "source": [
    "##### View Before and After Preprocessing"
   ]
  },
  {
   "cell_type": "code",
   "execution_count": 9,
   "id": "d3c8d426",
   "metadata": {},
   "outputs": [
    {
     "name": "stdout",
     "output_type": "stream",
     "text": [
      "They did a beautiful job remodeling this bar it's absolutely stunning inside and they have a great patio. They just need to work on the customer service and the vibe of the place a little.\n",
      "\n",
      " - - - - \n",
      "\n",
      "['they', 'did', 'a', 'beautiful', 'job', 'remodeling', 'this', 'bar', 'it', \"'\", 's', 'absolutely', 'stunning', 'inside', 'and', 'they', 'have', 'a', 'great', 'patio', '.', 'they', 'just', 'need', 'to', 'work', 'on', 'the', 'customer', 'service', 'and', 'the', 'vibe', 'of', 'the', 'place', 'a', 'little', '.'] 39\n",
      "\n",
      " - - - - \n",
      "\n",
      "tf.Tensor(\n",
      "[  24  111    6  450  339 6268   26  153   10    9   34  349 3699  319\n",
      "    3   24   33    6   46  709    1   24   60  242    7  191   29    2\n",
      "  224   59    3    2  785   11    2   45    6  126    1    0    0    0\n",
      "    0    0    0    0    0    0    0    0    0    0    0    0    0    0\n",
      "    0    0    0    0    0    0    0    0    0    0    0    0    0    0\n",
      "    0    0    0    0    0    0    0    0    0    0    0    0    0    0\n",
      "    0    0    0    0    0    0    0    0    0    0    0    0    0    0\n",
      "    0    0    0    0    0    0    0    0    0    0    0    0    0    0\n",
      "    0    0    0    0    0    0    0    0    0    0    0    0    0    0\n",
      "    0    0    0    0    0    0    0    0    0    0    0    0    0    0\n",
      "    0    0    0    0    0    0    0    0    0    0    0    0    0    0\n",
      "    0    0    0    0    0    0    0    0    0    0    0    0    0    0\n",
      "    0    0    0    0    0    0    0    0    0    0    0    0    0    0\n",
      "    0    0    0    0    0    0    0    0    0    0    0    0    0    0\n",
      "    0    0    0    0], shape=(200,), dtype=int32)\n"
     ]
    }
   ],
   "source": [
    "print_idx = 8\n",
    "print(val[\"text\"].iloc[print_idx])\n",
    "print(\"\\n - - - - \\n\")\n",
    "print(X_val_norm[print_idx], len(X_val_norm[print_idx]))\n",
    "print(\"\\n - - - - \\n\")\n",
    "print(X_val[print_idx])"
   ]
  },
  {
   "cell_type": "markdown",
   "id": "f9839669",
   "metadata": {},
   "source": [
    "# Model"
   ]
  },
  {
   "cell_type": "markdown",
   "id": "e25eea7b",
   "metadata": {},
   "source": [
    "##### Load Model"
   ]
  },
  {
   "cell_type": "code",
   "execution_count": 10,
   "id": "01d66238",
   "metadata": {},
   "outputs": [
    {
     "data": {
      "text/plain": [
       "<tensorflow.python.training.tracking.util.CheckpointLoadStatus at 0x2832cd453f0>"
      ]
     },
     "execution_count": 10,
     "metadata": {},
     "output_type": "execute_result"
    }
   ],
   "source": [
    "# From saved model (doesn't work with attn scores)\n",
    "#model = keras.models.load_model(\"experiments/models/final_model\")\n",
    "\n",
    "# From checkpoint\n",
    "embed_dim = 32  # Attention output size\n",
    "num_heads = 2   # Number of attention heads\n",
    "ff_dims = [32]  # Hidden layer sizes in feed forward network inside transformer\n",
    "reg = 1.0e-2    # L2 Reg based on comparison\n",
    "dropout = 0.3   # Dropout based on comparison\n",
    "cp_path = \"experiments/model_checkpoints/\"\n",
    "model = ReviewClassifier(maxlen, vocab_size, embed_dim, num_heads, ff_dims, reg, dropout)\n",
    "model.load_weights(cp_path + f\"final.ckpt\")"
   ]
  },
  {
   "cell_type": "code",
   "execution_count": 11,
   "id": "26dd94ca",
   "metadata": {},
   "outputs": [
    {
     "name": "stdout",
     "output_type": "stream",
     "text": [
      "1/1 [==============================] - 1s 1s/step\n"
     ]
    },
    {
     "data": {
      "text/plain": [
       "array([[1.0663584e-06, 3.5022549e-06, 8.6634001e-04, 8.5881434e-02,\n",
       "        9.1324764e-01],\n",
       "       [3.4737499e-05, 1.0860832e-03, 7.6416686e-02, 6.3945198e-01,\n",
       "        2.8301057e-01],\n",
       "       [7.6224995e-07, 6.6340817e-06, 2.8881892e-03, 1.9622584e-01,\n",
       "        8.0087858e-01],\n",
       "       [4.0096536e-02, 1.9694185e-01, 3.5662508e-01, 3.1959209e-01,\n",
       "        8.6744413e-02],\n",
       "       [9.9136001e-01, 8.5916966e-03, 4.8098671e-05, 9.6740777e-08,\n",
       "        1.2983766e-08]], dtype=float32)"
      ]
     },
     "execution_count": 11,
     "metadata": {},
     "output_type": "execute_result"
    }
   ],
   "source": [
    "model.predict(X_val[:5])"
   ]
  },
  {
   "cell_type": "code",
   "execution_count": 12,
   "id": "39281a41",
   "metadata": {},
   "outputs": [
    {
     "name": "stdout",
     "output_type": "stream",
     "text": [
      "Model: \"review_classifier\"\n",
      "_________________________________________________________________\n",
      " Layer (type)                Output Shape              Param #   \n",
      "=================================================================\n",
      " t_emb (Embedding)           multiple                  640000    \n",
      "                                                                 \n",
      " p_emb (Embedding)           multiple                  6400      \n",
      "                                                                 \n",
      " attention (MultiHeadAttenti  multiple                 8416      \n",
      " on)                                                             \n",
      "                                                                 \n",
      " sequential (Sequential)     (None, 200, 32)           1056      \n",
      "                                                                 \n",
      " layer_normalization (LayerN  multiple                 64        \n",
      " ormalization)                                                   \n",
      "                                                                 \n",
      " layer_normalization_1 (Laye  multiple                 64        \n",
      " rNormalization)                                                 \n",
      "                                                                 \n",
      " dropout (Dropout)           multiple                  0         \n",
      "                                                                 \n",
      " dropout_1 (Dropout)         multiple                  0         \n",
      "                                                                 \n",
      " global_average_pooling1d (G  multiple                 0         \n",
      " lobalAveragePooling1D)                                          \n",
      "                                                                 \n",
      " dropout_2 (Dropout)         multiple                  0         \n",
      "                                                                 \n",
      " dense_1 (Dense)             multiple                  660       \n",
      "                                                                 \n",
      " dropout_3 (Dropout)         multiple                  0         \n",
      "                                                                 \n",
      " dense_2 (Dense)             multiple                  105       \n",
      "                                                                 \n",
      "=================================================================\n",
      "Total params: 656,765\n",
      "Trainable params: 656,765\n",
      "Non-trainable params: 0\n",
      "_________________________________________________________________\n"
     ]
    }
   ],
   "source": [
    "model.summary()"
   ]
  },
  {
   "cell_type": "markdown",
   "id": "5f5c4080",
   "metadata": {},
   "source": [
    "# Evaluate"
   ]
  },
  {
   "cell_type": "code",
   "execution_count": 13,
   "id": "4aab1fad",
   "metadata": {},
   "outputs": [
    {
     "name": "stdout",
     "output_type": "stream",
     "text": [
      "21845/21845 [==============================] - 30s 1ms/step\n"
     ]
    }
   ],
   "source": [
    "# Get probabilities per class\n",
    "y_pred = model.predict(X_val)"
   ]
  },
  {
   "cell_type": "code",
   "execution_count": 14,
   "id": "5f8ece44",
   "metadata": {},
   "outputs": [],
   "source": [
    "# Get star predictions and negative/positive predictions\n",
    "y_pred_multi = tf.argmax(y_pred, axis=1)"
   ]
  },
  {
   "cell_type": "code",
   "execution_count": 15,
   "id": "a540289f",
   "metadata": {},
   "outputs": [
    {
     "data": {
      "text/plain": [
       "<tf.Tensor: shape=(699028,), dtype=float64, numpy=\n",
       "array([3.91238186, 3.20440443, 3.79807959, ..., 3.11043476, 3.70646865,\n",
       "       2.18883124])>"
      ]
     },
     "execution_count": 15,
     "metadata": {},
     "output_type": "execute_result"
    }
   ],
   "source": [
    "# Calculate continuous star rating based on probabilities\n",
    "star_reg = tf.reduce_sum(y_pred * np.array([0, 1, 2, 3, 4]), axis=1)\n",
    "star_reg"
   ]
  },
  {
   "cell_type": "code",
   "execution_count": 16,
   "id": "f9e41c26",
   "metadata": {},
   "outputs": [
    {
     "data": {
      "text/plain": [
       "<tf.Tensor: shape=(699028,), dtype=int64, numpy=array([4, 3, 4, ..., 2, 2, 1], dtype=int64)>"
      ]
     },
     "execution_count": 16,
     "metadata": {},
     "output_type": "execute_result"
    }
   ],
   "source": [
    "y_val"
   ]
  },
  {
   "cell_type": "code",
   "execution_count": 17,
   "id": "a31fa29b",
   "metadata": {},
   "outputs": [
    {
     "data": {
      "text/plain": [
       "2"
      ]
     },
     "execution_count": 17,
     "metadata": {},
     "output_type": "execute_result"
    }
   ],
   "source": [
    "tf.reduce_mean(y_val).numpy()"
   ]
  },
  {
   "cell_type": "code",
   "execution_count": 18,
   "id": "10bac6eb",
   "metadata": {},
   "outputs": [],
   "source": [
    "# Determine if sentiment is negative or postiive\n",
    "y_pred_binary = star_reg >= 2"
   ]
  },
  {
   "cell_type": "code",
   "execution_count": 19,
   "id": "458f93b5",
   "metadata": {},
   "outputs": [
    {
     "name": "stdout",
     "output_type": "stream",
     "text": [
      "multi-class accuracy: 0.7017444222549025\n"
     ]
    }
   ],
   "source": [
    "print(\"multi-class accuracy: \" + str((y_pred_multi == y_val).numpy().sum() / len(y_val)))"
   ]
  },
  {
   "cell_type": "code",
   "execution_count": 20,
   "id": "6526ece6",
   "metadata": {},
   "outputs": [
    {
     "name": "stdout",
     "output_type": "stream",
     "text": [
      "binary accuracy: 0.9126358314688396\n"
     ]
    }
   ],
   "source": [
    "print(\"binary accuracy: \" + str((y_pred_binary == (y_val >= 3)).numpy().sum() / len(y_val)))"
   ]
  },
  {
   "cell_type": "code",
   "execution_count": 21,
   "id": "701bc09d",
   "metadata": {},
   "outputs": [
    {
     "name": "stdout",
     "output_type": "stream",
     "text": [
      "Mean Absolute Error: Average of 0.3598 stars off\n"
     ]
    }
   ],
   "source": [
    "avg_err = tf.reduce_sum(tf.math.abs(y_val - y_pred_multi)) / len(y_val)\n",
    "avg_err = avg_err.numpy()\n",
    "print(f\"Mean Absolute Error: Average of {avg_err:.4f} stars off\")"
   ]
  },
  {
   "cell_type": "code",
   "execution_count": 22,
   "id": "144218c5",
   "metadata": {},
   "outputs": [
    {
     "data": {
      "image/png": "[encoded data removed]",
      "text/plain": [
       "<Figure size 320x600 with 1 Axes>"
      ]
     },
     "metadata": {},
     "output_type": "display_data"
    }
   ],
   "source": [
    "plt.figure(dpi=100, figsize=(3.2, 6))\n",
    "\n",
    "model_val_names = [\"Reg. LSTM\", \"Our Model\", \"FT BERT\", \"Big Bird\", \"XLNet\", \"HAHNN\"]\n",
    "model_val_accs = [68.7, 70.2, 70.6, 72.2, 73.0, 73.3]\n",
    "model_val_names.reverse()\n",
    "model_val_accs.reverse()\n",
    "\n",
    "ax = sns.barplot(\n",
    "    y=model_val_names,\n",
    "    x=model_val_accs,\n",
    "    palette=[\"#73C6B6\" if i !=4 else \"#138D75\" for i in range(6)]\n",
    ")\n",
    "plt.xlim(65, 80)\n",
    "plt.xticks([65, 70, 75, 80])\n",
    "ax.bar_label(ax.containers[0], fmt=\"%.1f\", padding=4, labels=[str(val) + \"%\" for val in model_val_accs])\n",
    "\n",
    "plt.title(\"Yelp-5 Validation Accuracies by Model\")\n",
    "plt.xlabel(\"Accuracy\")\n",
    "\n",
    "plt.show()"
   ]
  },
  {
   "cell_type": "markdown",
   "id": "f9dd5601",
   "metadata": {},
   "source": [
    "##### Visualize Attention"
   ]
  },
  {
   "cell_type": "code",
   "execution_count": 23,
   "id": "79f640f9",
   "metadata": {
    "scrolled": true
   },
   "outputs": [
    {
     "data": {
      "text/plain": [
       "<tf.Tensor: shape=(100, 200), dtype=float32, numpy=\n",
       "array([[6.4615138e-02, 1.4064997e-01, 1.9586211e-01, ..., 0.0000000e+00,\n",
       "        0.0000000e+00, 0.0000000e+00],\n",
       "       [1.5692554e-04, 1.1812446e-02, 9.8764477e-03, ..., 0.0000000e+00,\n",
       "        0.0000000e+00, 0.0000000e+00],\n",
       "       [2.6472425e-01, 1.6547798e-01, 5.0601619e-03, ..., 0.0000000e+00,\n",
       "        0.0000000e+00, 0.0000000e+00],\n",
       "       ...,\n",
       "       [8.6857425e-04, 2.7973267e-01, 3.8277071e-02, ..., 0.0000000e+00,\n",
       "        0.0000000e+00, 0.0000000e+00],\n",
       "       [4.5533672e-02, 1.1269929e-01, 1.1367991e-01, ..., 0.0000000e+00,\n",
       "        0.0000000e+00, 0.0000000e+00],\n",
       "       [5.0139528e-02, 6.8314822e-04, 3.9479566e-01, ..., 0.0000000e+00,\n",
       "        0.0000000e+00, 0.0000000e+00]], dtype=float32)>"
      ]
     },
     "execution_count": 23,
     "metadata": {},
     "output_type": "execute_result"
    }
   ],
   "source": [
    "# Get attention scores\n",
    "_, attns = model(X_val[:100], return_att=True)\n",
    "\n",
    "# Get attention for each sample\n",
    "attns = tf.reduce_mean(attns, axis=2)[:, 0, :]\n",
    "attns"
   ]
  },
  {
   "cell_type": "code",
   "execution_count": 24,
   "id": "b2c9f538",
   "metadata": {},
   "outputs": [
    {
     "data": {
      "text/plain": [
       "<tf.Tensor: shape=(34,), dtype=float32, numpy=\n",
       "array([0.06461514, 0.14064997, 0.19586211, 0.25356346, 0.00168195,\n",
       "       0.00205253, 0.04743958, 0.01235273, 0.11597173, 0.00608554,\n",
       "       0.03024661, 0.06855658, 0.00159435, 0.05932764, 0.        ,\n",
       "       0.        , 0.        , 0.        , 0.        , 0.        ,\n",
       "       0.        , 0.        , 0.        , 0.        , 0.        ,\n",
       "       0.        , 0.        , 0.        , 0.        , 0.        ,\n",
       "       0.        , 0.        , 0.        , 0.        ], dtype=float32)>"
      ]
     },
     "execution_count": 24,
     "metadata": {},
     "output_type": "execute_result"
    }
   ],
   "source": [
    "attns[0][:34]"
   ]
  },
  {
   "cell_type": "code",
   "execution_count": 25,
   "id": "153958bb",
   "metadata": {
    "scrolled": false
   },
   "outputs": [
    {
     "name": "stdout",
     "output_type": "stream",
     "text": [
      "<Original Text>\n",
      "They did a beautiful job remodeling this bar it's absolutely stunning inside and they have a great patio. They just need to work on the customer service and the vibe of the place a little.\n",
      "\n",
      "<Preprocessed>\n",
      "['they', 'did', 'a', 'beautiful', 'job', 'remodeling', 'this', 'bar', 'it', \"'\", 's', 'absolutely', 'stunning', 'inside', 'and', 'they', 'have', 'a', 'great', 'patio', 'they', 'just', 'need', 'to', 'work', 'on', 'the', 'customer', 'service', 'and', 'the', 'vibe', 'of', 'the', 'place', 'a', 'little']\n"
     ]
    },
    {
     "data": {
      "image/png": "[encoded data removed]",
      "text/plain": [
       "<Figure size 300x740 with 1 Axes>"
      ]
     },
     "metadata": {},
     "output_type": "display_data"
    }
   ],
   "source": [
    "sample_idx = 8\n",
    "\n",
    "# Get word sequences without oov words\n",
    "in_seq = X_val_norm[sample_idx][:maxlen]\n",
    "in_seq = [tok for tok in prep.tokenizer.sequences_to_texts(prep.tokenizer.texts_to_sequences(in_seq)) if tok]\n",
    "seq_len = len(in_seq)\n",
    "\n",
    "# Get attention values\n",
    "attn_vals = attns[sample_idx][:seq_len].numpy()\n",
    "\n",
    "print(\"<Original Text>\")\n",
    "print(val[\"text\"].iloc[sample_idx])\n",
    "\n",
    "print(\"\\n<Preprocessed>\")\n",
    "print(in_seq)\n",
    "\n",
    "plt.figure(figsize=(3, 0.2 * seq_len), dpi=100)\n",
    "sns.barplot(y=in_seq, x=attn_vals, ci=None, color=\"#EC7063\")\n",
    "\n",
    "plt.title(\"Mean Attention Score by Word\")\n",
    "\n",
    "#plt.gca().set_yticklabels(in_seq)\n",
    "\n",
    "plt.show()"
   ]
  },
  {
   "cell_type": "markdown",
   "id": "f5c36976",
   "metadata": {},
   "source": [
    "# Binary Classification Scores"
   ]
  },
  {
   "cell_type": "code",
   "execution_count": 135,
   "id": "8c58ee9e",
   "metadata": {},
   "outputs": [
    {
     "data": {
      "image/png": "[encoded data removed]",
      "text/plain": [
       "<Figure size 350x400 with 1 Axes>"
      ]
     },
     "metadata": {},
     "output_type": "display_data"
    }
   ],
   "source": [
    "plt.figure(figsize=(3.5, 4.0), dpi=100)\n",
    "\n",
    "dataset_names = [\"Yelp\", \"IMDb\", \"Steam\"]\n",
    "bin_class_scores = [91.26, 79.22, 81.91]\n",
    "\n",
    "ax = sns.barplot(\n",
    "    x=dataset_names,\n",
    "    y=bin_class_scores,\n",
    "    palette=[\"#9B59B6\" if i ==0 else \"#C39BD3\" for i in range(6)]\n",
    ")\n",
    "plt.axhline(bin_class_scores[0], color=\"grey\", linestyle=\":\")\n",
    "plt.ylim(0, 100)\n",
    "ax.bar_label(ax.containers[0], fmt=\"%.2f\", padding=4, labels=[str(val) + \"%\" for val in bin_class_scores])\n",
    "\n",
    "plt.title(\"Binary Classification Accuracy by Dataset\")\n",
    "plt.ylabel(\"Accuracy\")\n",
    "plt.xlabel(\"Dataset\")\n",
    "\n",
    "plt.show()"
   ]
  }
 ],
 "metadata": {
  "kernelspec": {
   "display_name": "Python [conda env:tf-gpu]",
   "language": "python",
   "name": "conda-env-tf-gpu-py"
  },
  "language_info": {
   "codemirror_mode": {
    "name": "ipython",
    "version": 3
   },
   "file_extension": ".py",
   "mimetype": "text/x-python",
   "name": "python",
   "nbconvert_exporter": "python",
   "pygments_lexer": "ipython3",
   "version": "3.10.4"
  }
 },
 "nbformat": 4,
 "nbformat_minor": 5
}

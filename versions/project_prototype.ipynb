{
 "cells": [
  {
   "cell_type": "markdown",
   "id": "299467c3",
   "metadata": {},
   "source": [
    "> This notebook is meant to show a prototype for basic sentiment analysis with deep learning. Only the basics of preprocessing and architecture are tested. Test subsets of the data are used here only due to the more managable size as a proof of concept."
   ]
  },
  {
   "cell_type": "markdown",
   "id": "bd318293",
   "metadata": {},
   "source": [
    "---"
   ]
  },
  {
   "cell_type": "markdown",
   "id": "93fb8d86",
   "metadata": {},
   "source": [
    "# Setup"
   ]
  },
  {
   "cell_type": "markdown",
   "id": "ebf5af2e",
   "metadata": {},
   "source": [
    "##### Imports"
   ]
  },
  {
   "cell_type": "code",
   "execution_count": 1,
   "id": "f8dbe9fb",
   "metadata": {},
   "outputs": [],
   "source": [
    "import os\n",
    "\n",
    "import numpy as np\n",
    "import pandas as pd\n",
    "\n",
    "import spacy\n",
    "\n",
    "import tensorflow as tf\n",
    "from tensorflow import keras\n",
    "from tensorflow.keras import layers\n",
    "\n",
    "import matplotlib.pyplot as plt"
   ]
  },
  {
   "cell_type": "markdown",
   "id": "55c4193f",
   "metadata": {},
   "source": [
    "##### Set Root Dir as CWD"
   ]
  },
  {
   "cell_type": "code",
   "execution_count": 2,
   "id": "7d88d86d",
   "metadata": {},
   "outputs": [
    {
     "name": "stdout",
     "output_type": "stream",
     "text": [
      "D:\\Documents\\A_DIGIPEN\\PersonalSVN\\Fall22SVN\\CS374\\Project\\cs374-project\n"
     ]
    }
   ],
   "source": [
    "# Navigate to project root (if not already there)\n",
    "if os.path.split(os.getcwd())[1] != \"cs374-project\":\n",
    "    %cd ../"
   ]
  },
  {
   "cell_type": "markdown",
   "id": "3ef923cc",
   "metadata": {},
   "source": [
    "# Load"
   ]
  },
  {
   "cell_type": "code",
   "execution_count": 3,
   "id": "bc72c153",
   "metadata": {},
   "outputs": [],
   "source": [
    "num_samples = 500_000"
   ]
  },
  {
   "cell_type": "code",
   "execution_count": 4,
   "id": "71b0f0cf",
   "metadata": {},
   "outputs": [],
   "source": [
    "path = \"data/yelp/reviews/\""
   ]
  },
  {
   "cell_type": "code",
   "execution_count": 5,
   "id": "73c9a325",
   "metadata": {},
   "outputs": [
    {
     "name": "stdout",
     "output_type": "stream",
     "text": [
      "CPU times: total: 31 s\n",
      "Wall time: 31 s\n"
     ]
    }
   ],
   "source": [
    "%%time\n",
    "# Load dev set (10% of total data) as train\n",
    "train = pd.read_pickle(path + \"train.xz\").iloc[:num_samples]"
   ]
  },
  {
   "cell_type": "code",
   "execution_count": 6,
   "id": "821b8fb6",
   "metadata": {},
   "outputs": [
    {
     "name": "stdout",
     "output_type": "stream",
     "text": [
      "CPU times: total: 3.88 s\n",
      "Wall time: 3.85 s\n"
     ]
    }
   ],
   "source": [
    "%%time\n",
    "# Load test set (10% of total data) as test\n",
    "test = pd.read_pickle(path + \"test.xz\").iloc[:10_000]"
   ]
  },
  {
   "cell_type": "code",
   "execution_count": 7,
   "id": "b8ccc29f",
   "metadata": {},
   "outputs": [
    {
     "data": {
      "text/html": [
       "<div>\n",
       "<style scoped>\n",
       "    .dataframe tbody tr th:only-of-type {\n",
       "        vertical-align: middle;\n",
       "    }\n",
       "\n",
       "    .dataframe tbody tr th {\n",
       "        vertical-align: top;\n",
       "    }\n",
       "\n",
       "    .dataframe thead th {\n",
       "        text-align: right;\n",
       "    }\n",
       "</style>\n",
       "<table border=\"1\" class=\"dataframe\">\n",
       "  <thead>\n",
       "    <tr style=\"text-align: right;\">\n",
       "      <th></th>\n",
       "      <th>text</th>\n",
       "      <th>stars</th>\n",
       "    </tr>\n",
       "  </thead>\n",
       "  <tbody>\n",
       "    <tr>\n",
       "      <th>2903612</th>\n",
       "      <td>I like Wedding Belles for an odd reason. I set...</td>\n",
       "      <td>5</td>\n",
       "    </tr>\n",
       "    <tr>\n",
       "      <th>5050964</th>\n",
       "      <td>We had a great stay here. I felt like we got a...</td>\n",
       "      <td>5</td>\n",
       "    </tr>\n",
       "    <tr>\n",
       "      <th>1226557</th>\n",
       "      <td>A unique place for sure, not your standard bre...</td>\n",
       "      <td>3</td>\n",
       "    </tr>\n",
       "    <tr>\n",
       "      <th>776083</th>\n",
       "      <td>This will be a short review on service and gri...</td>\n",
       "      <td>4</td>\n",
       "    </tr>\n",
       "    <tr>\n",
       "      <th>227582</th>\n",
       "      <td>Great barbershop. Super friendly staff. They a...</td>\n",
       "      <td>5</td>\n",
       "    </tr>\n",
       "    <tr>\n",
       "      <th>...</th>\n",
       "      <td>...</td>\n",
       "      <td>...</td>\n",
       "    </tr>\n",
       "    <tr>\n",
       "      <th>6757466</th>\n",
       "      <td>Been there twice and twice is two to many. Peo...</td>\n",
       "      <td>1</td>\n",
       "    </tr>\n",
       "    <tr>\n",
       "      <th>4215725</th>\n",
       "      <td>I gave you 1 star because that's the minimum y...</td>\n",
       "      <td>1</td>\n",
       "    </tr>\n",
       "    <tr>\n",
       "      <th>5537655</th>\n",
       "      <td>I drove 3 hours to visit the Christmas Village...</td>\n",
       "      <td>4</td>\n",
       "    </tr>\n",
       "    <tr>\n",
       "      <th>1247879</th>\n",
       "      <td>The food and wine/ beer options were awesome b...</td>\n",
       "      <td>2</td>\n",
       "    </tr>\n",
       "    <tr>\n",
       "      <th>1397286</th>\n",
       "      <td>My husband and I live in the area and we never...</td>\n",
       "      <td>2</td>\n",
       "    </tr>\n",
       "  </tbody>\n",
       "</table>\n",
       "<p>500000 rows × 2 columns</p>\n",
       "</div>"
      ],
      "text/plain": [
       "                                                      text  stars\n",
       "2903612  I like Wedding Belles for an odd reason. I set...      5\n",
       "5050964  We had a great stay here. I felt like we got a...      5\n",
       "1226557  A unique place for sure, not your standard bre...      3\n",
       "776083   This will be a short review on service and gri...      4\n",
       "227582   Great barbershop. Super friendly staff. They a...      5\n",
       "...                                                    ...    ...\n",
       "6757466  Been there twice and twice is two to many. Peo...      1\n",
       "4215725  I gave you 1 star because that's the minimum y...      1\n",
       "5537655  I drove 3 hours to visit the Christmas Village...      4\n",
       "1247879  The food and wine/ beer options were awesome b...      2\n",
       "1397286  My husband and I live in the area and we never...      2\n",
       "\n",
       "[500000 rows x 2 columns]"
      ]
     },
     "execution_count": 7,
     "metadata": {},
     "output_type": "execute_result"
    }
   ],
   "source": [
    "train"
   ]
  },
  {
   "cell_type": "markdown",
   "id": "05965e48",
   "metadata": {},
   "source": [
    "##### Save Target"
   ]
  },
  {
   "cell_type": "code",
   "execution_count": 8,
   "id": "9d6ae318",
   "metadata": {},
   "outputs": [],
   "source": [
    "# Save reviews stars from 0-4\n",
    "y_train = tf.convert_to_tensor(train[\"stars\"].values - 1)\n",
    "y_test = tf.convert_to_tensor(test[\"stars\"].values - 1)"
   ]
  },
  {
   "cell_type": "markdown",
   "id": "d4fd8d22",
   "metadata": {},
   "source": [
    "# Preprocess"
   ]
  },
  {
   "cell_type": "markdown",
   "id": "deebf30d",
   "metadata": {},
   "source": [
    "##### Create Pipeline"
   ]
  },
  {
   "cell_type": "code",
   "execution_count": 9,
   "id": "c5230aed",
   "metadata": {},
   "outputs": [],
   "source": [
    "# Requires download\n",
    "#   $ python -m spacy download en_core_web_sm\n",
    "nlp = spacy.load(\"en_core_web_sm\", disable=[\"parser\"])"
   ]
  },
  {
   "cell_type": "code",
   "execution_count": 10,
   "id": "775b98f5",
   "metadata": {},
   "outputs": [
    {
     "name": "stdout",
     "output_type": "stream",
     "text": [
      "\u001b[1m\n",
      "============================= Pipeline Overview =============================\u001b[0m\n",
      "\n",
      "#   Component         Assigns          Requires   Scores          Retokenizes\n",
      "-   ---------------   --------------   --------   -------------   -----------\n",
      "0   tok2vec           doc.tensor                                  False      \n",
      "                                                                             \n",
      "1   tagger            token.tag                   tag_acc         False      \n",
      "                                                                             \n",
      "2   attribute_ruler                                               False      \n",
      "                                                                             \n",
      "3   lemmatizer        token.lemma                 lemma_acc       False      \n",
      "                                                                             \n",
      "4   ner               doc.ents                    ents_f          False      \n",
      "                      token.ent_iob               ents_p                     \n",
      "                      token.ent_type              ents_r                     \n",
      "                                                  ents_per_type              \n",
      "\n",
      "✔ No problems found.\n",
      "{'summary': {'tok2vec': {'assigns': ['doc.tensor'], 'requires': [], 'scores': [], 'retokenizes': False}, 'tagger': {'assigns': ['token.tag'], 'requires': [], 'scores': ['tag_acc'], 'retokenizes': False}, 'attribute_ruler': {'assigns': [], 'requires': [], 'scores': [], 'retokenizes': False}, 'lemmatizer': {'assigns': ['token.lemma'], 'requires': [], 'scores': ['lemma_acc'], 'retokenizes': False}, 'ner': {'assigns': ['doc.ents', 'token.ent_iob', 'token.ent_type'], 'requires': [], 'scores': ['ents_f', 'ents_p', 'ents_r', 'ents_per_type'], 'retokenizes': False}}, 'problems': {'tok2vec': [], 'tagger': [], 'attribute_ruler': [], 'lemmatizer': [], 'ner': []}, 'attrs': {'doc.ents': {'assigns': ['ner'], 'requires': []}, 'token.tag': {'assigns': ['tagger'], 'requires': []}, 'doc.tensor': {'assigns': ['tok2vec'], 'requires': []}, 'token.ent_type': {'assigns': ['ner'], 'requires': []}, 'token.lemma': {'assigns': ['lemmatizer'], 'requires': []}, 'token.ent_iob': {'assigns': ['ner'], 'requires': []}}}\n"
     ]
    }
   ],
   "source": [
    "print(nlp.analyze_pipes(pretty=True))"
   ]
  },
  {
   "cell_type": "code",
   "execution_count": 11,
   "id": "5f8b5e76",
   "metadata": {},
   "outputs": [
    {
     "name": "stdout",
     "output_type": "stream",
     "text": [
      "Great prices and a fabulous team to help with all your fabric needs! I've especially enjoyed working with the owner Kathy! Beautiful cushions, valances, drapes, and pillows!\n"
     ]
    }
   ],
   "source": [
    "i = 9\n",
    "\n",
    "# Get a single sentence as an example\n",
    "example = [test[\"text\"].iloc[i]]\n",
    "\n",
    "# Create a spacy doc with the example\n",
    "example_doc = list(nlp.pipe(example))[0]\n",
    "print(example_doc)"
   ]
  },
  {
   "cell_type": "code",
   "execution_count": 12,
   "id": "6e5560af",
   "metadata": {},
   "outputs": [
    {
     "name": "stdout",
     "output_type": "stream",
     "text": [
      "[Great][prices][and][a][fabulous][team][to][help][with][all][your][fabric][needs][!][I]['ve][especially][enjoyed][working][with][the][owner][Kathy][!][Beautiful][cushions][,][valances][,][drapes][,][and][pillows][!]"
     ]
    }
   ],
   "source": [
    "# Tokenization example\n",
    "for token in example_doc:\n",
    "    print(\"[\" + token.text + \"]\", end=\"\")"
   ]
  },
  {
   "cell_type": "code",
   "execution_count": 13,
   "id": "7e8c6ba8",
   "metadata": {},
   "outputs": [
    {
     "name": "stdout",
     "output_type": "stream",
     "text": [
      "[ Great great ADJ JJ Xxxxx True False ][ prices price NOUN NNS xxxx True False ][ and and CCONJ CC xxx True True ][ a a DET DT x True True ][ fabulous fabulous ADJ JJ xxxx True False ][ team team NOUN NN xxxx True False ][ to to PART TO xx True True ][ help help VERB VB xxxx True False ][ with with ADP IN xxxx True True ][ all all DET DT xxx True True ][ your your PRON PRP$ xxxx True True ][ fabric fabric NOUN NN xxxx True False ][ needs need NOUN NNS xxxx True False ][ ! ! PUNCT . ! False False ][ I I PRON PRP X True True ][ 've 've AUX VBP 'xx False True ][ especially especially ADV RB xxxx True False ][ enjoyed enjoy VERB VBN xxxx True False ][ working work VERB VBG xxxx True False ][ with with ADP IN xxxx True True ][ the the DET DT xxx True True ][ owner owner NOUN NN xxxx True False ][ Kathy Kathy PROPN NNP Xxxxx True False ][ ! ! PUNCT . ! False False ][ Beautiful beautiful ADJ JJ Xxxxx True False ][ cushions cushion NOUN NNS xxxx True False ][ , , PUNCT , , False False ][ valances valance NOUN NNS xxxx True False ][ , , PUNCT , , False False ][ drapes drape NOUN NNS xxxx True False ][ , , PUNCT , , False False ][ and and CCONJ CC xxx True True ][ pillows pillow NOUN NNS xxxx True False ][ ! ! PUNCT . ! False False ]"
     ]
    }
   ],
   "source": [
    "for token in example_doc:\n",
    "    # Print text, simple POS, detailed POS, shape, whether alphabetical, whether stopword\n",
    "    print(\"[\", token.text, token.lemma_, token.pos_, token.tag_,\n",
    "          token.shape_, token.is_alpha, token.is_stop, \"]\", end=\"\")"
   ]
  },
  {
   "cell_type": "code",
   "execution_count": 14,
   "id": "63198971",
   "metadata": {},
   "outputs": [
    {
     "name": "stdout",
     "output_type": "stream",
     "text": [
      "Kathy 116 121 PERSON\n"
     ]
    }
   ],
   "source": [
    "# Named entity recognition\n",
    "for ent in example_doc.ents:\n",
    "    print(ent.text, ent.start_char, ent.end_char, ent.label_)"
   ]
  },
  {
   "cell_type": "markdown",
   "id": "6646a6bd",
   "metadata": {},
   "source": [
    "##### Perform Preprocessing"
   ]
  },
  {
   "cell_type": "code",
   "execution_count": 15,
   "id": "af417ee4",
   "metadata": {},
   "outputs": [],
   "source": [
    "def normalize(doc):\n",
    "    \"\"\"Preprocesses a spacy Doc.\n",
    "    \n",
    "    Currently tokenizes, lemmatizes, and removes stopwords\n",
    "    \"\"\"\n",
    "    output = list()\n",
    "    for token in doc:\n",
    "        if not token.is_stop and token.is_alpha:\n",
    "            output.append(str(token.lemma_))\n",
    "    \n",
    "    return output"
   ]
  },
  {
   "cell_type": "code",
   "execution_count": 16,
   "id": "311f594f",
   "metadata": {},
   "outputs": [],
   "source": [
    "def apply_normalize(docs, batch_size=1_000, n_processes=1):\n",
    "    \"\"\"Applies preprocessing steps to iterable of spacy Docs.\"\"\"\n",
    "    results = []\n",
    "    for doc in nlp.pipe(docs, n_process=n_processes):\n",
    "        results.append(normalize(doc))\n",
    "    return results"
   ]
  },
  {
   "cell_type": "code",
   "execution_count": 17,
   "id": "46ca8b26",
   "metadata": {},
   "outputs": [
    {
     "name": "stdout",
     "output_type": "stream",
     "text": [
      "CPU times: total: 4min 56s\n",
      "Wall time: 14min 35s\n"
     ]
    }
   ],
   "source": [
    "%%time\n",
    "# Lowercase\n",
    "X_train = train[\"text\"].str.lower()\n",
    "X_test = test[\"text\"].str.lower()\n",
    "\n",
    "# Set multiprocessing params\n",
    "batch_size = 2000\n",
    "n_processes = 4\n",
    "\n",
    "# Preprocess reviews\n",
    "X_train = apply_normalize(X_train, batch_size=batch_size, n_processes=n_processes)\n",
    "X_test = apply_normalize(X_test, batch_size=batch_size, n_processes=n_processes)"
   ]
  },
  {
   "cell_type": "code",
   "execution_count": 18,
   "id": "6c369c45",
   "metadata": {},
   "outputs": [],
   "source": [
    "maxlen = 200  # Number of words in review to consider\n",
    "\n",
    "# Convert lists of words to vectors of numbers\n",
    "tokenizer = keras.preprocessing.text.Tokenizer(maxlen)\n",
    "tokenizer.fit_on_texts(X_train)\n",
    "X_train = tokenizer.texts_to_sequences(X_train)\n",
    "X_test = tokenizer.texts_to_sequences(X_test)\n",
    "\n",
    "# Pad sentences to be the same length\n",
    "X_train = keras.preprocessing.sequence.pad_sequences(X_train, maxlen=maxlen)\n",
    "X_test = keras.preprocessing.sequence.pad_sequences(X_test, maxlen=maxlen)\n",
    "\n",
    "# Convert to tensors for Keras\n",
    "X_train = tf.convert_to_tensor(X_train)\n",
    "X_test = tf.convert_to_tensor(X_test)"
   ]
  },
  {
   "cell_type": "markdown",
   "id": "f9839669",
   "metadata": {},
   "source": [
    "# Model"
   ]
  },
  {
   "cell_type": "markdown",
   "id": "2de79d55",
   "metadata": {},
   "source": [
    "* Reference https://keras.io/examples/nlp/text_classification_with_transformer/"
   ]
  },
  {
   "cell_type": "markdown",
   "id": "a78e383c",
   "metadata": {},
   "source": [
    "##### Embedding Layer Definition"
   ]
  },
  {
   "cell_type": "code",
   "execution_count": 19,
   "id": "01b20cf3",
   "metadata": {},
   "outputs": [],
   "source": [
    "class TokenAndPositionEmbedding(layers.Layer):\n",
    "    \"\"\"Pre-transformer layer.\"\"\"\n",
    "    def __init__(self, maxlen, vocab_size, embed_dim):\n",
    "        super(TokenAndPositionEmbedding, self).__init__()\n",
    "        \n",
    "        # Token embedding\n",
    "        self.token_emb = layers.Embedding(input_dim=vocab_size, output_dim=embed_dim)\n",
    "        \n",
    "        # Position embedding\n",
    "        self.pos_emb = layers.Embedding(input_dim=maxlen, output_dim=embed_dim)\n",
    "\n",
    "    def call(self, x):\n",
    "        maxlen = tf.shape(x)[-1]\n",
    "        positions = tf.range(start=0, limit=maxlen, delta=1)\n",
    "        positions = self.pos_emb(positions)\n",
    "\n",
    "        x = self.token_emb(x)\n",
    "        return x + positions"
   ]
  },
  {
   "cell_type": "markdown",
   "id": "b0b6a444",
   "metadata": {},
   "source": [
    "##### Transformer Layer Definition"
   ]
  },
  {
   "cell_type": "code",
   "execution_count": 20,
   "id": "45cccaee",
   "metadata": {},
   "outputs": [],
   "source": [
    "class TransformerBlock(layers.Layer):\n",
    "    \"\"\"Transformer for embedding.\"\"\"\n",
    "    def __init__(self, embed_dim, num_heads, ff_dims, rate=0.1):\n",
    "        super(TransformerBlock, self).__init__()\n",
    "        \n",
    "        # Attention based on token and positional info\n",
    "        self.att = layers.MultiHeadAttention(num_heads=num_heads, key_dim=embed_dim)\n",
    "        \n",
    "        # Feed-forward network with a layer for each number of neurons in ff_dims\n",
    "        self.ffn = keras.Sequential(\n",
    "            [layers.Dense(dim, activation=\"relu\") for dim in ff_dims] + [layers.Dense(embed_dim)]\n",
    "        )\n",
    "        \n",
    "        # Speed and regularization\n",
    "        self.layernorm1 = layers.LayerNormalization(epsilon=1e-6)\n",
    "        self.layernorm2 = layers.LayerNormalization(epsilon=1e-6)\n",
    "        self.dropout1 = layers.Dropout(rate)\n",
    "        self.dropout2 = layers.Dropout(rate)\n",
    "\n",
    "    def call(self, inputs, training):\n",
    "        # Calculate attention and get output\n",
    "        attn_output = self.att(inputs, inputs)\n",
    "        attn_output = self.dropout1(attn_output, training=training)\n",
    "        out1 = self.layernorm1(inputs + attn_output)\n",
    "        ffn_output = self.ffn(out1)\n",
    "        ffn_output = self.dropout2(ffn_output, training=training)\n",
    "        return self.layernorm2(out1 + ffn_output)"
   ]
  },
  {
   "cell_type": "markdown",
   "id": "e25eea7b",
   "metadata": {},
   "source": [
    "##### Create Model"
   ]
  },
  {
   "cell_type": "code",
   "execution_count": 21,
   "id": "ab5b8883",
   "metadata": {},
   "outputs": [],
   "source": [
    "# Hyperparameters\n",
    "vocab_size = 20000   # Only consider the top 20k words\n",
    "embed_dim = 64       # Embedding size for each token\n",
    "num_heads = 8        # Number of attention heads\n",
    "ff_dims = (128, 64)  # Hidden layer sizes in feed forward network inside transformer\n",
    "\n",
    "# Input layer with max number of words\n",
    "inputs = layers.Input(shape=(maxlen,))\n",
    "\n",
    "# Add embedding layer\n",
    "embedding_layer = TokenAndPositionEmbedding(maxlen, vocab_size, embed_dim)\n",
    "x = embedding_layer(inputs)\n",
    "\n",
    "# Add transformer\n",
    "transformer_block = TransformerBlock(embed_dim, num_heads, ff_dims)\n",
    "x = transformer_block(x)\n",
    "\n",
    "# Additional layers\n",
    "x = layers.GlobalAveragePooling1D()(x)\n",
    "x = layers.Dropout(0.1)(x)\n",
    "x = layers.Dense(20, activation=\"relu\")(x)\n",
    "x = layers.Dropout(0.1)(x)\n",
    "\n",
    "# Output (5 possible categories for each star)\n",
    "outputs = layers.Dense(5, activation=\"softmax\")(x)\n",
    "\n",
    "# Create model\n",
    "model = keras.Model(inputs=inputs, outputs=outputs)"
   ]
  },
  {
   "cell_type": "code",
   "execution_count": 22,
   "id": "58623f36",
   "metadata": {},
   "outputs": [
    {
     "name": "stdout",
     "output_type": "stream",
     "text": [
      "1/1 [==============================] - 1s 690ms/step\n"
     ]
    },
    {
     "data": {
      "text/plain": [
       "array([[0.14825617, 0.1148558 , 0.22719812, 0.3003642 , 0.20932573],\n",
       "       [0.14536871, 0.11815089, 0.22080688, 0.2983354 , 0.21733806],\n",
       "       [0.14278641, 0.11228686, 0.22546056, 0.30506772, 0.21439849],\n",
       "       [0.14273828, 0.12180667, 0.2166766 , 0.29586586, 0.2229126 ],\n",
       "       [0.14392795, 0.11299901, 0.22679299, 0.3046798 , 0.21160023],\n",
       "       [0.14439009, 0.11663813, 0.22098571, 0.30024695, 0.2177391 ],\n",
       "       [0.13703337, 0.12003175, 0.2161892 , 0.2994284 , 0.22731726],\n",
       "       [0.14048219, 0.11871284, 0.22059964, 0.30455905, 0.21564622],\n",
       "       [0.14670691, 0.11607949, 0.22428201, 0.30092865, 0.2120029 ],\n",
       "       [0.14438182, 0.11383089, 0.2265254 , 0.30674917, 0.20851277]],\n",
       "      dtype=float32)"
      ]
     },
     "execution_count": 22,
     "metadata": {},
     "output_type": "execute_result"
    }
   ],
   "source": [
    "# Example outputs (probabilities of each star rating)\n",
    "model.predict([X_train[:10]])"
   ]
  },
  {
   "cell_type": "markdown",
   "id": "5513f0e0",
   "metadata": {},
   "source": [
    "##### Compile and Run"
   ]
  },
  {
   "cell_type": "code",
   "execution_count": null,
   "id": "395ff48e",
   "metadata": {},
   "outputs": [],
   "source": [
    "model.compile(optimizer=\"adam\", loss=\"sparse_categorical_crossentropy\", metrics=[\"accuracy\"])"
   ]
  },
  {
   "cell_type": "code",
   "execution_count": 29,
   "id": "b0246e1a",
   "metadata": {
    "scrolled": true
   },
   "outputs": [
    {
     "name": "stdout",
     "output_type": "stream",
     "text": [
      "Epoch 1/100\n",
      "15625/15625 [==============================] - 83s 5ms/step - loss: 0.9418 - accuracy: 0.6172 - val_loss: 0.9365 - val_accuracy: 0.6210\n",
      "Epoch 2/100\n",
      "15625/15625 [==============================] - 84s 5ms/step - loss: 0.9401 - accuracy: 0.6186 - val_loss: 0.9335 - val_accuracy: 0.6193\n",
      "Epoch 3/100\n",
      "15625/15625 [==============================] - 85s 5ms/step - loss: 0.9384 - accuracy: 0.6190 - val_loss: 0.9338 - val_accuracy: 0.6221\n",
      "Epoch 4/100\n",
      "15625/15625 [==============================] - 84s 5ms/step - loss: 0.9371 - accuracy: 0.6195 - val_loss: 0.9323 - val_accuracy: 0.6190\n",
      "Epoch 5/100\n",
      "15625/15625 [==============================] - 85s 5ms/step - loss: 0.9363 - accuracy: 0.6197 - val_loss: 0.9331 - val_accuracy: 0.6188\n",
      "Epoch 6/100\n",
      "15625/15625 [==============================] - 85s 5ms/step - loss: 0.9359 - accuracy: 0.6199 - val_loss: 0.9310 - val_accuracy: 0.6202\n",
      "Epoch 7/100\n",
      "15625/15625 [==============================] - 84s 5ms/step - loss: 0.9347 - accuracy: 0.6200 - val_loss: 0.9303 - val_accuracy: 0.6167\n",
      "Epoch 8/100\n",
      "15625/15625 [==============================] - 83s 5ms/step - loss: 0.9340 - accuracy: 0.6207 - val_loss: 0.9322 - val_accuracy: 0.6214\n",
      "Epoch 9/100\n",
      "15625/15625 [==============================] - 83s 5ms/step - loss: 0.9334 - accuracy: 0.6206 - val_loss: 0.9297 - val_accuracy: 0.6230\n",
      "Epoch 10/100\n",
      "15625/15625 [==============================] - 83s 5ms/step - loss: 0.9328 - accuracy: 0.6207 - val_loss: 0.9339 - val_accuracy: 0.6234\n",
      "Epoch 11/100\n",
      "15625/15625 [==============================] - 84s 5ms/step - loss: 0.9323 - accuracy: 0.6207 - val_loss: 0.9312 - val_accuracy: 0.6232\n",
      "Epoch 12/100\n",
      "15625/15625 [==============================] - 84s 5ms/step - loss: 0.9320 - accuracy: 0.6209 - val_loss: 0.9313 - val_accuracy: 0.6224\n",
      "Epoch 13/100\n",
      "15625/15625 [==============================] - 83s 5ms/step - loss: 0.9320 - accuracy: 0.6209 - val_loss: 0.9365 - val_accuracy: 0.6222\n",
      "Epoch 14/100\n",
      "15625/15625 [==============================] - 84s 5ms/step - loss: 0.9313 - accuracy: 0.6209 - val_loss: 0.9294 - val_accuracy: 0.6191\n",
      "Epoch 15/100\n",
      "15625/15625 [==============================] - 84s 5ms/step - loss: 0.9313 - accuracy: 0.6213 - val_loss: 0.9326 - val_accuracy: 0.6222\n",
      "Epoch 16/100\n",
      "15625/15625 [==============================] - 83s 5ms/step - loss: 0.9319 - accuracy: 0.6212 - val_loss: 0.9260 - val_accuracy: 0.6251\n",
      "Epoch 17/100\n",
      "15625/15625 [==============================] - 83s 5ms/step - loss: 0.9318 - accuracy: 0.6208 - val_loss: 0.9287 - val_accuracy: 0.6196\n",
      "Epoch 18/100\n",
      "15625/15625 [==============================] - 84s 5ms/step - loss: 0.9314 - accuracy: 0.6215 - val_loss: 0.9289 - val_accuracy: 0.6253\n",
      "Epoch 19/100\n",
      "15625/15625 [==============================] - 84s 5ms/step - loss: 0.9314 - accuracy: 0.6212 - val_loss: 0.9259 - val_accuracy: 0.6231\n",
      "Epoch 20/100\n",
      "15625/15625 [==============================] - 84s 5ms/step - loss: 0.9316 - accuracy: 0.6209 - val_loss: 0.9311 - val_accuracy: 0.6181\n",
      "Epoch 21/100\n",
      "15625/15625 [==============================] - 84s 5ms/step - loss: 0.9319 - accuracy: 0.6209 - val_loss: 0.9306 - val_accuracy: 0.6182\n",
      "Epoch 22/100\n",
      "15625/15625 [==============================] - 84s 5ms/step - loss: 0.9313 - accuracy: 0.6216 - val_loss: 0.9278 - val_accuracy: 0.6181\n",
      "Epoch 23/100\n",
      "15625/15625 [==============================] - 84s 5ms/step - loss: 0.9319 - accuracy: 0.6208 - val_loss: 0.9288 - val_accuracy: 0.6211\n",
      "Epoch 24/100\n",
      "15625/15625 [==============================] - 84s 5ms/step - loss: 0.9319 - accuracy: 0.6213 - val_loss: 0.9302 - val_accuracy: 0.6189\n",
      "Epoch 25/100\n",
      "15625/15625 [==============================] - 83s 5ms/step - loss: 0.9327 - accuracy: 0.6208 - val_loss: 0.9356 - val_accuracy: 0.6149\n",
      "Epoch 26/100\n",
      "15625/15625 [==============================] - 84s 5ms/step - loss: 0.9327 - accuracy: 0.6208 - val_loss: 0.9296 - val_accuracy: 0.6220\n",
      "Epoch 27/100\n",
      "15625/15625 [==============================] - 84s 5ms/step - loss: 0.9323 - accuracy: 0.6206 - val_loss: 0.9356 - val_accuracy: 0.6203\n",
      "Epoch 28/100\n",
      "15625/15625 [==============================] - 84s 5ms/step - loss: 0.9330 - accuracy: 0.6208 - val_loss: 0.9308 - val_accuracy: 0.6169\n",
      "Epoch 29/100\n",
      "15625/15625 [==============================] - 84s 5ms/step - loss: 0.9331 - accuracy: 0.6204 - val_loss: 0.9301 - val_accuracy: 0.6211\n",
      "Epoch 30/100\n",
      "15625/15625 [==============================] - 84s 5ms/step - loss: 0.9334 - accuracy: 0.6204 - val_loss: 0.9316 - val_accuracy: 0.6222\n",
      "Epoch 31/100\n",
      "15625/15625 [==============================] - 84s 5ms/step - loss: 0.9342 - accuracy: 0.6201 - val_loss: 0.9325 - val_accuracy: 0.6202\n",
      "Epoch 32/100\n",
      "15625/15625 [==============================] - 83s 5ms/step - loss: 0.9349 - accuracy: 0.6204 - val_loss: 0.9291 - val_accuracy: 0.6198\n",
      "Epoch 33/100\n",
      "15625/15625 [==============================] - 84s 5ms/step - loss: 0.9347 - accuracy: 0.6201 - val_loss: 0.9343 - val_accuracy: 0.6195\n",
      "Epoch 34/100\n",
      "15625/15625 [==============================] - 84s 5ms/step - loss: 0.9356 - accuracy: 0.6201 - val_loss: 0.9313 - val_accuracy: 0.6196\n",
      "Epoch 35/100\n",
      "15625/15625 [==============================] - 85s 5ms/step - loss: 0.9357 - accuracy: 0.6197 - val_loss: 0.9314 - val_accuracy: 0.6200\n",
      "Epoch 36/100\n",
      "15625/15625 [==============================] - 84s 5ms/step - loss: 0.9361 - accuracy: 0.6199 - val_loss: 0.9366 - val_accuracy: 0.6152\n",
      "Epoch 37/100\n",
      "15625/15625 [==============================] - 84s 5ms/step - loss: 0.9373 - accuracy: 0.6191 - val_loss: 0.9343 - val_accuracy: 0.6160\n",
      "Epoch 38/100\n",
      "15625/15625 [==============================] - 84s 5ms/step - loss: 0.9377 - accuracy: 0.6189 - val_loss: 0.9341 - val_accuracy: 0.6181\n",
      "Epoch 39/100\n",
      "15625/15625 [==============================] - 84s 5ms/step - loss: 0.9383 - accuracy: 0.6185 - val_loss: 0.9372 - val_accuracy: 0.6175\n",
      "Epoch 40/100\n",
      "15625/15625 [==============================] - 84s 5ms/step - loss: 0.9387 - accuracy: 0.6183 - val_loss: 0.9391 - val_accuracy: 0.6180\n",
      "Epoch 41/100\n",
      "15625/15625 [==============================] - 84s 5ms/step - loss: 0.9390 - accuracy: 0.6181 - val_loss: 0.9402 - val_accuracy: 0.6163\n",
      "Epoch 42/100\n",
      "15625/15625 [==============================] - 84s 5ms/step - loss: 0.9391 - accuracy: 0.6192 - val_loss: 0.9387 - val_accuracy: 0.6180\n",
      "Epoch 43/100\n",
      "15625/15625 [==============================] - 84s 5ms/step - loss: 0.9393 - accuracy: 0.6186 - val_loss: 0.9372 - val_accuracy: 0.6216\n",
      "Epoch 44/100\n",
      "15625/15625 [==============================] - 83s 5ms/step - loss: 0.9398 - accuracy: 0.6183 - val_loss: 0.9386 - val_accuracy: 0.6194\n",
      "Epoch 45/100\n",
      "15625/15625 [==============================] - 84s 5ms/step - loss: 0.9406 - accuracy: 0.6177 - val_loss: 0.9355 - val_accuracy: 0.6161\n",
      "Epoch 46/100\n",
      "15625/15625 [==============================] - 84s 5ms/step - loss: 0.9406 - accuracy: 0.6172 - val_loss: 0.9377 - val_accuracy: 0.6156\n",
      "Epoch 47/100\n",
      "15625/15625 [==============================] - 84s 5ms/step - loss: 0.9408 - accuracy: 0.6177 - val_loss: 0.9425 - val_accuracy: 0.6128\n",
      "Epoch 48/100\n",
      "15625/15625 [==============================] - 84s 5ms/step - loss: 0.9408 - accuracy: 0.6184 - val_loss: 0.9439 - val_accuracy: 0.6126\n",
      "Epoch 49/100\n",
      "15625/15625 [==============================] - 84s 5ms/step - loss: 0.9408 - accuracy: 0.6185 - val_loss: 0.9361 - val_accuracy: 0.6193\n",
      "Epoch 50/100\n",
      "15625/15625 [==============================] - 83s 5ms/step - loss: 0.9410 - accuracy: 0.6181 - val_loss: 0.9411 - val_accuracy: 0.6157\n",
      "Epoch 51/100\n",
      "15625/15625 [==============================] - 82s 5ms/step - loss: 0.9408 - accuracy: 0.6183 - val_loss: 0.9388 - val_accuracy: 0.6205\n",
      "Epoch 52/100\n",
      "15625/15625 [==============================] - 81s 5ms/step - loss: 0.9411 - accuracy: 0.6185 - val_loss: 0.9359 - val_accuracy: 0.6200\n",
      "Epoch 53/100\n",
      "15625/15625 [==============================] - 81s 5ms/step - loss: 0.9414 - accuracy: 0.6177 - val_loss: 0.9355 - val_accuracy: 0.6202\n",
      "Epoch 54/100\n",
      "15625/15625 [==============================] - 82s 5ms/step - loss: 0.9411 - accuracy: 0.6174 - val_loss: 0.9400 - val_accuracy: 0.6168\n",
      "Epoch 55/100\n",
      "15625/15625 [==============================] - 81s 5ms/step - loss: 0.9419 - accuracy: 0.6175 - val_loss: 0.9378 - val_accuracy: 0.6150\n",
      "Epoch 56/100\n"
     ]
    },
    {
     "name": "stdout",
     "output_type": "stream",
     "text": [
      "15625/15625 [==============================] - 81s 5ms/step - loss: 0.9413 - accuracy: 0.6179 - val_loss: 0.9391 - val_accuracy: 0.6186\n",
      "Epoch 57/100\n",
      "15625/15625 [==============================] - 81s 5ms/step - loss: 0.9418 - accuracy: 0.6174 - val_loss: 0.9350 - val_accuracy: 0.6222\n",
      "Epoch 58/100\n",
      "15625/15625 [==============================] - 82s 5ms/step - loss: 0.9424 - accuracy: 0.6172 - val_loss: 0.9401 - val_accuracy: 0.6198\n",
      "Epoch 59/100\n",
      "15625/15625 [==============================] - 82s 5ms/step - loss: 0.9424 - accuracy: 0.6174 - val_loss: 0.9426 - val_accuracy: 0.6186\n",
      "Epoch 60/100\n",
      "15625/15625 [==============================] - 81s 5ms/step - loss: 0.9430 - accuracy: 0.6169 - val_loss: 0.9454 - val_accuracy: 0.6133\n",
      "Epoch 61/100\n",
      "15625/15625 [==============================] - 81s 5ms/step - loss: 0.9434 - accuracy: 0.6169 - val_loss: 0.9403 - val_accuracy: 0.6174\n",
      "Epoch 62/100\n",
      "15625/15625 [==============================] - 81s 5ms/step - loss: 0.9436 - accuracy: 0.6170 - val_loss: 0.9389 - val_accuracy: 0.6138\n",
      "Epoch 63/100\n",
      "15625/15625 [==============================] - 82s 5ms/step - loss: 0.9431 - accuracy: 0.6170 - val_loss: 0.9411 - val_accuracy: 0.6181\n",
      "Epoch 64/100\n",
      "15625/15625 [==============================] - 81s 5ms/step - loss: 0.9439 - accuracy: 0.6167 - val_loss: 0.9399 - val_accuracy: 0.6162\n",
      "Epoch 65/100\n",
      "15625/15625 [==============================] - 81s 5ms/step - loss: 0.9446 - accuracy: 0.6165 - val_loss: 0.9409 - val_accuracy: 0.6143\n",
      "Epoch 66/100\n",
      "15625/15625 [==============================] - 81s 5ms/step - loss: 0.9463 - accuracy: 0.6161 - val_loss: 0.9393 - val_accuracy: 0.6149\n",
      "Epoch 67/100\n",
      "15625/15625 [==============================] - 82s 5ms/step - loss: 0.9448 - accuracy: 0.6165 - val_loss: 0.9437 - val_accuracy: 0.6138\n",
      "Epoch 68/100\n",
      "15625/15625 [==============================] - 81s 5ms/step - loss: 0.9466 - accuracy: 0.6162 - val_loss: 0.9458 - val_accuracy: 0.6156\n",
      "Epoch 69/100\n",
      "15625/15625 [==============================] - 81s 5ms/step - loss: 0.9457 - accuracy: 0.6166 - val_loss: 0.9470 - val_accuracy: 0.6148\n",
      "Epoch 70/100\n",
      "15625/15625 [==============================] - 81s 5ms/step - loss: 0.9452 - accuracy: 0.6168 - val_loss: 0.9451 - val_accuracy: 0.6166\n",
      "Epoch 71/100\n",
      "15625/15625 [==============================] - 81s 5ms/step - loss: 0.9449 - accuracy: 0.6169 - val_loss: 0.9428 - val_accuracy: 0.6155\n",
      "Epoch 72/100\n",
      "15625/15625 [==============================] - 81s 5ms/step - loss: 0.9459 - accuracy: 0.6164 - val_loss: 0.9435 - val_accuracy: 0.6177\n",
      "Epoch 73/100\n",
      "15625/15625 [==============================] - 81s 5ms/step - loss: 0.9463 - accuracy: 0.6158 - val_loss: 0.9414 - val_accuracy: 0.6139\n",
      "Epoch 74/100\n",
      "15625/15625 [==============================] - 81s 5ms/step - loss: 0.9462 - accuracy: 0.6162 - val_loss: 0.9421 - val_accuracy: 0.6149\n",
      "Epoch 75/100\n",
      "15625/15625 [==============================] - 81s 5ms/step - loss: 0.9468 - accuracy: 0.6158 - val_loss: 0.9450 - val_accuracy: 0.6154\n",
      "Epoch 76/100\n",
      "15625/15625 [==============================] - 82s 5ms/step - loss: 0.9466 - accuracy: 0.6160 - val_loss: 0.9434 - val_accuracy: 0.6173\n",
      "Epoch 77/100\n",
      "15625/15625 [==============================] - 81s 5ms/step - loss: 0.9471 - accuracy: 0.6157 - val_loss: 0.9457 - val_accuracy: 0.6166\n",
      "Epoch 78/100\n",
      "15625/15625 [==============================] - 81s 5ms/step - loss: 0.9474 - accuracy: 0.6155 - val_loss: 0.9462 - val_accuracy: 0.6125\n",
      "Epoch 79/100\n",
      "15625/15625 [==============================] - 81s 5ms/step - loss: 0.9479 - accuracy: 0.6151 - val_loss: 0.9426 - val_accuracy: 0.6182\n",
      "Epoch 80/100\n",
      "15625/15625 [==============================] - 81s 5ms/step - loss: 0.9481 - accuracy: 0.6152 - val_loss: 0.9423 - val_accuracy: 0.6139\n",
      "Epoch 81/100\n",
      "15625/15625 [==============================] - 81s 5ms/step - loss: 0.9461 - accuracy: 0.6164 - val_loss: 0.9447 - val_accuracy: 0.6165\n",
      "Epoch 82/100\n",
      "15625/15625 [==============================] - 81s 5ms/step - loss: 0.9457 - accuracy: 0.6164 - val_loss: 0.9507 - val_accuracy: 0.6149\n",
      "Epoch 83/100\n",
      "15625/15625 [==============================] - 81s 5ms/step - loss: 0.9455 - accuracy: 0.6160 - val_loss: 0.9465 - val_accuracy: 0.6143\n",
      "Epoch 84/100\n",
      "15625/15625 [==============================] - 81s 5ms/step - loss: 0.9457 - accuracy: 0.6163 - val_loss: 0.9460 - val_accuracy: 0.6158\n",
      "Epoch 85/100\n",
      "15625/15625 [==============================] - 82s 5ms/step - loss: 0.9452 - accuracy: 0.6164 - val_loss: 0.9441 - val_accuracy: 0.6172\n",
      "Epoch 86/100\n",
      "15625/15625 [==============================] - 81s 5ms/step - loss: 0.9464 - accuracy: 0.6160 - val_loss: 0.9477 - val_accuracy: 0.6210\n",
      "Epoch 87/100\n",
      "15625/15625 [==============================] - 81s 5ms/step - loss: 0.9469 - accuracy: 0.6157 - val_loss: 0.9458 - val_accuracy: 0.6173\n",
      "Epoch 88/100\n",
      "15625/15625 [==============================] - 81s 5ms/step - loss: 0.9470 - accuracy: 0.6155 - val_loss: 0.9461 - val_accuracy: 0.6155\n",
      "Epoch 89/100\n",
      "15625/15625 [==============================] - 81s 5ms/step - loss: 0.9463 - accuracy: 0.6153 - val_loss: 0.9464 - val_accuracy: 0.6099\n",
      "Epoch 90/100\n",
      "15625/15625 [==============================] - 82s 5ms/step - loss: 0.9471 - accuracy: 0.6156 - val_loss: 0.9445 - val_accuracy: 0.6156\n",
      "Epoch 91/100\n",
      "15625/15625 [==============================] - 82s 5ms/step - loss: 0.9479 - accuracy: 0.6155 - val_loss: 0.9462 - val_accuracy: 0.6176\n",
      "Epoch 92/100\n",
      "15625/15625 [==============================] - 81s 5ms/step - loss: 0.9476 - accuracy: 0.6158 - val_loss: 0.9450 - val_accuracy: 0.6137\n",
      "Epoch 93/100\n",
      "15625/15625 [==============================] - 82s 5ms/step - loss: 0.9476 - accuracy: 0.6155 - val_loss: 0.9463 - val_accuracy: 0.6148\n",
      "Epoch 94/100\n",
      "15625/15625 [==============================] - 82s 5ms/step - loss: 0.9474 - accuracy: 0.6150 - val_loss: 0.9496 - val_accuracy: 0.6144\n",
      "Epoch 95/100\n",
      "15625/15625 [==============================] - 82s 5ms/step - loss: 0.9468 - accuracy: 0.6158 - val_loss: 0.9480 - val_accuracy: 0.6145\n",
      "Epoch 96/100\n",
      "15625/15625 [==============================] - 81s 5ms/step - loss: 0.9473 - accuracy: 0.6156 - val_loss: 0.9491 - val_accuracy: 0.6131\n",
      "Epoch 97/100\n",
      "15625/15625 [==============================] - 81s 5ms/step - loss: 0.9469 - accuracy: 0.6154 - val_loss: 0.9482 - val_accuracy: 0.6207\n",
      "Epoch 98/100\n",
      "15625/15625 [==============================] - 82s 5ms/step - loss: 0.9472 - accuracy: 0.6154 - val_loss: 0.9518 - val_accuracy: 0.6201\n",
      "Epoch 99/100\n",
      "15625/15625 [==============================] - 82s 5ms/step - loss: 0.9472 - accuracy: 0.6151 - val_loss: 0.9528 - val_accuracy: 0.6140\n",
      "Epoch 100/100\n",
      "15625/15625 [==============================] - 82s 5ms/step - loss: 0.9477 - accuracy: 0.6148 - val_loss: 0.9489 - val_accuracy: 0.6146\n",
      "CPU times: total: 2h 36min 27s\n",
      "Wall time: 2h 17min 36s\n"
     ]
    }
   ],
   "source": [
    "%%time\n",
    "# Train model\n",
    "epochs = 50\n",
    "\n",
    "# Early stopping \n",
    "early_stopping = tf.keras.callbacks.EarlyStopping(monitor='loss', patience=5)\n",
    "\n",
    "# Checkpoint\n",
    "checkpoint_path = \"model_checkpoints/proto.ckpt\"\n",
    "checkpoint_dir = os.path.dirname(checkpoint_path)\n",
    "\n",
    "# Create a callback that saves the model's weights\n",
    "create_checkpoint = tf.keras.callbacks.ModelCheckpoint(filepath=checkpoint_path, verbose=1)\n",
    "\n",
    "history = model.fit(\n",
    "    X_train, y_train, batch_size=32, epochs=epochs, validation_data=(X_test, y_test),\n",
    "    callbacks=[early_stopping, create_checkpoint]\n",
    ")"
   ]
  },
  {
   "cell_type": "code",
   "execution_count": 30,
   "id": "8bf9d83a",
   "metadata": {},
   "outputs": [
    {
     "data": {
      "image/png": "[encoded data removed]",
      "text/plain": [
       "<Figure size 500x400 with 1 Axes>"
      ]
     },
     "metadata": {},
     "output_type": "display_data"
    }
   ],
   "source": [
    "hist = history.history\n",
    "acc, val_acc = hist[\"accuracy\"], hist[\"val_accuracy\"]\n",
    "\n",
    "plt.figure(figsize=(5, 4), dpi=100)\n",
    "plt.plot(acc, label=\"acc\")\n",
    "plt.plot(val_acc, label=\"val_acc\")\n",
    "plt.axhline(0.2, color=\"red\", label=\"base\")\n",
    "plt.xlim(0, epochs - 1)\n",
    "plt.ylim(0.0, 1.0)\n",
    "plt.grid(axis=\"y\")\n",
    "plt.legend()\n",
    "plt.xlabel(\"epoch\")\n",
    "plt.ylabel(\"accuracy\")\n",
    "plt.show()"
   ]
  },
  {
   "cell_type": "markdown",
   "id": "f989e506",
   "metadata": {},
   "source": [
    "##### Test"
   ]
  },
  {
   "cell_type": "code",
   "execution_count": 31,
   "id": "4aab1fad",
   "metadata": {},
   "outputs": [
    {
     "name": "stdout",
     "output_type": "stream",
     "text": [
      "313/313 [==============================] - 1s 2ms/step\n"
     ]
    }
   ],
   "source": [
    "# Get probabilities per class\n",
    "y_pred = model.predict(X_test)"
   ]
  },
  {
   "cell_type": "code",
   "execution_count": 32,
   "id": "5f8ece44",
   "metadata": {},
   "outputs": [],
   "source": [
    "# Get star predictions and negative/positive predictions\n",
    "y_pred_multi = tf.argmax(y_pred, axis=1)\n",
    "y_pred_binary = y_pred_multi >= 3"
   ]
  },
  {
   "cell_type": "code",
   "execution_count": 33,
   "id": "458f93b5",
   "metadata": {},
   "outputs": [
    {
     "name": "stdout",
     "output_type": "stream",
     "text": [
      "multi-class accuracy: 0.6146\n",
      "(compare to 0.2)\n"
     ]
    }
   ],
   "source": [
    "print(\"multi-class accuracy: \" + str((y_pred_multi == y_test).numpy().sum() / len(y_test)))\n",
    "print(\"(compare to 0.2)\")"
   ]
  },
  {
   "cell_type": "code",
   "execution_count": 34,
   "id": "6526ece6",
   "metadata": {},
   "outputs": [
    {
     "name": "stdout",
     "output_type": "stream",
     "text": [
      "binary accuracy: 0.845\n",
      "(compare to 0.5)\n"
     ]
    }
   ],
   "source": [
    "print(\"binary accuracy: \" + str((y_pred_binary == (y_test >= 3)).numpy().sum() / len(y_test)))\n",
    "print(\"(compare to 0.5)\")"
   ]
  },
  {
   "cell_type": "markdown",
   "id": "46d46ed4",
   "metadata": {},
   "source": [
    "# Summary"
   ]
  },
  {
   "cell_type": "markdown",
   "id": "86279fcb",
   "metadata": {},
   "source": [
    "> While a preprocessing pipeline and classifier have been successfully established and employed, the results could probably be improved. ~61% accuracy for 5-star ratings and ~84% accuracy for binary ratings may be improved by using the rest of our data, further experimentation with architecture, and, perhaps most importantly, additional preprocessing."
   ]
  }
 ],
 "metadata": {
  "kernelspec": {
   "display_name": "Python [conda env:tf-gpu]",
   "language": "python",
   "name": "conda-env-tf-gpu-py"
  },
  "language_info": {
   "codemirror_mode": {
    "name": "ipython",
    "version": 3
   },
   "file_extension": ".py",
   "mimetype": "text/x-python",
   "name": "python",
   "nbconvert_exporter": "python",
   "pygments_lexer": "ipython3",
   "version": "3.10.4"
  }
 },
 "nbformat": 4,
 "nbformat_minor": 5
}

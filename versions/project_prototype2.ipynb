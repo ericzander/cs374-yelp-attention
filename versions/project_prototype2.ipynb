{
 "cells": [
  {
   "cell_type": "markdown",
   "id": "299467c3",
   "metadata": {},
   "source": [
    "# Updates"
   ]
  },
  {
   "cell_type": "markdown",
   "id": "294ea51e",
   "metadata": {},
   "source": [
    "* Fixed vocab size (was way too small before)\n",
    "* Saved preprocessed X-train separately\n",
    "* Decreased ffn size to limit overfitting (memorizing training data)\n",
    "* Moved model def to subclass\n",
    "* Now removing punctuation\n",
    "* Additional regularization (L2 and more dropout)"
   ]
  },
  {
   "cell_type": "markdown",
   "id": "bd318293",
   "metadata": {},
   "source": [
    "---"
   ]
  },
  {
   "cell_type": "markdown",
   "id": "93fb8d86",
   "metadata": {},
   "source": [
    "# Setup"
   ]
  },
  {
   "cell_type": "markdown",
   "id": "ebf5af2e",
   "metadata": {},
   "source": [
    "##### Imports"
   ]
  },
  {
   "cell_type": "code",
   "execution_count": 1,
   "id": "f8dbe9fb",
   "metadata": {},
   "outputs": [],
   "source": [
    "import os\n",
    "\n",
    "import numpy as np\n",
    "import pandas as pd\n",
    "\n",
    "import spacy\n",
    "\n",
    "import tensorflow as tf\n",
    "from tensorflow import keras\n",
    "from tensorflow.keras import layers\n",
    "\n",
    "import matplotlib.pyplot as plt"
   ]
  },
  {
   "cell_type": "markdown",
   "id": "55c4193f",
   "metadata": {},
   "source": [
    "##### Set Root Dir as CWD"
   ]
  },
  {
   "cell_type": "code",
   "execution_count": 2,
   "id": "7d88d86d",
   "metadata": {},
   "outputs": [
    {
     "name": "stdout",
     "output_type": "stream",
     "text": [
      "D:\\Documents\\A_DIGIPEN\\PersonalSVN\\Fall22SVN\\CS374\\Project\\cs374-project\n"
     ]
    }
   ],
   "source": [
    "# Navigate to project root (if not already there)\n",
    "if os.path.split(os.getcwd())[1] != \"cs374-project\":\n",
    "    %cd ../"
   ]
  },
  {
   "cell_type": "markdown",
   "id": "3ef923cc",
   "metadata": {},
   "source": [
    "# Load"
   ]
  },
  {
   "cell_type": "code",
   "execution_count": 3,
   "id": "bc72c153",
   "metadata": {},
   "outputs": [],
   "source": [
    "num_samples = 500_000"
   ]
  },
  {
   "cell_type": "code",
   "execution_count": 4,
   "id": "71b0f0cf",
   "metadata": {},
   "outputs": [],
   "source": [
    "path = \"data/yelp/reviews/\""
   ]
  },
  {
   "cell_type": "code",
   "execution_count": 5,
   "id": "73c9a325",
   "metadata": {},
   "outputs": [
    {
     "name": "stdout",
     "output_type": "stream",
     "text": [
      "CPU times: total: 27.9 s\n",
      "Wall time: 28.1 s\n"
     ]
    }
   ],
   "source": [
    "%%time\n",
    "# Load dev set (10% of total data) as train\n",
    "train = pd.read_pickle(path + \"train.xz\").iloc[:num_samples]"
   ]
  },
  {
   "cell_type": "code",
   "execution_count": 6,
   "id": "821b8fb6",
   "metadata": {},
   "outputs": [
    {
     "name": "stdout",
     "output_type": "stream",
     "text": [
      "CPU times: total: 3.48 s\n",
      "Wall time: 3.56 s\n"
     ]
    }
   ],
   "source": [
    "%%time\n",
    "# Load test set (10% of total data) as test\n",
    "test = pd.read_pickle(path + \"test.xz\").iloc[:100_000]"
   ]
  },
  {
   "cell_type": "code",
   "execution_count": 7,
   "id": "b8ccc29f",
   "metadata": {},
   "outputs": [
    {
     "data": {
      "text/html": [
       "<div>\n",
       "<style scoped>\n",
       "    .dataframe tbody tr th:only-of-type {\n",
       "        vertical-align: middle;\n",
       "    }\n",
       "\n",
       "    .dataframe tbody tr th {\n",
       "        vertical-align: top;\n",
       "    }\n",
       "\n",
       "    .dataframe thead th {\n",
       "        text-align: right;\n",
       "    }\n",
       "</style>\n",
       "<table border=\"1\" class=\"dataframe\">\n",
       "  <thead>\n",
       "    <tr style=\"text-align: right;\">\n",
       "      <th></th>\n",
       "      <th>text</th>\n",
       "      <th>stars</th>\n",
       "    </tr>\n",
       "  </thead>\n",
       "  <tbody>\n",
       "    <tr>\n",
       "      <th>2903612</th>\n",
       "      <td>I like Wedding Belles for an odd reason. I set...</td>\n",
       "      <td>5</td>\n",
       "    </tr>\n",
       "    <tr>\n",
       "      <th>5050964</th>\n",
       "      <td>We had a great stay here. I felt like we got a...</td>\n",
       "      <td>5</td>\n",
       "    </tr>\n",
       "    <tr>\n",
       "      <th>1226557</th>\n",
       "      <td>A unique place for sure, not your standard bre...</td>\n",
       "      <td>3</td>\n",
       "    </tr>\n",
       "    <tr>\n",
       "      <th>776083</th>\n",
       "      <td>This will be a short review on service and gri...</td>\n",
       "      <td>4</td>\n",
       "    </tr>\n",
       "    <tr>\n",
       "      <th>227582</th>\n",
       "      <td>Great barbershop. Super friendly staff. They a...</td>\n",
       "      <td>5</td>\n",
       "    </tr>\n",
       "    <tr>\n",
       "      <th>...</th>\n",
       "      <td>...</td>\n",
       "      <td>...</td>\n",
       "    </tr>\n",
       "    <tr>\n",
       "      <th>6757466</th>\n",
       "      <td>Been there twice and twice is two to many. Peo...</td>\n",
       "      <td>1</td>\n",
       "    </tr>\n",
       "    <tr>\n",
       "      <th>4215725</th>\n",
       "      <td>I gave you 1 star because that's the minimum y...</td>\n",
       "      <td>1</td>\n",
       "    </tr>\n",
       "    <tr>\n",
       "      <th>5537655</th>\n",
       "      <td>I drove 3 hours to visit the Christmas Village...</td>\n",
       "      <td>4</td>\n",
       "    </tr>\n",
       "    <tr>\n",
       "      <th>1247879</th>\n",
       "      <td>The food and wine/ beer options were awesome b...</td>\n",
       "      <td>2</td>\n",
       "    </tr>\n",
       "    <tr>\n",
       "      <th>1397286</th>\n",
       "      <td>My husband and I live in the area and we never...</td>\n",
       "      <td>2</td>\n",
       "    </tr>\n",
       "  </tbody>\n",
       "</table>\n",
       "<p>500000 rows × 2 columns</p>\n",
       "</div>"
      ],
      "text/plain": [
       "                                                      text  stars\n",
       "2903612  I like Wedding Belles for an odd reason. I set...      5\n",
       "5050964  We had a great stay here. I felt like we got a...      5\n",
       "1226557  A unique place for sure, not your standard bre...      3\n",
       "776083   This will be a short review on service and gri...      4\n",
       "227582   Great barbershop. Super friendly staff. They a...      5\n",
       "...                                                    ...    ...\n",
       "6757466  Been there twice and twice is two to many. Peo...      1\n",
       "4215725  I gave you 1 star because that's the minimum y...      1\n",
       "5537655  I drove 3 hours to visit the Christmas Village...      4\n",
       "1247879  The food and wine/ beer options were awesome b...      2\n",
       "1397286  My husband and I live in the area and we never...      2\n",
       "\n",
       "[500000 rows x 2 columns]"
      ]
     },
     "execution_count": 7,
     "metadata": {},
     "output_type": "execute_result"
    }
   ],
   "source": [
    "train"
   ]
  },
  {
   "cell_type": "markdown",
   "id": "05965e48",
   "metadata": {},
   "source": [
    "##### Save Target"
   ]
  },
  {
   "cell_type": "code",
   "execution_count": 8,
   "id": "9d6ae318",
   "metadata": {},
   "outputs": [],
   "source": [
    "# Save reviews stars from 0-4\n",
    "y_train = tf.convert_to_tensor(train[\"stars\"].values - 1)\n",
    "y_test = tf.convert_to_tensor(test[\"stars\"].values - 1)"
   ]
  },
  {
   "cell_type": "markdown",
   "id": "d4fd8d22",
   "metadata": {},
   "source": [
    "# Preprocess"
   ]
  },
  {
   "cell_type": "markdown",
   "id": "deebf30d",
   "metadata": {},
   "source": [
    "##### Create Pipeline"
   ]
  },
  {
   "cell_type": "code",
   "execution_count": 9,
   "id": "c5230aed",
   "metadata": {},
   "outputs": [],
   "source": [
    "# Requires download\n",
    "#   $ python -m spacy download en_core_web_sm\n",
    "nlp = spacy.load(\"en_core_web_sm\", disable=[\"parser\"])"
   ]
  },
  {
   "cell_type": "code",
   "execution_count": 10,
   "id": "775b98f5",
   "metadata": {},
   "outputs": [
    {
     "name": "stdout",
     "output_type": "stream",
     "text": [
      "\u001b[1m\n",
      "============================= Pipeline Overview =============================\u001b[0m\n",
      "\n",
      "#   Component         Assigns          Requires   Scores          Retokenizes\n",
      "-   ---------------   --------------   --------   -------------   -----------\n",
      "0   tok2vec           doc.tensor                                  False      \n",
      "                                                                             \n",
      "1   tagger            token.tag                   tag_acc         False      \n",
      "                                                                             \n",
      "2   attribute_ruler                                               False      \n",
      "                                                                             \n",
      "3   lemmatizer        token.lemma                 lemma_acc       False      \n",
      "                                                                             \n",
      "4   ner               doc.ents                    ents_f          False      \n",
      "                      token.ent_iob               ents_p                     \n",
      "                      token.ent_type              ents_r                     \n",
      "                                                  ents_per_type              \n",
      "\n",
      "✔ No problems found.\n",
      "{'summary': {'tok2vec': {'assigns': ['doc.tensor'], 'requires': [], 'scores': [], 'retokenizes': False}, 'tagger': {'assigns': ['token.tag'], 'requires': [], 'scores': ['tag_acc'], 'retokenizes': False}, 'attribute_ruler': {'assigns': [], 'requires': [], 'scores': [], 'retokenizes': False}, 'lemmatizer': {'assigns': ['token.lemma'], 'requires': [], 'scores': ['lemma_acc'], 'retokenizes': False}, 'ner': {'assigns': ['doc.ents', 'token.ent_iob', 'token.ent_type'], 'requires': [], 'scores': ['ents_f', 'ents_p', 'ents_r', 'ents_per_type'], 'retokenizes': False}}, 'problems': {'tok2vec': [], 'tagger': [], 'attribute_ruler': [], 'lemmatizer': [], 'ner': []}, 'attrs': {'doc.tensor': {'assigns': ['tok2vec'], 'requires': []}, 'token.ent_iob': {'assigns': ['ner'], 'requires': []}, 'token.ent_type': {'assigns': ['ner'], 'requires': []}, 'doc.ents': {'assigns': ['ner'], 'requires': []}, 'token.lemma': {'assigns': ['lemmatizer'], 'requires': []}, 'token.tag': {'assigns': ['tagger'], 'requires': []}}}\n"
     ]
    }
   ],
   "source": [
    "print(nlp.analyze_pipes(pretty=True))"
   ]
  },
  {
   "cell_type": "code",
   "execution_count": 11,
   "id": "5f8b5e76",
   "metadata": {},
   "outputs": [
    {
     "name": "stdout",
     "output_type": "stream",
     "text": [
      "Great prices and a fabulous team to help with all your fabric needs! I've especially enjoyed working with the owner Kathy! Beautiful cushions, valances, drapes, and pillows!\n"
     ]
    }
   ],
   "source": [
    "i = 9\n",
    "\n",
    "# Get a single sentence as an example\n",
    "example = [test[\"text\"].iloc[i]]\n",
    "\n",
    "# Create a spacy doc with the example\n",
    "example_doc = list(nlp.pipe(example))[0]\n",
    "print(example_doc)"
   ]
  },
  {
   "cell_type": "code",
   "execution_count": 12,
   "id": "6e5560af",
   "metadata": {},
   "outputs": [
    {
     "name": "stdout",
     "output_type": "stream",
     "text": [
      "[Great][prices][and][a][fabulous][team][to][help][with][all][your][fabric][needs][!][I]['ve][especially][enjoyed][working][with][the][owner][Kathy][!][Beautiful][cushions][,][valances][,][drapes][,][and][pillows][!]"
     ]
    }
   ],
   "source": [
    "# Tokenization example\n",
    "for token in example_doc:\n",
    "    print(\"[\" + token.text + \"]\", end=\"\")"
   ]
  },
  {
   "cell_type": "code",
   "execution_count": 13,
   "id": "7e8c6ba8",
   "metadata": {},
   "outputs": [
    {
     "name": "stdout",
     "output_type": "stream",
     "text": [
      "[ Great great ADJ JJ Xxxxx True False ][ prices price NOUN NNS xxxx True False ][ and and CCONJ CC xxx True True ][ a a DET DT x True True ][ fabulous fabulous ADJ JJ xxxx True False ][ team team NOUN NN xxxx True False ][ to to PART TO xx True True ][ help help VERB VB xxxx True False ][ with with ADP IN xxxx True True ][ all all DET DT xxx True True ][ your your PRON PRP$ xxxx True True ][ fabric fabric NOUN NN xxxx True False ][ needs need NOUN NNS xxxx True False ][ ! ! PUNCT . ! False False ][ I I PRON PRP X True True ][ 've 've AUX VBP 'xx False True ][ especially especially ADV RB xxxx True False ][ enjoyed enjoy VERB VBN xxxx True False ][ working work VERB VBG xxxx True False ][ with with ADP IN xxxx True True ][ the the DET DT xxx True True ][ owner owner NOUN NN xxxx True False ][ Kathy Kathy PROPN NNP Xxxxx True False ][ ! ! PUNCT . ! False False ][ Beautiful beautiful ADJ JJ Xxxxx True False ][ cushions cushion NOUN NNS xxxx True False ][ , , PUNCT , , False False ][ valances valance NOUN NNS xxxx True False ][ , , PUNCT , , False False ][ drapes drape NOUN NNS xxxx True False ][ , , PUNCT , , False False ][ and and CCONJ CC xxx True True ][ pillows pillow NOUN NNS xxxx True False ][ ! ! PUNCT . ! False False ]"
     ]
    }
   ],
   "source": [
    "for token in example_doc:\n",
    "    # Print text, simple POS, detailed POS, shape, whether alphabetical, whether stopword\n",
    "    print(\"[\", token.text, token.lemma_, token.pos_, token.tag_,\n",
    "          token.shape_, token.is_alpha, token.is_stop, \"]\", end=\"\")"
   ]
  },
  {
   "cell_type": "code",
   "execution_count": 14,
   "id": "63198971",
   "metadata": {},
   "outputs": [
    {
     "name": "stdout",
     "output_type": "stream",
     "text": [
      "Kathy 116 121 PERSON\n"
     ]
    }
   ],
   "source": [
    "# Named entity recognition\n",
    "for ent in example_doc.ents:\n",
    "    print(ent.text, ent.start_char, ent.end_char, ent.label_)"
   ]
  },
  {
   "cell_type": "markdown",
   "id": "6646a6bd",
   "metadata": {},
   "source": [
    "##### Define Preprocessing Steps"
   ]
  },
  {
   "cell_type": "code",
   "execution_count": 15,
   "id": "af417ee4",
   "metadata": {},
   "outputs": [],
   "source": [
    "def normalize(doc):\n",
    "    \"\"\"Preprocesses a spacy Doc.\n",
    "    \n",
    "    Currently tokenizes, lemmatizes, and removes stopwords\n",
    "    \"\"\"\n",
    "    output = list()\n",
    "    for token in doc:\n",
    "        if not token.is_stop and token.is_alpha:\n",
    "            output.append(str(token.lemma_))\n",
    "    \n",
    "    return output"
   ]
  },
  {
   "cell_type": "code",
   "execution_count": 16,
   "id": "311f594f",
   "metadata": {},
   "outputs": [],
   "source": [
    "def apply_normalize(docs, batch_size=1_000, n_processes=1):\n",
    "    \"\"\"Applies preprocessing steps to iterable of spacy Docs.\"\"\"\n",
    "    results = []\n",
    "    for doc in nlp.pipe(docs, n_process=n_processes):\n",
    "        results.append(normalize(doc))\n",
    "    return results"
   ]
  },
  {
   "cell_type": "markdown",
   "id": "30b326f2",
   "metadata": {},
   "source": [
    "##### Preprocessing"
   ]
  },
  {
   "cell_type": "code",
   "execution_count": 17,
   "id": "a046fff8",
   "metadata": {},
   "outputs": [
    {
     "name": "stderr",
     "output_type": "stream",
     "text": [
      "<timed exec>:6: FutureWarning: The default value of regex will change from True to False in a future version.\n",
      "<timed exec>:7: FutureWarning: The default value of regex will change from True to False in a future version.\n"
     ]
    },
    {
     "name": "stdout",
     "output_type": "stream",
     "text": [
      "CPU times: total: 5min 55s\n",
      "Wall time: 15min 29s\n"
     ]
    }
   ],
   "source": [
    "%%time\n",
    "# Lowercase\n",
    "X_train_norm = train[\"text\"].str.lower()\n",
    "X_test_norm = test[\"text\"].str.lower()\n",
    "\n",
    "# Remove punctuation\n",
    "X_train_norm = X_train_norm.str.replace(r'[^\\w\\s]+', '')\n",
    "X_test_norm = X_test_norm.str.replace(r'[^\\w\\s]+', '')\n",
    "\n",
    "# Set multiprocessing params\n",
    "batch_size = 2000\n",
    "n_processes = 4\n",
    "\n",
    "# Preprocess reviews\n",
    "X_train_norm = apply_normalize(X_train_norm, batch_size=batch_size, n_processes=n_processes)\n",
    "X_test_norm = apply_normalize(X_test_norm, batch_size=batch_size, n_processes=n_processes)"
   ]
  },
  {
   "cell_type": "markdown",
   "id": "0f828b93",
   "metadata": {},
   "source": [
    "##### Convert to Sequence Tensor"
   ]
  },
  {
   "cell_type": "code",
   "execution_count": 18,
   "id": "6c369c45",
   "metadata": {},
   "outputs": [],
   "source": [
    "maxlen = 200         # Number of words per review to consider\n",
    "vocab_size = 20_000  # Size of vocabulary\n",
    "\n",
    "# Convert lists of words to vectors of numbers\n",
    "tokenizer = keras.preprocessing.text.Tokenizer(vocab_size)\n",
    "tokenizer.fit_on_texts(X_train_norm)\n",
    "X_train_seq = tokenizer.texts_to_sequences(X_train_norm)\n",
    "X_test_seq = tokenizer.texts_to_sequences(X_test_norm)\n",
    "\n",
    "# Pad sentences to be the same length\n",
    "X_train_seq = keras.preprocessing.sequence.pad_sequences(X_train_seq, maxlen=maxlen)\n",
    "X_test_seq = keras.preprocessing.sequence.pad_sequences(X_test_seq, maxlen=maxlen)\n",
    "\n",
    "# Convert to tensors for Keras\n",
    "X_train = tf.convert_to_tensor(X_train_seq)\n",
    "X_test = tf.convert_to_tensor(X_test_seq)"
   ]
  },
  {
   "cell_type": "markdown",
   "id": "f9839669",
   "metadata": {},
   "source": [
    "# Model"
   ]
  },
  {
   "cell_type": "markdown",
   "id": "2de79d55",
   "metadata": {},
   "source": [
    "* Reference https://keras.io/examples/nlp/text_classification_with_transformer/"
   ]
  },
  {
   "cell_type": "markdown",
   "id": "a78e383c",
   "metadata": {},
   "source": [
    "##### Embedding Layer Definition"
   ]
  },
  {
   "cell_type": "code",
   "execution_count": 39,
   "id": "01b20cf3",
   "metadata": {},
   "outputs": [],
   "source": [
    "class TokenAndPositionEmbedding(layers.Layer):\n",
    "    \"\"\"Pre-transformer layer.\"\"\"\n",
    "    def __init__(self, maxlen, vocab_size, embed_dim):\n",
    "        super(TokenAndPositionEmbedding, self).__init__()\n",
    "        \n",
    "        # Token embedding\n",
    "        self.token_emb = layers.Embedding(input_dim=vocab_size, output_dim=embed_dim)\n",
    "        \n",
    "        # Position embedding\n",
    "        self.pos_emb = layers.Embedding(input_dim=maxlen, output_dim=embed_dim)\n",
    "\n",
    "    def call(self, x):\n",
    "        maxlen = tf.shape(x)[-1]\n",
    "        positions = tf.range(start=0, limit=maxlen, delta=1)\n",
    "        positions = self.pos_emb(positions)\n",
    "\n",
    "        x = self.token_emb(x)\n",
    "        return x + positions"
   ]
  },
  {
   "cell_type": "markdown",
   "id": "b0b6a444",
   "metadata": {},
   "source": [
    "##### Transformer Layer Definition"
   ]
  },
  {
   "cell_type": "code",
   "execution_count": 48,
   "id": "45cccaee",
   "metadata": {},
   "outputs": [],
   "source": [
    "class TransformerBlock(layers.Layer):\n",
    "    \"\"\"Transformer for embedding.\"\"\"\n",
    "    def __init__(self, embed_dim, num_heads, ff_dims, reg, dropout):\n",
    "        super(TransformerBlock, self).__init__()\n",
    "        \n",
    "        # Attention based on token and positional info\n",
    "        self.att = layers.MultiHeadAttention(num_heads=num_heads, key_dim=embed_dim)\n",
    "        \n",
    "        # Feed-forward network with a layer for each number of neurons in ff_dims\n",
    "        ffn_layers = []\n",
    "        for dim in ff_dims:\n",
    "            layer = layers.Dense(dim, activation=\"relu\", \n",
    "                                 kernel_regularizer=keras.regularizers.l2(reg))\n",
    "            ffn_layers.append(layer)\n",
    "        self.ffn = keras.Sequential(ffn_layers)\n",
    "        \n",
    "        # Speed and regularization\n",
    "        self.layernorm1 = layers.LayerNormalization(epsilon=1e-6)\n",
    "        self.layernorm2 = layers.LayerNormalization(epsilon=1e-6)\n",
    "        self.dropout1 = layers.Dropout(dropout)\n",
    "        self.dropout2 = layers.Dropout(dropout)\n",
    "\n",
    "    def call(self, inputs, training):\n",
    "        # Calculate attention and get output\n",
    "        attn_output = self.att(inputs, inputs)\n",
    "        attn_output = self.dropout1(attn_output, training=training)\n",
    "        out1 = self.layernorm1(inputs + attn_output)\n",
    "        ffn_output = self.ffn(out1)\n",
    "        ffn_output = self.dropout2(ffn_output, training=training)\n",
    "        return self.layernorm2(out1 + ffn_output)"
   ]
  },
  {
   "cell_type": "markdown",
   "id": "ce27c8e1",
   "metadata": {},
   "source": [
    "##### Model Definition"
   ]
  },
  {
   "cell_type": "code",
   "execution_count": 56,
   "id": "bee8d849",
   "metadata": {},
   "outputs": [],
   "source": [
    "class SentimentClassifier(tf.keras.Model):\n",
    "    def __init__(self, maxlen, vocab_size, embed_dim, num_heads, ff_dims,\n",
    "                 reg=1e-3, dropout=0.3):\n",
    "        super().__init__()\n",
    "        \n",
    "        self.inputs = layers.Input(shape=(maxlen,))\n",
    "        \n",
    "        self.embedding_layer = TokenAndPositionEmbedding(maxlen, vocab_size, embed_dim)\n",
    "        \n",
    "        self.transformer_block = TransformerBlock(embed_dim, num_heads, ff_dims,\n",
    "                                                  reg, dropout)\n",
    "        \n",
    "        self.pool = layers.GlobalAveragePooling1D()\n",
    "        self.dropout1 = layers.Dropout(dropout)\n",
    "        self.dense = layers.Dense(20, activation=\"relu\", \n",
    "                                  kernel_regularizer=keras.regularizers.l2(reg))\n",
    "        self.dropout2 = layers.Dropout(dropout)\n",
    "        \n",
    "        self.stars = layers.Dense(5, activation=\"softmax\")\n",
    "        \n",
    "    def call(self, x, training=False):\n",
    "        # Embed tokens and positional encodings\n",
    "        x = self.embedding_layer(x)\n",
    "        \n",
    "        # Transformer (w/ ffn)\n",
    "        x = self.transformer_block(x)\n",
    "        \n",
    "        # Pooling, dropout, one more dense layer\n",
    "        x = self.pool(x)\n",
    "        if training:\n",
    "            x = self.dropout1(x)\n",
    "        x = self.dense(x)\n",
    "        if training:\n",
    "            x = self.dropout2(x)\n",
    "            \n",
    "        # Softmax for 5-star rating probabilities\n",
    "        return self.stars(x)"
   ]
  },
  {
   "cell_type": "markdown",
   "id": "e25eea7b",
   "metadata": {},
   "source": [
    "##### Create Model"
   ]
  },
  {
   "cell_type": "code",
   "execution_count": 72,
   "id": "994bec22",
   "metadata": {},
   "outputs": [],
   "source": [
    "# Hyperparameters\n",
    "embed_dim = 32  # Embedding size for each token\n",
    "num_heads = 2   # Number of attention heads\n",
    "ff_dims = [32]  # Hidden layer sizes in feed forward network inside transformer\n",
    "reg = 5.0e-3\n",
    "dropout = 0.4\n",
    "\n",
    "# Model\n",
    "model = SentimentClassifier(maxlen, vocab_size, embed_dim, num_heads, ff_dims, reg, dropout)"
   ]
  },
  {
   "cell_type": "code",
   "execution_count": 73,
   "id": "58623f36",
   "metadata": {},
   "outputs": [
    {
     "name": "stdout",
     "output_type": "stream",
     "text": [
      "1/1 [==============================] - 0s 128ms/step\n"
     ]
    },
    {
     "data": {
      "text/plain": [
       "array([[0.13313493, 0.18192641, 0.39336264, 0.11014675, 0.18142924],\n",
       "       [0.12389985, 0.17646822, 0.4179409 , 0.10124663, 0.18044443],\n",
       "       [0.11158582, 0.16756935, 0.45706943, 0.08782801, 0.17594743],\n",
       "       [0.12549524, 0.17863399, 0.40447825, 0.10777696, 0.1836156 ],\n",
       "       [0.11100307, 0.16534248, 0.46049458, 0.08600409, 0.17715584],\n",
       "       [0.11692494, 0.17684558, 0.4362394 , 0.10273361, 0.16725644],\n",
       "       [0.16323902, 0.18841852, 0.32073545, 0.13446   , 0.19314696],\n",
       "       [0.1159181 , 0.1754276 , 0.43717545, 0.09701914, 0.17445982],\n",
       "       [0.12013881, 0.16745855, 0.44260693, 0.08999055, 0.17980514],\n",
       "       [0.10809352, 0.16591546, 0.46268582, 0.08837666, 0.17492856]],\n",
       "      dtype=float32)"
      ]
     },
     "execution_count": 73,
     "metadata": {},
     "output_type": "execute_result"
    }
   ],
   "source": [
    "# Example outputs (probabilities of each star rating)\n",
    "model.predict(X_train[:10])"
   ]
  },
  {
   "cell_type": "markdown",
   "id": "5513f0e0",
   "metadata": {},
   "source": [
    "##### Compile and Run"
   ]
  },
  {
   "cell_type": "code",
   "execution_count": 74,
   "id": "395ff48e",
   "metadata": {},
   "outputs": [],
   "source": [
    "learning_rate = 1e-3\n",
    "\n",
    "model.compile(optimizer=keras.optimizers.Adam(learning_rate), \n",
    "              loss=\"sparse_categorical_crossentropy\", metrics=[\"accuracy\"])"
   ]
  },
  {
   "cell_type": "code",
   "execution_count": 75,
   "id": "b0246e1a",
   "metadata": {
    "scrolled": true
   },
   "outputs": [
    {
     "name": "stdout",
     "output_type": "stream",
     "text": [
      "Epoch 1/10\n",
      "15625/15625 [==============================] - 60s 4ms/step - loss: 0.8889 - accuracy: 0.6419 - val_loss: 0.8094 - val_accuracy: 0.6649\n",
      "Epoch 2/10\n",
      "15625/15625 [==============================] - 59s 4ms/step - loss: 0.8212 - accuracy: 0.6623 - val_loss: 0.8081 - val_accuracy: 0.6613\n",
      "Epoch 3/10\n",
      "15625/15625 [==============================] - 61s 4ms/step - loss: 0.8034 - accuracy: 0.6685 - val_loss: 0.7875 - val_accuracy: 0.6760\n",
      "Epoch 4/10\n",
      "15625/15625 [==============================] - 58s 4ms/step - loss: 0.7891 - accuracy: 0.6735 - val_loss: 0.7974 - val_accuracy: 0.6699\n",
      "Epoch 5/10\n",
      "15625/15625 [==============================] - 58s 4ms/step - loss: 0.7788 - accuracy: 0.6771 - val_loss: 0.8026 - val_accuracy: 0.6713\n",
      "Epoch 6/10\n",
      "15625/15625 [==============================] - 59s 4ms/step - loss: 0.7675 - accuracy: 0.6823 - val_loss: 0.8140 - val_accuracy: 0.6647\n",
      "Epoch 7/10\n",
      "15625/15625 [==============================] - 58s 4ms/step - loss: 0.7591 - accuracy: 0.6849 - val_loss: 0.8175 - val_accuracy: 0.6687\n",
      "Epoch 8/10\n",
      "15625/15625 [==============================] - 58s 4ms/step - loss: 0.7502 - accuracy: 0.6882 - val_loss: 0.8140 - val_accuracy: 0.6703\n",
      "Epoch 9/10\n",
      "15625/15625 [==============================] - 60s 4ms/step - loss: 0.7427 - accuracy: 0.6920 - val_loss: 0.8295 - val_accuracy: 0.6644\n",
      "Epoch 10/10\n",
      "15625/15625 [==============================] - 59s 4ms/step - loss: 0.7360 - accuracy: 0.6943 - val_loss: 0.8493 - val_accuracy: 0.6612\n",
      "CPU times: total: 12min 26s\n",
      "Wall time: 9min 51s\n"
     ]
    }
   ],
   "source": [
    "%%time\n",
    "# Train model\n",
    "epochs = 10\n",
    "\n",
    "# Early stopping \n",
    "early_stopping = tf.keras.callbacks.EarlyStopping(monitor='loss', patience=3)\n",
    "\n",
    "# Checkpoint\n",
    "checkpoint_path = \"model_checkpoints/proto.ckpt\"\n",
    "checkpoint_dir = os.path.dirname(checkpoint_path)\n",
    "\n",
    "# Create a callback that saves the model's weights\n",
    "create_checkpoint = tf.keras.callbacks.ModelCheckpoint(filepath=checkpoint_path, verbose=1)\n",
    "\n",
    "history = model.fit(\n",
    "    X_train, y_train, batch_size=32, epochs=epochs, validation_data=(X_test, y_test),\n",
    "    callbacks=[early_stopping], verbose=1,\n",
    ")"
   ]
  },
  {
   "cell_type": "code",
   "execution_count": 76,
   "id": "8bf9d83a",
   "metadata": {},
   "outputs": [
    {
     "data": {
      "image/png": "[encoded data removed]",
      "text/plain": [
       "<Figure size 800x800 with 2 Axes>"
      ]
     },
     "metadata": {},
     "output_type": "display_data"
    }
   ],
   "source": [
    "hist = history.history\n",
    "acc, val_acc = hist[\"accuracy\"], hist[\"val_accuracy\"]\n",
    "\n",
    "fig, axes = plt.subplots(2, 1, sharex=True, figsize=(8, 8), dpi=100)\n",
    "\n",
    "for i, ax in enumerate(axes):\n",
    "    ax.plot(acc, label=\"acc\")\n",
    "    ax.plot(val_acc, label=\"val_acc\")\n",
    "    \n",
    "    ax.set_xlim(0, epochs - 1)\n",
    "    if i == 0:\n",
    "        ax.set_ylim(0.0, 1.0)\n",
    "        ax.axhline(0.2, color=\"red\", label=\"base\")\n",
    "        \n",
    "    ax.grid(visible=True, axis=\"both\")\n",
    "    ax.legend()\n",
    "    ax.set_xlabel(\"epoch\")\n",
    "    ax.set_ylabel(\"accuracy\")\n",
    "\n",
    "plt.show()"
   ]
  },
  {
   "cell_type": "markdown",
   "id": "f989e506",
   "metadata": {},
   "source": [
    "##### Test"
   ]
  },
  {
   "cell_type": "code",
   "execution_count": 33,
   "id": "4aab1fad",
   "metadata": {},
   "outputs": [
    {
     "name": "stdout",
     "output_type": "stream",
     "text": [
      "3125/3125 [==============================] - 4s 1ms/step\n"
     ]
    }
   ],
   "source": [
    "# Get probabilities per class\n",
    "y_pred = model.predict(X_test)"
   ]
  },
  {
   "cell_type": "code",
   "execution_count": 34,
   "id": "5f8ece44",
   "metadata": {},
   "outputs": [],
   "source": [
    "# Get star predictions and negative/positive predictions\n",
    "y_pred_multi = tf.argmax(y_pred, axis=1)\n",
    "y_pred_binary = y_pred_multi >= 3"
   ]
  },
  {
   "cell_type": "code",
   "execution_count": 35,
   "id": "458f93b5",
   "metadata": {},
   "outputs": [
    {
     "name": "stdout",
     "output_type": "stream",
     "text": [
      "multi-class accuracy: 0.64686\n",
      "(compare to 0.2)\n"
     ]
    }
   ],
   "source": [
    "print(\"multi-class accuracy: \" + str((y_pred_multi == y_test).numpy().sum() / len(y_test)))\n",
    "print(\"(compare to 0.2)\")"
   ]
  },
  {
   "cell_type": "code",
   "execution_count": 36,
   "id": "6526ece6",
   "metadata": {},
   "outputs": [
    {
     "name": "stdout",
     "output_type": "stream",
     "text": [
      "binary accuracy: 0.89448\n",
      "(compare to 0.5)\n"
     ]
    }
   ],
   "source": [
    "print(\"binary accuracy: \" + str((y_pred_binary == (y_test >= 3)).numpy().sum() / len(y_test)))\n",
    "print(\"(compare to 0.5)\")"
   ]
  }
 ],
 "metadata": {
  "kernelspec": {
   "display_name": "Python [conda env:tf-gpu]",
   "language": "python",
   "name": "conda-env-tf-gpu-py"
  },
  "language_info": {
   "codemirror_mode": {
    "name": "ipython",
    "version": 3
   },
   "file_extension": ".py",
   "mimetype": "text/x-python",
   "name": "python",
   "nbconvert_exporter": "python",
   "pygments_lexer": "ipython3",
   "version": "3.10.4"
  }
 },
 "nbformat": 4,
 "nbformat_minor": 5
}

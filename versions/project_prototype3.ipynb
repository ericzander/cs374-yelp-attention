{
 "cells": [
  {
   "cell_type": "markdown",
   "id": "299467c3",
   "metadata": {},
   "source": [
    "# Updates"
   ]
  },
  {
   "cell_type": "markdown",
   "id": "e35cb6a9",
   "metadata": {},
   "source": [
    "* "
   ]
  },
  {
   "cell_type": "markdown",
   "id": "bd318293",
   "metadata": {},
   "source": [
    "---"
   ]
  },
  {
   "cell_type": "markdown",
   "id": "93fb8d86",
   "metadata": {},
   "source": [
    "# Setup"
   ]
  },
  {
   "cell_type": "markdown",
   "id": "ebf5af2e",
   "metadata": {},
   "source": [
    "##### Imports"
   ]
  },
  {
   "cell_type": "code",
   "execution_count": 386,
   "id": "f8dbe9fb",
   "metadata": {},
   "outputs": [],
   "source": [
    "import os\n",
    "\n",
    "import numpy as np\n",
    "import pandas as pd\n",
    "\n",
    "import spacy\n",
    "\n",
    "import tensorflow as tf\n",
    "from tensorflow import keras\n",
    "from tensorflow.keras import layers\n",
    "\n",
    "import matplotlib.pyplot as plt\n",
    "import seaborn as sns\n",
    "sns.set_theme()"
   ]
  },
  {
   "cell_type": "markdown",
   "id": "55c4193f",
   "metadata": {},
   "source": [
    "##### Set Root Dir as CWD"
   ]
  },
  {
   "cell_type": "code",
   "execution_count": 2,
   "id": "7d88d86d",
   "metadata": {},
   "outputs": [
    {
     "name": "stdout",
     "output_type": "stream",
     "text": [
      "D:\\Documents\\A_DIGIPEN\\PersonalSVN\\Fall22SVN\\CS374\\Project\\cs374-project\n"
     ]
    }
   ],
   "source": [
    "# Navigate to project root (if not already there)\n",
    "if os.path.split(os.getcwd())[1] != \"cs374-project\":\n",
    "    %cd ../"
   ]
  },
  {
   "cell_type": "markdown",
   "id": "3ef923cc",
   "metadata": {},
   "source": [
    "# Load"
   ]
  },
  {
   "cell_type": "code",
   "execution_count": 3,
   "id": "71b0f0cf",
   "metadata": {},
   "outputs": [],
   "source": [
    "path = \"data/yelp/reviews/\""
   ]
  },
  {
   "cell_type": "code",
   "execution_count": 4,
   "id": "73c9a325",
   "metadata": {},
   "outputs": [
    {
     "name": "stdout",
     "output_type": "stream",
     "text": [
      "CPU times: total: 28.9 s\n",
      "Wall time: 29.2 s\n"
     ]
    }
   ],
   "source": [
    "%%time\n",
    "# Load dev set (10% of total data) as train\n",
    "train_all = pd.read_pickle(path + \"train.xz\")"
   ]
  },
  {
   "cell_type": "code",
   "execution_count": 5,
   "id": "821b8fb6",
   "metadata": {},
   "outputs": [
    {
     "name": "stdout",
     "output_type": "stream",
     "text": [
      "CPU times: total: 3.55 s\n",
      "Wall time: 3.62 s\n"
     ]
    }
   ],
   "source": [
    "%%time\n",
    "# Load test set (10% of total data) as test\n",
    "test_all = pd.read_pickle(path + \"test.xz\")"
   ]
  },
  {
   "cell_type": "code",
   "execution_count": 6,
   "id": "52e0d9d5",
   "metadata": {},
   "outputs": [],
   "source": [
    "num_samples = (200_000, 10_000)\n",
    "\n",
    "train = train_all.iloc[:num_samples[0]]\n",
    "test = test_all.iloc[:num_samples[1]]"
   ]
  },
  {
   "cell_type": "code",
   "execution_count": 7,
   "id": "b8ccc29f",
   "metadata": {},
   "outputs": [
    {
     "data": {
      "text/html": [
       "<div>\n",
       "<style scoped>\n",
       "    .dataframe tbody tr th:only-of-type {\n",
       "        vertical-align: middle;\n",
       "    }\n",
       "\n",
       "    .dataframe tbody tr th {\n",
       "        vertical-align: top;\n",
       "    }\n",
       "\n",
       "    .dataframe thead th {\n",
       "        text-align: right;\n",
       "    }\n",
       "</style>\n",
       "<table border=\"1\" class=\"dataframe\">\n",
       "  <thead>\n",
       "    <tr style=\"text-align: right;\">\n",
       "      <th></th>\n",
       "      <th>text</th>\n",
       "      <th>stars</th>\n",
       "    </tr>\n",
       "  </thead>\n",
       "  <tbody>\n",
       "    <tr>\n",
       "      <th>2903612</th>\n",
       "      <td>I like Wedding Belles for an odd reason. I set...</td>\n",
       "      <td>5</td>\n",
       "    </tr>\n",
       "    <tr>\n",
       "      <th>5050964</th>\n",
       "      <td>We had a great stay here. I felt like we got a...</td>\n",
       "      <td>5</td>\n",
       "    </tr>\n",
       "    <tr>\n",
       "      <th>1226557</th>\n",
       "      <td>A unique place for sure, not your standard bre...</td>\n",
       "      <td>3</td>\n",
       "    </tr>\n",
       "    <tr>\n",
       "      <th>776083</th>\n",
       "      <td>This will be a short review on service and gri...</td>\n",
       "      <td>4</td>\n",
       "    </tr>\n",
       "    <tr>\n",
       "      <th>227582</th>\n",
       "      <td>Great barbershop. Super friendly staff. They a...</td>\n",
       "      <td>5</td>\n",
       "    </tr>\n",
       "    <tr>\n",
       "      <th>...</th>\n",
       "      <td>...</td>\n",
       "      <td>...</td>\n",
       "    </tr>\n",
       "    <tr>\n",
       "      <th>5605237</th>\n",
       "      <td>Great experience, terrific dinner. Tour of the...</td>\n",
       "      <td>5</td>\n",
       "    </tr>\n",
       "    <tr>\n",
       "      <th>811804</th>\n",
       "      <td>We have gone three times and I'm waiting for a...</td>\n",
       "      <td>1</td>\n",
       "    </tr>\n",
       "    <tr>\n",
       "      <th>6197443</th>\n",
       "      <td>1st review:\\nMeatball grinder was incredibly b...</td>\n",
       "      <td>1</td>\n",
       "    </tr>\n",
       "    <tr>\n",
       "      <th>6379002</th>\n",
       "      <td>This place is fantastic! The best old tyme ice...</td>\n",
       "      <td>5</td>\n",
       "    </tr>\n",
       "    <tr>\n",
       "      <th>3582865</th>\n",
       "      <td>Awesome food, awesome atmosphere &amp; never disap...</td>\n",
       "      <td>5</td>\n",
       "    </tr>\n",
       "  </tbody>\n",
       "</table>\n",
       "<p>200000 rows × 2 columns</p>\n",
       "</div>"
      ],
      "text/plain": [
       "                                                      text  stars\n",
       "2903612  I like Wedding Belles for an odd reason. I set...      5\n",
       "5050964  We had a great stay here. I felt like we got a...      5\n",
       "1226557  A unique place for sure, not your standard bre...      3\n",
       "776083   This will be a short review on service and gri...      4\n",
       "227582   Great barbershop. Super friendly staff. They a...      5\n",
       "...                                                    ...    ...\n",
       "5605237  Great experience, terrific dinner. Tour of the...      5\n",
       "811804   We have gone three times and I'm waiting for a...      1\n",
       "6197443  1st review:\\nMeatball grinder was incredibly b...      1\n",
       "6379002  This place is fantastic! The best old tyme ice...      5\n",
       "3582865  Awesome food, awesome atmosphere & never disap...      5\n",
       "\n",
       "[200000 rows x 2 columns]"
      ]
     },
     "execution_count": 7,
     "metadata": {},
     "output_type": "execute_result"
    }
   ],
   "source": [
    "train"
   ]
  },
  {
   "cell_type": "markdown",
   "id": "05965e48",
   "metadata": {},
   "source": [
    "##### Save Target"
   ]
  },
  {
   "cell_type": "code",
   "execution_count": 8,
   "id": "9d6ae318",
   "metadata": {},
   "outputs": [],
   "source": [
    "# Save reviews stars from 0-4\n",
    "y_train = tf.convert_to_tensor(train[\"stars\"].values - 1)\n",
    "y_test = tf.convert_to_tensor(test[\"stars\"].values - 1)"
   ]
  },
  {
   "cell_type": "markdown",
   "id": "d4fd8d22",
   "metadata": {},
   "source": [
    "# Preprocess"
   ]
  },
  {
   "cell_type": "markdown",
   "id": "deebf30d",
   "metadata": {},
   "source": [
    "##### Create Pipeline"
   ]
  },
  {
   "cell_type": "code",
   "execution_count": 9,
   "id": "c5230aed",
   "metadata": {},
   "outputs": [],
   "source": [
    "# Requires download\n",
    "#   $ python -m spacy download en_core_web_sm\n",
    "nlp = spacy.load(\"en_core_web_sm\", disable=[\"parser\"])"
   ]
  },
  {
   "cell_type": "code",
   "execution_count": 10,
   "id": "775b98f5",
   "metadata": {},
   "outputs": [
    {
     "name": "stdout",
     "output_type": "stream",
     "text": [
      "\u001b[1m\n",
      "============================= Pipeline Overview =============================\u001b[0m\n",
      "\n",
      "#   Component         Assigns          Requires   Scores          Retokenizes\n",
      "-   ---------------   --------------   --------   -------------   -----------\n",
      "0   tok2vec           doc.tensor                                  False      \n",
      "                                                                             \n",
      "1   tagger            token.tag                   tag_acc         False      \n",
      "                                                                             \n",
      "2   attribute_ruler                                               False      \n",
      "                                                                             \n",
      "3   lemmatizer        token.lemma                 lemma_acc       False      \n",
      "                                                                             \n",
      "4   ner               doc.ents                    ents_f          False      \n",
      "                      token.ent_iob               ents_p                     \n",
      "                      token.ent_type              ents_r                     \n",
      "                                                  ents_per_type              \n",
      "\n",
      "✔ No problems found.\n",
      "{'summary': {'tok2vec': {'assigns': ['doc.tensor'], 'requires': [], 'scores': [], 'retokenizes': False}, 'tagger': {'assigns': ['token.tag'], 'requires': [], 'scores': ['tag_acc'], 'retokenizes': False}, 'attribute_ruler': {'assigns': [], 'requires': [], 'scores': [], 'retokenizes': False}, 'lemmatizer': {'assigns': ['token.lemma'], 'requires': [], 'scores': ['lemma_acc'], 'retokenizes': False}, 'ner': {'assigns': ['doc.ents', 'token.ent_iob', 'token.ent_type'], 'requires': [], 'scores': ['ents_f', 'ents_p', 'ents_r', 'ents_per_type'], 'retokenizes': False}}, 'problems': {'tok2vec': [], 'tagger': [], 'attribute_ruler': [], 'lemmatizer': [], 'ner': []}, 'attrs': {'token.ent_iob': {'assigns': ['ner'], 'requires': []}, 'token.lemma': {'assigns': ['lemmatizer'], 'requires': []}, 'doc.tensor': {'assigns': ['tok2vec'], 'requires': []}, 'token.ent_type': {'assigns': ['ner'], 'requires': []}, 'doc.ents': {'assigns': ['ner'], 'requires': []}, 'token.tag': {'assigns': ['tagger'], 'requires': []}}}\n"
     ]
    }
   ],
   "source": [
    "print(nlp.analyze_pipes(pretty=True))"
   ]
  },
  {
   "cell_type": "code",
   "execution_count": 11,
   "id": "5f8b5e76",
   "metadata": {},
   "outputs": [
    {
     "name": "stdout",
     "output_type": "stream",
     "text": [
      "Great prices and a fabulous team to help with all your fabric needs! I've especially enjoyed working with the owner Kathy! Beautiful cushions, valances, drapes, and pillows!\n"
     ]
    }
   ],
   "source": [
    "i = 9\n",
    "\n",
    "# Get a single sentence as an example\n",
    "example = [test[\"text\"].iloc[i]]\n",
    "\n",
    "# Create a spacy doc with the example\n",
    "example_doc = list(nlp.pipe(example))[0]\n",
    "print(example_doc)"
   ]
  },
  {
   "cell_type": "code",
   "execution_count": 12,
   "id": "6e5560af",
   "metadata": {},
   "outputs": [
    {
     "name": "stdout",
     "output_type": "stream",
     "text": [
      "[Great][prices][and][a][fabulous][team][to][help][with][all][your][fabric][needs][!][I]['ve][especially][enjoyed][working][with][the][owner][Kathy][!][Beautiful][cushions][,][valances][,][drapes][,][and][pillows][!]"
     ]
    }
   ],
   "source": [
    "# Tokenization example\n",
    "for token in example_doc:\n",
    "    print(\"[\" + token.text + \"]\", end=\"\")"
   ]
  },
  {
   "cell_type": "code",
   "execution_count": 13,
   "id": "7e8c6ba8",
   "metadata": {},
   "outputs": [
    {
     "name": "stdout",
     "output_type": "stream",
     "text": [
      "[ Great great ADJ JJ Xxxxx True False ][ prices price NOUN NNS xxxx True False ][ and and CCONJ CC xxx True True ][ a a DET DT x True True ][ fabulous fabulous ADJ JJ xxxx True False ][ team team NOUN NN xxxx True False ][ to to PART TO xx True True ][ help help VERB VB xxxx True False ][ with with ADP IN xxxx True True ][ all all DET DT xxx True True ][ your your PRON PRP$ xxxx True True ][ fabric fabric NOUN NN xxxx True False ][ needs need NOUN NNS xxxx True False ][ ! ! PUNCT . ! False False ][ I I PRON PRP X True True ][ 've 've AUX VBP 'xx False True ][ especially especially ADV RB xxxx True False ][ enjoyed enjoy VERB VBN xxxx True False ][ working work VERB VBG xxxx True False ][ with with ADP IN xxxx True True ][ the the DET DT xxx True True ][ owner owner NOUN NN xxxx True False ][ Kathy Kathy PROPN NNP Xxxxx True False ][ ! ! PUNCT . ! False False ][ Beautiful beautiful ADJ JJ Xxxxx True False ][ cushions cushion NOUN NNS xxxx True False ][ , , PUNCT , , False False ][ valances valance NOUN NNS xxxx True False ][ , , PUNCT , , False False ][ drapes drape NOUN NNS xxxx True False ][ , , PUNCT , , False False ][ and and CCONJ CC xxx True True ][ pillows pillow NOUN NNS xxxx True False ][ ! ! PUNCT . ! False False ]"
     ]
    }
   ],
   "source": [
    "for token in example_doc:\n",
    "    # Print text, simple POS, detailed POS, shape, whether alphabetical, whether stopword\n",
    "    print(\"[\", token.text, token.lemma_, token.pos_, token.tag_,\n",
    "          token.shape_, token.is_alpha, token.is_stop, \"]\", end=\"\")"
   ]
  },
  {
   "cell_type": "code",
   "execution_count": 14,
   "id": "63198971",
   "metadata": {},
   "outputs": [
    {
     "name": "stdout",
     "output_type": "stream",
     "text": [
      "Kathy 116 121 PERSON\n"
     ]
    }
   ],
   "source": [
    "# Named entity recognition\n",
    "for ent in example_doc.ents:\n",
    "    print(ent.text, ent.start_char, ent.end_char, ent.label_)"
   ]
  },
  {
   "cell_type": "markdown",
   "id": "6646a6bd",
   "metadata": {},
   "source": [
    "##### Define Preprocessing Steps"
   ]
  },
  {
   "cell_type": "code",
   "execution_count": 15,
   "id": "af417ee4",
   "metadata": {},
   "outputs": [],
   "source": [
    "def normalize(doc):\n",
    "    \"\"\"Preprocesses a spacy Doc.\n",
    "    \n",
    "    Currently tokenizes, lemmatizes, and removes stopwords\n",
    "    \"\"\"\n",
    "    output = list()\n",
    "    for token in doc:\n",
    "        if not token.is_stop and token.is_alpha:\n",
    "            output.append(str(token.lemma_))\n",
    "    \n",
    "    return output"
   ]
  },
  {
   "cell_type": "code",
   "execution_count": 16,
   "id": "311f594f",
   "metadata": {},
   "outputs": [],
   "source": [
    "def apply_normalize(docs, batch_size=1_000, n_processes=1):\n",
    "    \"\"\"Applies preprocessing steps to iterable of spacy Docs.\"\"\"\n",
    "    results = []\n",
    "    for doc in nlp.pipe(docs, n_process=n_processes):\n",
    "        results.append(normalize(doc))\n",
    "    return results"
   ]
  },
  {
   "cell_type": "markdown",
   "id": "a1c27086",
   "metadata": {},
   "source": [
    "##### Preprocessing"
   ]
  },
  {
   "cell_type": "code",
   "execution_count": 17,
   "id": "ce7bbf46",
   "metadata": {},
   "outputs": [
    {
     "name": "stdout",
     "output_type": "stream",
     "text": [
      "CPU times: total: 1min 58s\n",
      "Wall time: 5min 36s\n"
     ]
    }
   ],
   "source": [
    "%%time\n",
    "# Lowercase\n",
    "X_train_norm = train[\"text\"].str.lower()\n",
    "X_test_norm = test[\"text\"].str.lower()\n",
    "\n",
    "# Remove punctuation\n",
    "X_train_norm = X_train_norm.str.replace(r\"[^\\w\\s]+\", \"\", regex=True)\n",
    "X_test_norm = X_test_norm.str.replace(r\"[^\\w\\s]+\", \"\", regex=True)\n",
    "\n",
    "# Set multiprocessing params\n",
    "batch_size = 2000\n",
    "n_processes = 4\n",
    "\n",
    "# Preprocess reviews\n",
    "X_train_norm = apply_normalize(X_train_norm, batch_size=batch_size, n_processes=n_processes)\n",
    "X_test_norm = apply_normalize(X_test_norm, batch_size=batch_size, n_processes=n_processes)"
   ]
  },
  {
   "cell_type": "markdown",
   "id": "bef9532c",
   "metadata": {},
   "source": [
    "##### Convert to Sequence Tensor"
   ]
  },
  {
   "cell_type": "code",
   "execution_count": 18,
   "id": "6c369c45",
   "metadata": {},
   "outputs": [],
   "source": [
    "maxlen = 200         # Number of words per review to consider\n",
    "vocab_size = 30_000  # Size of vocabulary\n",
    "\n",
    "# Convert lists of words to vectors of numbers\n",
    "tokenizer = keras.preprocessing.text.Tokenizer(vocab_size)\n",
    "tokenizer.fit_on_texts(X_train_norm)\n",
    "X_train_seq = tokenizer.texts_to_sequences(X_train_norm)\n",
    "X_test_seq = tokenizer.texts_to_sequences(X_test_norm)\n",
    "\n",
    "# Pad sentences to be the same length\n",
    "X_train_seq = keras.preprocessing.sequence.pad_sequences(X_train_seq, maxlen=maxlen)\n",
    "X_test_seq = keras.preprocessing.sequence.pad_sequences(X_test_seq, maxlen=maxlen)\n",
    "\n",
    "# Convert to tensors for Keras\n",
    "X_train = tf.convert_to_tensor(X_train_seq)\n",
    "X_test = tf.convert_to_tensor(X_test_seq)"
   ]
  },
  {
   "cell_type": "markdown",
   "id": "f9839669",
   "metadata": {},
   "source": [
    "# Model"
   ]
  },
  {
   "cell_type": "markdown",
   "id": "2de79d55",
   "metadata": {},
   "source": [
    "* Reference https://keras.io/examples/nlp/text_classification_with_transformer/"
   ]
  },
  {
   "cell_type": "markdown",
   "id": "a78e383c",
   "metadata": {},
   "source": [
    "##### Embedding Layer Definition"
   ]
  },
  {
   "cell_type": "code",
   "execution_count": 122,
   "id": "01b20cf3",
   "metadata": {},
   "outputs": [],
   "source": [
    "class TokenAndPositionEmbedding(layers.Layer):\n",
    "    def __init__(self, maxlen, vocab_size, embed_dim, name=None):\n",
    "        super(TokenAndPositionEmbedding, self).__init__(name=name)\n",
    "        \n",
    "        # Token embedding\n",
    "        self.token_emb = layers.Embedding(input_dim=vocab_size, output_dim=embed_dim, mask_zero=True)\n",
    "        \n",
    "        # Position embedding\n",
    "        self.pos_emb = layers.Embedding(input_dim=maxlen, output_dim=embed_dim)\n",
    "\n",
    "    def call(self, x):\n",
    "        maxlen = tf.shape(x)[-1]\n",
    "        positions = tf.range(start=0, limit=maxlen, delta=1)\n",
    "        positions = self.pos_emb(positions)\n",
    "\n",
    "        x = self.token_emb(x)\n",
    "        return x + positions"
   ]
  },
  {
   "cell_type": "markdown",
   "id": "44e9e87a",
   "metadata": {},
   "source": [
    "##### Model Definition"
   ]
  },
  {
   "cell_type": "code",
   "execution_count": 350,
   "id": "aa0fc051",
   "metadata": {},
   "outputs": [],
   "source": [
    "class SentimentClassifier(tf.keras.Model):\n",
    "    def __init__(self, maxlen, vocab_size, embed_dim, num_heads, ff_dims,\n",
    "                 reg=1e-3, dropout=0.3):\n",
    "        super().__init__()\n",
    "        \n",
    "        # Token embedding\n",
    "        self.token_emb = layers.Embedding(input_dim=vocab_size, output_dim=embed_dim, mask_zero=True,\n",
    "                                          name=\"t_emb\")\n",
    "        \n",
    "        # Position embedding\n",
    "        self.pos_emb = layers.Embedding(input_dim=maxlen, output_dim=embed_dim,\n",
    "                                        name=\"p_emb\")\n",
    "        \n",
    "        # Attention based on token and positional info\n",
    "        self.att = layers.MultiHeadAttention(num_heads=num_heads, key_dim=embed_dim,\n",
    "                                             name=\"attention\")\n",
    "        \n",
    "        # Feed-forward network with a layer for each number of neurons in ff_dims\n",
    "        ffn_layers = []\n",
    "        for dim in ff_dims:\n",
    "            layer = layers.Dense(dim, activation=\"relu\", \n",
    "                                 kernel_regularizer=keras.regularizers.l2(reg))\n",
    "            ffn_layers.append(layer)\n",
    "        self.ffn = keras.Sequential(ffn_layers)\n",
    "        \n",
    "        # Speed and regularization\n",
    "        self.layernorm1 = layers.LayerNormalization(epsilon=1e-6)\n",
    "        self.layernorm2 = layers.LayerNormalization(epsilon=1e-6)\n",
    "        self.dropout1 = layers.Dropout(dropout)\n",
    "        self.dropout2 = layers.Dropout(dropout)\n",
    "        \n",
    "        # Average \n",
    "        self.pool = layers.GlobalAveragePooling1D()\n",
    "        self.dropout3 = layers.Dropout(dropout)\n",
    "        self.dense = layers.Dense(20, activation=\"relu\", \n",
    "                                  kernel_regularizer=keras.regularizers.l2(reg))\n",
    "        self.dropout4 = layers.Dropout(dropout)\n",
    "        \n",
    "        # 5-star review probability output\n",
    "        self.stars = layers.Dense(5, activation=\"softmax\")\n",
    "        \n",
    "    def call(self, x, training=False, return_att=False):\n",
    "        mask = self.token_emb.compute_mask(x)\n",
    "        mask = mask[:, tf.newaxis, tf.newaxis, :]\n",
    "        \n",
    "        # Embed tokens and positional encodings\n",
    "        maxlen = tf.shape(x)[-1]\n",
    "        positions = tf.range(start=0, limit=maxlen, delta=1)\n",
    "        positions = self.pos_emb(positions)\n",
    "        x = self.token_emb(x)\n",
    "        x = x + positions\n",
    "        \n",
    "        # Self attention (query = key) -> feed-forward network (w/ add & norm)\n",
    "        attn_output, attn_scores = self.att(x, x, attention_mask=mask, return_attention_scores=True)\n",
    "        attn_output = self.dropout1(attn_output, training=training)\n",
    "        out1 = self.layernorm1(x + attn_output)\n",
    "        ffn_output = self.ffn(out1)\n",
    "        ffn_output = self.dropout2(ffn_output, training=training)\n",
    "        x = self.layernorm2(out1 + ffn_output)\n",
    "        \n",
    "        # Average pooling (along each time step), dropout, one more dense layer\n",
    "        x = self.pool(x)\n",
    "        x = self.dropout3(x)\n",
    "        x = self.dense(x)\n",
    "        x = self.dropout4(x)\n",
    "        \n",
    "        # Softmax for 5-star rating probabilities\n",
    "        rating_probs = self.stars(x)\n",
    "        \n",
    "        if return_att:\n",
    "            return rating_probs, attn_scores\n",
    "\n",
    "        return rating_probs"
   ]
  },
  {
   "cell_type": "markdown",
   "id": "e25eea7b",
   "metadata": {},
   "source": [
    "##### Create Model"
   ]
  },
  {
   "cell_type": "code",
   "execution_count": 352,
   "id": "01d66238",
   "metadata": {},
   "outputs": [],
   "source": [
    "# Hyperparameters\n",
    "embed_dim = 32  # Embedding size for each token\n",
    "num_heads = 1   # Number of attention heads\n",
    "ff_dims = [32]  # Hidden layer sizes in feed forward network inside transformer\n",
    "reg = 5.0e-2\n",
    "dropout = 0.5\n",
    "\n",
    "# Model\n",
    "model = SentimentClassifier(maxlen, vocab_size, embed_dim, num_heads, ff_dims, reg, dropout)"
   ]
  },
  {
   "cell_type": "code",
   "execution_count": 354,
   "id": "26dd94ca",
   "metadata": {},
   "outputs": [
    {
     "name": "stdout",
     "output_type": "stream",
     "text": [
      "1/1 [==============================] - 0s 13ms/step\n"
     ]
    },
    {
     "data": {
      "text/plain": [
       "array([[0.15095167, 0.17700791, 0.2544087 , 0.19635233, 0.22127943],\n",
       "       [0.13135128, 0.1786729 , 0.2523063 , 0.20495206, 0.2327175 ],\n",
       "       [0.09962195, 0.18494481, 0.25995538, 0.20544069, 0.2500372 ],\n",
       "       [0.13701934, 0.18596981, 0.24168472, 0.20576817, 0.22955792],\n",
       "       [0.1267286 , 0.17476504, 0.26067114, 0.19931257, 0.23852268]],\n",
       "      dtype=float32)"
      ]
     },
     "execution_count": 354,
     "metadata": {},
     "output_type": "execute_result"
    }
   ],
   "source": [
    "model.predict(X_train[:5])"
   ]
  },
  {
   "cell_type": "markdown",
   "id": "5513f0e0",
   "metadata": {},
   "source": [
    "##### Compile and Run"
   ]
  },
  {
   "cell_type": "code",
   "execution_count": 355,
   "id": "395ff48e",
   "metadata": {},
   "outputs": [],
   "source": [
    "learning_rate = 1e-3\n",
    "\n",
    "model.compile(optimizer=keras.optimizers.Adam(learning_rate), \n",
    "              loss=\"sparse_categorical_crossentropy\", metrics=[\"accuracy\"])\n",
    "\n",
    "model.build(X_train.shape)"
   ]
  },
  {
   "cell_type": "code",
   "execution_count": 356,
   "id": "39281a41",
   "metadata": {},
   "outputs": [
    {
     "name": "stdout",
     "output_type": "stream",
     "text": [
      "Model: \"sentiment_classifier_52\"\n",
      "_________________________________________________________________\n",
      " Layer (type)                Output Shape              Param #   \n",
      "=================================================================\n",
      " t_emb (Embedding)           multiple                  960000    \n",
      "                                                                 \n",
      " p_emb (Embedding)           multiple                  6400      \n",
      "                                                                 \n",
      " attention (MultiHeadAttenti  multiple                 4224      \n",
      " on)                                                             \n",
      "                                                                 \n",
      " sequential_48 (Sequential)  (None, 200, 32)           1056      \n",
      "                                                                 \n",
      " layer_normalization_96 (Lay  multiple                 64        \n",
      " erNormalization)                                                \n",
      "                                                                 \n",
      " layer_normalization_97 (Lay  multiple                 64        \n",
      " erNormalization)                                                \n",
      "                                                                 \n",
      " dropout_195 (Dropout)       multiple                  0         \n",
      "                                                                 \n",
      " dropout_196 (Dropout)       multiple                  0         \n",
      "                                                                 \n",
      " global_average_pooling1d_48  multiple                 0         \n",
      "  (GlobalAveragePooling1D)                                       \n",
      "                                                                 \n",
      " dropout_197 (Dropout)       multiple                  0         \n",
      "                                                                 \n",
      " dense_145 (Dense)           multiple                  660       \n",
      "                                                                 \n",
      " dropout_198 (Dropout)       multiple                  0         \n",
      "                                                                 \n",
      " dense_146 (Dense)           multiple                  105       \n",
      "                                                                 \n",
      "=================================================================\n",
      "Total params: 972,573\n",
      "Trainable params: 972,573\n",
      "Non-trainable params: 0\n",
      "_________________________________________________________________\n"
     ]
    }
   ],
   "source": [
    "model.summary()"
   ]
  },
  {
   "cell_type": "code",
   "execution_count": 357,
   "id": "b0246e1a",
   "metadata": {
    "scrolled": true
   },
   "outputs": [
    {
     "name": "stdout",
     "output_type": "stream",
     "text": [
      "Epoch 1/10\n",
      "6250/6250 [==============================] - 22s 3ms/step - loss: 1.0306 - accuracy: 0.6149 - val_loss: 0.8217 - val_accuracy: 0.6667\n",
      "Epoch 2/10\n",
      "6250/6250 [==============================] - 21s 3ms/step - loss: 0.8699 - accuracy: 0.6493 - val_loss: 0.8252 - val_accuracy: 0.6590\n",
      "Epoch 3/10\n",
      "6250/6250 [==============================] - 21s 3ms/step - loss: 0.8378 - accuracy: 0.6609 - val_loss: 0.8223 - val_accuracy: 0.6602\n",
      "Epoch 4/10\n",
      "6250/6250 [==============================] - 21s 3ms/step - loss: 0.8155 - accuracy: 0.6690 - val_loss: 0.8402 - val_accuracy: 0.6548\n",
      "Epoch 5/10\n",
      "6250/6250 [==============================] - 21s 3ms/step - loss: 0.7978 - accuracy: 0.6753 - val_loss: 0.8806 - val_accuracy: 0.6325\n",
      "Epoch 6/10\n",
      "6250/6250 [==============================] - 22s 3ms/step - loss: 0.7828 - accuracy: 0.6809 - val_loss: 0.8855 - val_accuracy: 0.6448\n",
      "Epoch 7/10\n",
      "6250/6250 [==============================] - 21s 3ms/step - loss: 0.7701 - accuracy: 0.6862 - val_loss: 0.9568 - val_accuracy: 0.6335\n",
      "Epoch 8/10\n",
      "6250/6250 [==============================] - 22s 4ms/step - loss: 0.7582 - accuracy: 0.6918 - val_loss: 0.9403 - val_accuracy: 0.6476\n",
      "Epoch 9/10\n",
      "6250/6250 [==============================] - 22s 3ms/step - loss: 0.7487 - accuracy: 0.6952 - val_loss: 0.9310 - val_accuracy: 0.6493\n",
      "Epoch 10/10\n",
      "6250/6250 [==============================] - 22s 4ms/step - loss: 0.7413 - accuracy: 0.6980 - val_loss: 0.9373 - val_accuracy: 0.6480\n",
      "CPU times: total: 4min 35s\n",
      "Wall time: 3min 36s\n"
     ]
    }
   ],
   "source": [
    "%%time\n",
    "# Train model\n",
    "epochs = 10\n",
    "\n",
    "# Early stopping \n",
    "early_stopping = tf.keras.callbacks.EarlyStopping(monitor='loss', patience=3)\n",
    "\n",
    "# Checkpoint\n",
    "checkpoint_path = \"model_checkpoints/proto.ckpt\"\n",
    "checkpoint_dir = os.path.dirname(checkpoint_path)\n",
    "\n",
    "# Create a callback that saves the model's weights\n",
    "create_checkpoint = tf.keras.callbacks.ModelCheckpoint(filepath=checkpoint_path, verbose=1)\n",
    "\n",
    "history = model.fit(\n",
    "    X_train, y_train, batch_size=32, epochs=epochs, validation_data=(X_test, y_test),\n",
    "    callbacks=[early_stopping], verbose=1,\n",
    ")"
   ]
  },
  {
   "cell_type": "code",
   "execution_count": 388,
   "id": "8bf9d83a",
   "metadata": {},
   "outputs": [
    {
     "data": {
      "image/png": "[encoded data removed]",
      "text/plain": [
       "<Figure size 800x800 with 2 Axes>"
      ]
     },
     "metadata": {},
     "output_type": "display_data"
    }
   ],
   "source": [
    "hist = history.history\n",
    "acc, val_acc = hist[\"accuracy\"], hist[\"val_accuracy\"]\n",
    "\n",
    "fig, axes = plt.subplots(2, 1, sharex=True, figsize=(8, 8), dpi=100)\n",
    "\n",
    "for i, ax in enumerate(axes):\n",
    "    ax.plot(acc, label=\"acc\")\n",
    "    ax.plot(val_acc, label=\"val_acc\")\n",
    "    \n",
    "    ax.set_xlim(0, epochs - 1)\n",
    "    if i == 0:\n",
    "        ax.set_ylim(0.0, 1.0)\n",
    "        ax.axhline(0.2, color=\"red\", label=\"base\")\n",
    "        \n",
    "    ax.grid(visible=True, axis=\"both\")\n",
    "    ax.legend()\n",
    "    ax.set_xlabel(\"epoch\")\n",
    "    ax.set_ylabel(\"accuracy\")\n",
    "\n",
    "plt.show()"
   ]
  },
  {
   "cell_type": "markdown",
   "id": "f989e506",
   "metadata": {},
   "source": [
    "##### Test"
   ]
  },
  {
   "cell_type": "code",
   "execution_count": 360,
   "id": "4aab1fad",
   "metadata": {},
   "outputs": [
    {
     "name": "stdout",
     "output_type": "stream",
     "text": [
      "313/313 [==============================] - 1s 2ms/step\n"
     ]
    }
   ],
   "source": [
    "# Get probabilities per class\n",
    "y_pred = model.predict(X_test)"
   ]
  },
  {
   "cell_type": "code",
   "execution_count": 361,
   "id": "5f8ece44",
   "metadata": {},
   "outputs": [],
   "source": [
    "# Get star predictions and negative/positive predictions\n",
    "y_pred_multi = tf.argmax(y_pred, axis=1)\n",
    "y_pred_binary = y_pred_multi >= 3"
   ]
  },
  {
   "cell_type": "code",
   "execution_count": 362,
   "id": "458f93b5",
   "metadata": {},
   "outputs": [
    {
     "name": "stdout",
     "output_type": "stream",
     "text": [
      "multi-class accuracy: 0.648\n",
      "(compare to ~0.2)\n"
     ]
    }
   ],
   "source": [
    "print(\"multi-class accuracy: \" + str((y_pred_multi == y_test).numpy().sum() / len(y_test)))\n",
    "print(\"(compare to ~0.2)\")"
   ]
  },
  {
   "cell_type": "code",
   "execution_count": 363,
   "id": "6526ece6",
   "metadata": {},
   "outputs": [
    {
     "name": "stdout",
     "output_type": "stream",
     "text": [
      "binary accuracy: 0.8968\n",
      "(compare to ~0.5)\n"
     ]
    }
   ],
   "source": [
    "print(\"binary accuracy: \" + str((y_pred_binary == (y_test >= 3)).numpy().sum() / len(y_test)))\n",
    "print(\"(compare to ~0.5)\")"
   ]
  },
  {
   "cell_type": "markdown",
   "id": "f9dd5601",
   "metadata": {},
   "source": [
    "##### Visualize Attention"
   ]
  },
  {
   "cell_type": "code",
   "execution_count": 364,
   "id": "79f640f9",
   "metadata": {},
   "outputs": [
    {
     "data": {
      "text/plain": [
       "<tf.Tensor: shape=(2, 200), dtype=float32, numpy=\n",
       "array([[0.        , 0.        , 0.        , 0.        , 0.        ,\n",
       "        0.        , 0.        , 0.        , 0.        , 0.        ,\n",
       "        0.        , 0.        , 0.        , 0.        , 0.        ,\n",
       "        0.        , 0.        , 0.        , 0.        , 0.        ,\n",
       "        0.        , 0.        , 0.        , 0.        , 0.        ,\n",
       "        0.        , 0.        , 0.        , 0.        , 0.        ,\n",
       "        0.        , 0.        , 0.        , 0.        , 0.        ,\n",
       "        0.        , 0.        , 0.        , 0.        , 0.        ,\n",
       "        0.        , 0.        , 0.        , 0.        , 0.        ,\n",
       "        0.        , 0.        , 0.        , 0.        , 0.        ,\n",
       "        0.        , 0.        , 0.        , 0.        , 0.        ,\n",
       "        0.        , 0.        , 0.        , 0.        , 0.        ,\n",
       "        0.        , 0.        , 0.        , 0.        , 0.        ,\n",
       "        0.        , 0.        , 0.        , 0.        , 0.        ,\n",
       "        0.        , 0.        , 0.        , 0.        , 0.        ,\n",
       "        0.        , 0.        , 0.        , 0.        , 0.        ,\n",
       "        0.        , 0.        , 0.        , 0.        , 0.        ,\n",
       "        0.        , 0.        , 0.        , 0.        , 0.        ,\n",
       "        0.        , 0.        , 0.        , 0.        , 0.        ,\n",
       "        0.        , 0.        , 0.        , 0.        , 0.        ,\n",
       "        0.        , 0.        , 0.        , 0.        , 0.        ,\n",
       "        0.        , 0.        , 0.        , 0.        , 0.        ,\n",
       "        0.        , 0.        , 0.        , 0.        , 0.        ,\n",
       "        0.        , 0.        , 0.        , 0.        , 0.        ,\n",
       "        0.        , 0.        , 0.        , 0.        , 0.        ,\n",
       "        0.        , 0.        , 0.        , 0.        , 0.        ,\n",
       "        0.        , 0.        , 0.        , 0.        , 0.        ,\n",
       "        0.        , 0.        , 0.        , 0.        , 0.        ,\n",
       "        0.        , 0.        , 0.        , 0.        , 0.        ,\n",
       "        0.        , 0.        , 0.        , 0.        , 0.        ,\n",
       "        0.        , 0.        , 0.        , 0.        , 0.        ,\n",
       "        0.        , 0.        , 0.        , 0.        , 0.        ,\n",
       "        0.        , 0.        , 0.        , 0.        , 0.        ,\n",
       "        0.        , 0.03946919, 0.03045198, 0.03873347, 0.03242358,\n",
       "        0.0327565 , 0.02157219, 0.03087746, 0.03103625, 0.01901345,\n",
       "        0.03340317, 0.01343764, 0.02466197, 0.02766641, 0.02108599,\n",
       "        0.0270589 , 0.03067093, 0.03500921, 0.03098181, 0.0537179 ,\n",
       "        0.03029369, 0.02798569, 0.02586276, 0.04171991, 0.0299181 ,\n",
       "        0.04169945, 0.02045505, 0.02080067, 0.0131506 , 0.0224121 ,\n",
       "        0.02372655, 0.01510942, 0.02786765, 0.06121254, 0.02375784],\n",
       "       [0.        , 0.        , 0.        , 0.        , 0.        ,\n",
       "        0.        , 0.        , 0.        , 0.        , 0.        ,\n",
       "        0.        , 0.        , 0.        , 0.        , 0.        ,\n",
       "        0.        , 0.        , 0.        , 0.        , 0.        ,\n",
       "        0.        , 0.        , 0.        , 0.        , 0.        ,\n",
       "        0.        , 0.        , 0.        , 0.        , 0.        ,\n",
       "        0.        , 0.        , 0.        , 0.        , 0.        ,\n",
       "        0.        , 0.        , 0.        , 0.        , 0.        ,\n",
       "        0.        , 0.        , 0.        , 0.        , 0.        ,\n",
       "        0.        , 0.        , 0.        , 0.        , 0.        ,\n",
       "        0.        , 0.        , 0.        , 0.        , 0.        ,\n",
       "        0.        , 0.        , 0.        , 0.        , 0.        ,\n",
       "        0.        , 0.        , 0.        , 0.        , 0.        ,\n",
       "        0.        , 0.        , 0.        , 0.        , 0.        ,\n",
       "        0.        , 0.        , 0.        , 0.        , 0.        ,\n",
       "        0.        , 0.        , 0.        , 0.        , 0.        ,\n",
       "        0.        , 0.        , 0.        , 0.        , 0.        ,\n",
       "        0.        , 0.        , 0.        , 0.        , 0.        ,\n",
       "        0.        , 0.        , 0.        , 0.        , 0.        ,\n",
       "        0.        , 0.        , 0.        , 0.        , 0.        ,\n",
       "        0.        , 0.        , 0.        , 0.        , 0.        ,\n",
       "        0.        , 0.        , 0.        , 0.        , 0.        ,\n",
       "        0.        , 0.        , 0.        , 0.        , 0.        ,\n",
       "        0.        , 0.        , 0.        , 0.        , 0.        ,\n",
       "        0.        , 0.        , 0.        , 0.        , 0.        ,\n",
       "        0.        , 0.        , 0.        , 0.        , 0.        ,\n",
       "        0.        , 0.        , 0.        , 0.        , 0.        ,\n",
       "        0.        , 0.        , 0.        , 0.        , 0.        ,\n",
       "        0.        , 0.        , 0.        , 0.        , 0.        ,\n",
       "        0.        , 0.        , 0.        , 0.        , 0.        ,\n",
       "        0.        , 0.        , 0.        , 0.        , 0.        ,\n",
       "        0.        , 0.        , 0.        , 0.        , 0.        ,\n",
       "        0.        , 0.        , 0.        , 0.        , 0.        ,\n",
       "        0.        , 0.        , 0.        , 0.        , 0.        ,\n",
       "        0.        , 0.        , 0.        , 0.        , 0.04144769,\n",
       "        0.0393178 , 0.04054402, 0.02800926, 0.02328128, 0.03411254,\n",
       "        0.0970974 , 0.02896383, 0.03566864, 0.03043512, 0.04395336,\n",
       "        0.03165298, 0.0326919 , 0.06242207, 0.0341178 , 0.04210239,\n",
       "        0.03264499, 0.04753566, 0.03636503, 0.03812922, 0.02860258,\n",
       "        0.02861869, 0.0308077 , 0.03137241, 0.02722443, 0.05288124]],\n",
       "      dtype=float32)>"
      ]
     },
     "execution_count": 364,
     "metadata": {},
     "output_type": "execute_result"
    }
   ],
   "source": [
    "# Get attention scores\n",
    "_, ex_att = model(X_test[0:2], return_att=True)\n",
    "\n",
    "# Get attention for each sample\n",
    "attns = tf.reduce_mean(ex_att, axis=2)[:, 0, :]\n",
    "attns"
   ]
  },
  {
   "cell_type": "code",
   "execution_count": 365,
   "id": "7071983a",
   "metadata": {},
   "outputs": [
    {
     "data": {
      "text/plain": [
       "['frightened',\n",
       " 'life',\n",
       " 'scream',\n",
       " 'fall',\n",
       " 'floor',\n",
       " 'run',\n",
       " 'life',\n",
       " 'literally',\n",
       " 'cover',\n",
       " 'sweat',\n",
       " 'need',\n",
       " 'inhaler',\n",
       " 'multiple',\n",
       " 'time',\n",
       " 'campus',\n",
       " 'huge',\n",
       " 'vip',\n",
       " 'definitely',\n",
       " 'pennhurst',\n",
       " 'amazing',\n",
       " 'campus',\n",
       " 'lot',\n",
       " 'history',\n",
       " 'actor',\n",
       " 'fully',\n",
       " 'commit',\n",
       " 'make',\n",
       " 'experience',\n",
       " 'hair',\n",
       " 'raise',\n",
       " 'suggest',\n",
       " 'place',\n",
       " 'look',\n",
       " 'fright',\n",
       " 'experience']"
      ]
     },
     "execution_count": 365,
     "metadata": {},
     "output_type": "execute_result"
    }
   ],
   "source": [
    "X_test_norm[0]"
   ]
  },
  {
   "cell_type": "code",
   "execution_count": 422,
   "id": "5a4362e2",
   "metadata": {},
   "outputs": [
    {
     "data": {
      "text/plain": [
       "array([0.03946919, 0.03045198, 0.03873347, 0.03242358, 0.0327565 ,\n",
       "       0.02157219, 0.03087746, 0.03103625, 0.01901345, 0.03340317,\n",
       "       0.01343764, 0.02466197, 0.02766641, 0.02108599, 0.0270589 ,\n",
       "       0.03067093, 0.03500921, 0.03098181, 0.0537179 , 0.03029369,\n",
       "       0.02798569, 0.02586276, 0.04171991, 0.0299181 , 0.04169945,\n",
       "       0.02045505, 0.02080067, 0.0131506 , 0.0224121 , 0.02372655,\n",
       "       0.01510942, 0.02786765, 0.06121254, 0.02375784], dtype=float32)"
      ]
     },
     "execution_count": 422,
     "metadata": {},
     "output_type": "execute_result"
    }
   ],
   "source": [
    "attns[0][-seq_len + 1:].numpy()"
   ]
  },
  {
   "cell_type": "code",
   "execution_count": 415,
   "id": "08600864",
   "metadata": {},
   "outputs": [],
   "source": [
    "def colors_from_values(values, palette_name=\"BuGn\"):\n",
    "    # normalize the values to range [0, 1]\n",
    "    normalized = (values - min(values)) / (max(values) - min(values))\n",
    "    # convert to indices\n",
    "    indices = np.round(normalized * (len(values) - 1)).astype(np.int32)\n",
    "    # use the indices to get the colors\n",
    "    palette = sns.color_palette(palette_name, len(values))\n",
    "    return np.array(palette).take(indices, axis=0)"
   ]
  },
  {
   "cell_type": "code",
   "execution_count": 425,
   "id": "153958bb",
   "metadata": {},
   "outputs": [
    {
     "name": "stdout",
     "output_type": "stream",
     "text": [
      "<Original Text>\n",
      "I have never been more frightened in my life.  I screamed, fell on the floor, and ran for my life.  I was literally covered in sweat and needed my inhaler multiple times.  The campus is huge and VIP is definitely the move.  Pennhurst is an amazing campus with lots of history and the actors are fully committed to making the experience hair raising.  I would suggest this place to anyone looking for a frighting experience.\n",
      "\n",
      "<Preprocessed>\n",
      "['frightened', 'life', 'scream', 'fall', 'floor', 'run', 'life', 'literally', 'cover', 'sweat', 'need', 'inhaler', 'multiple', 'time', 'campus', 'huge', 'vip', 'definitely', 'pennhurst', 'amazing', 'campus', 'lot', 'history', 'actor', 'fully', 'commit', 'make', 'experience', 'hair', 'raise', 'suggest', 'place', 'look', 'fright', 'experience']\n"
     ]
    },
    {
     "data": {
      "image/png": "[encoded data removed]",
      "text/plain": [
       "<Figure size 600x700 with 1 Axes>"
      ]
     },
     "metadata": {},
     "output_type": "display_data"
    }
   ],
   "source": [
    "sample_idx = 0\n",
    "\n",
    "seq_len = len(X_test_norm[sample_idx])\n",
    "in_seq = X_test_norm[sample_idx]\n",
    "attn_vals = attns[sample_idx][-seq_len:].numpy()\n",
    "\n",
    "print(\"<Original Text>\")\n",
    "print(test[\"text\"].iloc[sample_idx])\n",
    "\n",
    "print(\"\\n<Preprocessed>\")\n",
    "print(in_seq)\n",
    "\n",
    "plt.figure(figsize=(6, 0.2 * seq_len), dpi=100)\n",
    "sns.barplot(y=in_seq, x=attn_vals, ci=None, color=\"orange\")\n",
    "\n",
    "plt.show()"
   ]
  }
 ],
 "metadata": {
  "kernelspec": {
   "display_name": "Python [conda env:tf-gpu]",
   "language": "python",
   "name": "conda-env-tf-gpu-py"
  },
  "language_info": {
   "codemirror_mode": {
    "name": "ipython",
    "version": 3
   },
   "file_extension": ".py",
   "mimetype": "text/x-python",
   "name": "python",
   "nbconvert_exporter": "python",
   "pygments_lexer": "ipython3",
   "version": "3.10.4"
  }
 },
 "nbformat": 4,
 "nbformat_minor": 5
}

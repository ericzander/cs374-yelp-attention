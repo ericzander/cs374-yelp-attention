{
 "cells": [
  {
   "cell_type": "markdown",
   "id": "9a91af41",
   "metadata": {},
   "source": [
    "> Tests for building preprocessing module."
   ]
  },
  {
   "cell_type": "markdown",
   "id": "bd318293",
   "metadata": {},
   "source": [
    "---"
   ]
  },
  {
   "cell_type": "markdown",
   "id": "93fb8d86",
   "metadata": {},
   "source": [
    "# Setup"
   ]
  },
  {
   "cell_type": "markdown",
   "id": "55c4193f",
   "metadata": {},
   "source": [
    "##### Set Root Dir as CWD"
   ]
  },
  {
   "cell_type": "code",
   "execution_count": 25,
   "id": "7d88d86d",
   "metadata": {},
   "outputs": [],
   "source": [
    "import os\n",
    "\n",
    "# Navigate to project root (if not already there)\n",
    "if os.path.split(os.getcwd())[1] != \"cs374-project\":\n",
    "    %cd ../"
   ]
  },
  {
   "cell_type": "markdown",
   "id": "ebf5af2e",
   "metadata": {},
   "source": [
    "##### Imports"
   ]
  },
  {
   "cell_type": "code",
   "execution_count": 26,
   "id": "f8dbe9fb",
   "metadata": {},
   "outputs": [],
   "source": [
    "import numpy as np\n",
    "import pandas as pd\n",
    "\n",
    "import spacy\n",
    "\n",
    "import tensorflow as tf\n",
    "from tensorflow import keras\n",
    "from tensorflow.keras import layers\n",
    "\n",
    "import matplotlib.pyplot as plt\n",
    "import seaborn as sns\n",
    "sns.set_theme()\n",
    "\n",
    "# Local\n",
    "from src.preprocesser import ReviewPreprocessor"
   ]
  },
  {
   "cell_type": "markdown",
   "id": "3ef923cc",
   "metadata": {},
   "source": [
    "# Load"
   ]
  },
  {
   "cell_type": "code",
   "execution_count": 27,
   "id": "71b0f0cf",
   "metadata": {},
   "outputs": [],
   "source": [
    "path = \"data/yelp/reviews/\""
   ]
  },
  {
   "cell_type": "code",
   "execution_count": 28,
   "id": "73c9a325",
   "metadata": {},
   "outputs": [
    {
     "name": "stdout",
     "output_type": "stream",
     "text": [
      "CPU times: total: 32.7 s\n",
      "Wall time: 32.8 s\n"
     ]
    }
   ],
   "source": [
    "%%time\n",
    "# Load dev set (10% of total data) as train\n",
    "train_all = pd.read_pickle(path + \"train.xz\")"
   ]
  },
  {
   "cell_type": "code",
   "execution_count": 29,
   "id": "821b8fb6",
   "metadata": {},
   "outputs": [
    {
     "name": "stdout",
     "output_type": "stream",
     "text": [
      "CPU times: total: 4.67 s\n",
      "Wall time: 4.68 s\n"
     ]
    }
   ],
   "source": [
    "%%time\n",
    "# Load test set (10% of total data) as test\n",
    "test_all = pd.read_pickle(path + \"test.xz\")"
   ]
  },
  {
   "cell_type": "code",
   "execution_count": 30,
   "id": "52e0d9d5",
   "metadata": {},
   "outputs": [],
   "source": [
    "#num_samples = (10_000, 10_000)\n",
    "\n",
    "train = train_all.iloc[:] #num_samples[0]]\n",
    "test = test_all.iloc[:] #num_samples[1]]"
   ]
  },
  {
   "cell_type": "code",
   "execution_count": 31,
   "id": "b8ccc29f",
   "metadata": {},
   "outputs": [
    {
     "data": {
      "text/html": [
       "<div>\n",
       "<style scoped>\n",
       "    .dataframe tbody tr th:only-of-type {\n",
       "        vertical-align: middle;\n",
       "    }\n",
       "\n",
       "    .dataframe tbody tr th {\n",
       "        vertical-align: top;\n",
       "    }\n",
       "\n",
       "    .dataframe thead th {\n",
       "        text-align: right;\n",
       "    }\n",
       "</style>\n",
       "<table border=\"1\" class=\"dataframe\">\n",
       "  <thead>\n",
       "    <tr style=\"text-align: right;\">\n",
       "      <th></th>\n",
       "      <th>text</th>\n",
       "      <th>stars</th>\n",
       "    </tr>\n",
       "  </thead>\n",
       "  <tbody>\n",
       "    <tr>\n",
       "      <th>2903612</th>\n",
       "      <td>I like Wedding Belles for an odd reason. I set...</td>\n",
       "      <td>5</td>\n",
       "    </tr>\n",
       "    <tr>\n",
       "      <th>5050964</th>\n",
       "      <td>We had a great stay here. I felt like we got a...</td>\n",
       "      <td>5</td>\n",
       "    </tr>\n",
       "    <tr>\n",
       "      <th>1226557</th>\n",
       "      <td>A unique place for sure, not your standard bre...</td>\n",
       "      <td>3</td>\n",
       "    </tr>\n",
       "    <tr>\n",
       "      <th>776083</th>\n",
       "      <td>This will be a short review on service and gri...</td>\n",
       "      <td>4</td>\n",
       "    </tr>\n",
       "    <tr>\n",
       "      <th>227582</th>\n",
       "      <td>Great barbershop. Super friendly staff. They a...</td>\n",
       "      <td>5</td>\n",
       "    </tr>\n",
       "    <tr>\n",
       "      <th>...</th>\n",
       "      <td>...</td>\n",
       "      <td>...</td>\n",
       "    </tr>\n",
       "    <tr>\n",
       "      <th>3578067</th>\n",
       "      <td>I've not personally had the bad experiences th...</td>\n",
       "      <td>4</td>\n",
       "    </tr>\n",
       "    <tr>\n",
       "      <th>424533</th>\n",
       "      <td>Dive bar.\\nNew ownership has improved the menu...</td>\n",
       "      <td>3</td>\n",
       "    </tr>\n",
       "    <tr>\n",
       "      <th>28275</th>\n",
       "      <td>This place is so addicting, good vegan options...</td>\n",
       "      <td>5</td>\n",
       "    </tr>\n",
       "    <tr>\n",
       "      <th>2949771</th>\n",
       "      <td>What is not to love about Wingfield Park, down...</td>\n",
       "      <td>5</td>\n",
       "    </tr>\n",
       "    <tr>\n",
       "      <th>4098612</th>\n",
       "      <td>I'm NOT OK! I just paid $60 w/tip for a less t...</td>\n",
       "      <td>2</td>\n",
       "    </tr>\n",
       "  </tbody>\n",
       "</table>\n",
       "<p>5592224 rows × 2 columns</p>\n",
       "</div>"
      ],
      "text/plain": [
       "                                                      text  stars\n",
       "2903612  I like Wedding Belles for an odd reason. I set...      5\n",
       "5050964  We had a great stay here. I felt like we got a...      5\n",
       "1226557  A unique place for sure, not your standard bre...      3\n",
       "776083   This will be a short review on service and gri...      4\n",
       "227582   Great barbershop. Super friendly staff. They a...      5\n",
       "...                                                    ...    ...\n",
       "3578067  I've not personally had the bad experiences th...      4\n",
       "424533   Dive bar.\\nNew ownership has improved the menu...      3\n",
       "28275    This place is so addicting, good vegan options...      5\n",
       "2949771  What is not to love about Wingfield Park, down...      5\n",
       "4098612  I'm NOT OK! I just paid $60 w/tip for a less t...      2\n",
       "\n",
       "[5592224 rows x 2 columns]"
      ]
     },
     "execution_count": 31,
     "metadata": {},
     "output_type": "execute_result"
    }
   ],
   "source": [
    "train"
   ]
  },
  {
   "cell_type": "markdown",
   "id": "05965e48",
   "metadata": {},
   "source": [
    "##### Save Target"
   ]
  },
  {
   "cell_type": "code",
   "execution_count": 32,
   "id": "9d6ae318",
   "metadata": {},
   "outputs": [],
   "source": [
    "# Save reviews stars from 0-4\n",
    "y_train = tf.convert_to_tensor(train[\"stars\"].values - 1)\n",
    "y_test = tf.convert_to_tensor(test[\"stars\"].values - 1)"
   ]
  },
  {
   "cell_type": "markdown",
   "id": "d4fd8d22",
   "metadata": {},
   "source": [
    "# Preprocess"
   ]
  },
  {
   "cell_type": "code",
   "execution_count": 62,
   "id": "c5230aed",
   "metadata": {
    "scrolled": true
   },
   "outputs": [
    {
     "name": "stdout",
     "output_type": "stream",
     "text": [
      "CPU times: total: 1h 3min 3s\n",
      "Wall time: 1h 3min 53s\n"
     ]
    }
   ],
   "source": [
    "%%time\n",
    "batch_size = 2000\n",
    "n_processes = 4\n",
    "\n",
    "maxlen = 200         # Number of words per review to consider\n",
    "vocab_size = 30_000  # Size of vocabulary\n",
    "\n",
    "# Configure preprocessor\n",
    "prep = ReviewPreprocessor(vocab_size, maxlen, alpha_only=False, split_digits=True)\n",
    "\n",
    "# Preprocess text\n",
    "X_train_norm = prep.normalize(train[\"text\"], batch_size, n_processes)\n",
    "X_test_norm = prep.normalize(test[\"text\"], batch_size, n_processes)\n",
    "\n",
    "# Fit tokenizer\n",
    "prep.fit_tokenizer(X_train_norm)\n",
    "\n",
    "# Convert to tensor of padded sequences\n",
    "X_train = prep.to_tensor(X_train_norm)\n",
    "X_test = prep.to_tensor(X_test_norm)"
   ]
  },
  {
   "cell_type": "markdown",
   "id": "18a27790",
   "metadata": {},
   "source": [
    "##### Save Results"
   ]
  },
  {
   "cell_type": "code",
   "execution_count": 63,
   "id": "6e9d924b",
   "metadata": {},
   "outputs": [
    {
     "name": "stdout",
     "output_type": "stream",
     "text": [
      "CPU times: total: 21min 12s\n",
      "Wall time: 21min 35s\n"
     ]
    }
   ],
   "source": [
    "%%time\n",
    "pd.Series(X_train_norm).to_pickle(path + \"train_prep.xz\")\n",
    "pd.Series(X_test_norm).to_pickle(path + \"test_prep.xz\")\n",
    "prep.save_as_pickle(\"prototypes/preprocessors/prep_v4.pickle\")"
   ]
  },
  {
   "cell_type": "markdown",
   "id": "8f0385e8",
   "metadata": {},
   "source": [
    "##### View Before and After Preprocessing"
   ]
  },
  {
   "cell_type": "code",
   "execution_count": 64,
   "id": "d3c8d426",
   "metadata": {},
   "outputs": [
    {
     "name": "stdout",
     "output_type": "stream",
     "text": [
      "I have never been more frightened in my life.  I screamed, fell on the floor, and ran for my life.  I was literally covered in sweat and needed my inhaler multiple times.  The campus is huge and VIP is definitely the move.  Pennhurst is an amazing campus with lots of history and the actors are fully committed to making the experience hair raising.  I would suggest this place to anyone looking for a frighting experience.\n",
      "\n",
      " - - - - \n",
      "\n",
      "['frightened', 'life', '.', 'screamed', ',', 'fell', 'floor', ',', 'ran', 'life', '.', 'literally', 'covered', 'sweat', 'needed', 'inhaler', 'multiple', 'times', '.', 'campus', 'huge', 'vip', 'definitely', '.', 'pennhurst', 'amazing', 'campus', 'lots', 'history', 'actors', 'fully', 'committed', 'making', 'experience', 'hair', 'raising', '.', 'suggest', 'place', 'looking', 'frighting', 'experience', '.'] 43\n",
      "\n",
      " - - - - \n",
      "\n",
      "tf.Tensor(\n",
      "[17024   421     1  6914     2  1438   506     2  1151   421     1   499\n",
      "   904  3978   209 26470   662    79     1  3288   201  3881    40     1\n",
      " 27969    46  3288   327  1188  8582  1652  6080   335    44   279  6971\n",
      "     1   965    11   110    44     1     0     0     0     0     0     0\n",
      "     0     0     0     0     0     0     0     0     0     0     0     0\n",
      "     0     0     0     0     0     0     0     0     0     0     0     0\n",
      "     0     0     0     0     0     0     0     0     0     0     0     0\n",
      "     0     0     0     0     0     0     0     0     0     0     0     0\n",
      "     0     0     0     0     0     0     0     0     0     0     0     0\n",
      "     0     0     0     0     0     0     0     0     0     0     0     0\n",
      "     0     0     0     0     0     0     0     0     0     0     0     0\n",
      "     0     0     0     0     0     0     0     0     0     0     0     0\n",
      "     0     0     0     0     0     0     0     0     0     0     0     0\n",
      "     0     0     0     0     0     0     0     0     0     0     0     0\n",
      "     0     0     0     0     0     0     0     0     0     0     0     0\n",
      "     0     0     0     0     0     0     0     0     0     0     0     0\n",
      "     0     0     0     0     0     0     0     0], shape=(200,), dtype=int32)\n"
     ]
    }
   ],
   "source": [
    "print_idx = 0\n",
    "print(test[\"text\"].iloc[print_idx])\n",
    "print(\"\\n - - - - \\n\")\n",
    "print(X_test_norm[print_idx], len(X_test_norm[print_idx]))\n",
    "print(\"\\n - - - - \\n\")\n",
    "print(X_test[print_idx])"
   ]
  },
  {
   "cell_type": "markdown",
   "id": "f9839669",
   "metadata": {},
   "source": [
    "# Model"
   ]
  },
  {
   "cell_type": "markdown",
   "id": "2de79d55",
   "metadata": {},
   "source": [
    "* Reference https://keras.io/examples/nlp/text_classification_with_transformer/"
   ]
  },
  {
   "cell_type": "markdown",
   "id": "a78e383c",
   "metadata": {},
   "source": [
    "##### Embedding Layer Definition"
   ]
  },
  {
   "cell_type": "code",
   "execution_count": 65,
   "id": "01b20cf3",
   "metadata": {},
   "outputs": [],
   "source": [
    "class TokenAndPositionEmbedding(layers.Layer):\n",
    "    def __init__(self, maxlen, vocab_size, embed_dim, name=None):\n",
    "        super(TokenAndPositionEmbedding, self).__init__(name=name)\n",
    "        \n",
    "        # Token embedding\n",
    "        self.token_emb = layers.Embedding(input_dim=vocab_size, output_dim=embed_dim, mask_zero=True)\n",
    "        \n",
    "        # Position embedding\n",
    "        self.pos_emb = layers.Embedding(input_dim=maxlen, output_dim=embed_dim)\n",
    "\n",
    "    def call(self, x):\n",
    "        maxlen = tf.shape(x)[-1]\n",
    "        positions = tf.range(start=0, limit=maxlen, delta=1)\n",
    "        positions = self.pos_emb(positions)\n",
    "\n",
    "        x = self.token_emb(x)\n",
    "        return x + positions"
   ]
  },
  {
   "cell_type": "markdown",
   "id": "44e9e87a",
   "metadata": {},
   "source": [
    "##### Model Definition"
   ]
  },
  {
   "cell_type": "code",
   "execution_count": 66,
   "id": "aa0fc051",
   "metadata": {},
   "outputs": [],
   "source": [
    "class SentimentClassifier(tf.keras.Model):\n",
    "    def __init__(self, maxlen, vocab_size, embed_dim, num_heads, ff_dims,\n",
    "                 reg=1e-3, dropout=0.3):\n",
    "        super().__init__()\n",
    "        \n",
    "        # Token embedding\n",
    "        self.token_emb = layers.Embedding(input_dim=vocab_size, output_dim=embed_dim,\n",
    "                                          mask_zero=True, name=\"t_emb\")\n",
    "        \n",
    "        # Position embedding\n",
    "        self.pos_emb = layers.Embedding(input_dim=maxlen, output_dim=embed_dim,\n",
    "                                        name=\"p_emb\")\n",
    "        \n",
    "        # Attention based on token and positional info\n",
    "        self.att = layers.MultiHeadAttention(num_heads=num_heads, key_dim=embed_dim,\n",
    "                                             name=\"attention\")\n",
    "        \n",
    "        # Feed-forward network with a layer for each number of neurons in ff_dims\n",
    "        ffn_layers = []\n",
    "        for dim in ff_dims:\n",
    "            layer = layers.Dense(dim, activation=\"relu\", \n",
    "                                 kernel_regularizer=keras.regularizers.l2(reg))\n",
    "            ffn_layers.append(layer)\n",
    "        self.ffn = keras.Sequential(ffn_layers)\n",
    "        \n",
    "        # Speed and regularization\n",
    "        self.layernorm1 = layers.LayerNormalization(epsilon=1e-6)\n",
    "        self.layernorm2 = layers.LayerNormalization(epsilon=1e-6)\n",
    "        self.dropout1 = layers.Dropout(dropout)\n",
    "        self.dropout2 = layers.Dropout(dropout)\n",
    "        \n",
    "        # Average \n",
    "        self.pool = layers.GlobalAveragePooling1D()\n",
    "        self.dropout3 = layers.Dropout(dropout)\n",
    "        self.dense = layers.Dense(20, activation=\"relu\", \n",
    "                                  kernel_regularizer=keras.regularizers.l2(reg))\n",
    "        self.dropout4 = layers.Dropout(dropout)\n",
    "        \n",
    "        # 5-star review probability output\n",
    "        self.stars = layers.Dense(5, activation=\"softmax\")\n",
    "        \n",
    "    def call(self, x, training=False, return_att=False):\n",
    "        mask = self.token_emb.compute_mask(x)\n",
    "        mask = mask[:, tf.newaxis, tf.newaxis, :]\n",
    "        \n",
    "        # Embed tokens and positional encodings\n",
    "        maxlen = tf.shape(x)[-1]\n",
    "        positions = tf.range(start=0, limit=maxlen, delta=1)\n",
    "        positions = self.pos_emb(positions)\n",
    "        x = self.token_emb(x)\n",
    "        x = x + positions\n",
    "        \n",
    "        # Self attention (query = key) -> feed-forward network (w/ add & norm)\n",
    "        attn_output, attn_scores = self.att(x, x, attention_mask=mask, return_attention_scores=True)\n",
    "        attn_output = self.dropout1(attn_output, training=training)\n",
    "        out1 = self.layernorm1(x + attn_output)\n",
    "        ffn_output = self.ffn(out1)\n",
    "        ffn_output = self.dropout2(ffn_output, training=training)\n",
    "        x = self.layernorm2(out1 + ffn_output)\n",
    "        \n",
    "        # Average pooling (along each time step), dropout, one more dense layer\n",
    "        x = self.pool(x)\n",
    "        x = self.dropout3(x)\n",
    "        x = self.dense(x)\n",
    "        x = self.dropout4(x)\n",
    "        \n",
    "        # Softmax for 5-star rating probabilities\n",
    "        rating_probs = self.stars(x)\n",
    "        \n",
    "        if return_att:\n",
    "            return rating_probs, attn_scores\n",
    "\n",
    "        return rating_probs"
   ]
  },
  {
   "cell_type": "markdown",
   "id": "e25eea7b",
   "metadata": {},
   "source": [
    "##### Create Model"
   ]
  },
  {
   "cell_type": "code",
   "execution_count": 67,
   "id": "01d66238",
   "metadata": {},
   "outputs": [],
   "source": [
    "# Hyperparameters\n",
    "embed_dim = 32  # Attention output size\n",
    "num_heads = 1   # Number of attention heads\n",
    "ff_dims = [32]  # Hidden layer sizes in feed forward network inside transformer\n",
    "reg = 5.0e-2\n",
    "dropout = 0.5\n",
    "\n",
    "# Model\n",
    "model = SentimentClassifier(maxlen, vocab_size, embed_dim, num_heads, ff_dims, reg, dropout)"
   ]
  },
  {
   "cell_type": "code",
   "execution_count": 68,
   "id": "26dd94ca",
   "metadata": {},
   "outputs": [
    {
     "name": "stdout",
     "output_type": "stream",
     "text": [
      "1/1 [==============================] - 4s 4s/step\n"
     ]
    },
    {
     "data": {
      "text/plain": [
       "array([[0.20277509, 0.330513  , 0.05835566, 0.26703957, 0.14131667],\n",
       "       [0.23167352, 0.3482664 , 0.0467842 , 0.25372586, 0.11955006],\n",
       "       [0.19717845, 0.4043113 , 0.03031519, 0.2702041 , 0.09799093],\n",
       "       [0.21194728, 0.337737  , 0.0537206 , 0.26280764, 0.13378747],\n",
       "       [0.20766588, 0.400041  , 0.02903873, 0.26347503, 0.09977937]],\n",
       "      dtype=float32)"
      ]
     },
     "execution_count": 68,
     "metadata": {},
     "output_type": "execute_result"
    }
   ],
   "source": [
    "model.predict(X_train[:5])"
   ]
  },
  {
   "cell_type": "markdown",
   "id": "5513f0e0",
   "metadata": {},
   "source": [
    "##### Compile and Run"
   ]
  },
  {
   "cell_type": "code",
   "execution_count": 69,
   "id": "395ff48e",
   "metadata": {},
   "outputs": [],
   "source": [
    "learning_rate = 1e-3\n",
    "\n",
    "model.compile(optimizer=keras.optimizers.Adam(learning_rate), \n",
    "              loss=\"sparse_categorical_crossentropy\", metrics=[\"accuracy\"])\n",
    "\n",
    "model.build(X_train.shape)"
   ]
  },
  {
   "cell_type": "code",
   "execution_count": 70,
   "id": "39281a41",
   "metadata": {},
   "outputs": [
    {
     "name": "stdout",
     "output_type": "stream",
     "text": [
      "Model: \"sentiment_classifier_3\"\n",
      "_________________________________________________________________\n",
      " Layer (type)                Output Shape              Param #   \n",
      "=================================================================\n",
      " t_emb (Embedding)           multiple                  960000    \n",
      "                                                                 \n",
      " p_emb (Embedding)           multiple                  6400      \n",
      "                                                                 \n",
      " attention (MultiHeadAttenti  multiple                 4224      \n",
      " on)                                                             \n",
      "                                                                 \n",
      " sequential_3 (Sequential)   (None, 200, 32)           1056      \n",
      "                                                                 \n",
      " layer_normalization_6 (Laye  multiple                 64        \n",
      " rNormalization)                                                 \n",
      "                                                                 \n",
      " layer_normalization_7 (Laye  multiple                 64        \n",
      " rNormalization)                                                 \n",
      "                                                                 \n",
      " dropout_12 (Dropout)        multiple                  0         \n",
      "                                                                 \n",
      " dropout_13 (Dropout)        multiple                  0         \n",
      "                                                                 \n",
      " global_average_pooling1d_3   multiple                 0         \n",
      " (GlobalAveragePooling1D)                                        \n",
      "                                                                 \n",
      " dropout_14 (Dropout)        multiple                  0         \n",
      "                                                                 \n",
      " dense_10 (Dense)            multiple                  660       \n",
      "                                                                 \n",
      " dropout_15 (Dropout)        multiple                  0         \n",
      "                                                                 \n",
      " dense_11 (Dense)            multiple                  105       \n",
      "                                                                 \n",
      "=================================================================\n",
      "Total params: 972,573\n",
      "Trainable params: 972,573\n",
      "Non-trainable params: 0\n",
      "_________________________________________________________________\n"
     ]
    }
   ],
   "source": [
    "model.summary()"
   ]
  },
  {
   "cell_type": "code",
   "execution_count": 71,
   "id": "b0246e1a",
   "metadata": {
    "scrolled": false
   },
   "outputs": [
    {
     "name": "stdout",
     "output_type": "stream",
     "text": [
      "Epoch 1/10\n",
      "174757/174757 [==============================] - 623s 4ms/step - loss: 0.8300 - accuracy: 0.6646 - val_loss: 0.7958 - val_accuracy: 0.6682\n",
      "Epoch 2/10\n",
      "174757/174757 [==============================] - 625s 4ms/step - loss: 0.8034 - accuracy: 0.6746 - val_loss: 0.7610 - val_accuracy: 0.6816\n",
      "Epoch 3/10\n",
      "174757/174757 [==============================] - 629s 4ms/step - loss: 0.7973 - accuracy: 0.6772 - val_loss: 0.7979 - val_accuracy: 0.6546\n",
      "Epoch 4/10\n",
      "174757/174757 [==============================] - 628s 4ms/step - loss: 0.7931 - accuracy: 0.6791 - val_loss: 0.7605 - val_accuracy: 0.6836\n",
      "Epoch 5/10\n",
      "174757/174757 [==============================] - 626s 4ms/step - loss: 0.7904 - accuracy: 0.6800 - val_loss: 0.7851 - val_accuracy: 0.6652\n",
      "Epoch 6/10\n",
      "174757/174757 [==============================] - 623s 4ms/step - loss: 0.7883 - accuracy: 0.6810 - val_loss: 0.7765 - val_accuracy: 0.6733\n",
      "Epoch 7/10\n",
      "174757/174757 [==============================] - 627s 4ms/step - loss: 0.7864 - accuracy: 0.6817 - val_loss: 0.7636 - val_accuracy: 0.6876\n",
      "Epoch 8/10\n",
      "174757/174757 [==============================] - 622s 4ms/step - loss: 0.7853 - accuracy: 0.6822 - val_loss: 0.7679 - val_accuracy: 0.6776\n",
      "Epoch 9/10\n",
      "174757/174757 [==============================] - 617s 4ms/step - loss: 0.7846 - accuracy: 0.6827 - val_loss: 0.7761 - val_accuracy: 0.6682\n",
      "Epoch 10/10\n",
      "174757/174757 [==============================] - 622s 4ms/step - loss: 0.7838 - accuracy: 0.6828 - val_loss: 0.7503 - val_accuracy: 0.6890\n",
      "CPU times: total: 2h 15min 38s\n",
      "Wall time: 1h 44min 2s\n"
     ]
    }
   ],
   "source": [
    "%%time\n",
    "# Train model\n",
    "epochs = 10\n",
    "\n",
    "# Early stopping \n",
    "early_stopping = tf.keras.callbacks.EarlyStopping(monitor='loss', patience=2)\n",
    "\n",
    "# Checkpoint\n",
    "checkpoint_path = \"model_checkpoints/proto.ckpt\"\n",
    "checkpoint_dir = os.path.dirname(checkpoint_path)\n",
    "\n",
    "# Create a callback that saves the model's weights\n",
    "create_checkpoint = tf.keras.callbacks.ModelCheckpoint(filepath=checkpoint_path, verbose=1)\n",
    "\n",
    "history = model.fit(\n",
    "    X_train, y_train, batch_size=32, epochs=epochs, validation_data=(X_test, y_test),\n",
    "    callbacks=[early_stopping], verbose=1,\n",
    ")"
   ]
  },
  {
   "cell_type": "code",
   "execution_count": 72,
   "id": "8bf9d83a",
   "metadata": {},
   "outputs": [
    {
     "data": {
      "image/png": "[encoded data removed]",
      "text/plain": [
       "<Figure size 800x800 with 2 Axes>"
      ]
     },
     "metadata": {},
     "output_type": "display_data"
    }
   ],
   "source": [
    "hist = history.history\n",
    "acc, val_acc = hist[\"accuracy\"], hist[\"val_accuracy\"]\n",
    "\n",
    "fig, axes = plt.subplots(2, 1, sharex=True, figsize=(8, 8), dpi=100)\n",
    "\n",
    "for i, ax in enumerate(axes):\n",
    "    ax.plot(acc, label=\"acc\")\n",
    "    ax.plot(val_acc, label=\"val_acc\")\n",
    "    \n",
    "    ax.set_xlim(0, epochs - 1)\n",
    "    if i == 0:\n",
    "        ax.set_ylim(0.0, 1.0)\n",
    "        ax.axhline(0.2, color=\"red\", label=\"base\")\n",
    "        \n",
    "    ax.grid(visible=True, axis=\"both\")\n",
    "    ax.legend()\n",
    "    ax.set_xlabel(\"epoch\")\n",
    "    ax.set_ylabel(\"accuracy\")\n",
    "\n",
    "plt.show()"
   ]
  },
  {
   "cell_type": "markdown",
   "id": "f989e506",
   "metadata": {},
   "source": [
    "##### Evaluate"
   ]
  },
  {
   "cell_type": "code",
   "execution_count": 73,
   "id": "4aab1fad",
   "metadata": {},
   "outputs": [
    {
     "name": "stdout",
     "output_type": "stream",
     "text": [
      "21845/21845 [==============================] - 29s 1ms/step\n"
     ]
    }
   ],
   "source": [
    "# Get probabilities per class\n",
    "y_pred = model.predict(X_test)"
   ]
  },
  {
   "cell_type": "code",
   "execution_count": 74,
   "id": "5f8ece44",
   "metadata": {},
   "outputs": [],
   "source": [
    "# Get star predictions and negative/positive predictions\n",
    "y_pred_multi = tf.argmax(y_pred, axis=1)\n",
    "y_pred_binary = y_pred_multi >= 3"
   ]
  },
  {
   "cell_type": "code",
   "execution_count": 75,
   "id": "458f93b5",
   "metadata": {},
   "outputs": [
    {
     "name": "stdout",
     "output_type": "stream",
     "text": [
      "multi-class accuracy: 0.6889666794463168\n",
      "(compare to ~0.2)\n"
     ]
    }
   ],
   "source": [
    "print(\"multi-class accuracy: \" + str((y_pred_multi == y_test).numpy().sum() / len(y_test)))\n",
    "print(\"(compare to ~0.2)\")"
   ]
  },
  {
   "cell_type": "code",
   "execution_count": 76,
   "id": "6526ece6",
   "metadata": {},
   "outputs": [
    {
     "name": "stdout",
     "output_type": "stream",
     "text": [
      "binary accuracy: 0.9201877464135915\n",
      "(compare to ~0.5)\n"
     ]
    }
   ],
   "source": [
    "print(\"binary accuracy: \" + str((y_pred_binary == (y_test >= 3)).numpy().sum() / len(y_test)))\n",
    "print(\"(compare to ~0.5)\")"
   ]
  },
  {
   "cell_type": "code",
   "execution_count": 86,
   "id": "701bc09d",
   "metadata": {},
   "outputs": [
    {
     "name": "stdout",
     "output_type": "stream",
     "text": [
      "Average of 0.3718 stars off\n"
     ]
    }
   ],
   "source": [
    "avg_err = tf.reduce_sum(tf.math.abs(y_test - y_pred_multi)) / len(y_test)\n",
    "avg_err = avg_err.numpy()\n",
    "print(f\"Average of {avg_err:.4f} stars off\")"
   ]
  },
  {
   "cell_type": "markdown",
   "id": "f9dd5601",
   "metadata": {},
   "source": [
    "##### Visualize Attention"
   ]
  },
  {
   "cell_type": "code",
   "execution_count": 77,
   "id": "79f640f9",
   "metadata": {
    "scrolled": true
   },
   "outputs": [
    {
     "data": {
      "text/plain": [
       "<tf.Tensor: shape=(100, 200), dtype=float32, numpy=\n",
       "array([[0.1309183 , 0.04596469, 0.01737457, ..., 0.        , 0.        ,\n",
       "        0.        ],\n",
       "       [0.08700211, 0.08559155, 0.05517517, ..., 0.        , 0.        ,\n",
       "        0.        ],\n",
       "       [0.07742571, 0.15116367, 0.00762057, ..., 0.        , 0.        ,\n",
       "        0.        ],\n",
       "       ...,\n",
       "       [0.06035372, 0.09453103, 0.03575312, ..., 0.        , 0.        ,\n",
       "        0.        ],\n",
       "       [0.07201033, 0.07558928, 0.02392173, ..., 0.        , 0.        ,\n",
       "        0.        ],\n",
       "       [0.04302853, 0.05850716, 0.02301823, ..., 0.        , 0.        ,\n",
       "        0.        ]], dtype=float32)>"
      ]
     },
     "execution_count": 77,
     "metadata": {},
     "output_type": "execute_result"
    }
   ],
   "source": [
    "# Get attention scores\n",
    "_, attns = model(X_test[:100], return_att=True)\n",
    "\n",
    "# Get attention for each sample\n",
    "attns = tf.reduce_mean(attns, axis=2)[:, 0, :]\n",
    "attns"
   ]
  },
  {
   "cell_type": "code",
   "execution_count": 78,
   "id": "b2c9f538",
   "metadata": {},
   "outputs": [
    {
     "data": {
      "text/plain": [
       "<tf.Tensor: shape=(34,), dtype=float32, numpy=\n",
       "array([0.1309183 , 0.04596469, 0.01737457, 0.044142  , 0.01941974,\n",
       "       0.01728892, 0.03590509, 0.01574289, 0.02153557, 0.0292344 ,\n",
       "       0.01269314, 0.01076315, 0.01304836, 0.01345175, 0.01490308,\n",
       "       0.02777831, 0.00903813, 0.02144868, 0.01251277, 0.02433895,\n",
       "       0.02161134, 0.01125041, 0.04065489, 0.0141254 , 0.01662029,\n",
       "       0.06178557, 0.02393574, 0.02152768, 0.03651122, 0.0219862 ,\n",
       "       0.01145301, 0.01646989, 0.01474874, 0.01030171], dtype=float32)>"
      ]
     },
     "execution_count": 78,
     "metadata": {},
     "output_type": "execute_result"
    }
   ],
   "source": [
    "attns[0][:34]"
   ]
  },
  {
   "cell_type": "code",
   "execution_count": 79,
   "id": "153958bb",
   "metadata": {
    "scrolled": false
   },
   "outputs": [
    {
     "name": "stdout",
     "output_type": "stream",
     "text": [
      "<Original Text>\n",
      "Let's face it, dim sum in Philly is just EH ok, so I just look for the cleanliness of the restaurant which is close to impossible too most of the time. Ocean City was never dirty, at least I haven't seen a cockroach crawling around. Now it's EVEN CLEANER!!!!\n",
      "\n",
      "They've renovated and gotten a new dim sum chef. The place is clean, open, and the dim sum is tasty. OF course some dishes still have msg, but it's as bad as other places in Chinatown.\n",
      "The shrimp dumplings here are cleaner too, they actually de-vein their shrimps.\n",
      "\n",
      "<Preprocessed>\n",
      "['let', \"'\", 's', 'face', 'dim', 'sum', 'philly', 'eh', 'ok', 'look', 'cleanliness', 'restaurant', 'close', 'impossible', 'time', 'ocean', 'city', 'dirty', 'haven', \"'\", 't', 'seen', 'cockroach', 'crawling', \"'\", 's', 'cleaner', \"'\", 've', 'renovated', 'gotten', 'new', 'dim', 'sum', 'chef', 'place', 'clean', 'open', 'dim', 'sum', 'tasty', 'course', 'dishes', 'msg', \"'\", 's', 'bad', 'places', 'chinatown', 'shrimp', 'dumplings', 'cleaner', 'actually', 'de', 'vein', 'shrimps']\n"
     ]
    },
    {
     "data": {
      "image/png": "[encoded data removed]",
      "text/plain": [
       "<Figure size 600x1120 with 1 Axes>"
      ]
     },
     "metadata": {},
     "output_type": "display_data"
    }
   ],
   "source": [
    "sample_idx = 10\n",
    "\n",
    "# Get word sequences without oov words\n",
    "in_seq = X_test_norm[sample_idx]\n",
    "in_seq = [tok for tok in prep.tokenizer.sequences_to_texts(prep.tokenizer.texts_to_sequences(in_seq)) if tok]\n",
    "seq_len = len(in_seq)\n",
    "\n",
    "# Get attention values\n",
    "attn_vals = attns[sample_idx][:seq_len].numpy()\n",
    "\n",
    "print(\"<Original Text>\")\n",
    "print(test[\"text\"].iloc[sample_idx])\n",
    "\n",
    "print(\"\\n<Preprocessed>\")\n",
    "print(in_seq)\n",
    "\n",
    "plt.figure(figsize=(6, 0.2 * seq_len), dpi=100)\n",
    "sns.barplot(y=in_seq, x=attn_vals, ci=None, color=\"orange\")\n",
    "\n",
    "plt.show()"
   ]
  }
 ],
 "metadata": {
  "kernelspec": {
   "display_name": "Python [conda env:tf-gpu]",
   "language": "python",
   "name": "conda-env-tf-gpu-py"
  },
  "language_info": {
   "codemirror_mode": {
    "name": "ipython",
    "version": 3
   },
   "file_extension": ".py",
   "mimetype": "text/x-python",
   "name": "python",
   "nbconvert_exporter": "python",
   "pygments_lexer": "ipython3",
   "version": "3.10.4"
  }
 },
 "nbformat": 4,
 "nbformat_minor": 5
}

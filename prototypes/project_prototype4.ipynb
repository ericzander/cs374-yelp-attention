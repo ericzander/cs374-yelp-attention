{
 "cells": [
  {
   "cell_type": "markdown",
   "id": "9a91af41",
   "metadata": {},
   "source": [
    "> Tests for building preprocessing module."
   ]
  },
  {
   "cell_type": "markdown",
   "id": "bd318293",
   "metadata": {},
   "source": [
    "---"
   ]
  },
  {
   "cell_type": "markdown",
   "id": "93fb8d86",
   "metadata": {},
   "source": [
    "# Setup"
   ]
  },
  {
   "cell_type": "markdown",
   "id": "55c4193f",
   "metadata": {},
   "source": [
    "##### Set Root Dir as CWD"
   ]
  },
  {
   "cell_type": "code",
   "execution_count": 1,
   "id": "7d88d86d",
   "metadata": {},
   "outputs": [
    {
     "name": "stdout",
     "output_type": "stream",
     "text": [
      "D:\\Documents\\A_DIGIPEN\\PersonalSVN\\Fall22SVN\\CS374\\Project\\cs374-project\n"
     ]
    }
   ],
   "source": [
    "import os\n",
    "\n",
    "# Navigate to project root (if not already there)\n",
    "if os.path.split(os.getcwd())[1] != \"cs374-project\":\n",
    "    %cd ../"
   ]
  },
  {
   "cell_type": "markdown",
   "id": "ebf5af2e",
   "metadata": {},
   "source": [
    "##### Imports"
   ]
  },
  {
   "cell_type": "code",
   "execution_count": 2,
   "id": "f8dbe9fb",
   "metadata": {},
   "outputs": [],
   "source": [
    "import numpy as np\n",
    "import pandas as pd\n",
    "\n",
    "import spacy\n",
    "\n",
    "import tensorflow as tf\n",
    "from tensorflow import keras\n",
    "from tensorflow.keras import layers\n",
    "\n",
    "import matplotlib.pyplot as plt\n",
    "import seaborn as sns\n",
    "sns.set_theme()\n",
    "\n",
    "# Local\n",
    "from src.preprocesser import ReviewPreprocessor"
   ]
  },
  {
   "cell_type": "markdown",
   "id": "3ef923cc",
   "metadata": {},
   "source": [
    "# Load"
   ]
  },
  {
   "cell_type": "code",
   "execution_count": 3,
   "id": "71b0f0cf",
   "metadata": {},
   "outputs": [],
   "source": [
    "path = \"data/yelp/reviews/\""
   ]
  },
  {
   "cell_type": "code",
   "execution_count": 4,
   "id": "73c9a325",
   "metadata": {},
   "outputs": [
    {
     "name": "stdout",
     "output_type": "stream",
     "text": [
      "CPU times: total: 30 s\n",
      "Wall time: 30.8 s\n"
     ]
    }
   ],
   "source": [
    "%%time\n",
    "# Load dev set (10% of total data) as train\n",
    "train_all = pd.read_pickle(path + \"train.xz\")"
   ]
  },
  {
   "cell_type": "code",
   "execution_count": 5,
   "id": "821b8fb6",
   "metadata": {},
   "outputs": [
    {
     "name": "stdout",
     "output_type": "stream",
     "text": [
      "CPU times: total: 3.89 s\n",
      "Wall time: 3.98 s\n"
     ]
    }
   ],
   "source": [
    "%%time\n",
    "# Load test set (10% of total data) as test\n",
    "test_all = pd.read_pickle(path + \"test.xz\")"
   ]
  },
  {
   "cell_type": "code",
   "execution_count": 6,
   "id": "52e0d9d5",
   "metadata": {},
   "outputs": [],
   "source": [
    "#num_samples = (10_000, 10_000)\n",
    "\n",
    "train = train_all.iloc[:] #num_samples[0]]\n",
    "test = test_all.iloc[:] #num_samples[1]]"
   ]
  },
  {
   "cell_type": "code",
   "execution_count": 7,
   "id": "b8ccc29f",
   "metadata": {},
   "outputs": [
    {
     "data": {
      "text/html": [
       "<div>\n",
       "<style scoped>\n",
       "    .dataframe tbody tr th:only-of-type {\n",
       "        vertical-align: middle;\n",
       "    }\n",
       "\n",
       "    .dataframe tbody tr th {\n",
       "        vertical-align: top;\n",
       "    }\n",
       "\n",
       "    .dataframe thead th {\n",
       "        text-align: right;\n",
       "    }\n",
       "</style>\n",
       "<table border=\"1\" class=\"dataframe\">\n",
       "  <thead>\n",
       "    <tr style=\"text-align: right;\">\n",
       "      <th></th>\n",
       "      <th>text</th>\n",
       "      <th>stars</th>\n",
       "    </tr>\n",
       "  </thead>\n",
       "  <tbody>\n",
       "    <tr>\n",
       "      <th>2903612</th>\n",
       "      <td>I like Wedding Belles for an odd reason. I set...</td>\n",
       "      <td>5</td>\n",
       "    </tr>\n",
       "    <tr>\n",
       "      <th>5050964</th>\n",
       "      <td>We had a great stay here. I felt like we got a...</td>\n",
       "      <td>5</td>\n",
       "    </tr>\n",
       "    <tr>\n",
       "      <th>1226557</th>\n",
       "      <td>A unique place for sure, not your standard bre...</td>\n",
       "      <td>3</td>\n",
       "    </tr>\n",
       "    <tr>\n",
       "      <th>776083</th>\n",
       "      <td>This will be a short review on service and gri...</td>\n",
       "      <td>4</td>\n",
       "    </tr>\n",
       "    <tr>\n",
       "      <th>227582</th>\n",
       "      <td>Great barbershop. Super friendly staff. They a...</td>\n",
       "      <td>5</td>\n",
       "    </tr>\n",
       "    <tr>\n",
       "      <th>...</th>\n",
       "      <td>...</td>\n",
       "      <td>...</td>\n",
       "    </tr>\n",
       "    <tr>\n",
       "      <th>3578067</th>\n",
       "      <td>I've not personally had the bad experiences th...</td>\n",
       "      <td>4</td>\n",
       "    </tr>\n",
       "    <tr>\n",
       "      <th>424533</th>\n",
       "      <td>Dive bar.\\nNew ownership has improved the menu...</td>\n",
       "      <td>3</td>\n",
       "    </tr>\n",
       "    <tr>\n",
       "      <th>28275</th>\n",
       "      <td>This place is so addicting, good vegan options...</td>\n",
       "      <td>5</td>\n",
       "    </tr>\n",
       "    <tr>\n",
       "      <th>2949771</th>\n",
       "      <td>What is not to love about Wingfield Park, down...</td>\n",
       "      <td>5</td>\n",
       "    </tr>\n",
       "    <tr>\n",
       "      <th>4098612</th>\n",
       "      <td>I'm NOT OK! I just paid $60 w/tip for a less t...</td>\n",
       "      <td>2</td>\n",
       "    </tr>\n",
       "  </tbody>\n",
       "</table>\n",
       "<p>5592224 rows × 2 columns</p>\n",
       "</div>"
      ],
      "text/plain": [
       "                                                      text  stars\n",
       "2903612  I like Wedding Belles for an odd reason. I set...      5\n",
       "5050964  We had a great stay here. I felt like we got a...      5\n",
       "1226557  A unique place for sure, not your standard bre...      3\n",
       "776083   This will be a short review on service and gri...      4\n",
       "227582   Great barbershop. Super friendly staff. They a...      5\n",
       "...                                                    ...    ...\n",
       "3578067  I've not personally had the bad experiences th...      4\n",
       "424533   Dive bar.\\nNew ownership has improved the menu...      3\n",
       "28275    This place is so addicting, good vegan options...      5\n",
       "2949771  What is not to love about Wingfield Park, down...      5\n",
       "4098612  I'm NOT OK! I just paid $60 w/tip for a less t...      2\n",
       "\n",
       "[5592224 rows x 2 columns]"
      ]
     },
     "execution_count": 7,
     "metadata": {},
     "output_type": "execute_result"
    }
   ],
   "source": [
    "train"
   ]
  },
  {
   "cell_type": "markdown",
   "id": "05965e48",
   "metadata": {},
   "source": [
    "##### Save Target"
   ]
  },
  {
   "cell_type": "code",
   "execution_count": 8,
   "id": "9d6ae318",
   "metadata": {},
   "outputs": [],
   "source": [
    "# Save reviews stars from 0-4\n",
    "y_train = tf.convert_to_tensor(train[\"stars\"].values - 1)\n",
    "y_test = tf.convert_to_tensor(test[\"stars\"].values - 1)"
   ]
  },
  {
   "cell_type": "markdown",
   "id": "d4fd8d22",
   "metadata": {},
   "source": [
    "# Preprocess"
   ]
  },
  {
   "cell_type": "code",
   "execution_count": 9,
   "id": "c5230aed",
   "metadata": {
    "scrolled": true
   },
   "outputs": [],
   "source": [
    "batch_size = 2000\n",
    "n_processes = 4\n",
    "\n",
    "maxlen = 200         # Number of words per review to consider\n",
    "vocab_size = 30_000  # Size of vocabulary"
   ]
  },
  {
   "cell_type": "markdown",
   "id": "a7579d78",
   "metadata": {},
   "source": [
    "##### Load from raw data"
   ]
  },
  {
   "cell_type": "markdown",
   "id": "a5543a7d",
   "metadata": {},
   "source": [
    "> Preprocess from scratch. Takes a long time!"
   ]
  },
  {
   "cell_type": "code",
   "execution_count": null,
   "id": "792e976d",
   "metadata": {},
   "outputs": [],
   "source": [
    "%%time\n",
    "# Configure preprocessor\n",
    "prep = ReviewPreprocessor(vocab_size, maxlen, alpha_only=False, split_digits=True)\n",
    "\n",
    "# Preprocess text\n",
    "X_train_norm = prep.normalize(train[\"text\"], batch_size, n_processes)\n",
    "X_test_norm = prep.normalize(test[\"text\"], batch_size, n_processes)\n",
    "\n",
    "# Fit tokenizer\n",
    "prep.fit_tokenizer(X_train_norm)\n",
    "\n",
    "# Convert to tensor of padded sequences\n",
    "X_train = prep.to_tensor(X_train_norm)\n",
    "X_test = prep.to_tensor(X_test_norm)"
   ]
  },
  {
   "cell_type": "code",
   "execution_count": 63,
   "id": "6e9d924b",
   "metadata": {},
   "outputs": [
    {
     "name": "stdout",
     "output_type": "stream",
     "text": [
      "CPU times: total: 21min 12s\n",
      "Wall time: 21min 35s\n"
     ]
    }
   ],
   "source": [
    "%%time\n",
    "# Save results\n",
    "pd.Series(X_train_norm).to_pickle(path + \"train_prep.xz\")\n",
    "pd.Series(X_test_norm).to_pickle(path + \"test_prep.xz\")\n",
    "prep.save_as_pickle(\"prototypes/preprocessors/prep_v4.pickle\")"
   ]
  },
  {
   "cell_type": "markdown",
   "id": "95336c9d",
   "metadata": {},
   "source": [
    "##### Load already preprocessed data"
   ]
  },
  {
   "cell_type": "markdown",
   "id": "a68d2e2b",
   "metadata": {},
   "source": [
    "> Load already preprocessed data. Takes a bit."
   ]
  },
  {
   "cell_type": "code",
   "execution_count": 23,
   "id": "0ac2d207",
   "metadata": {},
   "outputs": [
    {
     "name": "stdout",
     "output_type": "stream",
     "text": [
      "CPU times: total: 3min 45s\n",
      "Wall time: 3min 52s\n"
     ]
    }
   ],
   "source": [
    "%%time\n",
    "# Load preprocessed\n",
    "X_train_norm = pd.read_pickle(path + \"train_prep.xz\")\n",
    "X_test_norm = pd.read_pickle(path + \"test_prep.xz\")\n",
    "\n",
    "# Load preprocessor\n",
    "prep = ReviewPreprocessor.load_from_pickle(\"prototypes/preprocessors/prep_v4.pickle\")\n",
    "\n",
    "# Convert to tensor of padded sequences\n",
    "X_train = prep.to_tensor(X_train_norm)\n",
    "X_test = prep.to_tensor(X_test_norm)"
   ]
  },
  {
   "cell_type": "markdown",
   "id": "8f0385e8",
   "metadata": {},
   "source": [
    "##### View Before and After Preprocessing"
   ]
  },
  {
   "cell_type": "code",
   "execution_count": 63,
   "id": "d3c8d426",
   "metadata": {},
   "outputs": [
    {
     "name": "stdout",
     "output_type": "stream",
     "text": [
      "Ordered through grub hub, food came half an hour past the maximum delivery window. A simple breakfast order took 90 minutes to get to me, and the potatoes were half raw. Delivery timing may not have been the restaurant's fault, but the undercooked food was.\n",
      "\n",
      "Delivery fee is actually $3.99, NOT $0 as posted on yelp\n",
      "\n",
      " - - - - \n",
      "\n",
      "['ordered', 'grub', 'hub', ',', 'food', 'came', 'half', 'hour', 'past', 'maximum', 'delivery', 'window', '.', 'simple', 'breakfast', 'order', 'took', '90', 'e0', 'minutes', ',', 'potatoes', 'half', 'raw', '.', 'delivery', 'timing', 'restaurant', \"'\", 's', 'fault', ',', 'undercooked', 'food', '.', 'delivery', 'fee', 'actually', '$', '3', 'e0', '.', '99', 'e0', ',', '$', '0', 'e0', 'posted', 'yelp'] 50\n",
      "\n",
      " - - - - \n",
      "\n",
      "tf.Tensor(\n",
      "[  28 3360 4189    2    9   34  189  135  388 8113  439  739    1  533\n",
      "  143   30   73 1525    5   71    2  476  189 1094    1  439 3391   36\n",
      "    3    8 1326    2 2189    9    1  439 1138  185   21   72    5    1\n",
      " 1114    5    2   21 1634    5 1808  367    0    0    0    0    0    0\n",
      "    0    0    0    0    0    0    0    0    0    0    0    0    0    0\n",
      "    0    0    0    0    0    0    0    0    0    0    0    0    0    0\n",
      "    0    0    0    0    0    0    0    0    0    0    0    0    0    0\n",
      "    0    0    0    0    0    0    0    0    0    0    0    0    0    0\n",
      "    0    0    0    0    0    0    0    0    0    0    0    0    0    0\n",
      "    0    0    0    0    0    0    0    0    0    0    0    0    0    0\n",
      "    0    0    0    0    0    0    0    0    0    0    0    0    0    0\n",
      "    0    0    0    0    0    0    0    0    0    0    0    0    0    0\n",
      "    0    0    0    0    0    0    0    0    0    0    0    0    0    0\n",
      "    0    0    0    0    0    0    0    0    0    0    0    0    0    0\n",
      "    0    0    0    0], shape=(200,), dtype=int32)\n"
     ]
    }
   ],
   "source": [
    "print_idx = 8\n",
    "print(test[\"text\"].iloc[print_idx])\n",
    "print(\"\\n - - - - \\n\")\n",
    "print(X_test_norm[print_idx], len(X_test_norm[print_idx]))\n",
    "print(\"\\n - - - - \\n\")\n",
    "print(X_test[print_idx])"
   ]
  },
  {
   "cell_type": "markdown",
   "id": "f9839669",
   "metadata": {},
   "source": [
    "# Model"
   ]
  },
  {
   "cell_type": "markdown",
   "id": "2de79d55",
   "metadata": {},
   "source": [
    "* Reference https://keras.io/examples/nlp/text_classification_with_transformer/"
   ]
  },
  {
   "cell_type": "markdown",
   "id": "44e9e87a",
   "metadata": {},
   "source": [
    "##### Model Definition"
   ]
  },
  {
   "cell_type": "code",
   "execution_count": 25,
   "id": "aa0fc051",
   "metadata": {},
   "outputs": [],
   "source": [
    "class SentimentClassifier(tf.keras.Model):\n",
    "    def __init__(self, maxlen, vocab_size, embed_dim, num_heads, ff_dims,\n",
    "                 reg=1e-3, dropout=0.3):\n",
    "        super().__init__()\n",
    "        \n",
    "        # Token embedding\n",
    "        self.token_emb = layers.Embedding(input_dim=vocab_size, output_dim=embed_dim,\n",
    "                                          mask_zero=True, name=\"t_emb\")\n",
    "        \n",
    "        # Position embedding\n",
    "        self.pos_emb = layers.Embedding(input_dim=maxlen, output_dim=embed_dim,\n",
    "                                        name=\"p_emb\")\n",
    "        \n",
    "        # Self-attention based on token and positional info\n",
    "        self.att = layers.MultiHeadAttention(num_heads=num_heads, key_dim=embed_dim,\n",
    "                                             name=\"attention\")\n",
    "        \n",
    "        # Feed-forward network with a layer for each number of neurons in ff_dims\n",
    "        ffn_layers = []\n",
    "        for dim in ff_dims:\n",
    "            layer = layers.Dense(dim, activation=\"relu\", \n",
    "                                 kernel_regularizer=keras.regularizers.l2(reg))\n",
    "            ffn_layers.append(layer)\n",
    "        self.ffn = keras.Sequential(ffn_layers)\n",
    "        \n",
    "        # Normalize activation for speed\n",
    "        self.layernorm1 = layers.LayerNormalization(epsilon=1e-6)\n",
    "        self.layernorm2 = layers.LayerNormalization(epsilon=1e-6)\n",
    "        \n",
    "        # Dropout for regularization\n",
    "        self.dropout1 = layers.Dropout(dropout)\n",
    "        self.dropout2 = layers.Dropout(dropout)\n",
    "        \n",
    "        # Average \n",
    "        self.pool = layers.GlobalAveragePooling1D()\n",
    "        self.dropout3 = layers.Dropout(dropout)\n",
    "        self.dense = layers.Dense(20, activation=\"relu\", \n",
    "                                  kernel_regularizer=keras.regularizers.l2(reg))\n",
    "        self.dropout4 = layers.Dropout(dropout)\n",
    "        \n",
    "        # 5-star review probability output\n",
    "        self.stars = layers.Dense(5, activation=\"softmax\")\n",
    "        \n",
    "    def call(self, x, training=False, return_att=False):\n",
    "        # Create boolean mask for attention to ignore padding\n",
    "        mask = self.token_emb.compute_mask(x)\n",
    "        mask = mask[:, tf.newaxis, tf.newaxis, :]\n",
    "        \n",
    "        # Embed tokens and positional encodings\n",
    "        maxlen = tf.shape(x)[-1]\n",
    "        positions = tf.range(start=0, limit=maxlen, delta=1)\n",
    "        positions = self.pos_emb(positions)\n",
    "        x = self.token_emb(x)\n",
    "        x = x + positions\n",
    "        \n",
    "        # Self attention (query = key) -> feed-forward network (w/ add & norm)\n",
    "        attn_output, attn_scores = self.att(x, x, attention_mask=mask, return_attention_scores=True)\n",
    "        attn_output = self.dropout1(attn_output, training=training)\n",
    "        out1 = self.layernorm1(x + attn_output)\n",
    "        ffn_output = self.ffn(out1)\n",
    "        ffn_output = self.dropout2(ffn_output, training=training)\n",
    "        x = self.layernorm2(out1 + ffn_output)\n",
    "        \n",
    "        # Average pooling (along each time step), dropout, one more dense layer\n",
    "        x = self.pool(x)\n",
    "        x = self.dropout3(x)\n",
    "        x = self.dense(x)\n",
    "        x = self.dropout4(x)\n",
    "        \n",
    "        # Softmax for 5-star rating probabilities\n",
    "        rating_probs = self.stars(x)\n",
    "        \n",
    "        if return_att:\n",
    "            return rating_probs, attn_scores\n",
    "\n",
    "        return rating_probs"
   ]
  },
  {
   "cell_type": "markdown",
   "id": "e25eea7b",
   "metadata": {},
   "source": [
    "##### Create Model"
   ]
  },
  {
   "cell_type": "code",
   "execution_count": 26,
   "id": "01d66238",
   "metadata": {},
   "outputs": [],
   "source": [
    "# Hyperparameters\n",
    "embed_dim = 32  # Attention output size\n",
    "num_heads = 2   # Number of attention heads\n",
    "ff_dims = [32]  # Hidden layer sizes in feed forward network inside transformer\n",
    "reg = 1.0e-2\n",
    "dropout = 0.25\n",
    "\n",
    "# Model\n",
    "model = SentimentClassifier(maxlen, vocab_size, embed_dim, num_heads, ff_dims, reg, dropout)"
   ]
  },
  {
   "cell_type": "code",
   "execution_count": 27,
   "id": "26dd94ca",
   "metadata": {},
   "outputs": [
    {
     "name": "stdout",
     "output_type": "stream",
     "text": [
      "1/1 [==============================] - 0s 245ms/step\n"
     ]
    },
    {
     "data": {
      "text/plain": [
       "array([[0.138145  , 0.21447177, 0.2758931 , 0.2111363 , 0.16035384],\n",
       "       [0.13431306, 0.21027339, 0.27184397, 0.24156041, 0.14200917],\n",
       "       [0.12218645, 0.21995899, 0.2885058 , 0.24992295, 0.11942583],\n",
       "       [0.13935348, 0.20194975, 0.26566684, 0.23138136, 0.16164848],\n",
       "       [0.11712188, 0.21428674, 0.2827264 , 0.26633888, 0.11952609]],\n",
       "      dtype=float32)"
      ]
     },
     "execution_count": 27,
     "metadata": {},
     "output_type": "execute_result"
    }
   ],
   "source": [
    "model.predict(X_train[:5])"
   ]
  },
  {
   "cell_type": "markdown",
   "id": "5513f0e0",
   "metadata": {},
   "source": [
    "##### Compile and Run"
   ]
  },
  {
   "cell_type": "code",
   "execution_count": 28,
   "id": "395ff48e",
   "metadata": {},
   "outputs": [],
   "source": [
    "learning_rate = 1e-3\n",
    "\n",
    "model.compile(optimizer=keras.optimizers.Adam(learning_rate), \n",
    "              loss=\"sparse_categorical_crossentropy\", metrics=[\"accuracy\"])\n",
    "\n",
    "model.build(X_train.shape)"
   ]
  },
  {
   "cell_type": "code",
   "execution_count": 29,
   "id": "39281a41",
   "metadata": {},
   "outputs": [
    {
     "name": "stdout",
     "output_type": "stream",
     "text": [
      "Model: \"sentiment_classifier_1\"\n",
      "_________________________________________________________________\n",
      " Layer (type)                Output Shape              Param #   \n",
      "=================================================================\n",
      " t_emb (Embedding)           multiple                  960000    \n",
      "                                                                 \n",
      " p_emb (Embedding)           multiple                  6400      \n",
      "                                                                 \n",
      " attention (MultiHeadAttenti  multiple                 8416      \n",
      " on)                                                             \n",
      "                                                                 \n",
      " sequential_1 (Sequential)   (None, 200, 32)           1056      \n",
      "                                                                 \n",
      " layer_normalization_2 (Laye  multiple                 64        \n",
      " rNormalization)                                                 \n",
      "                                                                 \n",
      " layer_normalization_3 (Laye  multiple                 64        \n",
      " rNormalization)                                                 \n",
      "                                                                 \n",
      " dropout_4 (Dropout)         multiple                  0         \n",
      "                                                                 \n",
      " dropout_5 (Dropout)         multiple                  0         \n",
      "                                                                 \n",
      " global_average_pooling1d_1   multiple                 0         \n",
      " (GlobalAveragePooling1D)                                        \n",
      "                                                                 \n",
      " dropout_6 (Dropout)         multiple                  0         \n",
      "                                                                 \n",
      " dense_4 (Dense)             multiple                  660       \n",
      "                                                                 \n",
      " dropout_7 (Dropout)         multiple                  0         \n",
      "                                                                 \n",
      " dense_5 (Dense)             multiple                  105       \n",
      "                                                                 \n",
      "=================================================================\n",
      "Total params: 976,765\n",
      "Trainable params: 976,765\n",
      "Non-trainable params: 0\n",
      "_________________________________________________________________\n"
     ]
    }
   ],
   "source": [
    "model.summary()"
   ]
  },
  {
   "cell_type": "code",
   "execution_count": 30,
   "id": "b0246e1a",
   "metadata": {
    "scrolled": false
   },
   "outputs": [
    {
     "name": "stdout",
     "output_type": "stream",
     "text": [
      "Epoch 1/10\n",
      "174757/174757 [==============================] - 670s 4ms/step - loss: 0.7667 - accuracy: 0.6840 - val_loss: 0.7238 - val_accuracy: 0.6977\n",
      "Epoch 2/10\n",
      "174757/174757 [==============================] - 679s 4ms/step - loss: 0.7394 - accuracy: 0.6944 - val_loss: 0.7196 - val_accuracy: 0.6981\n",
      "Epoch 3/10\n",
      "174757/174757 [==============================] - 664s 4ms/step - loss: 0.7300 - accuracy: 0.6985 - val_loss: 0.7121 - val_accuracy: 0.7021\n",
      "Epoch 4/10\n",
      "174757/174757 [==============================] - 678s 4ms/step - loss: 0.7239 - accuracy: 0.7014 - val_loss: 0.7108 - val_accuracy: 0.7013\n",
      "Epoch 5/10\n",
      "174757/174757 [==============================] - 669s 4ms/step - loss: 0.7196 - accuracy: 0.7031 - val_loss: 0.7122 - val_accuracy: 0.7041\n",
      "Epoch 6/10\n",
      "174757/174757 [==============================] - 666s 4ms/step - loss: 0.7164 - accuracy: 0.7047 - val_loss: 0.7112 - val_accuracy: 0.7028\n",
      "Epoch 7/10\n",
      "174757/174757 [==============================] - 680s 4ms/step - loss: 0.7138 - accuracy: 0.7056 - val_loss: 0.7249 - val_accuracy: 0.6939\n",
      "Epoch 8/10\n",
      "174757/174757 [==============================] - 686s 4ms/step - loss: 0.7120 - accuracy: 0.7065 - val_loss: 0.7103 - val_accuracy: 0.7012\n",
      "Epoch 9/10\n",
      "174757/174757 [==============================] - 703s 4ms/step - loss: 0.7107 - accuracy: 0.7071 - val_loss: 0.7131 - val_accuracy: 0.6986\n",
      "Epoch 10/10\n",
      "174757/174757 [==============================] - 694s 4ms/step - loss: 0.7096 - accuracy: 0.7077 - val_loss: 0.7111 - val_accuracy: 0.7028\n",
      "CPU times: total: 2h 27min 46s\n",
      "Wall time: 1h 53min 7s\n"
     ]
    }
   ],
   "source": [
    "%%time\n",
    "# Train model\n",
    "epochs = 10\n",
    "cp_num = 4\n",
    "\n",
    "# Early stopping \n",
    "early_stopping = tf.keras.callbacks.EarlyStopping(monitor=\"val_loss\", patience=2)\n",
    "\n",
    "# Create a callback that saves the model's weights\n",
    "checkpoint_dir = os.path.dirname(f\"model_checkpoints/proto{cp_num}.ckpt\")\n",
    "create_checkpoint = tf.keras.callbacks.ModelCheckpoint(\n",
    "    filepath=checkpoint_path, monitor=\"val_loss\", verbose=1, save_best_only=True)\n",
    "\n",
    "history = model.fit(\n",
    "    X_train, y_train, batch_size=32, epochs=epochs, validation_data=(X_test, y_test),\n",
    "    callbacks=[early_stopping], verbose=1,\n",
    ")"
   ]
  },
  {
   "cell_type": "code",
   "execution_count": 31,
   "id": "8bf9d83a",
   "metadata": {},
   "outputs": [
    {
     "data": {
      "image/png": "[encoded data removed]",
      "text/plain": [
       "<Figure size 800x800 with 2 Axes>"
      ]
     },
     "metadata": {},
     "output_type": "display_data"
    }
   ],
   "source": [
    "hist = history.history\n",
    "acc, val_acc = hist[\"accuracy\"], hist[\"val_accuracy\"]\n",
    "\n",
    "fig, axes = plt.subplots(2, 1, sharex=True, figsize=(8, 8), dpi=100)\n",
    "\n",
    "for i, ax in enumerate(axes):\n",
    "    ax.plot(acc, label=\"acc\")\n",
    "    ax.plot(val_acc, label=\"val_acc\")\n",
    "    \n",
    "    ax.set_xlim(0, epochs - 1)\n",
    "    if i == 0:\n",
    "        ax.set_ylim(0.0, 1.0)\n",
    "        ax.axhline(0.2, color=\"red\", label=\"base\")\n",
    "        \n",
    "    ax.grid(visible=True, axis=\"both\")\n",
    "    ax.legend()\n",
    "    ax.set_xlabel(\"epoch\")\n",
    "    ax.set_ylabel(\"accuracy\")\n",
    "\n",
    "plt.show()"
   ]
  },
  {
   "cell_type": "markdown",
   "id": "f989e506",
   "metadata": {},
   "source": [
    "##### Evaluate"
   ]
  },
  {
   "cell_type": "code",
   "execution_count": 32,
   "id": "4aab1fad",
   "metadata": {},
   "outputs": [
    {
     "name": "stdout",
     "output_type": "stream",
     "text": [
      "21845/21845 [==============================] - 34s 2ms/step\n"
     ]
    }
   ],
   "source": [
    "# Get probabilities per class\n",
    "y_pred = model.predict(X_test)"
   ]
  },
  {
   "cell_type": "code",
   "execution_count": 33,
   "id": "5f8ece44",
   "metadata": {},
   "outputs": [],
   "source": [
    "# Get star predictions and negative/positive predictions\n",
    "y_pred_multi = tf.argmax(y_pred, axis=1)"
   ]
  },
  {
   "cell_type": "code",
   "execution_count": 48,
   "id": "a540289f",
   "metadata": {},
   "outputs": [
    {
     "data": {
      "text/plain": [
       "<tf.Tensor: shape=(699028,), dtype=float64, numpy=\n",
       "array([3.93242944, 3.58393372, 0.07657244, ..., 3.97714437, 3.13312901,\n",
       "       3.92242546])>"
      ]
     },
     "execution_count": 48,
     "metadata": {},
     "output_type": "execute_result"
    }
   ],
   "source": [
    "# Calculate continuous star rating based on probabilities\n",
    "star_reg = tf.reduce_sum(y_pred * np.array([0, 1, 2, 3, 4]), axis=1)\n",
    "star_reg"
   ]
  },
  {
   "cell_type": "code",
   "execution_count": 52,
   "id": "10bac6eb",
   "metadata": {},
   "outputs": [],
   "source": [
    "# Determine if sentiment is negative or postiive\n",
    "y_pred_binary = star_reg > 2"
   ]
  },
  {
   "cell_type": "code",
   "execution_count": 53,
   "id": "458f93b5",
   "metadata": {},
   "outputs": [
    {
     "name": "stdout",
     "output_type": "stream",
     "text": [
      "multi-class accuracy: 0.702825923997322\n",
      "(compare to ~0.2)\n"
     ]
    }
   ],
   "source": [
    "print(\"multi-class accuracy: \" + str((y_pred_multi == y_test).numpy().sum() / len(y_test)))\n",
    "print(\"(compare to ~0.2)\")"
   ]
  },
  {
   "cell_type": "code",
   "execution_count": 54,
   "id": "6526ece6",
   "metadata": {},
   "outputs": [
    {
     "name": "stdout",
     "output_type": "stream",
     "text": [
      "binary accuracy: 0.9094485485559949\n",
      "(compare to ~0.5)\n"
     ]
    }
   ],
   "source": [
    "print(\"binary accuracy: \" + str((y_pred_binary == (y_test >= 3)).numpy().sum() / len(y_test)))\n",
    "print(\"(compare to ~0.5)\")"
   ]
  },
  {
   "cell_type": "code",
   "execution_count": 36,
   "id": "701bc09d",
   "metadata": {},
   "outputs": [
    {
     "name": "stdout",
     "output_type": "stream",
     "text": [
      "Average of 0.3575 stars off\n"
     ]
    }
   ],
   "source": [
    "avg_err = tf.reduce_sum(tf.math.abs(y_test - y_pred_multi)) / len(y_test)\n",
    "avg_err = avg_err.numpy()\n",
    "print(f\"Average of {avg_err:.4f} stars off\")"
   ]
  },
  {
   "cell_type": "markdown",
   "id": "f9dd5601",
   "metadata": {},
   "source": [
    "##### Visualize Attention"
   ]
  },
  {
   "cell_type": "code",
   "execution_count": 37,
   "id": "79f640f9",
   "metadata": {
    "scrolled": true
   },
   "outputs": [
    {
     "data": {
      "text/plain": [
       "<tf.Tensor: shape=(100, 200), dtype=float32, numpy=\n",
       "array([[0.08779085, 0.03332892, 0.07753161, ..., 0.        , 0.        ,\n",
       "        0.        ],\n",
       "       [0.12678571, 0.07251964, 0.11298013, ..., 0.        , 0.        ,\n",
       "        0.        ],\n",
       "       [0.02735073, 0.19512478, 0.02457746, ..., 0.        , 0.        ,\n",
       "        0.        ],\n",
       "       ...,\n",
       "       [0.11718269, 0.04146399, 0.02325249, ..., 0.        , 0.        ,\n",
       "        0.        ],\n",
       "       [0.06970514, 0.05388234, 0.03915521, ..., 0.        , 0.        ,\n",
       "        0.        ],\n",
       "       [0.14236137, 0.04052756, 0.02136128, ..., 0.        , 0.        ,\n",
       "        0.        ]], dtype=float32)>"
      ]
     },
     "execution_count": 37,
     "metadata": {},
     "output_type": "execute_result"
    }
   ],
   "source": [
    "# Get attention scores\n",
    "_, attns = model(X_test[:100], return_att=True)\n",
    "\n",
    "# Get attention for each sample\n",
    "attns = tf.reduce_mean(attns, axis=2)[:, 0, :]\n",
    "attns"
   ]
  },
  {
   "cell_type": "code",
   "execution_count": 38,
   "id": "b2c9f538",
   "metadata": {},
   "outputs": [
    {
     "data": {
      "text/plain": [
       "<tf.Tensor: shape=(34,), dtype=float32, numpy=\n",
       "array([0.08779085, 0.03332892, 0.07753161, 0.05617767, 0.01231178,\n",
       "       0.04047775, 0.05520739, 0.00888121, 0.03887216, 0.03380498,\n",
       "       0.01446113, 0.0240939 , 0.06144869, 0.0187546 , 0.02441565,\n",
       "       0.0239276 , 0.01999373, 0.01230694, 0.01127734, 0.02241655,\n",
       "       0.00765679, 0.00569799, 0.0148555 , 0.01498795, 0.01504076,\n",
       "       0.02895071, 0.01511669, 0.00749619, 0.00850148, 0.0160686 ,\n",
       "       0.01307386, 0.00459279, 0.01539802, 0.0102742 ], dtype=float32)>"
      ]
     },
     "execution_count": 38,
     "metadata": {},
     "output_type": "execute_result"
    }
   ],
   "source": [
    "attns[0][:34]"
   ]
  },
  {
   "cell_type": "code",
   "execution_count": 64,
   "id": "153958bb",
   "metadata": {
    "scrolled": false
   },
   "outputs": [
    {
     "name": "stdout",
     "output_type": "stream",
     "text": [
      "<Original Text>\n",
      "Absolutely love this pop up beer garden. Lots of shaded areas, seating and dog friendly. Besides beer they serve some really yummy margaritas and mixed drinks. They're next to Jamaican jerk hut so you can get food from there or the back bar. Brought my dogs here a few times and it was great.\n",
      "\n",
      "<Preprocessed>\n",
      "['absolutely', 'love', 'pop', 'beer', 'garden', 'lots', 'shaded', 'areas', 'seating', 'dog', 'friendly', 'beer', 'serve', 'yummy', 'margaritas', 'mixed', 'drinks', \"'\", 'jamaican', 'jerk', 'hut', 'food', 'bar', 'brought', 'dogs', 'times', 'great']\n"
     ]
    },
    {
     "data": {
      "image/png": "[encoded data removed]",
      "text/plain": [
       "<Figure size 600x540 with 1 Axes>"
      ]
     },
     "metadata": {},
     "output_type": "display_data"
    }
   ],
   "source": [
    "sample_idx = 1\n",
    "\n",
    "# Get word sequences without oov words\n",
    "in_seq = X_test_norm[sample_idx]\n",
    "in_seq = [tok for tok in prep.tokenizer.sequences_to_texts(prep.tokenizer.texts_to_sequences(in_seq)) if tok]\n",
    "seq_len = len(in_seq)\n",
    "\n",
    "# Get attention values\n",
    "attn_vals = attns[sample_idx][:seq_len].numpy()\n",
    "\n",
    "print(\"<Original Text>\")\n",
    "print(test[\"text\"].iloc[sample_idx])\n",
    "\n",
    "print(\"\\n<Preprocessed>\")\n",
    "print(in_seq)\n",
    "\n",
    "plt.figure(figsize=(6, 0.2 * seq_len), dpi=100)\n",
    "sns.barplot(y=in_seq, x=attn_vals, ci=None, color=\"orange\")\n",
    "\n",
    "plt.show()"
   ]
  }
 ],
 "metadata": {
  "kernelspec": {
   "display_name": "Python [conda env:tf-gpu]",
   "language": "python",
   "name": "conda-env-tf-gpu-py"
  },
  "language_info": {
   "codemirror_mode": {
    "name": "ipython",
    "version": 3
   },
   "file_extension": ".py",
   "mimetype": "text/x-python",
   "name": "python",
   "nbconvert_exporter": "python",
   "pygments_lexer": "ipython3",
   "version": "3.10.4"
  }
 },
 "nbformat": 4,
 "nbformat_minor": 5
}

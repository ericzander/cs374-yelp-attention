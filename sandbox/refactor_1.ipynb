{
 "cells": [
  {
   "cell_type": "markdown",
   "id": "f03bc6c5",
   "metadata": {},
   "source": [
    "> Tests for building preprocessing module."
   ]
  },
  {
   "cell_type": "markdown",
   "id": "bd318293",
   "metadata": {},
   "source": [
    "---"
   ]
  },
  {
   "cell_type": "markdown",
   "id": "93fb8d86",
   "metadata": {},
   "source": [
    "# Setup"
   ]
  },
  {
   "cell_type": "markdown",
   "id": "55c4193f",
   "metadata": {},
   "source": [
    "##### Set Root Dir as CWD"
   ]
  },
  {
   "cell_type": "code",
   "execution_count": 1,
   "id": "7d88d86d",
   "metadata": {},
   "outputs": [
    {
     "name": "stdout",
     "output_type": "stream",
     "text": [
      "D:\\Documents\\A_DIGIPEN\\PersonalSVN\\Fall22SVN\\CS374\\Project\\cs374-project\n"
     ]
    }
   ],
   "source": [
    "import os\n",
    "\n",
    "# Navigate to project root (if not already there)\n",
    "if os.path.split(os.getcwd())[1] != \"cs374-project\":\n",
    "    %cd ../"
   ]
  },
  {
   "cell_type": "markdown",
   "id": "ebf5af2e",
   "metadata": {},
   "source": [
    "##### Imports"
   ]
  },
  {
   "cell_type": "code",
   "execution_count": 2,
   "id": "f8dbe9fb",
   "metadata": {},
   "outputs": [],
   "source": [
    "import numpy as np\n",
    "import pandas as pd\n",
    "\n",
    "import spacy\n",
    "\n",
    "import tensorflow as tf\n",
    "from tensorflow import keras\n",
    "from tensorflow.keras import layers\n",
    "\n",
    "import matplotlib.pyplot as plt\n",
    "import seaborn as sns\n",
    "sns.set_theme()\n",
    "\n",
    "# Local\n",
    "from src.preprocesser import ReviewPreprocessor"
   ]
  },
  {
   "cell_type": "markdown",
   "id": "3ef923cc",
   "metadata": {},
   "source": [
    "# Load"
   ]
  },
  {
   "cell_type": "code",
   "execution_count": 3,
   "id": "71b0f0cf",
   "metadata": {},
   "outputs": [],
   "source": [
    "path = \"data/yelp/reviews/\""
   ]
  },
  {
   "cell_type": "code",
   "execution_count": 4,
   "id": "73c9a325",
   "metadata": {},
   "outputs": [
    {
     "name": "stdout",
     "output_type": "stream",
     "text": [
      "CPU times: total: 28 s\n",
      "Wall time: 28 s\n"
     ]
    }
   ],
   "source": [
    "%%time\n",
    "# Load dev set (10% of total data) as train\n",
    "train_all = pd.read_pickle(path + \"train.xz\")"
   ]
  },
  {
   "cell_type": "code",
   "execution_count": 5,
   "id": "821b8fb6",
   "metadata": {},
   "outputs": [
    {
     "name": "stdout",
     "output_type": "stream",
     "text": [
      "CPU times: total: 3.45 s\n",
      "Wall time: 3.45 s\n"
     ]
    }
   ],
   "source": [
    "%%time\n",
    "# Load test set (10% of total data) as test\n",
    "test_all = pd.read_pickle(path + \"test.xz\")"
   ]
  },
  {
   "cell_type": "code",
   "execution_count": 6,
   "id": "52e0d9d5",
   "metadata": {},
   "outputs": [],
   "source": [
    "num_samples = (100, 100)\n",
    "\n",
    "train = train_all.iloc[:num_samples[0]]\n",
    "test = test_all.iloc[:num_samples[1]]"
   ]
  },
  {
   "cell_type": "code",
   "execution_count": 7,
   "id": "b8ccc29f",
   "metadata": {},
   "outputs": [
    {
     "data": {
      "text/html": [
       "<div>\n",
       "<style scoped>\n",
       "    .dataframe tbody tr th:only-of-type {\n",
       "        vertical-align: middle;\n",
       "    }\n",
       "\n",
       "    .dataframe tbody tr th {\n",
       "        vertical-align: top;\n",
       "    }\n",
       "\n",
       "    .dataframe thead th {\n",
       "        text-align: right;\n",
       "    }\n",
       "</style>\n",
       "<table border=\"1\" class=\"dataframe\">\n",
       "  <thead>\n",
       "    <tr style=\"text-align: right;\">\n",
       "      <th></th>\n",
       "      <th>text</th>\n",
       "      <th>stars</th>\n",
       "    </tr>\n",
       "  </thead>\n",
       "  <tbody>\n",
       "    <tr>\n",
       "      <th>2903612</th>\n",
       "      <td>I like Wedding Belles for an odd reason. I set...</td>\n",
       "      <td>5</td>\n",
       "    </tr>\n",
       "    <tr>\n",
       "      <th>5050964</th>\n",
       "      <td>We had a great stay here. I felt like we got a...</td>\n",
       "      <td>5</td>\n",
       "    </tr>\n",
       "    <tr>\n",
       "      <th>1226557</th>\n",
       "      <td>A unique place for sure, not your standard bre...</td>\n",
       "      <td>3</td>\n",
       "    </tr>\n",
       "    <tr>\n",
       "      <th>776083</th>\n",
       "      <td>This will be a short review on service and gri...</td>\n",
       "      <td>4</td>\n",
       "    </tr>\n",
       "    <tr>\n",
       "      <th>227582</th>\n",
       "      <td>Great barbershop. Super friendly staff. They a...</td>\n",
       "      <td>5</td>\n",
       "    </tr>\n",
       "    <tr>\n",
       "      <th>...</th>\n",
       "      <td>...</td>\n",
       "      <td>...</td>\n",
       "    </tr>\n",
       "    <tr>\n",
       "      <th>4191404</th>\n",
       "      <td>I smelled the cheap perfume from the moment I ...</td>\n",
       "      <td>2</td>\n",
       "    </tr>\n",
       "    <tr>\n",
       "      <th>2863388</th>\n",
       "      <td>I've eaten here once and been here for drinks ...</td>\n",
       "      <td>3</td>\n",
       "    </tr>\n",
       "    <tr>\n",
       "      <th>3951820</th>\n",
       "      <td>This place was horrible.  It was very run down...</td>\n",
       "      <td>1</td>\n",
       "    </tr>\n",
       "    <tr>\n",
       "      <th>258</th>\n",
       "      <td>The food is average. Drink specials are great ...</td>\n",
       "      <td>3</td>\n",
       "    </tr>\n",
       "    <tr>\n",
       "      <th>5763343</th>\n",
       "      <td>After eating so much fried seafood and all sor...</td>\n",
       "      <td>5</td>\n",
       "    </tr>\n",
       "  </tbody>\n",
       "</table>\n",
       "<p>100 rows × 2 columns</p>\n",
       "</div>"
      ],
      "text/plain": [
       "                                                      text  stars\n",
       "2903612  I like Wedding Belles for an odd reason. I set...      5\n",
       "5050964  We had a great stay here. I felt like we got a...      5\n",
       "1226557  A unique place for sure, not your standard bre...      3\n",
       "776083   This will be a short review on service and gri...      4\n",
       "227582   Great barbershop. Super friendly staff. They a...      5\n",
       "...                                                    ...    ...\n",
       "4191404  I smelled the cheap perfume from the moment I ...      2\n",
       "2863388  I've eaten here once and been here for drinks ...      3\n",
       "3951820  This place was horrible.  It was very run down...      1\n",
       "258      The food is average. Drink specials are great ...      3\n",
       "5763343  After eating so much fried seafood and all sor...      5\n",
       "\n",
       "[100 rows x 2 columns]"
      ]
     },
     "execution_count": 7,
     "metadata": {},
     "output_type": "execute_result"
    }
   ],
   "source": [
    "train"
   ]
  },
  {
   "cell_type": "markdown",
   "id": "05965e48",
   "metadata": {},
   "source": [
    "##### Save Target"
   ]
  },
  {
   "cell_type": "code",
   "execution_count": 8,
   "id": "9d6ae318",
   "metadata": {},
   "outputs": [],
   "source": [
    "# Save reviews stars from 0-4\n",
    "y_train = tf.convert_to_tensor(train[\"stars\"].values - 1)\n",
    "y_test = tf.convert_to_tensor(test[\"stars\"].values - 1)"
   ]
  },
  {
   "cell_type": "markdown",
   "id": "d4fd8d22",
   "metadata": {},
   "source": [
    "# Preprocess"
   ]
  },
  {
   "cell_type": "code",
   "execution_count": 9,
   "id": "9826efcd",
   "metadata": {},
   "outputs": [
    {
     "data": {
      "text/plain": [
       "\"We had a great stay here. I felt like we got a lot of value for the price.  The room was very clean and the beds were comfy.  The complimentary breakfast was better than most.  Our boys love those waffle makers!  Every one was friendly and the atmosphere was a little historical but nicely updated.   Pull up to the back to check in.  Parking was $9/night and convenient.  We will definitely stay here again if the prices don't increase significantly when the Union Station Aquarium opens summer '19.  I highly recommend this place.\""
      ]
     },
     "execution_count": 9,
     "metadata": {},
     "output_type": "execute_result"
    }
   ],
   "source": [
    "train[\"text\"].iloc[1]"
   ]
  },
  {
   "cell_type": "code",
   "execution_count": 10,
   "id": "c5230aed",
   "metadata": {
    "scrolled": true
   },
   "outputs": [
    {
     "name": "stdout",
     "output_type": "stream",
     "text": [
      "CPU times: total: 1.09 s\n",
      "Wall time: 20.3 s\n"
     ]
    }
   ],
   "source": [
    "%%time\n",
    "batch_size = 2000\n",
    "n_processes = 4\n",
    "\n",
    "maxlen = 200         # Number of words per review to consider\n",
    "vocab_size = 30_000  # Size of vocabulary\n",
    "\n",
    "prep = ReviewPreprocessor(vocab_size, maxlen, alpha_only=False, split_digits=True)\n",
    "\n",
    "# Preprocess text\n",
    "X_train_norm = prep.normalize(train[\"text\"], batch_size, n_processes)\n",
    "X_test_norm = prep.normalize(test[\"text\"], batch_size, n_processes)\n",
    "\n",
    "# Fit tokenizer\n",
    "prep.fit_tokenizer(X_train_norm)\n",
    "\n",
    "# Convert to tensor of padded sequences\n",
    "X_train = prep.to_tensor(X_train_norm)\n",
    "X_test = prep.to_tensor(X_test_norm)"
   ]
  },
  {
   "cell_type": "code",
   "execution_count": 11,
   "id": "a742037f",
   "metadata": {},
   "outputs": [
    {
     "name": "stdout",
     "output_type": "stream",
     "text": [
      "CPU times: total: 1.03 s\n",
      "Wall time: 20.3 s\n"
     ]
    }
   ],
   "source": [
    "%%time\n",
    "\n",
    "prep2 = ReviewPreprocessor(vocab_size, maxlen, alpha_only=False, split_digits=True)\n",
    "\n",
    "X_train2 = prep2.fit_transform(train[\"text\"], batch_size, n_processes)\n",
    "X_test2 = prep2.transform(test[\"text\"], batch_size, n_processes)"
   ]
  },
  {
   "cell_type": "code",
   "execution_count": 22,
   "id": "969582a5",
   "metadata": {},
   "outputs": [],
   "source": [
    "tf.debugging.assert_equal(X_train, X_train2)\n",
    "\n",
    "tf.debugging.assert_equal(X_test, X_test2)"
   ]
  },
  {
   "cell_type": "code",
   "execution_count": 25,
   "id": "6431c2c1",
   "metadata": {},
   "outputs": [],
   "source": [
    "pd.Series(X_train_norm).to_pickle(\"sandbox/test_prep.xz\")"
   ]
  },
  {
   "cell_type": "code",
   "execution_count": 26,
   "id": "7f2bc71a",
   "metadata": {},
   "outputs": [
    {
     "data": {
      "text/plain": [
       "0     [like, wedding, belles, odd, reason, ., set, a...\n",
       "1     [great, stay, ., felt, like, got, lot, value, ...\n",
       "2     [unique, place, sure, ,, standard, breakfast, ...\n",
       "3     [short, review, service, grilled, oysters, ., ...\n",
       "4     [great, barbershop, ., super, friendly, staff,...\n",
       "                            ...                        \n",
       "95    [smelled, cheap, perfume, moment, went, door, ...\n",
       "96    [', ve, eaten, drinks, possibly, 3, e0, times,...\n",
       "97    [place, horrible, ., run, shady, looking, clie...\n",
       "98    [food, average, ., drink, specials, great, pla...\n",
       "99    [eating, fried, seafood, sorts, po, boys, nola...\n",
       "Length: 100, dtype: object"
      ]
     },
     "execution_count": 26,
     "metadata": {},
     "output_type": "execute_result"
    }
   ],
   "source": [
    "lol = pd.read_pickle(\"sandbox/test_prep.xz\")\n",
    "lol"
   ]
  },
  {
   "cell_type": "markdown",
   "id": "20625378",
   "metadata": {},
   "source": [
    "##### I/O test"
   ]
  },
  {
   "cell_type": "code",
   "execution_count": 20,
   "id": "12470dc2",
   "metadata": {},
   "outputs": [],
   "source": [
    "prep.save_as_pickle(\"sandbox/test.pickle\")"
   ]
  },
  {
   "cell_type": "code",
   "execution_count": 21,
   "id": "3b83f7c8",
   "metadata": {},
   "outputs": [],
   "source": [
    "load_prep = ReviewPreprocessor.load_from_pickle(\"sandbox/test.pickle\")"
   ]
  },
  {
   "cell_type": "code",
   "execution_count": 18,
   "id": "21fe53d7",
   "metadata": {},
   "outputs": [
    {
     "data": {
      "text/plain": [
       "True"
      ]
     },
     "execution_count": 18,
     "metadata": {},
     "output_type": "execute_result"
    }
   ],
   "source": [
    "prep.split_digits"
   ]
  },
  {
   "cell_type": "code",
   "execution_count": 19,
   "id": "7d6e514b",
   "metadata": {},
   "outputs": [
    {
     "data": {
      "text/plain": [
       "True"
      ]
     },
     "execution_count": 19,
     "metadata": {},
     "output_type": "execute_result"
    }
   ],
   "source": [
    "load_prep.split_digits"
   ]
  },
  {
   "cell_type": "markdown",
   "id": "8f0385e8",
   "metadata": {},
   "source": [
    "##### View Before and After Preprocessing"
   ]
  },
  {
   "cell_type": "code",
   "execution_count": 26,
   "id": "d3c8d426",
   "metadata": {},
   "outputs": [
    {
     "name": "stdout",
     "output_type": "stream",
     "text": [
      "I have never been more frightened in my life.  I screamed, fell on the floor, and ran for my life.  I was literally covered in sweat and needed my inhaler multiple times.  The campus is huge and VIP is definitely the move.  Pennhurst is an amazing campus with lots of history and the actors are fully committed to making the experience hair raising.  I would suggest this place to anyone looking for a frighting experience.\n",
      "\n",
      " - - - - \n",
      "\n",
      "['frightened', 'life', '.', 'screamed', ',', 'fell', 'floor', ',', 'ran', 'life', '.', 'literally', 'covered', 'sweat', 'needed', 'inhaler', 'multiple', 'times', '.', 'campus', 'huge', 'vip', 'definitely', '.', 'pennhurst', 'amazing', 'campus', 'lots', 'history', 'actors', 'fully', 'committed', 'making', 'experience', 'hair', 'raising', '.', 'suggest', 'place', 'looking', 'frighting', 'experience', '.'] 43\n",
      "\n",
      " - - - - \n",
      "\n",
      "tf.Tensor(\n",
      "[ 133    1    2  802    2  133    1 1752  348  987   63    1  311   28\n",
      "    1  147  706  583  286   57  399    1  957   13  103   57    1    0\n",
      "    0    0    0    0    0    0    0    0    0    0    0    0    0    0\n",
      "    0    0    0    0    0    0    0    0    0    0    0    0    0    0\n",
      "    0    0    0    0    0    0    0    0    0    0    0    0    0    0\n",
      "    0    0    0    0    0    0    0    0    0    0    0    0    0    0\n",
      "    0    0    0    0    0    0    0    0    0    0    0    0    0    0\n",
      "    0    0    0    0    0    0    0    0    0    0    0    0    0    0\n",
      "    0    0    0    0    0    0    0    0    0    0    0    0    0    0\n",
      "    0    0    0    0    0    0    0    0    0    0    0    0    0    0\n",
      "    0    0    0    0    0    0    0    0    0    0    0    0    0    0\n",
      "    0    0    0    0    0    0    0    0    0    0    0    0    0    0\n",
      "    0    0    0    0    0    0    0    0    0    0    0    0    0    0\n",
      "    0    0    0    0    0    0    0    0    0    0    0    0    0    0\n",
      "    0    0    0    0], shape=(200,), dtype=int32)\n"
     ]
    }
   ],
   "source": [
    "print_idx = 0\n",
    "print(test[\"text\"].iloc[print_idx])\n",
    "print(\"\\n - - - - \\n\")\n",
    "print(X_test_norm[print_idx], len(X_test_norm[print_idx]))\n",
    "print(\"\\n - - - - \\n\")\n",
    "print(X_test[print_idx])"
   ]
  },
  {
   "cell_type": "markdown",
   "id": "f9839669",
   "metadata": {},
   "source": [
    "# Model"
   ]
  },
  {
   "cell_type": "markdown",
   "id": "2de79d55",
   "metadata": {},
   "source": [
    "* Reference https://keras.io/examples/nlp/text_classification_with_transformer/"
   ]
  },
  {
   "cell_type": "markdown",
   "id": "a78e383c",
   "metadata": {},
   "source": [
    "##### Embedding Layer Definition"
   ]
  },
  {
   "cell_type": "code",
   "execution_count": 125,
   "id": "01b20cf3",
   "metadata": {},
   "outputs": [],
   "source": [
    "class TokenAndPositionEmbedding(layers.Layer):\n",
    "    def __init__(self, maxlen, vocab_size, embed_dim, name=None):\n",
    "        super(TokenAndPositionEmbedding, self).__init__(name=name)\n",
    "        \n",
    "        # Token embedding\n",
    "        self.token_emb = layers.Embedding(input_dim=vocab_size, output_dim=embed_dim, mask_zero=True)\n",
    "        \n",
    "        # Position embedding\n",
    "        self.pos_emb = layers.Embedding(input_dim=maxlen, output_dim=embed_dim)\n",
    "\n",
    "    def call(self, x):\n",
    "        maxlen = tf.shape(x)[-1]\n",
    "        positions = tf.range(start=0, limit=maxlen, delta=1)\n",
    "        positions = self.pos_emb(positions)\n",
    "\n",
    "        x = self.token_emb(x)\n",
    "        return x + positions"
   ]
  },
  {
   "cell_type": "markdown",
   "id": "44e9e87a",
   "metadata": {},
   "source": [
    "##### Model Definition"
   ]
  },
  {
   "cell_type": "code",
   "execution_count": 126,
   "id": "aa0fc051",
   "metadata": {},
   "outputs": [],
   "source": [
    "class SentimentClassifier(tf.keras.Model):\n",
    "    def __init__(self, maxlen, vocab_size, embed_dim, num_heads, ff_dims,\n",
    "                 reg=1e-3, dropout=0.3):\n",
    "        super().__init__()\n",
    "        \n",
    "        # Token embedding\n",
    "        self.token_emb = layers.Embedding(input_dim=vocab_size, output_dim=embed_dim,\n",
    "                                          mask_zero=True, name=\"t_emb\")\n",
    "        \n",
    "        # Position embedding\n",
    "        self.pos_emb = layers.Embedding(input_dim=maxlen, output_dim=embed_dim,\n",
    "                                        name=\"p_emb\")\n",
    "        \n",
    "        # Attention based on token and positional info\n",
    "        self.att = layers.MultiHeadAttention(num_heads=num_heads, key_dim=embed_dim,\n",
    "                                             name=\"attention\")\n",
    "        \n",
    "        # Feed-forward network with a layer for each number of neurons in ff_dims\n",
    "        ffn_layers = []\n",
    "        for dim in ff_dims:\n",
    "            layer = layers.Dense(dim, activation=\"relu\", \n",
    "                                 kernel_regularizer=keras.regularizers.l2(reg))\n",
    "            ffn_layers.append(layer)\n",
    "        self.ffn = keras.Sequential(ffn_layers)\n",
    "        \n",
    "        # Speed and regularization\n",
    "        self.layernorm1 = layers.LayerNormalization(epsilon=1e-6)\n",
    "        self.layernorm2 = layers.LayerNormalization(epsilon=1e-6)\n",
    "        self.dropout1 = layers.Dropout(dropout)\n",
    "        self.dropout2 = layers.Dropout(dropout)\n",
    "        \n",
    "        # Average \n",
    "        self.pool = layers.GlobalAveragePooling1D()\n",
    "        self.dropout3 = layers.Dropout(dropout)\n",
    "        self.dense = layers.Dense(20, activation=\"relu\", \n",
    "                                  kernel_regularizer=keras.regularizers.l2(reg))\n",
    "        self.dropout4 = layers.Dropout(dropout)\n",
    "        \n",
    "        # 5-star review probability output\n",
    "        self.stars = layers.Dense(5, activation=\"softmax\")\n",
    "        \n",
    "    def call(self, x, training=False, return_att=False):\n",
    "        mask = self.token_emb.compute_mask(x)\n",
    "        mask = mask[:, tf.newaxis, tf.newaxis, :]\n",
    "        \n",
    "        # Embed tokens and positional encodings\n",
    "        maxlen = tf.shape(x)[-1]\n",
    "        positions = tf.range(start=0, limit=maxlen, delta=1)\n",
    "        positions = self.pos_emb(positions)\n",
    "        x = self.token_emb(x)\n",
    "        x = x + positions\n",
    "        \n",
    "        # Self attention (query = key) -> feed-forward network (w/ add & norm)\n",
    "        attn_output, attn_scores = self.att(x, x, attention_mask=mask, return_attention_scores=True)\n",
    "        attn_output = self.dropout1(attn_output, training=training)\n",
    "        out1 = self.layernorm1(x + attn_output)\n",
    "        ffn_output = self.ffn(out1)\n",
    "        ffn_output = self.dropout2(ffn_output, training=training)\n",
    "        x = self.layernorm2(out1 + ffn_output)\n",
    "        \n",
    "        # Average pooling (along each time step), dropout, one more dense layer\n",
    "        x = self.pool(x)\n",
    "        x = self.dropout3(x)\n",
    "        x = self.dense(x)\n",
    "        x = self.dropout4(x)\n",
    "        \n",
    "        # Softmax for 5-star rating probabilities\n",
    "        rating_probs = self.stars(x)\n",
    "        \n",
    "        if return_att:\n",
    "            return rating_probs, attn_scores\n",
    "\n",
    "        return rating_probs"
   ]
  },
  {
   "cell_type": "markdown",
   "id": "e25eea7b",
   "metadata": {},
   "source": [
    "##### Create Model"
   ]
  },
  {
   "cell_type": "code",
   "execution_count": 127,
   "id": "01d66238",
   "metadata": {},
   "outputs": [],
   "source": [
    "# Hyperparameters\n",
    "embed_dim = 32  # Embedding size for each token\n",
    "num_heads = 1   # Number of attention heads\n",
    "ff_dims = [32]  # Hidden layer sizes in feed forward network inside transformer\n",
    "reg = 5.0e-2\n",
    "dropout = 0.5\n",
    "\n",
    "# Model\n",
    "model = SentimentClassifier(maxlen, vocab_size, embed_dim, num_heads, ff_dims, reg, dropout)"
   ]
  },
  {
   "cell_type": "code",
   "execution_count": 128,
   "id": "26dd94ca",
   "metadata": {},
   "outputs": [
    {
     "name": "stdout",
     "output_type": "stream",
     "text": [
      "1/1 [==============================] - 0s 198ms/step\n"
     ]
    },
    {
     "data": {
      "text/plain": [
       "array([[0.17296666, 0.21564558, 0.22278912, 0.2776162 , 0.11098247],\n",
       "       [0.16306902, 0.22724825, 0.22297053, 0.2785107 , 0.10820156],\n",
       "       [0.15289932, 0.24095337, 0.23662631, 0.2787078 , 0.09081316],\n",
       "       [0.16964918, 0.22512959, 0.20787346, 0.2813835 , 0.11596423],\n",
       "       [0.1536684 , 0.23075542, 0.23427399, 0.287606  , 0.09369616]],\n",
       "      dtype=float32)"
      ]
     },
     "execution_count": 128,
     "metadata": {},
     "output_type": "execute_result"
    }
   ],
   "source": [
    "model.predict(X_train[:5])"
   ]
  },
  {
   "cell_type": "markdown",
   "id": "5513f0e0",
   "metadata": {},
   "source": [
    "##### Compile and Run"
   ]
  },
  {
   "cell_type": "code",
   "execution_count": 129,
   "id": "395ff48e",
   "metadata": {},
   "outputs": [],
   "source": [
    "learning_rate = 1e-3\n",
    "\n",
    "model.compile(optimizer=keras.optimizers.Adam(learning_rate), \n",
    "              loss=\"sparse_categorical_crossentropy\", metrics=[\"accuracy\"])\n",
    "\n",
    "model.build(X_train.shape)"
   ]
  },
  {
   "cell_type": "code",
   "execution_count": 130,
   "id": "39281a41",
   "metadata": {},
   "outputs": [
    {
     "name": "stdout",
     "output_type": "stream",
     "text": [
      "Model: \"sentiment_classifier_4\"\n",
      "_________________________________________________________________\n",
      " Layer (type)                Output Shape              Param #   \n",
      "=================================================================\n",
      " t_emb (Embedding)           multiple                  960000    \n",
      "                                                                 \n",
      " p_emb (Embedding)           multiple                  6400      \n",
      "                                                                 \n",
      " attention (MultiHeadAttenti  multiple                 4224      \n",
      " on)                                                             \n",
      "                                                                 \n",
      " sequential_4 (Sequential)   (None, 200, 32)           1056      \n",
      "                                                                 \n",
      " layer_normalization_8 (Laye  multiple                 64        \n",
      " rNormalization)                                                 \n",
      "                                                                 \n",
      " layer_normalization_9 (Laye  multiple                 64        \n",
      " rNormalization)                                                 \n",
      "                                                                 \n",
      " dropout_16 (Dropout)        multiple                  0         \n",
      "                                                                 \n",
      " dropout_17 (Dropout)        multiple                  0         \n",
      "                                                                 \n",
      " global_average_pooling1d_4   multiple                 0         \n",
      " (GlobalAveragePooling1D)                                        \n",
      "                                                                 \n",
      " dropout_18 (Dropout)        multiple                  0         \n",
      "                                                                 \n",
      " dense_13 (Dense)            multiple                  660       \n",
      "                                                                 \n",
      " dropout_19 (Dropout)        multiple                  0         \n",
      "                                                                 \n",
      " dense_14 (Dense)            multiple                  105       \n",
      "                                                                 \n",
      "=================================================================\n",
      "Total params: 972,573\n",
      "Trainable params: 972,573\n",
      "Non-trainable params: 0\n",
      "_________________________________________________________________\n"
     ]
    }
   ],
   "source": [
    "model.summary()"
   ]
  },
  {
   "cell_type": "code",
   "execution_count": 131,
   "id": "b0246e1a",
   "metadata": {
    "scrolled": true
   },
   "outputs": [
    {
     "name": "stdout",
     "output_type": "stream",
     "text": [
      "Epoch 1/5\n",
      "62500/62500 [==============================] - 208s 3ms/step - loss: 0.8820 - accuracy: 0.6452 - val_loss: 0.8477 - val_accuracy: 0.6350\n",
      "Epoch 2/5\n",
      "62500/62500 [==============================] - 219s 4ms/step - loss: 0.8451 - accuracy: 0.6555 - val_loss: 0.8401 - val_accuracy: 0.6254\n",
      "Epoch 3/5\n",
      "62500/62500 [==============================] - 208s 3ms/step - loss: 0.8354 - accuracy: 0.6591 - val_loss: 0.8231 - val_accuracy: 0.6574\n",
      "Epoch 4/5\n",
      "62500/62500 [==============================] - 214s 3ms/step - loss: 0.8297 - accuracy: 0.6611 - val_loss: 0.8280 - val_accuracy: 0.6502\n",
      "Epoch 5/5\n",
      "62500/62500 [==============================] - 210s 3ms/step - loss: 0.8254 - accuracy: 0.6626 - val_loss: 0.8043 - val_accuracy: 0.6626\n",
      "CPU times: total: 23min 12s\n",
      "Wall time: 17min 39s\n"
     ]
    }
   ],
   "source": [
    "%%time\n",
    "# Train model\n",
    "epochs = 5\n",
    "\n",
    "# Early stopping \n",
    "early_stopping = tf.keras.callbacks.EarlyStopping(monitor='loss', patience=2)\n",
    "\n",
    "# Checkpoint\n",
    "checkpoint_path = \"model_checkpoints/proto.ckpt\"\n",
    "checkpoint_dir = os.path.dirname(checkpoint_path)\n",
    "\n",
    "# Create a callback that saves the model's weights\n",
    "create_checkpoint = tf.keras.callbacks.ModelCheckpoint(filepath=checkpoint_path, verbose=1)\n",
    "\n",
    "history = model.fit(\n",
    "    X_train, y_train, batch_size=32, epochs=epochs, validation_data=(X_test, y_test),\n",
    "    callbacks=[early_stopping], verbose=1,\n",
    ")"
   ]
  },
  {
   "cell_type": "code",
   "execution_count": 142,
   "id": "8bf9d83a",
   "metadata": {},
   "outputs": [
    {
     "data": {
      "image/png": "[encoded data removed]",
      "text/plain": [
       "<Figure size 800x800 with 2 Axes>"
      ]
     },
     "metadata": {},
     "output_type": "display_data"
    }
   ],
   "source": [
    "hist = history.history\n",
    "acc, val_acc = hist[\"accuracy\"], hist[\"val_accuracy\"]\n",
    "\n",
    "fig, axes = plt.subplots(2, 1, sharex=True, figsize=(8, 8), dpi=100)\n",
    "\n",
    "for i, ax in enumerate(axes):\n",
    "    ax.plot(acc, label=\"acc\")\n",
    "    ax.plot(val_acc, label=\"val_acc\")\n",
    "    \n",
    "    ax.set_xlim(0, epochs - 1)\n",
    "    if i == 0:\n",
    "        ax.set_ylim(0.0, 1.0)\n",
    "        ax.axhline(0.2, color=\"red\", label=\"base\")\n",
    "        \n",
    "    ax.grid(visible=True, axis=\"both\")\n",
    "    ax.legend()\n",
    "    ax.set_xlabel(\"epoch\")\n",
    "    ax.set_ylabel(\"accuracy\")\n",
    "\n",
    "plt.show()"
   ]
  },
  {
   "cell_type": "markdown",
   "id": "f989e506",
   "metadata": {},
   "source": [
    "##### Test"
   ]
  },
  {
   "cell_type": "code",
   "execution_count": 143,
   "id": "4aab1fad",
   "metadata": {},
   "outputs": [
    {
     "name": "stdout",
     "output_type": "stream",
     "text": [
      "3125/3125 [==============================] - 3s 1ms/step\n"
     ]
    }
   ],
   "source": [
    "# Get probabilities per class\n",
    "y_pred = model.predict(X_test)"
   ]
  },
  {
   "cell_type": "code",
   "execution_count": 144,
   "id": "5f8ece44",
   "metadata": {},
   "outputs": [],
   "source": [
    "# Get star predictions and negative/positive predictions\n",
    "y_pred_multi = tf.argmax(y_pred, axis=1)\n",
    "y_pred_binary = y_pred_multi >= 3"
   ]
  },
  {
   "cell_type": "code",
   "execution_count": 145,
   "id": "458f93b5",
   "metadata": {},
   "outputs": [
    {
     "name": "stdout",
     "output_type": "stream",
     "text": [
      "multi-class accuracy: 0.66258\n",
      "(compare to ~0.2)\n"
     ]
    }
   ],
   "source": [
    "print(\"multi-class accuracy: \" + str((y_pred_multi == y_test).numpy().sum() / len(y_test)))\n",
    "print(\"(compare to ~0.2)\")"
   ]
  },
  {
   "cell_type": "code",
   "execution_count": 146,
   "id": "6526ece6",
   "metadata": {},
   "outputs": [
    {
     "name": "stdout",
     "output_type": "stream",
     "text": [
      "binary accuracy: 0.90989\n",
      "(compare to ~0.5)\n"
     ]
    }
   ],
   "source": [
    "print(\"binary accuracy: \" + str((y_pred_binary == (y_test >= 3)).numpy().sum() / len(y_test)))\n",
    "print(\"(compare to ~0.5)\")"
   ]
  },
  {
   "cell_type": "markdown",
   "id": "f9dd5601",
   "metadata": {},
   "source": [
    "##### Visualize Attention"
   ]
  },
  {
   "cell_type": "code",
   "execution_count": 156,
   "id": "79f640f9",
   "metadata": {
    "scrolled": true
   },
   "outputs": [
    {
     "data": {
      "text/plain": [
       "<tf.Tensor: shape=(100, 200), dtype=float32, numpy=\n",
       "array([[0.07764458, 0.05308972, 0.0349667 , ..., 0.        , 0.        ,\n",
       "        0.        ],\n",
       "       [0.1300747 , 0.08431643, 0.04220372, ..., 0.        , 0.        ,\n",
       "        0.        ],\n",
       "       [0.10003831, 0.09676443, 0.00456091, ..., 0.        , 0.        ,\n",
       "        0.        ],\n",
       "       ...,\n",
       "       [0.06990457, 0.11007544, 0.02202518, ..., 0.        , 0.        ,\n",
       "        0.        ],\n",
       "       [0.14435484, 0.02092621, 0.0733385 , ..., 0.        , 0.        ,\n",
       "        0.        ],\n",
       "       [0.07704394, 0.03665083, 0.02144636, ..., 0.        , 0.        ,\n",
       "        0.        ]], dtype=float32)>"
      ]
     },
     "execution_count": 156,
     "metadata": {},
     "output_type": "execute_result"
    }
   ],
   "source": [
    "# Get attention scores\n",
    "_, attns = model(X_test[:100], return_att=True)\n",
    "\n",
    "# Get attention for each sample\n",
    "attns = tf.reduce_mean(attns, axis=2)[:, 0, :]\n",
    "attns"
   ]
  },
  {
   "cell_type": "code",
   "execution_count": 157,
   "id": "b2c9f538",
   "metadata": {},
   "outputs": [
    {
     "data": {
      "text/plain": [
       "<tf.Tensor: shape=(34,), dtype=float32, numpy=\n",
       "array([0.07764458, 0.05308972, 0.0349667 , 0.03753987, 0.0230421 ,\n",
       "       0.01863576, 0.03119095, 0.02512748, 0.01513603, 0.01720031,\n",
       "       0.02892672, 0.02990903, 0.0151534 , 0.0182085 , 0.02541119,\n",
       "       0.02710303, 0.01407397, 0.06770805, 0.02609011, 0.05646799,\n",
       "       0.02792396, 0.02753072, 0.02816499, 0.0256967 , 0.01896237,\n",
       "       0.01507911, 0.02147102, 0.01475192, 0.01935074, 0.04306125,\n",
       "       0.02045472, 0.02617007, 0.02377341, 0.02942504], dtype=float32)>"
      ]
     },
     "execution_count": 157,
     "metadata": {},
     "output_type": "execute_result"
    }
   ],
   "source": [
    "attns[0][:34]"
   ]
  },
  {
   "cell_type": "code",
   "execution_count": 158,
   "id": "1b2625a9",
   "metadata": {},
   "outputs": [
    {
     "data": {
      "text/plain": [
       "26"
      ]
     },
     "execution_count": 158,
     "metadata": {},
     "output_type": "execute_result"
    }
   ],
   "source": [
    "seq_len"
   ]
  },
  {
   "cell_type": "code",
   "execution_count": 159,
   "id": "710dfba1",
   "metadata": {},
   "outputs": [
    {
     "data": {
      "text/plain": [
       "<keras.preprocessing.text.Tokenizer at 0x24edc444b50>"
      ]
     },
     "execution_count": 159,
     "metadata": {},
     "output_type": "execute_result"
    }
   ],
   "source": [
    "tokenizer"
   ]
  },
  {
   "cell_type": "code",
   "execution_count": 161,
   "id": "153958bb",
   "metadata": {
    "scrolled": false
   },
   "outputs": [
    {
     "name": "stdout",
     "output_type": "stream",
     "text": [
      "<Original Text>\n",
      "Overall very disappointing experience with Audi Kirkwood.  Bought a 2014 Audi from this dealership.  Immediately after sale experienced change in responsiveness from representatives.  Emails went weeks without answers that were before answered within 1 day.  Recently brought vehicle back for recall (side curtain airbag issue requiring inspection and fix).  When I bought the car the sales staff had 'lost' the card that allows them to fill the car with gas, so told me to ask for a tank next time I was in.  I did so.  The tank was not refilled.  I also mentioned a high-pitched whine it was making and was told they would look into it. When I picked up the car I was told they didn't look at that, without further explanation.  Lastly, my side airbag covers are now themselves covered in greasy handprints.  Not what one expects from a luxury car dealership.  I recommend steering clear of Audi Kirkwood.  My last car purchase was a VW within the Bommarito family, and I had only good experiences with their service and follow-up.  I actually went to the Bommarito Audi dealership, but elected to buy from a dealer closer to where I live.  Big mistake.  Do yourself a favor and make the drive to another dealer.\n",
      "\n",
      "<Preprocessed>\n",
      "['overall', 'disappointing', 'experience', 'audi', 'kirkwood', 'buy', 'audi', 'dealership', 'immediately', 'sale', 'experience', 'change', 'responsiveness', 'representative', 'email', 'go', 'week', 'answer', 'answer', 'day', 'recently', 'bring', 'vehicle', 'recall', 'curtain', 'airbag', 'issue', 'require', 'inspection', 'fix', 'buy', 'car', 'sale', 'staff', 'lose', 'card', 'allow', 'fill', 'car', 'gas', 'tell', 'ask', 'tank', 'time', 'tank', 'refill', 'mention', 'whine', 'make', 'tell', 'look', 'pick', 'car', 'tell', 'not', 'look', 'explanation', 'lastly', 'airbag', 'cover', 'cover', 'greasy', 'handprint', 'expect', 'luxury', 'car', 'dealership', 'recommend', 'steer', 'clear', 'audi', 'kirkwood', 'car', 'purchase', 'vw', 'bommarito', 'family', 'good', 'experience', 'service', 'followup', 'actually', 'go', 'bommarito', 'audi', 'dealership', 'elect', 'buy', 'dealer', 'close', 'live', 'big', 'mistake', 'favor', 'drive', 'dealer']\n"
     ]
    },
    {
     "data": {
      "image/png": "[encoded data removed]",
      "text/plain": [
       "<Figure size 600x1920 with 1 Axes>"
      ]
     },
     "metadata": {},
     "output_type": "display_data"
    }
   ],
   "source": [
    "sample_idx = 2\n",
    "\n",
    "# Get word sequences without oov words\n",
    "in_seq = X_test_norm[sample_idx]\n",
    "in_seq = [tok for tok in tokenizer.sequences_to_texts(tokenizer.texts_to_sequences(in_seq)) if tok]\n",
    "seq_len = len(in_seq)\n",
    "\n",
    "# Get attention values\n",
    "attn_vals = attns[sample_idx][:seq_len].numpy()\n",
    "\n",
    "print(\"<Original Text>\")\n",
    "print(test[\"text\"].iloc[sample_idx])\n",
    "\n",
    "print(\"\\n<Preprocessed>\")\n",
    "print(in_seq)\n",
    "\n",
    "plt.figure(figsize=(6, 0.2 * seq_len), dpi=100)\n",
    "sns.barplot(y=in_seq, x=attn_vals, ci=None, color=\"orange\")\n",
    "\n",
    "plt.show()"
   ]
  }
 ],
 "metadata": {
  "kernelspec": {
   "display_name": "Python [conda env:tf-gpu]",
   "language": "python",
   "name": "conda-env-tf-gpu-py"
  },
  "language_info": {
   "codemirror_mode": {
    "name": "ipython",
    "version": 3
   },
   "file_extension": ".py",
   "mimetype": "text/x-python",
   "name": "python",
   "nbconvert_exporter": "python",
   "pygments_lexer": "ipython3",
   "version": "3.10.4"
  }
 },
 "nbformat": 4,
 "nbformat_minor": 5
}

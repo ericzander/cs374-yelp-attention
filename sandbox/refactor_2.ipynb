{
 "cells": [
  {
   "cell_type": "markdown",
   "id": "9a91af41",
   "metadata": {},
   "source": [
    "* Added named entity recognition\n",
    "* Moved model out"
   ]
  },
  {
   "cell_type": "markdown",
   "id": "bd318293",
   "metadata": {},
   "source": [
    "---"
   ]
  },
  {
   "cell_type": "markdown",
   "id": "93fb8d86",
   "metadata": {},
   "source": [
    "# Setup"
   ]
  },
  {
   "cell_type": "markdown",
   "id": "55c4193f",
   "metadata": {},
   "source": [
    "##### Set Root Dir as CWD"
   ]
  },
  {
   "cell_type": "code",
   "execution_count": 1,
   "id": "7d88d86d",
   "metadata": {},
   "outputs": [
    {
     "name": "stdout",
     "output_type": "stream",
     "text": [
      "D:\\Documents\\A_DIGIPEN\\PersonalSVN\\Fall22SVN\\CS374\\Project\\cs374-project\n"
     ]
    }
   ],
   "source": [
    "import os\n",
    "\n",
    "# Navigate to project root (if not already there)\n",
    "if os.path.split(os.getcwd())[1] != \"cs374-project\":\n",
    "    %cd ../"
   ]
  },
  {
   "cell_type": "markdown",
   "id": "ebf5af2e",
   "metadata": {},
   "source": [
    "##### Imports"
   ]
  },
  {
   "cell_type": "code",
   "execution_count": 2,
   "id": "f8dbe9fb",
   "metadata": {},
   "outputs": [],
   "source": [
    "import numpy as np\n",
    "import pandas as pd\n",
    "\n",
    "import spacy\n",
    "\n",
    "import tensorflow as tf\n",
    "from tensorflow import keras\n",
    "from tensorflow.keras import layers\n",
    "\n",
    "import matplotlib.pyplot as plt\n",
    "import seaborn as sns\n",
    "sns.set_theme()\n",
    "\n",
    "# Local\n",
    "from src.preprocesser import ReviewPreprocessor\n",
    "from src.model import ReviewClassifier"
   ]
  },
  {
   "cell_type": "markdown",
   "id": "3ef923cc",
   "metadata": {},
   "source": [
    "# Load"
   ]
  },
  {
   "cell_type": "code",
   "execution_count": 3,
   "id": "71b0f0cf",
   "metadata": {},
   "outputs": [],
   "source": [
    "path = \"data/yelp/reviews/\""
   ]
  },
  {
   "cell_type": "code",
   "execution_count": 4,
   "id": "73c9a325",
   "metadata": {},
   "outputs": [
    {
     "name": "stdout",
     "output_type": "stream",
     "text": [
      "CPU times: total: 35.6 s\n",
      "Wall time: 35.8 s\n"
     ]
    }
   ],
   "source": [
    "%%time\n",
    "# Load dev set (10% of total data) as train\n",
    "train_all = pd.read_pickle(path + \"train.xz\")"
   ]
  },
  {
   "cell_type": "code",
   "execution_count": 5,
   "id": "821b8fb6",
   "metadata": {},
   "outputs": [
    {
     "name": "stdout",
     "output_type": "stream",
     "text": [
      "CPU times: total: 4.11 s\n",
      "Wall time: 4.11 s\n"
     ]
    }
   ],
   "source": [
    "%%time\n",
    "# Load test set (10% of total data) as test\n",
    "test_all = pd.read_pickle(path + \"test.xz\")"
   ]
  },
  {
   "cell_type": "code",
   "execution_count": 6,
   "id": "52e0d9d5",
   "metadata": {},
   "outputs": [],
   "source": [
    "num_samples = (10_000, 10_000)\n",
    "\n",
    "train = train_all.iloc[:num_samples[0]]\n",
    "test = test_all.iloc[:num_samples[1]]"
   ]
  },
  {
   "cell_type": "code",
   "execution_count": 7,
   "id": "b8ccc29f",
   "metadata": {},
   "outputs": [
    {
     "data": {
      "text/html": [
       "<div>\n",
       "<style scoped>\n",
       "    .dataframe tbody tr th:only-of-type {\n",
       "        vertical-align: middle;\n",
       "    }\n",
       "\n",
       "    .dataframe tbody tr th {\n",
       "        vertical-align: top;\n",
       "    }\n",
       "\n",
       "    .dataframe thead th {\n",
       "        text-align: right;\n",
       "    }\n",
       "</style>\n",
       "<table border=\"1\" class=\"dataframe\">\n",
       "  <thead>\n",
       "    <tr style=\"text-align: right;\">\n",
       "      <th></th>\n",
       "      <th>text</th>\n",
       "      <th>stars</th>\n",
       "    </tr>\n",
       "  </thead>\n",
       "  <tbody>\n",
       "    <tr>\n",
       "      <th>2903612</th>\n",
       "      <td>I like Wedding Belles for an odd reason. I set...</td>\n",
       "      <td>5</td>\n",
       "    </tr>\n",
       "    <tr>\n",
       "      <th>5050964</th>\n",
       "      <td>We had a great stay here. I felt like we got a...</td>\n",
       "      <td>5</td>\n",
       "    </tr>\n",
       "    <tr>\n",
       "      <th>1226557</th>\n",
       "      <td>A unique place for sure, not your standard bre...</td>\n",
       "      <td>3</td>\n",
       "    </tr>\n",
       "    <tr>\n",
       "      <th>776083</th>\n",
       "      <td>This will be a short review on service and gri...</td>\n",
       "      <td>4</td>\n",
       "    </tr>\n",
       "    <tr>\n",
       "      <th>227582</th>\n",
       "      <td>Great barbershop. Super friendly staff. They a...</td>\n",
       "      <td>5</td>\n",
       "    </tr>\n",
       "    <tr>\n",
       "      <th>...</th>\n",
       "      <td>...</td>\n",
       "      <td>...</td>\n",
       "    </tr>\n",
       "    <tr>\n",
       "      <th>1004107</th>\n",
       "      <td>They informed us 2 hours before our flight was...</td>\n",
       "      <td>1</td>\n",
       "    </tr>\n",
       "    <tr>\n",
       "      <th>4423491</th>\n",
       "      <td>We bought tickets to see Big Freedia and Solan...</td>\n",
       "      <td>1</td>\n",
       "    </tr>\n",
       "    <tr>\n",
       "      <th>5618540</th>\n",
       "      <td>My first visit to Charley's. Celebrated my 30t...</td>\n",
       "      <td>4</td>\n",
       "    </tr>\n",
       "    <tr>\n",
       "      <th>1740756</th>\n",
       "      <td>This place is in a lane by itself. Basic menu ...</td>\n",
       "      <td>5</td>\n",
       "    </tr>\n",
       "    <tr>\n",
       "      <th>2487354</th>\n",
       "      <td>Everything is amazing with the exception of ve...</td>\n",
       "      <td>5</td>\n",
       "    </tr>\n",
       "  </tbody>\n",
       "</table>\n",
       "<p>10000 rows × 2 columns</p>\n",
       "</div>"
      ],
      "text/plain": [
       "                                                      text  stars\n",
       "2903612  I like Wedding Belles for an odd reason. I set...      5\n",
       "5050964  We had a great stay here. I felt like we got a...      5\n",
       "1226557  A unique place for sure, not your standard bre...      3\n",
       "776083   This will be a short review on service and gri...      4\n",
       "227582   Great barbershop. Super friendly staff. They a...      5\n",
       "...                                                    ...    ...\n",
       "1004107  They informed us 2 hours before our flight was...      1\n",
       "4423491  We bought tickets to see Big Freedia and Solan...      1\n",
       "5618540  My first visit to Charley's. Celebrated my 30t...      4\n",
       "1740756  This place is in a lane by itself. Basic menu ...      5\n",
       "2487354  Everything is amazing with the exception of ve...      5\n",
       "\n",
       "[10000 rows x 2 columns]"
      ]
     },
     "execution_count": 7,
     "metadata": {},
     "output_type": "execute_result"
    }
   ],
   "source": [
    "train"
   ]
  },
  {
   "cell_type": "markdown",
   "id": "05965e48",
   "metadata": {},
   "source": [
    "##### Save Target"
   ]
  },
  {
   "cell_type": "code",
   "execution_count": 8,
   "id": "9d6ae318",
   "metadata": {},
   "outputs": [],
   "source": [
    "# Save reviews stars from 0-4\n",
    "y_train = tf.convert_to_tensor(train[\"stars\"].values - 1)\n",
    "y_test = tf.convert_to_tensor(test[\"stars\"].values - 1)"
   ]
  },
  {
   "cell_type": "markdown",
   "id": "d4fd8d22",
   "metadata": {},
   "source": [
    "# Preprocess"
   ]
  },
  {
   "cell_type": "code",
   "execution_count": 9,
   "id": "c5230aed",
   "metadata": {
    "scrolled": true
   },
   "outputs": [],
   "source": [
    "batch_size = 2000\n",
    "n_processes = 4\n",
    "\n",
    "maxlen = 200         # Number of words per review to consider\n",
    "vocab_size = 20_000  # Size of vocabulary"
   ]
  },
  {
   "cell_type": "markdown",
   "id": "0ae8720d",
   "metadata": {},
   "source": [
    "##### Load from raw data"
   ]
  },
  {
   "cell_type": "code",
   "execution_count": 10,
   "id": "04524a4f",
   "metadata": {},
   "outputs": [
    {
     "name": "stdout",
     "output_type": "stream",
     "text": [
      "CPU times: total: 13.7 s\n",
      "Wall time: 1min 3s\n"
     ]
    }
   ],
   "source": [
    "%%time\n",
    "# Configure preprocessor\n",
    "prep = ReviewPreprocessor(vocab_size, maxlen)\n",
    "\n",
    "# Preprocess text\n",
    "X_train_norm = prep.normalize(train[\"text\"], batch_size, n_processes)\n",
    "X_test_norm = prep.normalize(test[\"text\"], batch_size, n_processes)"
   ]
  },
  {
   "cell_type": "code",
   "execution_count": 11,
   "id": "0eb557bc",
   "metadata": {},
   "outputs": [],
   "source": [
    "# Fit tokenizer\n",
    "prep.fit_tokenizer(X_train_norm)\n",
    "\n",
    "# Convert to tensor of padded sequences\n",
    "X_train = prep.to_tensor(X_train_norm)\n",
    "X_test = prep.to_tensor(X_test_norm)"
   ]
  },
  {
   "cell_type": "markdown",
   "id": "8f0385e8",
   "metadata": {},
   "source": [
    "##### View Before and After Preprocessing"
   ]
  },
  {
   "cell_type": "code",
   "execution_count": 28,
   "id": "d3c8d426",
   "metadata": {},
   "outputs": [
    {
     "name": "stdout",
     "output_type": "stream",
     "text": [
      "Overall very disappointing experience with Audi Kirkwood.  Bought a 2014 Audi from this dealership.  Immediately after sale experienced change in responsiveness from representatives.  Emails went weeks without answers that were before answered within 1 day.  Recently brought vehicle back for recall (side curtain airbag issue requiring inspection and fix).  When I bought the car the sales staff had 'lost' the card that allows them to fill the car with gas, so told me to ask for a tank next time I was in.  I did so.  The tank was not refilled.  I also mentioned a high-pitched whine it was making and was told they would look into it. When I picked up the car I was told they didn't look at that, without further explanation.  Lastly, my side airbag covers are now themselves covered in greasy handprints.  Not what one expects from a luxury car dealership.  I recommend steering clear of Audi Kirkwood.  My last car purchase was a VW within the Bommarito family, and I had only good experiences with their service and follow-up.  I actually went to the Bommarito Audi dealership, but elected to buy from a dealer closer to where I live.  Big mistake.  Do yourself a favor and make the drive to another dealer.\n",
      "\n",
      " - - - - \n",
      "\n",
      "['overall', 'disappointing', 'experience', 'PERSON', 'PERSON', '.', 'buy', '20', 'e2', 'audi', 'dealership', '.', 'immediately', 'sale', 'experienced', 'change', 'responsiveness', 'representative', '.', 'email', 'go', 'DATE', 'answer', 'answer', '1', 'e0', 'DATE', '.', 'recently', 'bring', 'vehicle', 'recall', '(', 'curtain', 'airbag', 'issue', 'require', 'inspection', 'fix', ')', '.', 'buy', 'car', 'sale', 'staff', \"'\", 'lose', \"'\", 'card', 'allow', 'fill', 'car', 'gas', ',', 'tell', 'ask', 'tank', 'time', '.', '.', 'tank', 'refill', '.', 'mention', 'high', '-', 'pitch', 'whine', 'make', 'tell', 'look', '.', 'pick', 'car', 'tell', 'didn', \"'\", 't', 'look', ',', 'explanation', '.', 'lastly', ',', 'airbag', 'cover', 'cover', 'greasy', 'handprint', '.', 'expect', 'luxury', 'car', 'dealership', '.', 'recommend', 'steer', 'clear', 'PERSON', 'PERSON', '.', 'car', 'purchase', 'ORG', 'PERSON', 'family', ',', 'good', 'experience', 'service', 'follow', '-', '.', 'actually', 'go', 'bommarito', 'audi', 'dealership', ',', 'elect', 'buy', 'dealer', 'close', 'live', '.', 'big', 'mistake', '.', 'favor', 'drive', 'dealer', '.'] 132\n",
      "\n",
      " - - - - \n",
      "\n",
      "tf.Tensor(\n",
      "[  190   695    48     5     5     1   202   160   269   972     1   448\n",
      "   539  2645   238 16095  2931     1   710    26     7   446   446   150\n",
      "     9     7     1   431   118   783  1565    21  2494 14629   279  1284\n",
      "  1427   349    19     1   202   128   539    35     3   621     3   353\n",
      "   497   315   128  1544     2    51    46  1939     8     1     1  1939\n",
      "   782     1   415   211    13  4052   177    51    33     1   199   128\n",
      "    51    56     3    10    33     2  1968     1  1860     2 14629   513\n",
      "   513   891     1   196  4139   128   972     1    57  2759   706     5\n",
      "     5     1   128   411     6     5   182     2    11    48    25   521\n",
      "    13     1   220    26   972     2  5167   202  1614   180   188     1\n",
      "   135   769     1  1211   194  1614     1     0     0     0     0     0\n",
      "     0     0     0     0     0     0     0     0     0     0     0     0\n",
      "     0     0     0     0     0     0     0     0     0     0     0     0\n",
      "     0     0     0     0     0     0     0     0     0     0     0     0\n",
      "     0     0     0     0     0     0     0     0     0     0     0     0\n",
      "     0     0     0     0     0     0     0     0     0     0     0     0\n",
      "     0     0     0     0     0     0     0     0], shape=(200,), dtype=int32)\n"
     ]
    }
   ],
   "source": [
    "print_idx = 2\n",
    "print(test[\"text\"].iloc[print_idx])\n",
    "print(\"\\n - - - - \\n\")\n",
    "print(X_test_norm[print_idx], len(X_test_norm[print_idx]))\n",
    "print(\"\\n - - - - \\n\")\n",
    "print(X_test[print_idx])"
   ]
  },
  {
   "cell_type": "markdown",
   "id": "f9839669",
   "metadata": {},
   "source": [
    "# Model"
   ]
  },
  {
   "cell_type": "markdown",
   "id": "2de79d55",
   "metadata": {},
   "source": [
    "* Reference https://keras.io/examples/nlp/text_classification_with_transformer/"
   ]
  },
  {
   "cell_type": "markdown",
   "id": "e25eea7b",
   "metadata": {},
   "source": [
    "##### Create Model"
   ]
  },
  {
   "cell_type": "code",
   "execution_count": 13,
   "id": "01d66238",
   "metadata": {},
   "outputs": [],
   "source": [
    "# Hyperparameters\n",
    "embed_dim = 32  # Attention output size\n",
    "num_heads = 2   # Number of attention heads\n",
    "ff_dims = [32]  # Hidden layer sizes in feed forward network inside transformer\n",
    "reg = 1.0e-2\n",
    "dropout = 0.25\n",
    "\n",
    "# Model\n",
    "model = ReviewClassifier(maxlen, vocab_size, embed_dim, num_heads, ff_dims, reg, dropout)"
   ]
  },
  {
   "cell_type": "code",
   "execution_count": 14,
   "id": "26dd94ca",
   "metadata": {},
   "outputs": [
    {
     "name": "stdout",
     "output_type": "stream",
     "text": [
      "1/1 [==============================] - 1s 1s/step\n"
     ]
    },
    {
     "data": {
      "text/plain": [
       "array([[0.31561735, 0.17757234, 0.17611957, 0.1404784 , 0.19021223],\n",
       "       [0.34129784, 0.17768808, 0.17638513, 0.12888476, 0.17574422],\n",
       "       [0.39458406, 0.18036665, 0.16014206, 0.10176486, 0.16314237],\n",
       "       [0.32508677, 0.17838734, 0.17959638, 0.13709067, 0.17983888],\n",
       "       [0.3928489 , 0.19898139, 0.15214801, 0.09555166, 0.16047004]],\n",
       "      dtype=float32)"
      ]
     },
     "execution_count": 14,
     "metadata": {},
     "output_type": "execute_result"
    }
   ],
   "source": [
    "model.predict(X_train[:5])"
   ]
  },
  {
   "cell_type": "markdown",
   "id": "5513f0e0",
   "metadata": {},
   "source": [
    "##### Compile and Run"
   ]
  },
  {
   "cell_type": "code",
   "execution_count": 15,
   "id": "395ff48e",
   "metadata": {},
   "outputs": [],
   "source": [
    "learning_rate = 1e-3\n",
    "\n",
    "model.compile(optimizer=keras.optimizers.Adam(learning_rate), \n",
    "              loss=\"sparse_categorical_crossentropy\", metrics=[\"accuracy\"])\n",
    "\n",
    "model.build(X_train.shape)"
   ]
  },
  {
   "cell_type": "code",
   "execution_count": 16,
   "id": "39281a41",
   "metadata": {},
   "outputs": [
    {
     "name": "stdout",
     "output_type": "stream",
     "text": [
      "Model: \"review_classifier\"\n",
      "_________________________________________________________________\n",
      " Layer (type)                Output Shape              Param #   \n",
      "=================================================================\n",
      " t_emb (Embedding)           multiple                  640000    \n",
      "                                                                 \n",
      " p_emb (Embedding)           multiple                  6400      \n",
      "                                                                 \n",
      " attention (MultiHeadAttenti  multiple                 8416      \n",
      " on)                                                             \n",
      "                                                                 \n",
      " sequential (Sequential)     (None, 200, 32)           1056      \n",
      "                                                                 \n",
      " layer_normalization (LayerN  multiple                 64        \n",
      " ormalization)                                                   \n",
      "                                                                 \n",
      " layer_normalization_1 (Laye  multiple                 64        \n",
      " rNormalization)                                                 \n",
      "                                                                 \n",
      " dropout (Dropout)           multiple                  0         \n",
      "                                                                 \n",
      " dropout_1 (Dropout)         multiple                  0         \n",
      "                                                                 \n",
      " global_average_pooling1d (G  multiple                 0         \n",
      " lobalAveragePooling1D)                                          \n",
      "                                                                 \n",
      " dropout_2 (Dropout)         multiple                  0         \n",
      "                                                                 \n",
      " dense_1 (Dense)             multiple                  660       \n",
      "                                                                 \n",
      " dropout_3 (Dropout)         multiple                  0         \n",
      "                                                                 \n",
      " dense_2 (Dense)             multiple                  105       \n",
      "                                                                 \n",
      "=================================================================\n",
      "Total params: 656,765\n",
      "Trainable params: 656,765\n",
      "Non-trainable params: 0\n",
      "_________________________________________________________________\n"
     ]
    }
   ],
   "source": [
    "model.summary()"
   ]
  },
  {
   "cell_type": "code",
   "execution_count": 17,
   "id": "b0246e1a",
   "metadata": {
    "scrolled": false
   },
   "outputs": [
    {
     "name": "stdout",
     "output_type": "stream",
     "text": [
      "Epoch 1/10\n",
      "309/313 [============================>.] - ETA: 0s - loss: 1.5147 - accuracy: 0.5139\n",
      "Epoch 1: val_loss improved from inf to 1.13117, saving model to refactor/model_checkpoints\\refactor2.ckpt\n"
     ]
    },
    {
     "name": "stderr",
     "output_type": "stream",
     "text": [
      "WARNING:absl:Found untraced functions such as query_layer_call_fn, query_layer_call_and_return_conditional_losses, key_layer_call_fn, key_layer_call_and_return_conditional_losses, value_layer_call_fn while saving (showing 5 of 12). These functions will not be directly callable after loading.\n"
     ]
    },
    {
     "name": "stdout",
     "output_type": "stream",
     "text": [
      "INFO:tensorflow:Assets written to: refactor/model_checkpoints\\refactor2.ckpt\\assets\n"
     ]
    },
    {
     "name": "stderr",
     "output_type": "stream",
     "text": [
      "INFO:tensorflow:Assets written to: refactor/model_checkpoints\\refactor2.ckpt\\assets\n"
     ]
    },
    {
     "name": "stdout",
     "output_type": "stream",
     "text": [
      "313/313 [==============================] - 4s 11ms/step - loss: 1.5092 - accuracy: 0.5154 - val_loss: 1.1312 - val_accuracy: 0.6017\n",
      "Epoch 2/10\n",
      "313/313 [==============================] - ETA: 0s - loss: 0.9751 - accuracy: 0.6508\n",
      "Epoch 2: val_loss improved from 1.13117 to 0.95790, saving model to refactor/model_checkpoints\\refactor2.ckpt\n"
     ]
    },
    {
     "name": "stderr",
     "output_type": "stream",
     "text": [
      "WARNING:absl:Found untraced functions such as query_layer_call_fn, query_layer_call_and_return_conditional_losses, key_layer_call_fn, key_layer_call_and_return_conditional_losses, value_layer_call_fn while saving (showing 5 of 12). These functions will not be directly callable after loading.\n"
     ]
    },
    {
     "name": "stdout",
     "output_type": "stream",
     "text": [
      "INFO:tensorflow:Assets written to: refactor/model_checkpoints\\refactor2.ckpt\\assets\n"
     ]
    },
    {
     "name": "stderr",
     "output_type": "stream",
     "text": [
      "INFO:tensorflow:Assets written to: refactor/model_checkpoints\\refactor2.ckpt\\assets\n"
     ]
    },
    {
     "name": "stdout",
     "output_type": "stream",
     "text": [
      "313/313 [==============================] - 3s 10ms/step - loss: 0.9751 - accuracy: 0.6508 - val_loss: 0.9579 - val_accuracy: 0.6381\n",
      "Epoch 3/10\n",
      "307/313 [============================>.] - ETA: 0s - loss: 0.7678 - accuracy: 0.7197\n",
      "Epoch 3: val_loss did not improve from 0.95790\n",
      "313/313 [==============================] - 2s 6ms/step - loss: 0.7676 - accuracy: 0.7199 - val_loss: 0.9632 - val_accuracy: 0.6377\n",
      "Epoch 4/10\n",
      "309/313 [============================>.] - ETA: 0s - loss: 0.6505 - accuracy: 0.7656\n",
      "Epoch 4: val_loss did not improve from 0.95790\n",
      "313/313 [==============================] - 2s 6ms/step - loss: 0.6515 - accuracy: 0.7650 - val_loss: 1.1079 - val_accuracy: 0.5892\n",
      "CPU times: total: 14.4 s\n",
      "Wall time: 11.2 s\n"
     ]
    }
   ],
   "source": [
    "%%time\n",
    "# Train model\n",
    "epochs = 10\n",
    "cp_path = \"refactor/model_checkpoints/\"\n",
    "cp_num = 2\n",
    "\n",
    "# Early stopping \n",
    "early_stopping = tf.keras.callbacks.EarlyStopping(monitor=\"val_loss\", patience=2)\n",
    "\n",
    "# Create a callback that saves the model's weights\n",
    "checkpoint_dir = os.path.dirname(cp_path)\n",
    "create_checkpoint = tf.keras.callbacks.ModelCheckpoint(\n",
    "    filepath=cp_path + f\"refactor{cp_num}.ckpt\", monitor=\"val_loss\", verbose=1, save_best_only=True)\n",
    "\n",
    "history = model.fit(\n",
    "    X_train, y_train, batch_size=32, epochs=epochs, validation_data=(X_test, y_test),\n",
    "    callbacks=[early_stopping, create_checkpoint], verbose=1,\n",
    ")"
   ]
  },
  {
   "cell_type": "code",
   "execution_count": 18,
   "id": "8bf9d83a",
   "metadata": {},
   "outputs": [
    {
     "data": {
      "image/png": "[encoded data removed]",
      "text/plain": [
       "<Figure size 800x800 with 2 Axes>"
      ]
     },
     "metadata": {},
     "output_type": "display_data"
    }
   ],
   "source": [
    "hist = history.history\n",
    "acc, val_acc = hist[\"accuracy\"], hist[\"val_accuracy\"]\n",
    "\n",
    "fig, axes = plt.subplots(2, 1, sharex=True, figsize=(8, 8), dpi=100)\n",
    "\n",
    "for i, ax in enumerate(axes):\n",
    "    ax.plot(acc, label=\"acc\")\n",
    "    ax.plot(val_acc, label=\"val_acc\")\n",
    "    \n",
    "    ax.set_xlim(0, epochs - 1)\n",
    "    if i == 0:\n",
    "        ax.set_ylim(0.0, 1.0)\n",
    "        ax.axhline(0.2, color=\"red\", label=\"base\")\n",
    "        \n",
    "    ax.grid(visible=True, axis=\"both\")\n",
    "    ax.legend()\n",
    "    ax.set_xlabel(\"epoch\")\n",
    "    ax.set_ylabel(\"accuracy\")\n",
    "\n",
    "plt.show()"
   ]
  },
  {
   "cell_type": "markdown",
   "id": "f989e506",
   "metadata": {},
   "source": [
    "##### Evaluate"
   ]
  },
  {
   "cell_type": "code",
   "execution_count": 19,
   "id": "4aab1fad",
   "metadata": {},
   "outputs": [
    {
     "name": "stdout",
     "output_type": "stream",
     "text": [
      "313/313 [==============================] - 1s 2ms/step\n"
     ]
    }
   ],
   "source": [
    "# Get probabilities per class\n",
    "y_pred = model.predict(X_test)"
   ]
  },
  {
   "cell_type": "code",
   "execution_count": 20,
   "id": "5f8ece44",
   "metadata": {},
   "outputs": [],
   "source": [
    "# Get star predictions and negative/positive predictions\n",
    "y_pred_multi = tf.argmax(y_pred, axis=1)\n",
    "y_pred_binary = y_pred_multi >= 3"
   ]
  },
  {
   "cell_type": "code",
   "execution_count": 21,
   "id": "458f93b5",
   "metadata": {},
   "outputs": [
    {
     "name": "stdout",
     "output_type": "stream",
     "text": [
      "multi-class accuracy: 0.5892\n",
      "(compare to ~0.2)\n"
     ]
    }
   ],
   "source": [
    "print(\"multi-class accuracy: \" + str((y_pred_multi == y_test).numpy().sum() / len(y_test)))\n",
    "print(\"(compare to ~0.2)\")"
   ]
  },
  {
   "cell_type": "code",
   "execution_count": 22,
   "id": "6526ece6",
   "metadata": {},
   "outputs": [
    {
     "name": "stdout",
     "output_type": "stream",
     "text": [
      "binary accuracy: 0.869\n",
      "(compare to ~0.5)\n"
     ]
    }
   ],
   "source": [
    "print(\"binary accuracy: \" + str((y_pred_binary == (y_test >= 3)).numpy().sum() / len(y_test)))\n",
    "print(\"(compare to ~0.5)\")"
   ]
  },
  {
   "cell_type": "code",
   "execution_count": 23,
   "id": "701bc09d",
   "metadata": {},
   "outputs": [
    {
     "name": "stdout",
     "output_type": "stream",
     "text": [
      "Average of 0.5762 stars off\n"
     ]
    }
   ],
   "source": [
    "avg_err = tf.reduce_sum(tf.math.abs(y_test - y_pred_multi)) / len(y_test)\n",
    "avg_err = avg_err.numpy()\n",
    "print(f\"Average of {avg_err:.4f} stars off\")"
   ]
  },
  {
   "cell_type": "markdown",
   "id": "f9dd5601",
   "metadata": {},
   "source": [
    "##### Visualize Attention"
   ]
  },
  {
   "cell_type": "code",
   "execution_count": 24,
   "id": "79f640f9",
   "metadata": {
    "scrolled": true
   },
   "outputs": [
    {
     "data": {
      "text/plain": [
       "<tf.Tensor: shape=(100, 200), dtype=float32, numpy=\n",
       "array([[0.02507712, 0.02497185, 0.025032  , ..., 0.        , 0.        ,\n",
       "        0.        ],\n",
       "       [0.03037049, 0.03027537, 0.0302392 , ..., 0.        , 0.        ,\n",
       "        0.        ],\n",
       "       [0.00787494, 0.00789784, 0.00786457, ..., 0.        , 0.        ,\n",
       "        0.        ],\n",
       "       ...,\n",
       "       [0.034612  , 0.03444517, 0.03446313, ..., 0.        , 0.        ,\n",
       "        0.        ],\n",
       "       [0.0323972 , 0.03223583, 0.03218741, ..., 0.        , 0.        ,\n",
       "        0.        ],\n",
       "       [0.01898231, 0.01885783, 0.01888425, ..., 0.        , 0.        ,\n",
       "        0.        ]], dtype=float32)>"
      ]
     },
     "execution_count": 24,
     "metadata": {},
     "output_type": "execute_result"
    }
   ],
   "source": [
    "# Get attention scores\n",
    "_, attns = model(X_test[:100], return_att=True)\n",
    "\n",
    "# Get attention for each sample\n",
    "attns = tf.reduce_mean(attns, axis=2)[:, 0, :]\n",
    "attns"
   ]
  },
  {
   "cell_type": "code",
   "execution_count": 25,
   "id": "b2c9f538",
   "metadata": {},
   "outputs": [
    {
     "data": {
      "text/plain": [
       "<tf.Tensor: shape=(34,), dtype=float32, numpy=\n",
       "array([0.02507712, 0.02497185, 0.025032  , 0.02497309, 0.02505702,\n",
       "       0.02495077, 0.02493994, 0.02495923, 0.02503428, 0.02499463,\n",
       "       0.02501323, 0.02499906, 0.02498788, 0.02502233, 0.02499127,\n",
       "       0.02501955, 0.02500923, 0.02498962, 0.02503584, 0.02495692,\n",
       "       0.02499645, 0.02492891, 0.02496748, 0.02496054, 0.02504964,\n",
       "       0.02499085, 0.02499859, 0.02503404, 0.02501472, 0.02503882,\n",
       "       0.02500874, 0.02497837, 0.02502712, 0.02496772], dtype=float32)>"
      ]
     },
     "execution_count": 25,
     "metadata": {},
     "output_type": "execute_result"
    }
   ],
   "source": [
    "attns[0][:34]"
   ]
  },
  {
   "cell_type": "code",
   "execution_count": 30,
   "id": "153958bb",
   "metadata": {
    "scrolled": false
   },
   "outputs": [
    {
     "name": "stdout",
     "output_type": "stream",
     "text": [
      "[\"'\", 'm', 'frustrated', 'start', '4', 'e0', 'TIME', 'TIME', 'TIME', 'deal', 'loud', 'water', 'leak', 'awake', '.', \"'\", 's', 'ongoing', 'problem', \"'\", 've', 'deal', 'DATE', 'know', 'defective', 'pex', 'piping', 'ORG', 'ORG', 'repair', 'consultation', 'quote', 'replumb', ',', 'replace', 'repair', 'pipe', ',', 'duct', 'hvac', 'unit', ',', 'drywall', ',', 'floor', ',', 'mold', 'damage', 'result', 'defective', 'piping', '.', \"'\", 've', 'delay', 'delay', 'try', 'homeowner', 'insurance', 'quote', 'start', 'people', 'come', ',', \"'\", 't', 'simply', 'email', 'quote', '.', 'PERSON', 'day', ',', 'keep', 'want', 'trust', 'reuse', 'ORG', 'ORG', 'massive', 'undertaking', 'base', 'DATE', 'experience', ',', 'especially', 'commercial', 'property', '.', 'TIME', 'TIME', 'breaking', 'point', \"'\", 've', 'get', 'ton', 'email', 'follow', 'customer', 'service', 'tell', ',', '\"', 'problem', ',', \"'\", 'll', 'send', 'field', 'manager', 'DATE', '.', '\"', \"'\", 've', 'get', '.']\n",
      "<Original Text>\n",
      "I'm beyond frustrated starting yet again at 4am this morning dealing with another loud water leak that awoke me. It's part of the ongoing problem I've been dealing with for months knowing we have defective Pex piping and have had Lee Company out for repairs and a full consultation and quote to replumb, replace and repair pipes, duct and HVAC units, along with the drywall, flooring, and mold damage resulting from this defective piping. I've been delayed and delayed trying to get a homeowners insurance quote started because the people who have come out, can't simply email me the quote. Hiller had it the same day, but I kept wanting to trust and reuse Lee Company for this massive undertaking based on years of experience, especially with my commercial properties. This morning is just my breaking point as I've got tons of emails where I have followed up with your customer service and been told, \"No problem, we'll send it to the field manager and get that to you today.\" I've never gotten anything.\n",
      "\n",
      "<Preprocessed>\n",
      "[\"'\", 'm', 'frustrated', 'start', '4', 'e0', 'time', 'time', 'time', 'deal', 'loud', 'water', 'leak', 'awake', \"'\", 's', 'ongoing', 'problem', \"'\", 've', 'deal', 'date', 'know', 'defective', 'piping', 'org', 'org', 'repair', 'consultation', 'quote', 'replace', 'repair', 'pipe', 'duct', 'hvac', 'unit', 'drywall', 'floor', 'mold', 'damage', 'result', 'defective', 'piping', \"'\", 've', 'delay', 'delay', 'try', 'homeowner', 'insurance', 'quote', 'start', 'people', 'come', \"'\", 't', 'simply', 'email', 'quote', 'person', 'day', 'keep', 'want', 'trust', 'org', 'org', 'massive', 'undertaking', 'base', 'date', 'experience', 'especially', 'commercial', 'property', 'time', 'time', 'breaking', 'point', \"'\", 've', 'get', 'ton', 'email', 'follow', 'customer', 'service', 'tell', 'problem', \"'\", 'll', 'send', 'field', 'manager', 'date', \"'\", 've', 'get']\n"
     ]
    },
    {
     "data": {
      "image/png": "[encoded data removed]",
      "text/plain": [
       "<Figure size 600x1940 with 1 Axes>"
      ]
     },
     "metadata": {},
     "output_type": "display_data"
    }
   ],
   "source": [
    "sample_idx = 3\n",
    "\n",
    "# Get word sequences without oov words\n",
    "in_seq = X_test_norm[sample_idx]\n",
    "print(in_seq)\n",
    "in_seq = [tok for tok in prep.tokenizer.sequences_to_texts(prep.tokenizer.texts_to_sequences(in_seq)) if tok]\n",
    "seq_len = len(in_seq)\n",
    "\n",
    "# Get attention values\n",
    "attn_vals = attns[sample_idx][:seq_len].numpy()\n",
    "\n",
    "print(\"<Original Text>\")\n",
    "print(test[\"text\"].iloc[sample_idx])\n",
    "\n",
    "print(\"\\n<Preprocessed>\")\n",
    "print(in_seq)\n",
    "\n",
    "plt.figure(figsize=(6, 0.2 * seq_len), dpi=100)\n",
    "sns.barplot(y=in_seq, x=attn_vals, ci=None, color=\"orange\")\n",
    "\n",
    "plt.show()"
   ]
  }
 ],
 "metadata": {
  "kernelspec": {
   "display_name": "Python [conda env:tf-gpu]",
   "language": "python",
   "name": "conda-env-tf-gpu-py"
  },
  "language_info": {
   "codemirror_mode": {
    "name": "ipython",
    "version": 3
   },
   "file_extension": ".py",
   "mimetype": "text/x-python",
   "name": "python",
   "nbconvert_exporter": "python",
   "pygments_lexer": "ipython3",
   "version": "3.10.4"
  }
 },
 "nbformat": 4,
 "nbformat_minor": 5
}

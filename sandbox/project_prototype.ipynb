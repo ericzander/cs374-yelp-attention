{
 "cells": [
  {
   "cell_type": "markdown",
   "id": "299467c3",
   "metadata": {},
   "source": [
    "> This notebook is meant to show a prototype for basic sentiment analysis with deep learning. Only the basics of preprocessing and architecture are tested. Test subsets of the data are used here only due to the more managable size as a proof of concept."
   ]
  },
  {
   "cell_type": "markdown",
   "id": "bd318293",
   "metadata": {},
   "source": [
    "---"
   ]
  },
  {
   "cell_type": "markdown",
   "id": "93fb8d86",
   "metadata": {},
   "source": [
    "# Setup"
   ]
  },
  {
   "cell_type": "markdown",
   "id": "ebf5af2e",
   "metadata": {},
   "source": [
    "##### Imports"
   ]
  },
  {
   "cell_type": "code",
   "execution_count": 97,
   "id": "f8dbe9fb",
   "metadata": {},
   "outputs": [],
   "source": [
    "import os\n",
    "\n",
    "import numpy as np\n",
    "import pandas as pd\n",
    "\n",
    "import spacy\n",
    "\n",
    "import tensorflow as tf\n",
    "from tensorflow import keras\n",
    "from tensorflow.keras import layers\n",
    "\n",
    "import matplotlib.pyplot as plt"
   ]
  },
  {
   "cell_type": "markdown",
   "id": "55c4193f",
   "metadata": {},
   "source": [
    "##### Set Root Dir as CWD"
   ]
  },
  {
   "cell_type": "code",
   "execution_count": 2,
   "id": "7d88d86d",
   "metadata": {},
   "outputs": [
    {
     "name": "stdout",
     "output_type": "stream",
     "text": [
      "D:\\Documents\\A_DIGIPEN\\PersonalSVN\\Fall22SVN\\CS374\\Project\\cs374-project\n"
     ]
    }
   ],
   "source": [
    "# Navigate to project root (if not already there)\n",
    "if os.path.split(os.getcwd())[1] != \"cs374-project\":\n",
    "    %cd ../"
   ]
  },
  {
   "cell_type": "markdown",
   "id": "3ef923cc",
   "metadata": {},
   "source": [
    "# Load"
   ]
  },
  {
   "cell_type": "code",
   "execution_count": 65,
   "id": "bc72c153",
   "metadata": {},
   "outputs": [],
   "source": [
    "num_samples = 50_000"
   ]
  },
  {
   "cell_type": "code",
   "execution_count": 66,
   "id": "71b0f0cf",
   "metadata": {},
   "outputs": [],
   "source": [
    "path = \"data/yelp/reviews/\""
   ]
  },
  {
   "cell_type": "code",
   "execution_count": 67,
   "id": "73c9a325",
   "metadata": {},
   "outputs": [
    {
     "name": "stdout",
     "output_type": "stream",
     "text": [
      "CPU times: total: 4.03 s\n",
      "Wall time: 4.04 s\n"
     ]
    }
   ],
   "source": [
    "%%time\n",
    "# Load dev set (10% of total data) as train\n",
    "train = pd.read_pickle(path + \"dev.xz\").iloc[:num_samples]"
   ]
  },
  {
   "cell_type": "code",
   "execution_count": 68,
   "id": "821b8fb6",
   "metadata": {},
   "outputs": [
    {
     "name": "stdout",
     "output_type": "stream",
     "text": [
      "CPU times: total: 3.86 s\n",
      "Wall time: 3.85 s\n"
     ]
    }
   ],
   "source": [
    "%%time\n",
    "# Load test set (10% of total data) as test\n",
    "test = pd.read_pickle(path + \"test.xz\").iloc[:num_samples]"
   ]
  },
  {
   "cell_type": "code",
   "execution_count": 69,
   "id": "b8ccc29f",
   "metadata": {},
   "outputs": [
    {
     "data": {
      "text/html": [
       "<div>\n",
       "<style scoped>\n",
       "    .dataframe tbody tr th:only-of-type {\n",
       "        vertical-align: middle;\n",
       "    }\n",
       "\n",
       "    .dataframe tbody tr th {\n",
       "        vertical-align: top;\n",
       "    }\n",
       "\n",
       "    .dataframe thead th {\n",
       "        text-align: right;\n",
       "    }\n",
       "</style>\n",
       "<table border=\"1\" class=\"dataframe\">\n",
       "  <thead>\n",
       "    <tr style=\"text-align: right;\">\n",
       "      <th></th>\n",
       "      <th>text</th>\n",
       "      <th>stars</th>\n",
       "    </tr>\n",
       "  </thead>\n",
       "  <tbody>\n",
       "    <tr>\n",
       "      <th>6211529</th>\n",
       "      <td>They are really professional and always sugges...</td>\n",
       "      <td>5</td>\n",
       "    </tr>\n",
       "    <tr>\n",
       "      <th>2795691</th>\n",
       "      <td>This is my new favourite sushi restaurant in E...</td>\n",
       "      <td>4</td>\n",
       "    </tr>\n",
       "    <tr>\n",
       "      <th>4040968</th>\n",
       "      <td>Fantastic visit here. Hapoy to find it on my a...</td>\n",
       "      <td>5</td>\n",
       "    </tr>\n",
       "    <tr>\n",
       "      <th>870450</th>\n",
       "      <td>I have eaten here on a few occasions. There is...</td>\n",
       "      <td>3</td>\n",
       "    </tr>\n",
       "    <tr>\n",
       "      <th>5479481</th>\n",
       "      <td>This place is a disgrace. Their customer servi...</td>\n",
       "      <td>1</td>\n",
       "    </tr>\n",
       "    <tr>\n",
       "      <th>...</th>\n",
       "      <td>...</td>\n",
       "      <td>...</td>\n",
       "    </tr>\n",
       "    <tr>\n",
       "      <th>890129</th>\n",
       "      <td>The positive about this place is that it is ve...</td>\n",
       "      <td>2</td>\n",
       "    </tr>\n",
       "    <tr>\n",
       "      <th>2441141</th>\n",
       "      <td>Don't judge a book by its cover. Looks like a ...</td>\n",
       "      <td>5</td>\n",
       "    </tr>\n",
       "    <tr>\n",
       "      <th>1986611</th>\n",
       "      <td>Walked in two different times and the worker h...</td>\n",
       "      <td>1</td>\n",
       "    </tr>\n",
       "    <tr>\n",
       "      <th>4433516</th>\n",
       "      <td>Love the clam chowder.. the best in town. The ...</td>\n",
       "      <td>5</td>\n",
       "    </tr>\n",
       "    <tr>\n",
       "      <th>5167128</th>\n",
       "      <td>Food was DELICIOUS, although a bit over priced...</td>\n",
       "      <td>4</td>\n",
       "    </tr>\n",
       "  </tbody>\n",
       "</table>\n",
       "<p>50000 rows × 2 columns</p>\n",
       "</div>"
      ],
      "text/plain": [
       "                                                      text  stars\n",
       "6211529  They are really professional and always sugges...      5\n",
       "2795691  This is my new favourite sushi restaurant in E...      4\n",
       "4040968  Fantastic visit here. Hapoy to find it on my a...      5\n",
       "870450   I have eaten here on a few occasions. There is...      3\n",
       "5479481  This place is a disgrace. Their customer servi...      1\n",
       "...                                                    ...    ...\n",
       "890129   The positive about this place is that it is ve...      2\n",
       "2441141  Don't judge a book by its cover. Looks like a ...      5\n",
       "1986611  Walked in two different times and the worker h...      1\n",
       "4433516  Love the clam chowder.. the best in town. The ...      5\n",
       "5167128  Food was DELICIOUS, although a bit over priced...      4\n",
       "\n",
       "[50000 rows x 2 columns]"
      ]
     },
     "execution_count": 69,
     "metadata": {},
     "output_type": "execute_result"
    }
   ],
   "source": [
    "train"
   ]
  },
  {
   "cell_type": "markdown",
   "id": "05965e48",
   "metadata": {},
   "source": [
    "##### Save Target"
   ]
  },
  {
   "cell_type": "code",
   "execution_count": 70,
   "id": "9d6ae318",
   "metadata": {},
   "outputs": [],
   "source": [
    "# Save reviews stars from 0-4\n",
    "y_train = tf.convert_to_tensor(train[\"stars\"].values - 1)\n",
    "y_test = tf.convert_to_tensor(train[\"stars\"].values - 1)"
   ]
  },
  {
   "cell_type": "markdown",
   "id": "d4fd8d22",
   "metadata": {},
   "source": [
    "# Preprocess"
   ]
  },
  {
   "cell_type": "markdown",
   "id": "deebf30d",
   "metadata": {},
   "source": [
    "##### Create Pipeline"
   ]
  },
  {
   "cell_type": "code",
   "execution_count": 71,
   "id": "c5230aed",
   "metadata": {},
   "outputs": [],
   "source": [
    "# Requires download\n",
    "#   $ python -m spacy download en_core_web_sm\n",
    "nlp = spacy.load(\"en_core_web_sm\", disable=[\"parser\"])"
   ]
  },
  {
   "cell_type": "code",
   "execution_count": 72,
   "id": "775b98f5",
   "metadata": {},
   "outputs": [
    {
     "name": "stdout",
     "output_type": "stream",
     "text": [
      "\u001b[1m\n",
      "============================= Pipeline Overview =============================\u001b[0m\n",
      "\n",
      "#   Component         Assigns          Requires   Scores          Retokenizes\n",
      "-   ---------------   --------------   --------   -------------   -----------\n",
      "0   tok2vec           doc.tensor                                  False      \n",
      "                                                                             \n",
      "1   tagger            token.tag                   tag_acc         False      \n",
      "                                                                             \n",
      "2   attribute_ruler                                               False      \n",
      "                                                                             \n",
      "3   lemmatizer        token.lemma                 lemma_acc       False      \n",
      "                                                                             \n",
      "4   ner               doc.ents                    ents_f          False      \n",
      "                      token.ent_iob               ents_p                     \n",
      "                      token.ent_type              ents_r                     \n",
      "                                                  ents_per_type              \n",
      "\n",
      "✔ No problems found.\n",
      "{'summary': {'tok2vec': {'assigns': ['doc.tensor'], 'requires': [], 'scores': [], 'retokenizes': False}, 'tagger': {'assigns': ['token.tag'], 'requires': [], 'scores': ['tag_acc'], 'retokenizes': False}, 'attribute_ruler': {'assigns': [], 'requires': [], 'scores': [], 'retokenizes': False}, 'lemmatizer': {'assigns': ['token.lemma'], 'requires': [], 'scores': ['lemma_acc'], 'retokenizes': False}, 'ner': {'assigns': ['doc.ents', 'token.ent_iob', 'token.ent_type'], 'requires': [], 'scores': ['ents_f', 'ents_p', 'ents_r', 'ents_per_type'], 'retokenizes': False}}, 'problems': {'tok2vec': [], 'tagger': [], 'attribute_ruler': [], 'lemmatizer': [], 'ner': []}, 'attrs': {'doc.ents': {'assigns': ['ner'], 'requires': []}, 'token.lemma': {'assigns': ['lemmatizer'], 'requires': []}, 'token.tag': {'assigns': ['tagger'], 'requires': []}, 'token.ent_type': {'assigns': ['ner'], 'requires': []}, 'token.ent_iob': {'assigns': ['ner'], 'requires': []}, 'doc.tensor': {'assigns': ['tok2vec'], 'requires': []}}}\n"
     ]
    }
   ],
   "source": [
    "print(nlp.analyze_pipes(pretty=True))"
   ]
  },
  {
   "cell_type": "code",
   "execution_count": 73,
   "id": "5f8b5e76",
   "metadata": {},
   "outputs": [
    {
     "name": "stdout",
     "output_type": "stream",
     "text": [
      "Great prices and a fabulous team to help with all your fabric needs! I've especially enjoyed working with the owner Kathy! Beautiful cushions, valances, drapes, and pillows!\n"
     ]
    }
   ],
   "source": [
    "i = 9\n",
    "\n",
    "# Get a single sentence as an example\n",
    "example = [test[\"text\"].iloc[i]]\n",
    "\n",
    "# Create a spacy doc with the example\n",
    "example_doc = list(nlp.pipe(example))[0]\n",
    "print(example_doc)"
   ]
  },
  {
   "cell_type": "code",
   "execution_count": 74,
   "id": "6e5560af",
   "metadata": {},
   "outputs": [
    {
     "name": "stdout",
     "output_type": "stream",
     "text": [
      "[Great][prices][and][a][fabulous][team][to][help][with][all][your][fabric][needs][!][I]['ve][especially][enjoyed][working][with][the][owner][Kathy][!][Beautiful][cushions][,][valances][,][drapes][,][and][pillows][!]"
     ]
    }
   ],
   "source": [
    "# Tokenization example\n",
    "for token in example_doc:\n",
    "    print(\"[\" + token.text + \"]\", end=\"\")"
   ]
  },
  {
   "cell_type": "code",
   "execution_count": 75,
   "id": "7e8c6ba8",
   "metadata": {},
   "outputs": [
    {
     "name": "stdout",
     "output_type": "stream",
     "text": [
      "[ Great great ADJ JJ Xxxxx True False ][ prices price NOUN NNS xxxx True False ][ and and CCONJ CC xxx True True ][ a a DET DT x True True ][ fabulous fabulous ADJ JJ xxxx True False ][ team team NOUN NN xxxx True False ][ to to PART TO xx True True ][ help help VERB VB xxxx True False ][ with with ADP IN xxxx True True ][ all all DET DT xxx True True ][ your your PRON PRP$ xxxx True True ][ fabric fabric NOUN NN xxxx True False ][ needs need NOUN NNS xxxx True False ][ ! ! PUNCT . ! False False ][ I I PRON PRP X True True ][ 've 've AUX VBP 'xx False True ][ especially especially ADV RB xxxx True False ][ enjoyed enjoy VERB VBN xxxx True False ][ working work VERB VBG xxxx True False ][ with with ADP IN xxxx True True ][ the the DET DT xxx True True ][ owner owner NOUN NN xxxx True False ][ Kathy Kathy PROPN NNP Xxxxx True False ][ ! ! PUNCT . ! False False ][ Beautiful beautiful ADJ JJ Xxxxx True False ][ cushions cushion NOUN NNS xxxx True False ][ , , PUNCT , , False False ][ valances valance NOUN NNS xxxx True False ][ , , PUNCT , , False False ][ drapes drape NOUN NNS xxxx True False ][ , , PUNCT , , False False ][ and and CCONJ CC xxx True True ][ pillows pillow NOUN NNS xxxx True False ][ ! ! PUNCT . ! False False ]"
     ]
    }
   ],
   "source": [
    "for token in example_doc:\n",
    "    # Print text, simple POS, detailed POS, shape, whether alphabetical, whether stopword\n",
    "    print(\"[\", token.text, token.lemma_, token.pos_, token.tag_,\n",
    "          token.shape_, token.is_alpha, token.is_stop, \"]\", end=\"\")"
   ]
  },
  {
   "cell_type": "code",
   "execution_count": 76,
   "id": "63198971",
   "metadata": {},
   "outputs": [
    {
     "name": "stdout",
     "output_type": "stream",
     "text": [
      "Kathy 116 121 PERSON\n"
     ]
    }
   ],
   "source": [
    "# Named entity recognition\n",
    "for ent in example_doc.ents:\n",
    "    print(ent.text, ent.start_char, ent.end_char, ent.label_)"
   ]
  },
  {
   "cell_type": "markdown",
   "id": "6646a6bd",
   "metadata": {},
   "source": [
    "##### Perform Preprocessing"
   ]
  },
  {
   "cell_type": "code",
   "execution_count": 77,
   "id": "af417ee4",
   "metadata": {},
   "outputs": [],
   "source": [
    "def normalize(doc):\n",
    "    \"\"\"Preprocesses a spacy Doc.\n",
    "    \n",
    "    Currently tokenizes, lemmatizes, and removes stopwords\n",
    "    \"\"\"\n",
    "    output = list()\n",
    "    for token in doc:\n",
    "        if not token.is_stop and token.is_alpha:\n",
    "            output.append(str(token.lemma_))\n",
    "    \n",
    "    return output"
   ]
  },
  {
   "cell_type": "code",
   "execution_count": 78,
   "id": "311f594f",
   "metadata": {},
   "outputs": [],
   "source": [
    "def apply_normalize(docs, batch_size=1_000, n_processes=1):\n",
    "    \"\"\"Applies preprocessing steps to iterable of spacy Docs.\"\"\"\n",
    "    results = []\n",
    "    for doc in nlp.pipe(docs, n_process=n_processes):\n",
    "        results.append(normalize(doc))\n",
    "    return results"
   ]
  },
  {
   "cell_type": "code",
   "execution_count": 79,
   "id": "46ca8b26",
   "metadata": {},
   "outputs": [
    {
     "name": "stdout",
     "output_type": "stream",
     "text": [
      "CPU times: total: 59.5 s\n",
      "Wall time: 3min 12s\n"
     ]
    }
   ],
   "source": [
    "%%time\n",
    "# Lowercase\n",
    "X_train = train[\"text\"].str.lower()\n",
    "X_test = test[\"text\"].str.lower()\n",
    "\n",
    "# Set multiprocessing params\n",
    "batch_size = 2000\n",
    "n_processes = 4\n",
    "\n",
    "# Preprocess reviews\n",
    "X_train = apply_normalize(X_train, batch_size=batch_size, n_processes=n_processes)\n",
    "X_test = apply_normalize(X_test, batch_size=batch_size, n_processes=n_processes)"
   ]
  },
  {
   "cell_type": "code",
   "execution_count": 80,
   "id": "6c369c45",
   "metadata": {},
   "outputs": [],
   "source": [
    "maxlen = 200  # Number of words in review to consider\n",
    "\n",
    "# Convert lists of words to vectors of numbers\n",
    "tokenizer = keras.preprocessing.text.Tokenizer(maxlen)\n",
    "tokenizer.fit_on_texts(X_train)\n",
    "X_train = tokenizer.texts_to_sequences(X_train)\n",
    "X_test = tokenizer.texts_to_sequences(X_test)\n",
    "\n",
    "# Pad sentences to be the same length\n",
    "X_train = keras.preprocessing.sequence.pad_sequences(X_train, maxlen=maxlen)\n",
    "X_test = keras.preprocessing.sequence.pad_sequences(X_test, maxlen=maxlen)\n",
    "\n",
    "# Convert to tensors for Keras\n",
    "X_train = tf.convert_to_tensor(X_train)\n",
    "X_test = tf.convert_to_tensor(X_test)"
   ]
  },
  {
   "cell_type": "markdown",
   "id": "f9839669",
   "metadata": {},
   "source": [
    "# Model"
   ]
  },
  {
   "cell_type": "markdown",
   "id": "2de79d55",
   "metadata": {},
   "source": [
    "* Reference https://keras.io/examples/nlp/text_classification_with_transformer/"
   ]
  },
  {
   "cell_type": "markdown",
   "id": "a78e383c",
   "metadata": {},
   "source": [
    "##### Embedding Layer Definition"
   ]
  },
  {
   "cell_type": "code",
   "execution_count": 81,
   "id": "01b20cf3",
   "metadata": {},
   "outputs": [],
   "source": [
    "class TokenAndPositionEmbedding(layers.Layer):\n",
    "    \"\"\"Pre-transformer embedding layer.\"\"\"\n",
    "    def __init__(self, maxlen, vocab_size, embed_dim):\n",
    "        super(TokenAndPositionEmbedding, self).__init__()\n",
    "        \n",
    "        # Token embedding\n",
    "        self.token_emb = layers.Embedding(input_dim=vocab_size, output_dim=embed_dim)\n",
    "        \n",
    "        # Position embedding\n",
    "        self.pos_emb = layers.Embedding(input_dim=maxlen, output_dim=embed_dim)\n",
    "\n",
    "    def call(self, x):\n",
    "        maxlen = tf.shape(x)[-1]\n",
    "        positions = tf.range(start=0, limit=maxlen, delta=1)\n",
    "        positions = self.pos_emb(positions)\n",
    "\n",
    "        x = self.token_emb(x)\n",
    "        return x + positions"
   ]
  },
  {
   "cell_type": "markdown",
   "id": "b0b6a444",
   "metadata": {},
   "source": [
    "##### Transformer Layer Definition"
   ]
  },
  {
   "cell_type": "code",
   "execution_count": 82,
   "id": "45cccaee",
   "metadata": {},
   "outputs": [],
   "source": [
    "class TransformerBlock(layers.Layer):\n",
    "    \"\"\"Transformer for further embedding.\"\"\"\n",
    "    def __init__(self, embed_dim, num_heads, ff_dim, rate=0.1):\n",
    "        super(TransformerBlock, self).__init__()\n",
    "        \n",
    "        # Attention based on token and positional info\n",
    "        self.att = layers.MultiHeadAttention(num_heads=num_heads, key_dim=embed_dim)\n",
    "        \n",
    "        # Feed-forward network\n",
    "        self.ffn = keras.Sequential(\n",
    "            [layers.Dense(ff_dim, activation=\"relu\"), layers.Dense(embed_dim),]\n",
    "        )\n",
    "        \n",
    "        # Speed and regularization\n",
    "        self.layernorm1 = layers.LayerNormalization(epsilon=1e-6)\n",
    "        self.layernorm2 = layers.LayerNormalization(epsilon=1e-6)\n",
    "        self.dropout1 = layers.Dropout(rate)\n",
    "        self.dropout2 = layers.Dropout(rate)\n",
    "\n",
    "    def call(self, inputs, training):\n",
    "        # Calculate attention and get output\n",
    "        attn_output = self.att(inputs, inputs)\n",
    "        attn_output = self.dropout1(attn_output, training=training)\n",
    "        out1 = self.layernorm1(inputs + attn_output)\n",
    "        ffn_output = self.ffn(out1)\n",
    "        ffn_output = self.dropout2(ffn_output, training=training)\n",
    "        return self.layernorm2(out1 + ffn_output)"
   ]
  },
  {
   "cell_type": "markdown",
   "id": "e25eea7b",
   "metadata": {},
   "source": [
    "##### Create Model"
   ]
  },
  {
   "cell_type": "code",
   "execution_count": 83,
   "id": "ab5b8883",
   "metadata": {},
   "outputs": [],
   "source": [
    "vocab_size = 20000  # Only consider the top 20k words\n",
    "embed_dim = 32      # Embedding size for each token\n",
    "num_heads = 2       # Number of attention heads\n",
    "ff_dim = 32         # Hidden layer size in feed forward network inside transformer\n",
    "\n",
    "# Input layer with max number of words\n",
    "inputs = layers.Input(shape=(maxlen,))\n",
    "\n",
    "# Add embedding layer\n",
    "embedding_layer = TokenAndPositionEmbedding(maxlen, vocab_size, embed_dim)\n",
    "x = embedding_layer(inputs)\n",
    "\n",
    "# Add transformer\n",
    "transformer_block = TransformerBlock(embed_dim, num_heads, ff_dim)\n",
    "x = transformer_block(x)\n",
    "\n",
    "# Additional layers\n",
    "x = layers.GlobalAveragePooling1D()(x)\n",
    "x = layers.Dropout(0.1)(x)\n",
    "x = layers.Dense(20, activation=\"relu\")(x)\n",
    "x = layers.Dropout(0.1)(x)\n",
    "\n",
    "# Output (5 possible categories for each star)\n",
    "outputs = layers.Dense(5, activation=\"softmax\")(x)\n",
    "\n",
    "# Create model\n",
    "model = keras.Model(inputs=inputs, outputs=outputs)"
   ]
  },
  {
   "cell_type": "code",
   "execution_count": 84,
   "id": "58623f36",
   "metadata": {},
   "outputs": [
    {
     "name": "stdout",
     "output_type": "stream",
     "text": [
      "1/1 [==============================] - 0s 80ms/step\n"
     ]
    },
    {
     "data": {
      "text/plain": [
       "array([[0.13115484, 0.10596244, 0.20794629, 0.31744653, 0.23748994],\n",
       "       [0.1354888 , 0.10805253, 0.22072366, 0.31056434, 0.22517076],\n",
       "       [0.13541354, 0.1134186 , 0.2231145 , 0.30486146, 0.22319187],\n",
       "       [0.1402655 , 0.11144646, 0.21823266, 0.30289194, 0.22716345],\n",
       "       [0.13067488, 0.1086385 , 0.22442277, 0.31097046, 0.22529334],\n",
       "       [0.13791656, 0.10886549, 0.2179352 , 0.30943426, 0.22584853],\n",
       "       [0.14092946, 0.11099929, 0.21846907, 0.30470508, 0.22489707],\n",
       "       [0.13287424, 0.10965152, 0.21901447, 0.30666658, 0.2317932 ],\n",
       "       [0.13140863, 0.10730036, 0.21400109, 0.3141678 , 0.23312214],\n",
       "       [0.147871  , 0.12313591, 0.22871847, 0.283249  , 0.21702568]],\n",
       "      dtype=float32)"
      ]
     },
     "execution_count": 84,
     "metadata": {},
     "output_type": "execute_result"
    }
   ],
   "source": [
    "# Example outputs (probabilities of each star rating)\n",
    "model.predict([X_train[:10]])"
   ]
  },
  {
   "cell_type": "markdown",
   "id": "5513f0e0",
   "metadata": {},
   "source": [
    "##### Compile and Run"
   ]
  },
  {
   "cell_type": "code",
   "execution_count": 85,
   "id": "b0246e1a",
   "metadata": {
    "scrolled": true
   },
   "outputs": [
    {
     "name": "stdout",
     "output_type": "stream",
     "text": [
      "Epoch 1/100\n",
      "1563/1563 [==============================] - 11s 7ms/step - loss: 1.1073 - accuracy: 0.5588 - val_loss: 2.1961 - val_accuracy: 0.3421\n",
      "Epoch 2/100\n",
      "1563/1563 [==============================] - 10s 6ms/step - loss: 1.0097 - accuracy: 0.5953 - val_loss: 2.0269 - val_accuracy: 0.3511\n",
      "Epoch 3/100\n",
      "1563/1563 [==============================] - 10s 6ms/step - loss: 0.9999 - accuracy: 0.5985 - val_loss: 2.1565 - val_accuracy: 0.3611\n",
      "Epoch 4/100\n",
      "1563/1563 [==============================] - 10s 6ms/step - loss: 0.9965 - accuracy: 0.5992 - val_loss: 2.2316 - val_accuracy: 0.3425\n",
      "Epoch 5/100\n",
      "1563/1563 [==============================] - 10s 6ms/step - loss: 0.9939 - accuracy: 0.6003 - val_loss: 2.1330 - val_accuracy: 0.3529\n",
      "Epoch 6/100\n",
      "1563/1563 [==============================] - 10s 6ms/step - loss: 0.9900 - accuracy: 0.6007 - val_loss: 2.1664 - val_accuracy: 0.3561\n",
      "Epoch 7/100\n",
      "1563/1563 [==============================] - 10s 6ms/step - loss: 0.9871 - accuracy: 0.6015 - val_loss: 2.1195 - val_accuracy: 0.3354\n",
      "Epoch 8/100\n",
      "1563/1563 [==============================] - 10s 6ms/step - loss: 0.9849 - accuracy: 0.6024 - val_loss: 2.0939 - val_accuracy: 0.3653\n",
      "Epoch 9/100\n",
      "1563/1563 [==============================] - 10s 6ms/step - loss: 0.9839 - accuracy: 0.6022 - val_loss: 2.2224 - val_accuracy: 0.3406\n",
      "Epoch 10/100\n",
      "1563/1563 [==============================] - 10s 6ms/step - loss: 0.9824 - accuracy: 0.6022 - val_loss: 2.1437 - val_accuracy: 0.3476\n",
      "Epoch 11/100\n",
      "1563/1563 [==============================] - 10s 6ms/step - loss: 0.9803 - accuracy: 0.6024 - val_loss: 2.1045 - val_accuracy: 0.3612\n",
      "Epoch 12/100\n",
      "1563/1563 [==============================] - 10s 6ms/step - loss: 0.9792 - accuracy: 0.6032 - val_loss: 2.1929 - val_accuracy: 0.3328\n",
      "Epoch 13/100\n",
      "1563/1563 [==============================] - 10s 6ms/step - loss: 0.9775 - accuracy: 0.6046 - val_loss: 2.1164 - val_accuracy: 0.3471\n",
      "Epoch 14/100\n",
      "1563/1563 [==============================] - 10s 6ms/step - loss: 0.9751 - accuracy: 0.6048 - val_loss: 2.2303 - val_accuracy: 0.3483\n",
      "Epoch 15/100\n",
      "1563/1563 [==============================] - 10s 6ms/step - loss: 0.9756 - accuracy: 0.6031 - val_loss: 2.0516 - val_accuracy: 0.3563\n",
      "Epoch 16/100\n",
      "1563/1563 [==============================] - 10s 6ms/step - loss: 0.9741 - accuracy: 0.6031 - val_loss: 2.2616 - val_accuracy: 0.3411\n",
      "Epoch 17/100\n",
      "1563/1563 [==============================] - 10s 6ms/step - loss: 0.9724 - accuracy: 0.6057 - val_loss: 2.3297 - val_accuracy: 0.3412\n",
      "Epoch 18/100\n",
      "1563/1563 [==============================] - 10s 6ms/step - loss: 0.9721 - accuracy: 0.6043 - val_loss: 2.1425 - val_accuracy: 0.3456\n",
      "Epoch 19/100\n",
      "1563/1563 [==============================] - 9s 6ms/step - loss: 0.9711 - accuracy: 0.6069 - val_loss: 2.1335 - val_accuracy: 0.3434\n",
      "Epoch 20/100\n",
      "1563/1563 [==============================] - 10s 6ms/step - loss: 0.9705 - accuracy: 0.6058 - val_loss: 2.2540 - val_accuracy: 0.3472\n",
      "Epoch 21/100\n",
      "1563/1563 [==============================] - 10s 6ms/step - loss: 0.9686 - accuracy: 0.6087 - val_loss: 2.1756 - val_accuracy: 0.3473\n",
      "Epoch 22/100\n",
      "1563/1563 [==============================] - 10s 6ms/step - loss: 0.9671 - accuracy: 0.6066 - val_loss: 2.3023 - val_accuracy: 0.3313\n",
      "Epoch 23/100\n",
      "1563/1563 [==============================] - 10s 6ms/step - loss: 0.9659 - accuracy: 0.6092 - val_loss: 2.1616 - val_accuracy: 0.3496\n",
      "Epoch 24/100\n",
      "1563/1563 [==============================] - 10s 6ms/step - loss: 0.9630 - accuracy: 0.6090 - val_loss: 2.1515 - val_accuracy: 0.3452\n",
      "Epoch 25/100\n",
      "1563/1563 [==============================] - 10s 6ms/step - loss: 0.9630 - accuracy: 0.6073 - val_loss: 2.2771 - val_accuracy: 0.3330\n",
      "Epoch 26/100\n",
      "1563/1563 [==============================] - 10s 6ms/step - loss: 0.9601 - accuracy: 0.6092 - val_loss: 2.2832 - val_accuracy: 0.3504\n",
      "Epoch 27/100\n",
      "1563/1563 [==============================] - 10s 6ms/step - loss: 0.9611 - accuracy: 0.6093 - val_loss: 2.4752 - val_accuracy: 0.3506\n",
      "Epoch 28/100\n",
      "1563/1563 [==============================] - 10s 6ms/step - loss: 0.9607 - accuracy: 0.6091 - val_loss: 2.2864 - val_accuracy: 0.3391\n",
      "Epoch 29/100\n",
      "1563/1563 [==============================] - 10s 6ms/step - loss: 0.9580 - accuracy: 0.6098 - val_loss: 2.2814 - val_accuracy: 0.3469\n",
      "Epoch 30/100\n",
      "1563/1563 [==============================] - 10s 6ms/step - loss: 0.9576 - accuracy: 0.6109 - val_loss: 2.3415 - val_accuracy: 0.3305\n",
      "Epoch 31/100\n",
      "1563/1563 [==============================] - 10s 6ms/step - loss: 0.9553 - accuracy: 0.6114 - val_loss: 2.3813 - val_accuracy: 0.3456\n",
      "Epoch 32/100\n",
      "1563/1563 [==============================] - 10s 6ms/step - loss: 0.9538 - accuracy: 0.6106 - val_loss: 2.1875 - val_accuracy: 0.3359\n",
      "Epoch 33/100\n",
      "1563/1563 [==============================] - 10s 6ms/step - loss: 0.9526 - accuracy: 0.6125 - val_loss: 2.3576 - val_accuracy: 0.3472\n",
      "Epoch 34/100\n",
      "1563/1563 [==============================] - 10s 6ms/step - loss: 0.9504 - accuracy: 0.6119 - val_loss: 2.2952 - val_accuracy: 0.3362\n",
      "Epoch 35/100\n",
      "1563/1563 [==============================] - 10s 6ms/step - loss: 0.9493 - accuracy: 0.6122 - val_loss: 2.3908 - val_accuracy: 0.3456\n",
      "Epoch 36/100\n",
      "1563/1563 [==============================] - 10s 6ms/step - loss: 0.9473 - accuracy: 0.6137 - val_loss: 2.4537 - val_accuracy: 0.3438\n",
      "Epoch 37/100\n",
      "1563/1563 [==============================] - 10s 6ms/step - loss: 0.9449 - accuracy: 0.6137 - val_loss: 2.3570 - val_accuracy: 0.3416\n",
      "Epoch 38/100\n",
      "1563/1563 [==============================] - 10s 6ms/step - loss: 0.9438 - accuracy: 0.6154 - val_loss: 2.1920 - val_accuracy: 0.3459\n",
      "Epoch 39/100\n",
      "1563/1563 [==============================] - 10s 6ms/step - loss: 0.9427 - accuracy: 0.6149 - val_loss: 2.4441 - val_accuracy: 0.3528\n",
      "Epoch 40/100\n",
      "1563/1563 [==============================] - 10s 6ms/step - loss: 0.9415 - accuracy: 0.6176 - val_loss: 2.3539 - val_accuracy: 0.3375\n",
      "Epoch 41/100\n",
      "1563/1563 [==============================] - 10s 6ms/step - loss: 0.9390 - accuracy: 0.6176 - val_loss: 2.3181 - val_accuracy: 0.3334\n",
      "Epoch 42/100\n",
      "1563/1563 [==============================] - 10s 6ms/step - loss: 0.9368 - accuracy: 0.6159 - val_loss: 2.3560 - val_accuracy: 0.3423\n",
      "Epoch 43/100\n",
      "1563/1563 [==============================] - 10s 7ms/step - loss: 0.9370 - accuracy: 0.6182 - val_loss: 2.2948 - val_accuracy: 0.3467\n",
      "Epoch 44/100\n",
      "1563/1563 [==============================] - 10s 7ms/step - loss: 0.9356 - accuracy: 0.6174 - val_loss: 2.5004 - val_accuracy: 0.3521\n",
      "Epoch 45/100\n",
      "1563/1563 [==============================] - 10s 6ms/step - loss: 0.9357 - accuracy: 0.6159 - val_loss: 2.3820 - val_accuracy: 0.3543\n",
      "Epoch 46/100\n",
      "1563/1563 [==============================] - 10s 6ms/step - loss: 0.9311 - accuracy: 0.6199 - val_loss: 2.3918 - val_accuracy: 0.3399\n",
      "Epoch 47/100\n",
      "1563/1563 [==============================] - 10s 6ms/step - loss: 0.9303 - accuracy: 0.6202 - val_loss: 2.4676 - val_accuracy: 0.3373\n",
      "Epoch 48/100\n",
      "1563/1563 [==============================] - 9s 6ms/step - loss: 0.9301 - accuracy: 0.6202 - val_loss: 2.2823 - val_accuracy: 0.3423\n",
      "Epoch 49/100\n",
      "1563/1563 [==============================] - 10s 6ms/step - loss: 0.9274 - accuracy: 0.6203 - val_loss: 2.3011 - val_accuracy: 0.3389\n",
      "Epoch 50/100\n",
      "1563/1563 [==============================] - 10s 6ms/step - loss: 0.9274 - accuracy: 0.6198 - val_loss: 2.5379 - val_accuracy: 0.3289\n",
      "Epoch 51/100\n",
      "1563/1563 [==============================] - 10s 6ms/step - loss: 0.9258 - accuracy: 0.6211 - val_loss: 2.3606 - val_accuracy: 0.3422\n",
      "Epoch 52/100\n",
      "1563/1563 [==============================] - 10s 7ms/step - loss: 0.9247 - accuracy: 0.6212 - val_loss: 2.4147 - val_accuracy: 0.3336\n",
      "Epoch 53/100\n",
      "1563/1563 [==============================] - 10s 7ms/step - loss: 0.9227 - accuracy: 0.6233 - val_loss: 2.5218 - val_accuracy: 0.3462\n",
      "Epoch 54/100\n",
      "1563/1563 [==============================] - 10s 7ms/step - loss: 0.9214 - accuracy: 0.6227 - val_loss: 2.5307 - val_accuracy: 0.3302\n",
      "Epoch 55/100\n",
      "1563/1563 [==============================] - 10s 6ms/step - loss: 0.9208 - accuracy: 0.6247 - val_loss: 2.4346 - val_accuracy: 0.3570\n",
      "Epoch 56/100\n",
      "1563/1563 [==============================] - 10s 6ms/step - loss: 0.9199 - accuracy: 0.6255 - val_loss: 2.5161 - val_accuracy: 0.3339\n"
     ]
    },
    {
     "name": "stdout",
     "output_type": "stream",
     "text": [
      "Epoch 57/100\n",
      "1563/1563 [==============================] - 10s 6ms/step - loss: 0.9176 - accuracy: 0.6242 - val_loss: 2.5163 - val_accuracy: 0.3354\n",
      "Epoch 58/100\n",
      "1563/1563 [==============================] - 10s 6ms/step - loss: 0.9182 - accuracy: 0.6249 - val_loss: 2.3810 - val_accuracy: 0.3474\n",
      "Epoch 59/100\n",
      "1563/1563 [==============================] - 10s 6ms/step - loss: 0.9159 - accuracy: 0.6262 - val_loss: 2.5459 - val_accuracy: 0.3311\n",
      "Epoch 60/100\n",
      "1563/1563 [==============================] - 10s 6ms/step - loss: 0.9147 - accuracy: 0.6251 - val_loss: 2.4755 - val_accuracy: 0.3482\n",
      "Epoch 61/100\n",
      "1563/1563 [==============================] - 10s 6ms/step - loss: 0.9132 - accuracy: 0.6261 - val_loss: 2.5911 - val_accuracy: 0.3328\n",
      "Epoch 62/100\n",
      "1563/1563 [==============================] - 9s 6ms/step - loss: 0.9119 - accuracy: 0.6270 - val_loss: 2.4474 - val_accuracy: 0.3332\n",
      "Epoch 63/100\n",
      "1563/1563 [==============================] - 9s 6ms/step - loss: 0.9112 - accuracy: 0.6276 - val_loss: 2.5282 - val_accuracy: 0.3504\n",
      "Epoch 64/100\n",
      "1563/1563 [==============================] - 10s 6ms/step - loss: 0.9097 - accuracy: 0.6288 - val_loss: 2.4812 - val_accuracy: 0.3430\n",
      "Epoch 65/100\n",
      "1563/1563 [==============================] - 10s 6ms/step - loss: 0.9082 - accuracy: 0.6291 - val_loss: 2.5088 - val_accuracy: 0.3409\n",
      "Epoch 66/100\n",
      "1563/1563 [==============================] - 10s 6ms/step - loss: 0.9075 - accuracy: 0.6284 - val_loss: 2.5994 - val_accuracy: 0.3439\n",
      "Epoch 67/100\n",
      "1563/1563 [==============================] - 10s 6ms/step - loss: 0.9050 - accuracy: 0.6288 - val_loss: 2.5662 - val_accuracy: 0.3349\n",
      "Epoch 68/100\n",
      "1563/1563 [==============================] - 10s 6ms/step - loss: 0.9042 - accuracy: 0.6308 - val_loss: 2.5123 - val_accuracy: 0.3343\n",
      "Epoch 69/100\n",
      "1563/1563 [==============================] - 10s 6ms/step - loss: 0.9031 - accuracy: 0.6309 - val_loss: 2.6043 - val_accuracy: 0.3439\n",
      "Epoch 70/100\n",
      "1563/1563 [==============================] - 10s 6ms/step - loss: 0.9025 - accuracy: 0.6297 - val_loss: 2.5515 - val_accuracy: 0.3374\n",
      "Epoch 71/100\n",
      "1563/1563 [==============================] - 10s 6ms/step - loss: 0.9007 - accuracy: 0.6303 - val_loss: 2.6413 - val_accuracy: 0.3251\n",
      "Epoch 72/100\n",
      "1563/1563 [==============================] - 9s 6ms/step - loss: 0.8992 - accuracy: 0.6312 - val_loss: 2.5092 - val_accuracy: 0.3419\n",
      "Epoch 73/100\n",
      "1563/1563 [==============================] - 10s 6ms/step - loss: 0.8985 - accuracy: 0.6298 - val_loss: 2.4862 - val_accuracy: 0.3396\n",
      "Epoch 74/100\n",
      "1563/1563 [==============================] - 10s 6ms/step - loss: 0.8985 - accuracy: 0.6326 - val_loss: 2.6192 - val_accuracy: 0.3467\n",
      "Epoch 75/100\n",
      "1563/1563 [==============================] - 10s 6ms/step - loss: 0.8978 - accuracy: 0.6322 - val_loss: 2.7365 - val_accuracy: 0.3365\n",
      "Epoch 76/100\n",
      "1563/1563 [==============================] - 10s 6ms/step - loss: 0.8949 - accuracy: 0.6333 - val_loss: 2.5344 - val_accuracy: 0.3382\n",
      "Epoch 77/100\n",
      "1563/1563 [==============================] - 10s 6ms/step - loss: 0.8938 - accuracy: 0.6344 - val_loss: 2.6811 - val_accuracy: 0.3318\n",
      "Epoch 78/100\n",
      "1563/1563 [==============================] - 10s 6ms/step - loss: 0.8939 - accuracy: 0.6335 - val_loss: 2.7017 - val_accuracy: 0.3346\n",
      "Epoch 79/100\n",
      "1563/1563 [==============================] - 10s 6ms/step - loss: 0.8923 - accuracy: 0.6363 - val_loss: 2.7557 - val_accuracy: 0.3315\n",
      "Epoch 80/100\n",
      "1563/1563 [==============================] - 10s 6ms/step - loss: 0.8903 - accuracy: 0.6347 - val_loss: 2.6764 - val_accuracy: 0.3381\n",
      "Epoch 81/100\n",
      "1563/1563 [==============================] - 10s 6ms/step - loss: 0.8894 - accuracy: 0.6353 - val_loss: 2.5076 - val_accuracy: 0.3355\n",
      "Epoch 82/100\n",
      "1563/1563 [==============================] - 9s 6ms/step - loss: 0.8880 - accuracy: 0.6344 - val_loss: 2.6448 - val_accuracy: 0.3344\n",
      "Epoch 83/100\n",
      "1563/1563 [==============================] - 10s 6ms/step - loss: 0.8875 - accuracy: 0.6359 - val_loss: 2.6493 - val_accuracy: 0.3346\n",
      "Epoch 84/100\n",
      "1563/1563 [==============================] - 10s 6ms/step - loss: 0.8874 - accuracy: 0.6359 - val_loss: 2.7231 - val_accuracy: 0.3462\n",
      "Epoch 85/100\n",
      "1563/1563 [==============================] - 10s 6ms/step - loss: 0.8854 - accuracy: 0.6369 - val_loss: 2.6242 - val_accuracy: 0.3419\n",
      "Epoch 86/100\n",
      "1563/1563 [==============================] - 10s 6ms/step - loss: 0.8842 - accuracy: 0.6374 - val_loss: 2.6769 - val_accuracy: 0.3242\n",
      "Epoch 87/100\n",
      "1563/1563 [==============================] - 10s 6ms/step - loss: 0.8837 - accuracy: 0.6392 - val_loss: 2.7403 - val_accuracy: 0.3320\n",
      "Epoch 88/100\n",
      "1563/1563 [==============================] - 10s 6ms/step - loss: 0.8827 - accuracy: 0.6387 - val_loss: 2.5961 - val_accuracy: 0.3407\n",
      "Epoch 89/100\n",
      "1563/1563 [==============================] - 10s 7ms/step - loss: 0.8808 - accuracy: 0.6387 - val_loss: 2.6272 - val_accuracy: 0.3437\n",
      "Epoch 90/100\n",
      "1563/1563 [==============================] - 10s 6ms/step - loss: 0.8795 - accuracy: 0.6388 - val_loss: 2.6631 - val_accuracy: 0.3525\n",
      "Epoch 91/100\n",
      "1563/1563 [==============================] - 10s 6ms/step - loss: 0.8799 - accuracy: 0.6387 - val_loss: 2.6714 - val_accuracy: 0.3423\n",
      "Epoch 92/100\n",
      "1563/1563 [==============================] - 10s 7ms/step - loss: 0.8782 - accuracy: 0.6400 - val_loss: 2.7072 - val_accuracy: 0.3328\n",
      "Epoch 93/100\n",
      "1563/1563 [==============================] - 10s 7ms/step - loss: 0.8774 - accuracy: 0.6412 - val_loss: 2.8892 - val_accuracy: 0.3321\n",
      "Epoch 94/100\n",
      "1563/1563 [==============================] - 11s 7ms/step - loss: 0.8766 - accuracy: 0.6400 - val_loss: 2.8811 - val_accuracy: 0.3375\n",
      "Epoch 95/100\n",
      "1563/1563 [==============================] - 10s 7ms/step - loss: 0.8743 - accuracy: 0.6421 - val_loss: 2.8025 - val_accuracy: 0.3395\n",
      "Epoch 96/100\n",
      "1563/1563 [==============================] - 10s 7ms/step - loss: 0.8732 - accuracy: 0.6435 - val_loss: 2.6418 - val_accuracy: 0.3455\n",
      "Epoch 97/100\n",
      "1563/1563 [==============================] - 10s 7ms/step - loss: 0.8733 - accuracy: 0.6423 - val_loss: 3.0251 - val_accuracy: 0.3464\n",
      "Epoch 98/100\n",
      "1563/1563 [==============================] - 10s 7ms/step - loss: 0.8721 - accuracy: 0.6426 - val_loss: 2.7181 - val_accuracy: 0.3327\n",
      "Epoch 99/100\n",
      "1563/1563 [==============================] - 10s 7ms/step - loss: 0.8697 - accuracy: 0.6432 - val_loss: 2.8120 - val_accuracy: 0.3332\n",
      "Epoch 100/100\n",
      "1563/1563 [==============================] - 10s 6ms/step - loss: 0.8690 - accuracy: 0.6451 - val_loss: 2.9865 - val_accuracy: 0.3409\n"
     ]
    }
   ],
   "source": [
    "%%time\n",
    "# Compile and train model\n",
    "model.compile(optimizer=\"adam\", loss=\"sparse_categorical_crossentropy\", metrics=[\"accuracy\"])\n",
    "history = model.fit(\n",
    "    X_train, y_train, batch_size=32, epochs=100, validation_data=(X_test, y_test)\n",
    ")"
   ]
  },
  {
   "cell_type": "code",
   "execution_count": 106,
   "id": "8bf9d83a",
   "metadata": {},
   "outputs": [
    {
     "data": {
      "image/png": "[encoded data removed]",
      "text/plain": [
       "<Figure size 500x400 with 1 Axes>"
      ]
     },
     "metadata": {},
     "output_type": "display_data"
    }
   ],
   "source": [
    "hist = history.history\n",
    "acc, val_acc = hist[\"accuracy\"], hist[\"val_accuracy\"]\n",
    "\n",
    "plt.figure(figsize=(5, 4), dpi=100)\n",
    "plt.plot(acc, label=\"acc\")\n",
    "plt.plot(val_acc, label=\"val_acc\")\n",
    "plt.axhline(0.2, color=\"red\", label=\"base\")\n",
    "plt.xlim(0, 100)\n",
    "plt.ylim(0.0, 1.0)\n",
    "plt.grid(axis=\"y\")\n",
    "plt.legend()\n",
    "plt.xlabel(\"epoch\")\n",
    "plt.ylabel(\"accuracy\")\n",
    "plt.show()"
   ]
  },
  {
   "cell_type": "markdown",
   "id": "3e28cbce",
   "metadata": {},
   "source": [
    "> Little optimization appears to be happening here that does not result in overfitting."
   ]
  },
  {
   "cell_type": "markdown",
   "id": "f989e506",
   "metadata": {},
   "source": [
    "##### Test"
   ]
  },
  {
   "cell_type": "code",
   "execution_count": 89,
   "id": "4aab1fad",
   "metadata": {},
   "outputs": [
    {
     "name": "stdout",
     "output_type": "stream",
     "text": [
      "1563/1563 [==============================] - 3s 2ms/step\n"
     ]
    }
   ],
   "source": [
    "# Get probabilities per class\n",
    "y_pred = model.predict(X_test)"
   ]
  },
  {
   "cell_type": "code",
   "execution_count": 90,
   "id": "5f8ece44",
   "metadata": {},
   "outputs": [],
   "source": [
    "# Get star predictions and negative/positive predictions\n",
    "y_pred_multi = tf.argmax(y_pred, axis=1)\n",
    "y_pred_binary = y_pred_multi >= 3"
   ]
  },
  {
   "cell_type": "code",
   "execution_count": 107,
   "id": "458f93b5",
   "metadata": {},
   "outputs": [
    {
     "name": "stdout",
     "output_type": "stream",
     "text": [
      "multi-class accuracy: 0.3409\n",
      "compare to 0.2\n"
     ]
    }
   ],
   "source": [
    "print(\"multi-class accuracy: \" + str((y_pred_multi == y_test).numpy().sum() / len(y_test)))\n",
    "print(\"(compare to 0.2)\")"
   ]
  },
  {
   "cell_type": "code",
   "execution_count": 108,
   "id": "6526ece6",
   "metadata": {},
   "outputs": [
    {
     "name": "stdout",
     "output_type": "stream",
     "text": [
      "binary accuracy: 0.58012\n",
      "(compare to 0.5)\n"
     ]
    }
   ],
   "source": [
    "print(\"binary accuracy: \" + str((y_pred_binary == (y_test >= 3)).numpy().sum() / len(y_test)))\n",
    "print(\"(compare to 0.5)\")"
   ]
  },
  {
   "cell_type": "markdown",
   "id": "46d46ed4",
   "metadata": {},
   "source": [
    "# Summary"
   ]
  },
  {
   "cell_type": "markdown",
   "id": "86279fcb",
   "metadata": {},
   "source": [
    "> While a preprocessing pipeline and classifier have been successfully established and employed, the results are far from ideal. Methods of improvement include employing more data, further experimenation with preprocessing methods such as NER, and improving the network architecture."
   ]
  }
 ],
 "metadata": {
  "kernelspec": {
   "display_name": "Python [conda env:tf-gpu]",
   "language": "python",
   "name": "conda-env-tf-gpu-py"
  },
  "language_info": {
   "codemirror_mode": {
    "name": "ipython",
    "version": 3
   },
   "file_extension": ".py",
   "mimetype": "text/x-python",
   "name": "python",
   "nbconvert_exporter": "python",
   "pygments_lexer": "ipython3",
   "version": "3.10.4"
  }
 },
 "nbformat": 4,
 "nbformat_minor": 5
}
